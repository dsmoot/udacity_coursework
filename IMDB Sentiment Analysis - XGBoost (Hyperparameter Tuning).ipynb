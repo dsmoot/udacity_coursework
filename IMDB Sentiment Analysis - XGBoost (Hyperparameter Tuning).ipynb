{
 "cells": [
  {
   "cell_type": "markdown",
   "metadata": {},
   "source": [
    "# Sentiment Analysis\n",
    "\n",
    "## Using XGBoost in SageMaker\n",
    "\n",
    "_Deep Learning Nanodegree Program | Deployment_\n",
    "\n",
    "---\n",
    "\n",
    "In this example of using Amazon's SageMaker service we will construct a random tree model to predict the sentiment of a movie review. You may have seen a version of this example in a pervious lesson although it would have been done using the sklearn package. Instead, we will be using the XGBoost package as it is provided to us by Amazon.\n",
    "\n",
    "## Instructions\n",
    "\n",
    "Some template code has already been provided for you, and you will need to implement additional functionality to successfully complete this notebook. You will not need to modify the included code beyond what is requested. Sections that begin with '**TODO**' in the header indicate that you need to complete or implement some portion within them. Instructions will be provided for each section and the specifics of the implementation are marked in the code block with a `# TODO: ...` comment. Please be sure to read the instructions carefully!\n",
    "\n",
    "In addition to implementing code, there will be questions for you to answer which relate to the task and your implementation. Each section where you will answer a question is preceded by a '**Question:**' header. Carefully read each question and provide your answer below the '**Answer:**' header by editing the Markdown cell.\n",
    "\n",
    "> **Note**: Code and Markdown cells can be executed using the **Shift+Enter** keyboard shortcut. In addition, a cell can be edited by typically clicking it (double-click for Markdown cells) or by pressing **Enter** while it is highlighted."
   ]
  },
  {
   "cell_type": "markdown",
   "metadata": {},
   "source": [
    "## Step 1: Downloading the data\n",
    "\n",
    "The dataset we are going to use is very popular among researchers in Natural Language Processing, usually referred to as the [IMDb dataset](http://ai.stanford.edu/~amaas/data/sentiment/). It consists of movie reviews from the website [imdb.com](http://www.imdb.com/), each labeled as either '**pos**itive', if the reviewer enjoyed the film, or '**neg**ative' otherwise.\n",
    "\n",
    "> Maas, Andrew L., et al. [Learning Word Vectors for Sentiment Analysis](http://ai.stanford.edu/~amaas/data/sentiment/). In _Proceedings of the 49th Annual Meeting of the Association for Computational Linguistics: Human Language Technologies_. Association for Computational Linguistics, 2011.\n",
    "\n",
    "We begin by using some Jupyter Notebook magic to download and extract the dataset."
   ]
  },
  {
   "cell_type": "code",
   "execution_count": 1,
   "metadata": {},
   "outputs": [
    {
     "name": "stdout",
     "output_type": "stream",
     "text": [
      "mkdir: cannot create directory ‘../data’: File exists\n",
      "--2020-09-25 00:52:18--  http://ai.stanford.edu/~amaas/data/sentiment/aclImdb_v1.tar.gz\n",
      "Resolving ai.stanford.edu (ai.stanford.edu)... 171.64.68.10\n",
      "Connecting to ai.stanford.edu (ai.stanford.edu)|171.64.68.10|:80... connected.\n",
      "HTTP request sent, awaiting response... 200 OK\n",
      "Length: 84125825 (80M) [application/x-gzip]\n",
      "Saving to: ‘../data/aclImdb_v1.tar.gz’\n",
      "\n",
      "../data/aclImdb_v1. 100%[===================>]  80.23M  23.4MB/s    in 5.7s    \n",
      "\n",
      "2020-09-25 00:52:24 (14.1 MB/s) - ‘../data/aclImdb_v1.tar.gz’ saved [84125825/84125825]\n",
      "\n"
     ]
    }
   ],
   "source": [
    "%mkdir ../data\n",
    "!wget -O ../data/aclImdb_v1.tar.gz http://ai.stanford.edu/~amaas/data/sentiment/aclImdb_v1.tar.gz\n",
    "!tar -zxf ../data/aclImdb_v1.tar.gz -C ../data"
   ]
  },
  {
   "cell_type": "markdown",
   "metadata": {},
   "source": [
    "## Step 2: Preparing the data\n",
    "\n",
    "The data we have downloaded is split into various files, each of which contains a single review. It will be much easier going forward if we combine these individual files into two large files, one for training and one for testing."
   ]
  },
  {
   "cell_type": "code",
   "execution_count": 2,
   "metadata": {},
   "outputs": [],
   "source": [
    "import os\n",
    "import glob\n",
    "\n",
    "def read_imdb_data(data_dir='../data/aclImdb'):\n",
    "    data = {}\n",
    "    labels = {}\n",
    "    \n",
    "    for data_type in ['train', 'test']:\n",
    "        data[data_type] = {}\n",
    "        labels[data_type] = {}\n",
    "        \n",
    "        for sentiment in ['pos', 'neg']:\n",
    "            data[data_type][sentiment] = []\n",
    "            labels[data_type][sentiment] = []\n",
    "            \n",
    "            path = os.path.join(data_dir, data_type, sentiment, '*.txt')\n",
    "            files = glob.glob(path)\n",
    "            \n",
    "            for f in files:\n",
    "                with open(f) as review:\n",
    "                    data[data_type][sentiment].append(review.read())\n",
    "                    # Here we represent a positive review by '1' and a negative review by '0'\n",
    "                    labels[data_type][sentiment].append(1 if sentiment == 'pos' else 0)\n",
    "                    \n",
    "            assert len(data[data_type][sentiment]) == len(labels[data_type][sentiment]), \\\n",
    "                    \"{}/{} data size does not match labels size\".format(data_type, sentiment)\n",
    "                \n",
    "    return data, labels"
   ]
  },
  {
   "cell_type": "code",
   "execution_count": 3,
   "metadata": {},
   "outputs": [
    {
     "name": "stdout",
     "output_type": "stream",
     "text": [
      "IMDB reviews: train = 12500 pos / 12500 neg, test = 12500 pos / 12500 neg\n"
     ]
    }
   ],
   "source": [
    "data, labels = read_imdb_data()\n",
    "print(\"IMDB reviews: train = {} pos / {} neg, test = {} pos / {} neg\".format(\n",
    "            len(data['train']['pos']), len(data['train']['neg']),\n",
    "            len(data['test']['pos']), len(data['test']['neg'])))"
   ]
  },
  {
   "cell_type": "code",
   "execution_count": 4,
   "metadata": {},
   "outputs": [],
   "source": [
    "from sklearn.utils import shuffle\n",
    "\n",
    "def prepare_imdb_data(data, labels):\n",
    "    \"\"\"Prepare training and test sets from IMDb movie reviews.\"\"\"\n",
    "    \n",
    "    #Combine positive and negative reviews and labels\n",
    "    data_train = data['train']['pos'] + data['train']['neg']\n",
    "    data_test = data['test']['pos'] + data['test']['neg']\n",
    "    labels_train = labels['train']['pos'] + labels['train']['neg']\n",
    "    labels_test = labels['test']['pos'] + labels['test']['neg']\n",
    "    \n",
    "    #Shuffle reviews and corresponding labels within training and test sets\n",
    "    data_train, labels_train = shuffle(data_train, labels_train)\n",
    "    data_test, labels_test = shuffle(data_test, labels_test)\n",
    "    \n",
    "    # Return a unified training data, test data, training labels, test labets\n",
    "    return data_train, data_test, labels_train, labels_test"
   ]
  },
  {
   "cell_type": "code",
   "execution_count": 5,
   "metadata": {},
   "outputs": [
    {
     "name": "stdout",
     "output_type": "stream",
     "text": [
      "IMDb reviews (combined): train = 25000, test = 25000\n"
     ]
    }
   ],
   "source": [
    "train_X, test_X, train_y, test_y = prepare_imdb_data(data, labels)\n",
    "print(\"IMDb reviews (combined): train = {}, test = {}\".format(len(train_X), len(test_X)))"
   ]
  },
  {
   "cell_type": "code",
   "execution_count": 6,
   "metadata": {},
   "outputs": [
    {
     "data": {
      "text/plain": [
       "'This is not a very good movie, but it\\'s not a stinker either. It is very confusing and unnecessarily long so rent it at your own risk.<br /><br />My GF and I have figured this movie out (we think) so here it is:<br /><br />***MAJOR SPOILERS BELOW***<br /><br />Firstly, this movie is actually quite simple after you remove all of the confusing unconscious-dream-state junk (95% of the movie.)<br /><br />Ignoring the junk, what REALLY happened is this: A group of school friends go to a rave one night. They leave and get into a car accident where everyone but Cassie and Sean die. That\\'s the simple cut down version. (That\\'s right, I said Sean, bear with me)<br /><br />Right after the accident, Cassie lays in the hospital stuck in between life & death right up until the very end of the movie. This is where the dream part starts.<br /><br />The movie is called SOUL Survivors, right? Cassie\\'s mind and soul carries on after the accident interacting with the other souls (Annie, Matt, Raven, the 2 weirdos and Jude) along with images conjured up by her mind (Sean, school and everything else around her). The souls continue doing what they were defined as: Annie the rave-going chick, the 2 weirdo-killers (from opening scene), Father Jude still helping people etc.<br /><br />We are then taken on a very long ride, shown lots of images (many of which my GF and I still can\\'t tie in) but it all boils down to it not being Cassie\\'s time to die.<br /><br />At the end, Cassie wakes up in the hospital after being \"dead\" for a while. Her family and Sean are there. This is reality again. She\\'s OK.<br /><br />Then the director adds a little extra spice by trying to confuse us again by showing a little dream snippet of her in the wheelchair being strangled. But this part is really just a nightmare, and she wakes up beside Sean, obviously still dealing with her traumatic experience.<br /><br />Due to space restrictions, we didn\\'t cover every little thing, but feel free to drop us an e-mail if you want to.<br /><br />'"
      ]
     },
     "execution_count": 6,
     "metadata": {},
     "output_type": "execute_result"
    }
   ],
   "source": [
    "train_X[100]"
   ]
  },
  {
   "cell_type": "markdown",
   "metadata": {},
   "source": [
    "## Step 3: Processing the data\n",
    "\n",
    "Now that we have our training and testing datasets merged and ready to use, we need to start processing the raw data into something that will be useable by our machine learning algorithm. To begin with, we remove any html formatting that may appear in the reviews and perform some standard natural language processing in order to homogenize the data."
   ]
  },
  {
   "cell_type": "code",
   "execution_count": 7,
   "metadata": {},
   "outputs": [
    {
     "name": "stderr",
     "output_type": "stream",
     "text": [
      "[nltk_data] Downloading package stopwords to\n",
      "[nltk_data]     /home/ec2-user/nltk_data...\n",
      "[nltk_data]   Package stopwords is already up-to-date!\n"
     ]
    }
   ],
   "source": [
    "import nltk\n",
    "nltk.download(\"stopwords\")\n",
    "from nltk.corpus import stopwords\n",
    "from nltk.stem.porter import *\n",
    "stemmer = PorterStemmer()"
   ]
  },
  {
   "cell_type": "code",
   "execution_count": 8,
   "metadata": {},
   "outputs": [],
   "source": [
    "import re\n",
    "from bs4 import BeautifulSoup\n",
    "\n",
    "def review_to_words(review):\n",
    "    text = BeautifulSoup(review, \"html.parser\").get_text() # Remove HTML tags\n",
    "    text = re.sub(r\"[^a-zA-Z0-9]\", \" \", text.lower()) # Convert to lower case\n",
    "    words = text.split() # Split string into words\n",
    "    words = [w for w in words if w not in stopwords.words(\"english\")] # Remove stopwords\n",
    "    words = [PorterStemmer().stem(w) for w in words] # stem\n",
    "    \n",
    "    return words"
   ]
  },
  {
   "cell_type": "code",
   "execution_count": 9,
   "metadata": {},
   "outputs": [],
   "source": [
    "import pickle\n",
    "\n",
    "cache_dir = os.path.join(\"../cache\", \"sentiment_analysis\")  # where to store cache files\n",
    "os.makedirs(cache_dir, exist_ok=True)  # ensure cache directory exists\n",
    "\n",
    "def preprocess_data(data_train, data_test, labels_train, labels_test,\n",
    "                    cache_dir=cache_dir, cache_file=\"preprocessed_data.pkl\"):\n",
    "    \"\"\"Convert each review to words; read from cache if available.\"\"\"\n",
    "\n",
    "    # If cache_file is not None, try to read from it first\n",
    "    cache_data = None\n",
    "    if cache_file is not None:\n",
    "        try:\n",
    "            with open(os.path.join(cache_dir, cache_file), \"rb\") as f:\n",
    "                cache_data = pickle.load(f)\n",
    "            print(\"Read preprocessed data from cache file:\", cache_file)\n",
    "        except:\n",
    "            pass  # unable to read from cache, but that's okay\n",
    "    \n",
    "    # If cache is missing, then do the heavy lifting\n",
    "    if cache_data is None:\n",
    "        # Preprocess training and test data to obtain words for each review\n",
    "        #words_train = list(map(review_to_words, data_train))\n",
    "        #words_test = list(map(review_to_words, data_test))\n",
    "        words_train = [review_to_words(review) for review in data_train]\n",
    "        words_test = [review_to_words(review) for review in data_test]\n",
    "        \n",
    "        # Write to cache file for future runs\n",
    "        if cache_file is not None:\n",
    "            cache_data = dict(words_train=words_train, words_test=words_test,\n",
    "                              labels_train=labels_train, labels_test=labels_test)\n",
    "            with open(os.path.join(cache_dir, cache_file), \"wb\") as f:\n",
    "                pickle.dump(cache_data, f)\n",
    "            print(\"Wrote preprocessed data to cache file:\", cache_file)\n",
    "    else:\n",
    "        # Unpack data loaded from cache file\n",
    "        words_train, words_test, labels_train, labels_test = (cache_data['words_train'],\n",
    "                cache_data['words_test'], cache_data['labels_train'], cache_data['labels_test'])\n",
    "    \n",
    "    return words_train, words_test, labels_train, labels_test"
   ]
  },
  {
   "cell_type": "code",
   "execution_count": 10,
   "metadata": {},
   "outputs": [
    {
     "name": "stdout",
     "output_type": "stream",
     "text": [
      "Read preprocessed data from cache file: preprocessed_data.pkl\n"
     ]
    }
   ],
   "source": [
    "# Preprocess data\n",
    "train_X, test_X, train_y, test_y = preprocess_data(train_X, test_X, train_y, test_y)"
   ]
  },
  {
   "cell_type": "markdown",
   "metadata": {},
   "source": [
    "### Extract Bag-of-Words features\n",
    "\n",
    "For the model we will be implementing, rather than using the reviews directly, we are going to transform each review into a Bag-of-Words feature representation. Keep in mind that 'in the wild' we will only have access to the training set so our transformer can only use the training set to construct a representation."
   ]
  },
  {
   "cell_type": "code",
   "execution_count": 11,
   "metadata": {},
   "outputs": [],
   "source": [
    "import numpy as np\n",
    "from sklearn.feature_extraction.text import CountVectorizer\n",
    "import joblib\n",
    "# joblib is an enhanced version of pickle that is more efficient for storing NumPy arrays\n",
    "\n",
    "def extract_BoW_features(words_train, words_test, vocabulary_size=5000,\n",
    "                         cache_dir=cache_dir, cache_file=\"bow_features.pkl\"):\n",
    "    \"\"\"Extract Bag-of-Words for a given set of documents, already preprocessed into words.\"\"\"\n",
    "    \n",
    "    # If cache_file is not None, try to read from it first\n",
    "    cache_data = None\n",
    "    if cache_file is not None:\n",
    "        try:\n",
    "            with open(os.path.join(cache_dir, cache_file), \"rb\") as f:\n",
    "                cache_data = joblib.load(f)\n",
    "            print(\"Read features from cache file:\", cache_file)\n",
    "        except:\n",
    "            pass  # unable to read from cache, but that's okay\n",
    "    \n",
    "    # If cache is missing, then do the heavy lifting\n",
    "    if cache_data is None:\n",
    "        # Fit a vectorizer to training documents and use it to transform them\n",
    "        # NOTE: Training documents have already been preprocessed and tokenized into words;\n",
    "        #       pass in dummy functions to skip those steps, e.g. preprocessor=lambda x: x\n",
    "        vectorizer = CountVectorizer(max_features=vocabulary_size,\n",
    "                preprocessor=lambda x: x, tokenizer=lambda x: x)  # already preprocessed\n",
    "        features_train = vectorizer.fit_transform(words_train).toarray()\n",
    "\n",
    "        # Apply the same vectorizer to transform the test documents (ignore unknown words)\n",
    "        features_test = vectorizer.transform(words_test).toarray()\n",
    "        \n",
    "        # NOTE: Remember to convert the features using .toarray() for a compact representation\n",
    "        \n",
    "        # Write to cache file for future runs (store vocabulary as well)\n",
    "        if cache_file is not None:\n",
    "            vocabulary = vectorizer.vocabulary_\n",
    "            cache_data = dict(features_train=features_train, features_test=features_test,\n",
    "                             vocabulary=vocabulary)\n",
    "            with open(os.path.join(cache_dir, cache_file), \"wb\") as f:\n",
    "                joblib.dump(cache_data, f)\n",
    "            print(\"Wrote features to cache file:\", cache_file)\n",
    "    else:\n",
    "        # Unpack data loaded from cache file\n",
    "        features_train, features_test, vocabulary = (cache_data['features_train'],\n",
    "                cache_data['features_test'], cache_data['vocabulary'])\n",
    "    \n",
    "    # Return both the extracted features as well as the vocabulary\n",
    "    return features_train, features_test, vocabulary"
   ]
  },
  {
   "cell_type": "code",
   "execution_count": 12,
   "metadata": {},
   "outputs": [
    {
     "name": "stdout",
     "output_type": "stream",
     "text": [
      "Read features from cache file: bow_features.pkl\n"
     ]
    }
   ],
   "source": [
    "# Extract Bag of Words features for both training and test datasets\n",
    "train_X, test_X, vocabulary = extract_BoW_features(train_X, test_X)"
   ]
  },
  {
   "cell_type": "markdown",
   "metadata": {},
   "source": [
    "## Step 4: Classification using XGBoost\n",
    "\n",
    "Now that we have created the feature representation of our training (and testing) data, it is time to start setting up and using the XGBoost classifier provided by SageMaker.\n",
    "\n",
    "### Writing the dataset\n",
    "\n",
    "The XGBoost classifier that we will be using requires the dataset to be written to a file and stored using Amazon S3. To do this, we will start by splitting the training dataset into two parts, the data we will train the model with and a validation set. Then, we will write those datasets to a file and upload the files to S3. In addition, we will write the test set input to a file and upload the file to S3. This is so that we can use SageMakers Batch Transform functionality to test our model once we've fit it."
   ]
  },
  {
   "cell_type": "code",
   "execution_count": 13,
   "metadata": {},
   "outputs": [],
   "source": [
    "import pandas as pd\n",
    "\n",
    "val_X = pd.DataFrame(train_X[:10000])\n",
    "train_X = pd.DataFrame(train_X[10000:])\n",
    "\n",
    "val_y = pd.DataFrame(train_y[:10000])\n",
    "train_y = pd.DataFrame(train_y[10000:])\n",
    "\n",
    "test_y = pd.DataFrame(test_y)\n",
    "test_X = pd.DataFrame(test_X)"
   ]
  },
  {
   "cell_type": "markdown",
   "metadata": {},
   "source": [
    "The documentation for the XGBoost algorithm in SageMaker requires that the saved datasets should contain no headers or index and that for the training and validation data, the label should occur first for each sample.\n",
    "\n",
    "For more information about this and other algorithms, the SageMaker developer documentation can be found on __[Amazon's website.](https://docs.aws.amazon.com/sagemaker/latest/dg/)__"
   ]
  },
  {
   "cell_type": "code",
   "execution_count": 14,
   "metadata": {},
   "outputs": [],
   "source": [
    "# First we make sure that the local directory in which we'd like to store the training and validation csv files exists.\n",
    "data_dir = '../data/xgboost'\n",
    "if not os.path.exists(data_dir):\n",
    "    os.makedirs(data_dir)"
   ]
  },
  {
   "cell_type": "code",
   "execution_count": 15,
   "metadata": {},
   "outputs": [],
   "source": [
    "# First, save the test data to test.csv in the data_dir directory. Note that we do not save the associated ground truth\n",
    "# labels, instead we will use them later to compare with our model output.\n",
    "\n",
    "pd.concat([test_y, test_X], axis=1).to_csv(os.path.join(data_dir, 'test.csv'), header=False, index=False)\n",
    "pd.concat([val_y, val_X], axis=1).to_csv(os.path.join(data_dir, 'validation.csv'), header=False, index=False)\n",
    "pd.concat([train_y, train_X], axis=1).to_csv(os.path.join(data_dir, 'train.csv'), header=False, index=False)"
   ]
  },
  {
   "cell_type": "code",
   "execution_count": 16,
   "metadata": {},
   "outputs": [],
   "source": [
    "# To save a bit of memory we can set text_X, train_X, val_X, train_y and val_y to None.\n",
    "\n",
    "train_X = val_X = train_y = val_y = None"
   ]
  },
  {
   "cell_type": "markdown",
   "metadata": {},
   "source": [
    "### Uploading Training / Validation files to S3\n",
    "\n",
    "Amazon's S3 service allows us to store files that can be access by both the built-in training models such as the XGBoost model we will be using as well as custom models such as the one we will see a little later.\n",
    "\n",
    "For this, and most other tasks we will be doing using SageMaker, there are two methods we could use. The first is to use the low level functionality of SageMaker which requires knowing each of the objects involved in the SageMaker environment. The second is to use the high level functionality in which certain choices have been made on the user's behalf. The low level approach benefits from allowing the user a great deal of flexibility while the high level approach makes development much quicker. For our purposes we will opt to use the high level approach although using the low-level approach is certainly an option.\n",
    "\n",
    "Recall the method `upload_data()` which is a member of object representing our current SageMaker session. What this method does is upload the data to the default bucket (which is created if it does not exist) into the path described by the key_prefix variable. To see this for yourself, once you have uploaded the data files, go to the S3 console and look to see where the files have been uploaded.\n",
    "\n",
    "For additional resources, see the __[SageMaker API documentation](http://sagemaker.readthedocs.io/en/latest/)__ and in addition the __[SageMaker Developer Guide.](https://docs.aws.amazon.com/sagemaker/latest/dg/)__"
   ]
  },
  {
   "cell_type": "code",
   "execution_count": 17,
   "metadata": {},
   "outputs": [],
   "source": [
    "import sagemaker\n",
    "\n",
    "session = sagemaker.Session() # Store the current SageMaker session\n",
    "\n",
    "# S3 prefix (which folder will we use)\n",
    "prefix = 'sentiment-xgboost'\n",
    "\n",
    "test_location = session.upload_data(os.path.join(data_dir, 'test.csv'), key_prefix=prefix)\n",
    "val_location = session.upload_data(os.path.join(data_dir, 'validation.csv'), key_prefix=prefix)\n",
    "train_location = session.upload_data(os.path.join(data_dir, 'train.csv'), key_prefix=prefix)"
   ]
  },
  {
   "cell_type": "markdown",
   "metadata": {},
   "source": [
    "### (TODO) Creating a hypertuned XGBoost model\n",
    "\n",
    "Now that the data has been uploaded it is time to create the XGBoost model. As in the Boston Housing notebook, the first step is to create an estimator object which will be used as the *base* of your hyperparameter tuning job."
   ]
  },
  {
   "cell_type": "code",
   "execution_count": 18,
   "metadata": {},
   "outputs": [],
   "source": [
    "from sagemaker import get_execution_role\n",
    "\n",
    "# Our current execution role is require when creating the model as the training\n",
    "# and inference code will need to access the model artifacts.\n",
    "role = get_execution_role()"
   ]
  },
  {
   "cell_type": "code",
   "execution_count": 19,
   "metadata": {},
   "outputs": [
    {
     "name": "stderr",
     "output_type": "stream",
     "text": [
      "'get_image_uri' method will be deprecated in favor of 'ImageURIProvider' class in SageMaker Python SDK v2.\n",
      "There is a more up to date SageMaker XGBoost image. To use the newer image, please set 'repo_version'='1.0-1'. For example:\n",
      "\tget_image_uri(region, 'xgboost', '1.0-1').\n"
     ]
    }
   ],
   "source": [
    "# We need to retrieve the location of the container which is provided by Amazon for using XGBoost.\n",
    "# As a matter of convenience, the training and inference code both use the same container.\n",
    "from sagemaker.amazon.amazon_estimator import get_image_uri\n",
    "\n",
    "container = get_image_uri(session.boto_region_name, 'xgboost')"
   ]
  },
  {
   "cell_type": "code",
   "execution_count": 20,
   "metadata": {},
   "outputs": [
    {
     "name": "stderr",
     "output_type": "stream",
     "text": [
      "Parameter image_name will be renamed to image_uri in SageMaker Python SDK v2.\n"
     ]
    }
   ],
   "source": [
    "# TODO: Create a SageMaker estimator using the container location determined in the previous cell.\n",
    "#       It is recommended that you use a single training instance of type ml.m4.xlarge. It is also\n",
    "#       recommended that you use 's3://{}/{}/output'.format(session.default_bucket(), prefix) as the\n",
    "#       output path.\n",
    "\n",
    "xgb = sagemaker.estimator.Estimator(container,\n",
    "                                    role,\n",
    "                                    train_instance_count=1,\n",
    "                                    train_instance_type='ml.m4.xlarge',\n",
    "                                    output_path='s3://{}/{}/output'.format(session.default_bucket(),prefix),\n",
    "                                    sagemaker_session=session)\n",
    "\n",
    "# TODO: Set the XGBoost hyperparameters in the xgb object. Don't forget that in this case we have a binary\n",
    "#       label so we should be using the 'binary:logistic' objective.\n",
    "\n",
    "xgb.set_hyperparameters(max_depth=5,\n",
    "                        eta=0.2,\n",
    "                        gamma=4,\n",
    "                        min_child_weight=6,\n",
    "                        subsample=0.8,\n",
    "                        objective='binary:logistic',\n",
    "                        early_stopping_rounds=10,\n",
    "                        num_round=200)\n",
    "\n"
   ]
  },
  {
   "cell_type": "markdown",
   "metadata": {},
   "source": [
    "### (TODO) Create the hyperparameter tuner\n",
    "\n",
    "Now that the base estimator has been set up we need to construct a hyperparameter tuner object which we will use to request SageMaker construct a hyperparameter tuning job.\n",
    "\n",
    "**Note:** Training a single sentiment analysis XGBoost model takes longer than training a Boston Housing XGBoost model so if you don't want the hyperparameter tuning job to take too long, make sure to not set the total number of models (jobs) too high."
   ]
  },
  {
   "cell_type": "code",
   "execution_count": 21,
   "metadata": {},
   "outputs": [],
   "source": [
    "# First, make sure to import the relevant objects used to construct the tuner\n",
    "from sagemaker.tuner import IntegerParameter, ContinuousParameter, HyperparameterTuner\n",
    "\n",
    "# TODO: Create the hyperparameter tuner object\n",
    "\n",
    "xgb_hyperparameter_tuner = HyperparameterTuner(estimator=xgb,\n",
    "                                               objective_metric_name='validation:rmse',\n",
    "                                               objective_type = 'Minimize', # Whether we wish to minimize or maximize the metric.\n",
    "                                               max_jobs = 8, # The total number of models to train\n",
    "                                               max_parallel_jobs = 2, # The number of models to train in parallel\n",
    "                                               hyperparameter_ranges = {\n",
    "                                                    'max_depth': IntegerParameter(3, 12),\n",
    "                                                    'eta'      : ContinuousParameter(0.05, 0.5),\n",
    "                                                    'min_child_weight': IntegerParameter(2, 8),\n",
    "                                                    'subsample': ContinuousParameter(0.5, 0.9),\n",
    "                                                    'gamma': ContinuousParameter(0, 10),\n",
    "                                               })\n",
    "\n"
   ]
  },
  {
   "cell_type": "markdown",
   "metadata": {},
   "source": [
    "### Fit the hyperparameter tuner\n",
    "\n",
    "Now that the hyperparameter tuner object has been constructed, it is time to fit the various models and find the best performing model."
   ]
  },
  {
   "cell_type": "code",
   "execution_count": 22,
   "metadata": {},
   "outputs": [
    {
     "name": "stderr",
     "output_type": "stream",
     "text": [
      "'s3_input' class will be renamed to 'TrainingInput' in SageMaker Python SDK v2.\n",
      "'s3_input' class will be renamed to 'TrainingInput' in SageMaker Python SDK v2.\n"
     ]
    }
   ],
   "source": [
    "s3_input_train = sagemaker.s3_input(s3_data=train_location, content_type='csv')\n",
    "s3_input_validation = sagemaker.s3_input(s3_data=val_location, content_type='csv')"
   ]
  },
  {
   "cell_type": "code",
   "execution_count": 23,
   "metadata": {},
   "outputs": [],
   "source": [
    "xgb_hyperparameter_tuner.fit({'train': s3_input_train, 'validation': s3_input_validation})"
   ]
  },
  {
   "cell_type": "markdown",
   "metadata": {},
   "source": [
    "Remember that the tuning job is constructed and run in the background so if we want to see the progress of our training job we need to call the `wait()` method."
   ]
  },
  {
   "cell_type": "code",
   "execution_count": null,
   "metadata": {},
   "outputs": [
    {
     "name": "stdout",
     "output_type": "stream",
     "text": [
      "............................................................................................................................................................................................................................................................................................................................................................................................................................................................................................!\n"
     ]
    }
   ],
   "source": [
    "xgb_hyperparameter_tuner.wait()"
   ]
  },
  {
   "cell_type": "markdown",
   "metadata": {},
   "source": [
    "### (TODO) Testing the model\n",
    "\n",
    "Now that we've run our hyperparameter tuning job, it's time to see how well the best performing model actually performs. To do this we will use SageMaker's Batch Transform functionality. Batch Transform is a convenient way to perform inference on a large dataset in a way that is not realtime. That is, we don't necessarily need to use our model's results immediately and instead we can peform inference on a large number of samples. An example of this in industry might be peforming an end of month report. This method of inference can also be useful to us as it means to can perform inference on our entire test set. \n",
    "\n",
    "Remember that in order to create a transformer object to perform the batch transform job, we need a trained estimator object. We can do that using the `attach()` method, creating an estimator object which is attached to the best trained job."
   ]
  },
  {
   "cell_type": "code",
   "execution_count": null,
   "metadata": {},
   "outputs": [
    {
     "name": "stderr",
     "output_type": "stream",
     "text": [
      "Parameter image_name will be renamed to image_uri in SageMaker Python SDK v2.\n"
     ]
    },
    {
     "name": "stdout",
     "output_type": "stream",
     "text": [
      "2020-09-25 01:08:10 Starting - Preparing the instances for training\n",
      "2020-09-25 01:08:10 Downloading - Downloading input data\n",
      "2020-09-25 01:08:10 Training - Training image download completed. Training in progress.\n",
      "2020-09-25 01:08:10 Uploading - Uploading generated training model\n",
      "2020-09-25 01:08:10 Completed - Training job completed\u001b[34mArguments: train\u001b[0m\n",
      "\u001b[34m[2020-09-25:00:57:31:INFO] Running standalone xgboost training.\u001b[0m\n",
      "\u001b[34m[2020-09-25:00:57:31:INFO] Setting up HPO optimized metric to be : rmse\u001b[0m\n",
      "\u001b[34m[2020-09-25:00:57:31:INFO] File size need to be processed in the node: 238.47mb. Available memory size in the node: 8472.96mb\u001b[0m\n",
      "\u001b[34m[2020-09-25:00:57:31:INFO] Determined delimiter of CSV input is ','\u001b[0m\n",
      "\u001b[34m[00:57:31] S3DistributionType set as FullyReplicated\u001b[0m\n",
      "\u001b[34m[00:57:33] 15000x5000 matrix with 75000000 entries loaded from /opt/ml/input/data/train?format=csv&label_column=0&delimiter=,\u001b[0m\n",
      "\u001b[34m[2020-09-25:00:57:33:INFO] Determined delimiter of CSV input is ','\u001b[0m\n",
      "\u001b[34m[00:57:33] S3DistributionType set as FullyReplicated\u001b[0m\n",
      "\u001b[34m[00:57:34] 10000x5000 matrix with 50000000 entries loaded from /opt/ml/input/data/validation?format=csv&label_column=0&delimiter=,\u001b[0m\n",
      "\u001b[34m[00:57:39] src/tree/updater_prune.cc:74: tree pruning end, 1 roots, 140 extra nodes, 96 pruned nodes, max_depth=11\u001b[0m\n",
      "\u001b[34m[0]#011train-rmse:0.474354#011validation-rmse:0.476785\u001b[0m\n",
      "\u001b[34mMultiple eval metrics have been passed: 'validation-rmse' will be used for early stopping.\n",
      "\u001b[0m\n",
      "\u001b[34mWill train until validation-rmse hasn't improved in 10 rounds.\u001b[0m\n",
      "\u001b[34m[00:57:42] src/tree/updater_prune.cc:74: tree pruning end, 1 roots, 136 extra nodes, 114 pruned nodes, max_depth=11\u001b[0m\n",
      "\u001b[34m[1]#011train-rmse:0.454793#011validation-rmse:0.459781\u001b[0m\n",
      "\u001b[34m[00:57:46] src/tree/updater_prune.cc:74: tree pruning end, 1 roots, 106 extra nodes, 152 pruned nodes, max_depth=11\u001b[0m\n",
      "\u001b[34m[2]#011train-rmse:0.439888#011validation-rmse:0.446407\u001b[0m\n",
      "\u001b[34m[00:57:49] src/tree/updater_prune.cc:74: tree pruning end, 1 roots, 130 extra nodes, 104 pruned nodes, max_depth=11\u001b[0m\n",
      "\u001b[34m[3]#011train-rmse:0.42711#011validation-rmse:0.436223\u001b[0m\n",
      "\u001b[34m[00:57:52] src/tree/updater_prune.cc:74: tree pruning end, 1 roots, 86 extra nodes, 114 pruned nodes, max_depth=11\u001b[0m\n",
      "\u001b[34m[4]#011train-rmse:0.417434#011validation-rmse:0.428161\u001b[0m\n",
      "\u001b[34m[00:57:55] src/tree/updater_prune.cc:74: tree pruning end, 1 roots, 130 extra nodes, 132 pruned nodes, max_depth=11\u001b[0m\n",
      "\u001b[34m[5]#011train-rmse:0.407888#011validation-rmse:0.421242\u001b[0m\n",
      "\u001b[34m[00:57:58] src/tree/updater_prune.cc:74: tree pruning end, 1 roots, 90 extra nodes, 90 pruned nodes, max_depth=11\u001b[0m\n",
      "\u001b[34m[6]#011train-rmse:0.400337#011validation-rmse:0.415121\u001b[0m\n",
      "\u001b[34m[00:58:01] src/tree/updater_prune.cc:74: tree pruning end, 1 roots, 102 extra nodes, 148 pruned nodes, max_depth=11\u001b[0m\n",
      "\u001b[34m[7]#011train-rmse:0.393438#011validation-rmse:0.410084\u001b[0m\n",
      "\u001b[34m[00:58:04] src/tree/updater_prune.cc:74: tree pruning end, 1 roots, 64 extra nodes, 84 pruned nodes, max_depth=11\u001b[0m\n",
      "\u001b[34m[8]#011train-rmse:0.388209#011validation-rmse:0.405256\u001b[0m\n",
      "\u001b[34m[00:58:07] src/tree/updater_prune.cc:74: tree pruning end, 1 roots, 74 extra nodes, 108 pruned nodes, max_depth=11\u001b[0m\n",
      "\u001b[34m[9]#011train-rmse:0.382401#011validation-rmse:0.400361\u001b[0m\n",
      "\u001b[34m[00:58:10] src/tree/updater_prune.cc:74: tree pruning end, 1 roots, 84 extra nodes, 100 pruned nodes, max_depth=11\u001b[0m\n",
      "\u001b[34m[10]#011train-rmse:0.377118#011validation-rmse:0.396493\u001b[0m\n",
      "\u001b[34m[00:58:13] src/tree/updater_prune.cc:74: tree pruning end, 1 roots, 90 extra nodes, 124 pruned nodes, max_depth=11\u001b[0m\n",
      "\u001b[34m[11]#011train-rmse:0.372076#011validation-rmse:0.392153\u001b[0m\n",
      "\u001b[34m[00:58:16] src/tree/updater_prune.cc:74: tree pruning end, 1 roots, 110 extra nodes, 120 pruned nodes, max_depth=11\u001b[0m\n",
      "\u001b[34m[12]#011train-rmse:0.366811#011validation-rmse:0.389137\u001b[0m\n",
      "\u001b[34m[00:58:19] src/tree/updater_prune.cc:74: tree pruning end, 1 roots, 74 extra nodes, 116 pruned nodes, max_depth=11\u001b[0m\n",
      "\u001b[34m[13]#011train-rmse:0.362382#011validation-rmse:0.385876\u001b[0m\n",
      "\u001b[34m[00:58:22] src/tree/updater_prune.cc:74: tree pruning end, 1 roots, 60 extra nodes, 120 pruned nodes, max_depth=11\u001b[0m\n",
      "\u001b[34m[14]#011train-rmse:0.358666#011validation-rmse:0.383103\u001b[0m\n",
      "\u001b[34m[00:58:24] src/tree/updater_prune.cc:74: tree pruning end, 1 roots, 102 extra nodes, 126 pruned nodes, max_depth=11\u001b[0m\n",
      "\u001b[34m[15]#011train-rmse:0.354486#011validation-rmse:0.379965\u001b[0m\n",
      "\u001b[34m[00:58:27] src/tree/updater_prune.cc:74: tree pruning end, 1 roots, 80 extra nodes, 100 pruned nodes, max_depth=11\u001b[0m\n",
      "\u001b[34m[16]#011train-rmse:0.350836#011validation-rmse:0.37772\u001b[0m\n",
      "\u001b[34m[00:58:30] src/tree/updater_prune.cc:74: tree pruning end, 1 roots, 62 extra nodes, 62 pruned nodes, max_depth=11\u001b[0m\n",
      "\u001b[34m[17]#011train-rmse:0.34755#011validation-rmse:0.374974\u001b[0m\n",
      "\u001b[34m[00:58:33] src/tree/updater_prune.cc:74: tree pruning end, 1 roots, 70 extra nodes, 84 pruned nodes, max_depth=11\u001b[0m\n",
      "\u001b[34m[18]#011train-rmse:0.344575#011validation-rmse:0.372935\u001b[0m\n",
      "\u001b[34m[00:58:36] src/tree/updater_prune.cc:74: tree pruning end, 1 roots, 78 extra nodes, 114 pruned nodes, max_depth=11\u001b[0m\n",
      "\u001b[34m[19]#011train-rmse:0.341118#011validation-rmse:0.370902\u001b[0m\n",
      "\u001b[34m[00:58:39] src/tree/updater_prune.cc:74: tree pruning end, 1 roots, 60 extra nodes, 90 pruned nodes, max_depth=11\u001b[0m\n",
      "\u001b[34m[20]#011train-rmse:0.338369#011validation-rmse:0.368717\u001b[0m\n",
      "\u001b[34m[00:58:42] src/tree/updater_prune.cc:74: tree pruning end, 1 roots, 82 extra nodes, 136 pruned nodes, max_depth=11\u001b[0m\n",
      "\u001b[34m[21]#011train-rmse:0.335086#011validation-rmse:0.366765\u001b[0m\n",
      "\u001b[34m[00:58:45] src/tree/updater_prune.cc:74: tree pruning end, 1 roots, 54 extra nodes, 100 pruned nodes, max_depth=11\u001b[0m\n",
      "\u001b[34m[22]#011train-rmse:0.332601#011validation-rmse:0.365004\u001b[0m\n",
      "\u001b[34m[00:58:48] src/tree/updater_prune.cc:74: tree pruning end, 1 roots, 36 extra nodes, 96 pruned nodes, max_depth=11\u001b[0m\n",
      "\u001b[34m[23]#011train-rmse:0.330439#011validation-rmse:0.363028\u001b[0m\n",
      "\u001b[34m[00:58:51] src/tree/updater_prune.cc:74: tree pruning end, 1 roots, 50 extra nodes, 110 pruned nodes, max_depth=11\u001b[0m\n",
      "\u001b[34m[24]#011train-rmse:0.328148#011validation-rmse:0.361154\u001b[0m\n",
      "\u001b[34m[00:58:54] src/tree/updater_prune.cc:74: tree pruning end, 1 roots, 40 extra nodes, 88 pruned nodes, max_depth=11\u001b[0m\n",
      "\u001b[34m[25]#011train-rmse:0.326195#011validation-rmse:0.359751\u001b[0m\n",
      "\u001b[34m[00:58:57] src/tree/updater_prune.cc:74: tree pruning end, 1 roots, 36 extra nodes, 112 pruned nodes, max_depth=11\u001b[0m\n",
      "\u001b[34m[26]#011train-rmse:0.324461#011validation-rmse:0.358291\u001b[0m\n",
      "\u001b[34m[00:59:00] src/tree/updater_prune.cc:74: tree pruning end, 1 roots, 60 extra nodes, 90 pruned nodes, max_depth=11\u001b[0m\n",
      "\u001b[34m[27]#011train-rmse:0.322151#011validation-rmse:0.356911\u001b[0m\n",
      "\u001b[34m[00:59:03] src/tree/updater_prune.cc:74: tree pruning end, 1 roots, 56 extra nodes, 114 pruned nodes, max_depth=11\u001b[0m\n",
      "\u001b[34m[28]#011train-rmse:0.31999#011validation-rmse:0.355489\u001b[0m\n",
      "\u001b[34m[00:59:06] src/tree/updater_prune.cc:74: tree pruning end, 1 roots, 74 extra nodes, 102 pruned nodes, max_depth=11\u001b[0m\n",
      "\u001b[34m[29]#011train-rmse:0.317514#011validation-rmse:0.354171\u001b[0m\n",
      "\u001b[34m[00:59:09] src/tree/updater_prune.cc:74: tree pruning end, 1 roots, 32 extra nodes, 138 pruned nodes, max_depth=11\u001b[0m\n",
      "\u001b[34m[30]#011train-rmse:0.316034#011validation-rmse:0.353132\u001b[0m\n",
      "\u001b[34m[00:59:12] src/tree/updater_prune.cc:74: tree pruning end, 1 roots, 40 extra nodes, 86 pruned nodes, max_depth=11\u001b[0m\n",
      "\u001b[34m[31]#011train-rmse:0.314494#011validation-rmse:0.351968\u001b[0m\n",
      "\u001b[34m[00:59:15] src/tree/updater_prune.cc:74: tree pruning end, 1 roots, 50 extra nodes, 98 pruned nodes, max_depth=11\u001b[0m\n",
      "\u001b[34m[32]#011train-rmse:0.312514#011validation-rmse:0.350946\u001b[0m\n",
      "\u001b[34m[00:59:18] src/tree/updater_prune.cc:74: tree pruning end, 1 roots, 26 extra nodes, 98 pruned nodes, max_depth=11\u001b[0m\n",
      "\u001b[34m[33]#011train-rmse:0.311405#011validation-rmse:0.35028\u001b[0m\n",
      "\u001b[34m[00:59:21] src/tree/updater_prune.cc:74: tree pruning end, 1 roots, 52 extra nodes, 140 pruned nodes, max_depth=11\u001b[0m\n",
      "\u001b[34m[34]#011train-rmse:0.309678#011validation-rmse:0.349571\u001b[0m\n",
      "\u001b[34m[00:59:24] src/tree/updater_prune.cc:74: tree pruning end, 1 roots, 46 extra nodes, 114 pruned nodes, max_depth=11\u001b[0m\n",
      "\u001b[34m[35]#011train-rmse:0.308058#011validation-rmse:0.348391\u001b[0m\n",
      "\u001b[34m[00:59:27] src/tree/updater_prune.cc:74: tree pruning end, 1 roots, 38 extra nodes, 90 pruned nodes, max_depth=11\u001b[0m\n",
      "\u001b[34m[36]#011train-rmse:0.306732#011validation-rmse:0.347822\u001b[0m\n",
      "\u001b[34m[00:59:30] src/tree/updater_prune.cc:74: tree pruning end, 1 roots, 38 extra nodes, 78 pruned nodes, max_depth=11\u001b[0m\n",
      "\u001b[34m[37]#011train-rmse:0.305242#011validation-rmse:0.347102\u001b[0m\n",
      "\u001b[34m[00:59:33] src/tree/updater_prune.cc:74: tree pruning end, 1 roots, 32 extra nodes, 90 pruned nodes, max_depth=11\u001b[0m\n",
      "\u001b[34m[38]#011train-rmse:0.303887#011validation-rmse:0.346179\u001b[0m\n",
      "\u001b[34m[00:59:36] src/tree/updater_prune.cc:74: tree pruning end, 1 roots, 50 extra nodes, 120 pruned nodes, max_depth=11\u001b[0m\n",
      "\u001b[34m[39]#011train-rmse:0.302247#011validation-rmse:0.345206\u001b[0m\n",
      "\u001b[34m[00:59:39] src/tree/updater_prune.cc:74: tree pruning end, 1 roots, 24 extra nodes, 60 pruned nodes, max_depth=11\u001b[0m\n",
      "\u001b[34m[40]#011train-rmse:0.30119#011validation-rmse:0.34431\u001b[0m\n",
      "\u001b[34m[00:59:42] src/tree/updater_prune.cc:74: tree pruning end, 1 roots, 32 extra nodes, 122 pruned nodes, max_depth=11\u001b[0m\n",
      "\u001b[34m[41]#011train-rmse:0.300104#011validation-rmse:0.343507\u001b[0m\n",
      "\u001b[34m[00:59:45] src/tree/updater_prune.cc:74: tree pruning end, 1 roots, 54 extra nodes, 84 pruned nodes, max_depth=11\u001b[0m\n",
      "\u001b[34m[42]#011train-rmse:0.298592#011validation-rmse:0.342716\u001b[0m\n",
      "\u001b[34m[00:59:48] src/tree/updater_prune.cc:74: tree pruning end, 1 roots, 24 extra nodes, 58 pruned nodes, max_depth=11\u001b[0m\n",
      "\u001b[34m[43]#011train-rmse:0.297595#011validation-rmse:0.341932\u001b[0m\n",
      "\u001b[34m[00:59:51] src/tree/updater_prune.cc:74: tree pruning end, 1 roots, 58 extra nodes, 60 pruned nodes, max_depth=11\u001b[0m\n",
      "\u001b[34m[44]#011train-rmse:0.295897#011validation-rmse:0.340968\u001b[0m\n",
      "\u001b[34m[00:59:54] src/tree/updater_prune.cc:74: tree pruning end, 1 roots, 32 extra nodes, 174 pruned nodes, max_depth=11\u001b[0m\n",
      "\u001b[34m[45]#011train-rmse:0.294777#011validation-rmse:0.34049\u001b[0m\n",
      "\u001b[34m[00:59:57] src/tree/updater_prune.cc:74: tree pruning end, 1 roots, 26 extra nodes, 72 pruned nodes, max_depth=11\u001b[0m\n",
      "\u001b[34m[46]#011train-rmse:0.293837#011validation-rmse:0.339719\u001b[0m\n",
      "\u001b[34m[01:00:00] src/tree/updater_prune.cc:74: tree pruning end, 1 roots, 24 extra nodes, 48 pruned nodes, max_depth=11\u001b[0m\n",
      "\u001b[34m[47]#011train-rmse:0.292843#011validation-rmse:0.338962\u001b[0m\n",
      "\u001b[34m[01:00:03] src/tree/updater_prune.cc:74: tree pruning end, 1 roots, 32 extra nodes, 50 pruned nodes, max_depth=11\u001b[0m\n",
      "\u001b[34m[48]#011train-rmse:0.291764#011validation-rmse:0.338277\u001b[0m\n",
      "\u001b[34m[01:00:06] src/tree/updater_prune.cc:74: tree pruning end, 1 roots, 40 extra nodes, 80 pruned nodes, max_depth=11\u001b[0m\n",
      "\u001b[34m[49]#011train-rmse:0.290484#011validation-rmse:0.337469\u001b[0m\n",
      "\u001b[34m[01:00:09] src/tree/updater_prune.cc:74: tree pruning end, 1 roots, 26 extra nodes, 60 pruned nodes, max_depth=11\u001b[0m\n",
      "\u001b[34m[50]#011train-rmse:0.289477#011validation-rmse:0.336775\u001b[0m\n",
      "\u001b[34m[01:00:12] src/tree/updater_prune.cc:74: tree pruning end, 1 roots, 34 extra nodes, 66 pruned nodes, max_depth=11\u001b[0m\n",
      "\u001b[34m[51]#011train-rmse:0.28842#011validation-rmse:0.336246\u001b[0m\n",
      "\u001b[34m[01:00:15] src/tree/updater_prune.cc:74: tree pruning end, 1 roots, 32 extra nodes, 74 pruned nodes, max_depth=11\u001b[0m\n",
      "\u001b[34m[52]#011train-rmse:0.28742#011validation-rmse:0.335485\u001b[0m\n",
      "\u001b[34m[01:00:18] src/tree/updater_prune.cc:74: tree pruning end, 1 roots, 26 extra nodes, 66 pruned nodes, max_depth=11\u001b[0m\n",
      "\u001b[34m[53]#011train-rmse:0.286435#011validation-rmse:0.334898\u001b[0m\n",
      "\u001b[34m[01:00:21] src/tree/updater_prune.cc:74: tree pruning end, 1 roots, 38 extra nodes, 74 pruned nodes, max_depth=11\u001b[0m\n",
      "\u001b[34m[54]#011train-rmse:0.285424#011validation-rmse:0.334518\u001b[0m\n",
      "\u001b[34m[01:00:24] src/tree/updater_prune.cc:74: tree pruning end, 1 roots, 46 extra nodes, 110 pruned nodes, max_depth=11\u001b[0m\n",
      "\u001b[34m[55]#011train-rmse:0.284196#011validation-rmse:0.334153\u001b[0m\n",
      "\u001b[34m[01:00:27] src/tree/updater_prune.cc:74: tree pruning end, 1 roots, 44 extra nodes, 94 pruned nodes, max_depth=11\u001b[0m\n",
      "\u001b[34m[56]#011train-rmse:0.282886#011validation-rmse:0.333511\u001b[0m\n",
      "\u001b[34m[01:00:30] src/tree/updater_prune.cc:74: tree pruning end, 1 roots, 30 extra nodes, 90 pruned nodes, max_depth=11\u001b[0m\n",
      "\u001b[34m[57]#011train-rmse:0.282067#011validation-rmse:0.333085\u001b[0m\n",
      "\u001b[34m[01:00:33] src/tree/updater_prune.cc:74: tree pruning end, 1 roots, 26 extra nodes, 34 pruned nodes, max_depth=11\u001b[0m\n",
      "\u001b[34m[58]#011train-rmse:0.281229#011validation-rmse:0.332816\u001b[0m\n",
      "\u001b[34m[01:00:36] src/tree/updater_prune.cc:74: tree pruning end, 1 roots, 32 extra nodes, 88 pruned nodes, max_depth=11\u001b[0m\n",
      "\u001b[34m[59]#011train-rmse:0.280193#011validation-rmse:0.332442\u001b[0m\n",
      "\u001b[34m[01:00:39] src/tree/updater_prune.cc:74: tree pruning end, 1 roots, 26 extra nodes, 110 pruned nodes, max_depth=11\u001b[0m\n",
      "\u001b[34m[60]#011train-rmse:0.279374#011validation-rmse:0.331874\u001b[0m\n",
      "\u001b[34m[01:00:42] src/tree/updater_prune.cc:74: tree pruning end, 1 roots, 30 extra nodes, 92 pruned nodes, max_depth=11\u001b[0m\n",
      "\u001b[34m[61]#011train-rmse:0.278558#011validation-rmse:0.331526\u001b[0m\n",
      "\u001b[34m[01:00:45] src/tree/updater_prune.cc:74: tree pruning end, 1 roots, 32 extra nodes, 78 pruned nodes, max_depth=11\u001b[0m\n",
      "\u001b[34m[62]#011train-rmse:0.277747#011validation-rmse:0.331066\u001b[0m\n",
      "\u001b[34m[01:00:48] src/tree/updater_prune.cc:74: tree pruning end, 1 roots, 30 extra nodes, 58 pruned nodes, max_depth=11\u001b[0m\n",
      "\u001b[34m[63]#011train-rmse:0.276951#011validation-rmse:0.330514\u001b[0m\n",
      "\u001b[34m[01:00:51] src/tree/updater_prune.cc:74: tree pruning end, 1 roots, 28 extra nodes, 98 pruned nodes, max_depth=11\u001b[0m\n",
      "\u001b[34m[64]#011train-rmse:0.276144#011validation-rmse:0.330018\u001b[0m\n",
      "\u001b[34m[01:00:54] src/tree/updater_prune.cc:74: tree pruning end, 1 roots, 28 extra nodes, 72 pruned nodes, max_depth=11\u001b[0m\n",
      "\u001b[34m[65]#011train-rmse:0.27544#011validation-rmse:0.329627\u001b[0m\n",
      "\u001b[34m[01:00:57] src/tree/updater_prune.cc:74: tree pruning end, 1 roots, 28 extra nodes, 50 pruned nodes, max_depth=11\u001b[0m\n",
      "\u001b[34m[66]#011train-rmse:0.274774#011validation-rmse:0.329059\u001b[0m\n",
      "\u001b[34m[01:00:59] src/tree/updater_prune.cc:74: tree pruning end, 1 roots, 44 extra nodes, 36 pruned nodes, max_depth=11\u001b[0m\n",
      "\u001b[34m[67]#011train-rmse:0.273764#011validation-rmse:0.328723\u001b[0m\n",
      "\u001b[34m[01:01:02] src/tree/updater_prune.cc:74: tree pruning end, 1 roots, 30 extra nodes, 86 pruned nodes, max_depth=11\u001b[0m\n",
      "\u001b[34m[68]#011train-rmse:0.272998#011validation-rmse:0.328246\u001b[0m\n",
      "\u001b[34m[01:01:05] src/tree/updater_prune.cc:74: tree pruning end, 1 roots, 24 extra nodes, 52 pruned nodes, max_depth=11\u001b[0m\n",
      "\u001b[34m[69]#011train-rmse:0.272389#011validation-rmse:0.327863\u001b[0m\n",
      "\u001b[34m[01:01:08] src/tree/updater_prune.cc:74: tree pruning end, 1 roots, 24 extra nodes, 80 pruned nodes, max_depth=11\u001b[0m\n",
      "\u001b[34m[70]#011train-rmse:0.271735#011validation-rmse:0.327492\u001b[0m\n",
      "\u001b[34m[01:01:11] src/tree/updater_prune.cc:74: tree pruning end, 1 roots, 40 extra nodes, 112 pruned nodes, max_depth=11\u001b[0m\n",
      "\u001b[34m[71]#011train-rmse:0.270642#011validation-rmse:0.327246\u001b[0m\n",
      "\u001b[34m[01:01:14] src/tree/updater_prune.cc:74: tree pruning end, 1 roots, 42 extra nodes, 82 pruned nodes, max_depth=11\u001b[0m\n",
      "\u001b[34m[72]#011train-rmse:0.269699#011validation-rmse:0.326869\u001b[0m\n",
      "\u001b[34m[01:01:17] src/tree/updater_prune.cc:74: tree pruning end, 1 roots, 34 extra nodes, 92 pruned nodes, max_depth=11\u001b[0m\n",
      "\u001b[34m[73]#011train-rmse:0.268848#011validation-rmse:0.326855\u001b[0m\n",
      "\u001b[34m[01:01:20] src/tree/updater_prune.cc:74: tree pruning end, 1 roots, 26 extra nodes, 76 pruned nodes, max_depth=11\u001b[0m\n",
      "\u001b[34m[74]#011train-rmse:0.268189#011validation-rmse:0.326473\u001b[0m\n",
      "\u001b[34m[01:01:23] src/tree/updater_prune.cc:74: tree pruning end, 1 roots, 24 extra nodes, 102 pruned nodes, max_depth=11\u001b[0m\n",
      "\u001b[34m[75]#011train-rmse:0.267552#011validation-rmse:0.326053\u001b[0m\n",
      "\u001b[34m[01:01:26] src/tree/updater_prune.cc:74: tree pruning end, 1 roots, 24 extra nodes, 30 pruned nodes, max_depth=11\u001b[0m\n",
      "\u001b[34m[76]#011train-rmse:0.266973#011validation-rmse:0.325733\u001b[0m\n",
      "\u001b[34m[01:01:29] src/tree/updater_prune.cc:74: tree pruning end, 1 roots, 22 extra nodes, 28 pruned nodes, max_depth=11\u001b[0m\n",
      "\u001b[34m[77]#011train-rmse:0.266421#011validation-rmse:0.325285\u001b[0m\n",
      "\u001b[34m[01:01:32] src/tree/updater_prune.cc:74: tree pruning end, 1 roots, 26 extra nodes, 72 pruned nodes, max_depth=11\u001b[0m\n",
      "\u001b[34m[78]#011train-rmse:0.265783#011validation-rmse:0.324913\u001b[0m\n",
      "\u001b[34m[01:01:35] src/tree/updater_prune.cc:74: tree pruning end, 1 roots, 32 extra nodes, 80 pruned nodes, max_depth=11\u001b[0m\n",
      "\u001b[34m[79]#011train-rmse:0.265086#011validation-rmse:0.324668\u001b[0m\n",
      "\u001b[34m[01:01:38] src/tree/updater_prune.cc:74: tree pruning end, 1 roots, 26 extra nodes, 34 pruned nodes, max_depth=11\u001b[0m\n",
      "\u001b[34m[80]#011train-rmse:0.26445#011validation-rmse:0.324266\u001b[0m\n",
      "\u001b[34m[01:01:41] src/tree/updater_prune.cc:74: tree pruning end, 1 roots, 24 extra nodes, 60 pruned nodes, max_depth=11\u001b[0m\n",
      "\u001b[34m[81]#011train-rmse:0.263858#011validation-rmse:0.324015\u001b[0m\n",
      "\u001b[34m[01:01:44] src/tree/updater_prune.cc:74: tree pruning end, 1 roots, 24 extra nodes, 86 pruned nodes, max_depth=11\u001b[0m\n",
      "\u001b[34m[82]#011train-rmse:0.263373#011validation-rmse:0.323927\u001b[0m\n",
      "\u001b[34m[01:01:47] src/tree/updater_prune.cc:74: tree pruning end, 1 roots, 28 extra nodes, 68 pruned nodes, max_depth=11\u001b[0m\n",
      "\u001b[34m[83]#011train-rmse:0.26269#011validation-rmse:0.323347\u001b[0m\n",
      "\u001b[34m[01:01:50] src/tree/updater_prune.cc:74: tree pruning end, 1 roots, 22 extra nodes, 54 pruned nodes, max_depth=11\u001b[0m\n",
      "\u001b[34m[84]#011train-rmse:0.262276#011validation-rmse:0.322815\u001b[0m\n",
      "\u001b[34m[01:01:53] src/tree/updater_prune.cc:74: tree pruning end, 1 roots, 24 extra nodes, 66 pruned nodes, max_depth=11\u001b[0m\n",
      "\u001b[34m[85]#011train-rmse:0.261705#011validation-rmse:0.322503\u001b[0m\n",
      "\u001b[34m[01:01:56] src/tree/updater_prune.cc:74: tree pruning end, 1 roots, 22 extra nodes, 66 pruned nodes, max_depth=11\u001b[0m\n",
      "\u001b[34m[86]#011train-rmse:0.261239#011validation-rmse:0.322063\u001b[0m\n",
      "\u001b[34m[01:01:59] src/tree/updater_prune.cc:74: tree pruning end, 1 roots, 22 extra nodes, 28 pruned nodes, max_depth=11\u001b[0m\n",
      "\u001b[34m[87]#011train-rmse:0.26075#011validation-rmse:0.32171\u001b[0m\n",
      "\u001b[34m[01:02:02] src/tree/updater_prune.cc:74: tree pruning end, 1 roots, 22 extra nodes, 44 pruned nodes, max_depth=11\u001b[0m\n",
      "\u001b[34m[88]#011train-rmse:0.260186#011validation-rmse:0.321403\u001b[0m\n",
      "\u001b[34m[01:02:05] src/tree/updater_prune.cc:74: tree pruning end, 1 roots, 24 extra nodes, 48 pruned nodes, max_depth=10\u001b[0m\n",
      "\u001b[34m[89]#011train-rmse:0.259581#011validation-rmse:0.321034\u001b[0m\n",
      "\u001b[34m[01:02:08] src/tree/updater_prune.cc:74: tree pruning end, 1 roots, 24 extra nodes, 48 pruned nodes, max_depth=11\u001b[0m\n",
      "\u001b[34m[90]#011train-rmse:0.259079#011validation-rmse:0.320792\u001b[0m\n",
      "\u001b[34m[01:02:11] src/tree/updater_prune.cc:74: tree pruning end, 1 roots, 28 extra nodes, 90 pruned nodes, max_depth=11\u001b[0m\n",
      "\u001b[34m[91]#011train-rmse:0.25845#011validation-rmse:0.320587\u001b[0m\n",
      "\u001b[34m[01:02:14] src/tree/updater_prune.cc:74: tree pruning end, 1 roots, 30 extra nodes, 74 pruned nodes, max_depth=11\u001b[0m\n",
      "\u001b[34m[92]#011train-rmse:0.257706#011validation-rmse:0.320395\u001b[0m\n",
      "\u001b[34m[01:02:17] src/tree/updater_prune.cc:74: tree pruning end, 1 roots, 22 extra nodes, 88 pruned nodes, max_depth=11\u001b[0m\n",
      "\u001b[34m[93]#011train-rmse:0.257202#011validation-rmse:0.320155\u001b[0m\n",
      "\u001b[34m[01:02:20] src/tree/updater_prune.cc:74: tree pruning end, 1 roots, 22 extra nodes, 50 pruned nodes, max_depth=11\u001b[0m\n",
      "\u001b[34m[94]#011train-rmse:0.256773#011validation-rmse:0.319945\u001b[0m\n",
      "\u001b[34m[01:02:22] src/tree/updater_prune.cc:74: tree pruning end, 1 roots, 22 extra nodes, 44 pruned nodes, max_depth=11\u001b[0m\n",
      "\u001b[34m[95]#011train-rmse:0.256425#011validation-rmse:0.319756\u001b[0m\n",
      "\u001b[34m[01:02:25] src/tree/updater_prune.cc:74: tree pruning end, 1 roots, 16 extra nodes, 16 pruned nodes, max_depth=8\u001b[0m\n",
      "\u001b[34m[96]#011train-rmse:0.256114#011validation-rmse:0.319677\u001b[0m\n",
      "\u001b[34m[01:02:28] src/tree/updater_prune.cc:74: tree pruning end, 1 roots, 22 extra nodes, 30 pruned nodes, max_depth=11\u001b[0m\n",
      "\u001b[34m[97]#011train-rmse:0.255656#011validation-rmse:0.319631\u001b[0m\n",
      "\u001b[34m[01:02:31] src/tree/updater_prune.cc:74: tree pruning end, 1 roots, 26 extra nodes, 58 pruned nodes, max_depth=10\u001b[0m\n",
      "\u001b[34m[98]#011train-rmse:0.255057#011validation-rmse:0.319396\u001b[0m\n",
      "\u001b[34m[01:02:34] src/tree/updater_prune.cc:74: tree pruning end, 1 roots, 22 extra nodes, 66 pruned nodes, max_depth=11\u001b[0m\n",
      "\u001b[34m[99]#011train-rmse:0.254577#011validation-rmse:0.31916\u001b[0m\n",
      "\u001b[34m[01:02:37] src/tree/updater_prune.cc:74: tree pruning end, 1 roots, 22 extra nodes, 20 pruned nodes, max_depth=11\u001b[0m\n",
      "\u001b[34m[100]#011train-rmse:0.254038#011validation-rmse:0.319039\u001b[0m\n",
      "\u001b[34m[01:02:40] src/tree/updater_prune.cc:74: tree pruning end, 1 roots, 18 extra nodes, 106 pruned nodes, max_depth=8\u001b[0m\n",
      "\u001b[34m[101]#011train-rmse:0.253722#011validation-rmse:0.3188\u001b[0m\n",
      "\u001b[34m[01:02:43] src/tree/updater_prune.cc:74: tree pruning end, 1 roots, 24 extra nodes, 102 pruned nodes, max_depth=11\u001b[0m\n",
      "\u001b[34m[102]#011train-rmse:0.253245#011validation-rmse:0.318555\u001b[0m\n",
      "\u001b[34m[01:02:46] src/tree/updater_prune.cc:74: tree pruning end, 1 roots, 26 extra nodes, 30 pruned nodes, max_depth=11\u001b[0m\n",
      "\u001b[34m[103]#011train-rmse:0.252696#011validation-rmse:0.318392\u001b[0m\n",
      "\u001b[34m[01:02:49] src/tree/updater_prune.cc:74: tree pruning end, 1 roots, 26 extra nodes, 78 pruned nodes, max_depth=11\u001b[0m\n",
      "\u001b[34m[104]#011train-rmse:0.252107#011validation-rmse:0.318249\u001b[0m\n",
      "\u001b[34m[01:02:52] src/tree/updater_prune.cc:74: tree pruning end, 1 roots, 24 extra nodes, 70 pruned nodes, max_depth=11\u001b[0m\n",
      "\u001b[34m[105]#011train-rmse:0.251686#011validation-rmse:0.317996\u001b[0m\n",
      "\u001b[34m[01:02:55] src/tree/updater_prune.cc:74: tree pruning end, 1 roots, 34 extra nodes, 90 pruned nodes, max_depth=11\u001b[0m\n",
      "\u001b[34m[106]#011train-rmse:0.250884#011validation-rmse:0.317867\u001b[0m\n",
      "\u001b[34m[01:02:58] src/tree/updater_prune.cc:74: tree pruning end, 1 roots, 16 extra nodes, 50 pruned nodes, max_depth=7\u001b[0m\n",
      "\u001b[34m[107]#011train-rmse:0.250571#011validation-rmse:0.317793\u001b[0m\n",
      "\u001b[34m[01:03:01] src/tree/updater_prune.cc:74: tree pruning end, 1 roots, 6 extra nodes, 40 pruned nodes, max_depth=3\u001b[0m\n",
      "\u001b[34m[108]#011train-rmse:0.250476#011validation-rmse:0.317727\u001b[0m\n",
      "\u001b[34m[01:03:04] src/tree/updater_prune.cc:74: tree pruning end, 1 roots, 26 extra nodes, 54 pruned nodes, max_depth=11\u001b[0m\n",
      "\u001b[34m[109]#011train-rmse:0.249973#011validation-rmse:0.317672\u001b[0m\n",
      "\u001b[34m[01:03:07] src/tree/updater_prune.cc:74: tree pruning end, 1 roots, 22 extra nodes, 54 pruned nodes, max_depth=11\u001b[0m\n",
      "\u001b[34m[110]#011train-rmse:0.249609#011validation-rmse:0.317481\u001b[0m\n",
      "\u001b[34m[01:03:10] src/tree/updater_prune.cc:74: tree pruning end, 1 roots, 22 extra nodes, 60 pruned nodes, max_depth=10\u001b[0m\n",
      "\u001b[34m[111]#011train-rmse:0.249247#011validation-rmse:0.317375\u001b[0m\n",
      "\u001b[34m[01:03:13] src/tree/updater_prune.cc:74: tree pruning end, 1 roots, 26 extra nodes, 50 pruned nodes, max_depth=11\u001b[0m\n",
      "\u001b[34m[112]#011train-rmse:0.248711#011validation-rmse:0.317225\u001b[0m\n",
      "\u001b[34m[01:03:16] src/tree/updater_prune.cc:74: tree pruning end, 1 roots, 18 extra nodes, 102 pruned nodes, max_depth=9\u001b[0m\n",
      "\u001b[34m[113]#011train-rmse:0.248409#011validation-rmse:0.317018\u001b[0m\n",
      "\u001b[34m[01:03:19] src/tree/updater_prune.cc:74: tree pruning end, 1 roots, 16 extra nodes, 40 pruned nodes, max_depth=8\u001b[0m\n",
      "\u001b[34m[114]#011train-rmse:0.248151#011validation-rmse:0.316866\u001b[0m\n",
      "\u001b[34m[01:03:22] src/tree/updater_prune.cc:74: tree pruning end, 1 roots, 20 extra nodes, 56 pruned nodes, max_depth=9\u001b[0m\n",
      "\u001b[34m[115]#011train-rmse:0.247888#011validation-rmse:0.316497\u001b[0m\n",
      "\u001b[34m[01:03:25] src/tree/updater_prune.cc:74: tree pruning end, 1 roots, 26 extra nodes, 66 pruned nodes, max_depth=11\u001b[0m\n",
      "\u001b[34m[116]#011train-rmse:0.247398#011validation-rmse:0.316565\u001b[0m\n",
      "\u001b[34m[01:03:28] src/tree/updater_prune.cc:74: tree pruning end, 1 roots, 24 extra nodes, 80 pruned nodes, max_depth=10\u001b[0m\n",
      "\u001b[34m[117]#011train-rmse:0.246891#011validation-rmse:0.316567\u001b[0m\n",
      "\u001b[34m[01:03:31] src/tree/updater_prune.cc:74: tree pruning end, 1 roots, 18 extra nodes, 64 pruned nodes, max_depth=9\u001b[0m\n",
      "\u001b[34m[118]#011train-rmse:0.246536#011validation-rmse:0.316404\u001b[0m\n",
      "\u001b[34m[01:03:34] src/tree/updater_prune.cc:74: tree pruning end, 1 roots, 10 extra nodes, 108 pruned nodes, max_depth=4\u001b[0m\n",
      "\u001b[34m[119]#011train-rmse:0.246388#011validation-rmse:0.316411\u001b[0m\n",
      "\u001b[34m[01:03:37] src/tree/updater_prune.cc:74: tree pruning end, 1 roots, 16 extra nodes, 60 pruned nodes, max_depth=8\u001b[0m\n",
      "\u001b[34m[120]#011train-rmse:0.246068#011validation-rmse:0.316287\u001b[0m\n",
      "\u001b[34m[01:03:40] src/tree/updater_prune.cc:74: tree pruning end, 1 roots, 22 extra nodes, 72 pruned nodes, max_depth=11\u001b[0m\n",
      "\u001b[34m[121]#011train-rmse:0.245592#011validation-rmse:0.315886\u001b[0m\n",
      "\u001b[34m[01:03:43] src/tree/updater_prune.cc:74: tree pruning end, 1 roots, 20 extra nodes, 36 pruned nodes, max_depth=10\u001b[0m\n",
      "\u001b[34m[122]#011train-rmse:0.245208#011validation-rmse:0.315921\u001b[0m\n",
      "\u001b[34m[01:03:46] src/tree/updater_prune.cc:74: tree pruning end, 1 roots, 36 extra nodes, 88 pruned nodes, max_depth=11\u001b[0m\n",
      "\u001b[34m[123]#011train-rmse:0.244374#011validation-rmse:0.315796\u001b[0m\n",
      "\u001b[34m[01:03:49] src/tree/updater_prune.cc:74: tree pruning end, 1 roots, 24 extra nodes, 28 pruned nodes, max_depth=10\u001b[0m\n",
      "\u001b[34m[124]#011train-rmse:0.244031#011validation-rmse:0.315333\u001b[0m\n",
      "\u001b[34m[01:03:52] src/tree/updater_prune.cc:74: tree pruning end, 1 roots, 22 extra nodes, 58 pruned nodes, max_depth=11\u001b[0m\n",
      "\u001b[34m[125]#011train-rmse:0.243634#011validation-rmse:0.315228\u001b[0m\n",
      "\u001b[34m[01:03:55] src/tree/updater_prune.cc:74: tree pruning end, 1 roots, 20 extra nodes, 64 pruned nodes, max_depth=10\u001b[0m\n",
      "\u001b[34m[126]#011train-rmse:0.243205#011validation-rmse:0.315135\u001b[0m\n",
      "\u001b[34m[01:03:58] src/tree/updater_prune.cc:74: tree pruning end, 1 roots, 22 extra nodes, 84 pruned nodes, max_depth=11\u001b[0m\n",
      "\u001b[34m[127]#011train-rmse:0.242812#011validation-rmse:0.314816\u001b[0m\n",
      "\u001b[34m[01:04:01] src/tree/updater_prune.cc:74: tree pruning end, 1 roots, 22 extra nodes, 34 pruned nodes, max_depth=11\u001b[0m\n",
      "\u001b[34m[128]#011train-rmse:0.242496#011validation-rmse:0.31462\u001b[0m\n",
      "\u001b[34m[01:04:03] src/tree/updater_prune.cc:74: tree pruning end, 1 roots, 16 extra nodes, 44 pruned nodes, max_depth=8\u001b[0m\n",
      "\u001b[34m[129]#011train-rmse:0.242182#011validation-rmse:0.314496\u001b[0m\n",
      "\u001b[34m[01:04:06] src/tree/updater_prune.cc:74: tree pruning end, 1 roots, 24 extra nodes, 74 pruned nodes, max_depth=11\u001b[0m\n",
      "\u001b[34m[130]#011train-rmse:0.241802#011validation-rmse:0.314379\u001b[0m\n",
      "\u001b[34m[01:04:09] src/tree/updater_prune.cc:74: tree pruning end, 1 roots, 20 extra nodes, 48 pruned nodes, max_depth=10\u001b[0m\n",
      "\u001b[34m[131]#011train-rmse:0.241534#011validation-rmse:0.314179\u001b[0m\n",
      "\u001b[34m[01:04:12] src/tree/updater_prune.cc:74: tree pruning end, 1 roots, 22 extra nodes, 82 pruned nodes, max_depth=11\u001b[0m\n",
      "\u001b[34m[132]#011train-rmse:0.241148#011validation-rmse:0.314018\u001b[0m\n",
      "\u001b[34m[01:04:15] src/tree/updater_prune.cc:74: tree pruning end, 1 roots, 16 extra nodes, 62 pruned nodes, max_depth=8\u001b[0m\n",
      "\u001b[34m[133]#011train-rmse:0.240946#011validation-rmse:0.314046\u001b[0m\n",
      "\u001b[34m[01:04:18] src/tree/updater_prune.cc:74: tree pruning end, 1 roots, 2 extra nodes, 78 pruned nodes, max_depth=1\u001b[0m\n",
      "\u001b[34m[134]#011train-rmse:0.240929#011validation-rmse:0.314038\u001b[0m\n",
      "\u001b[34m[01:04:21] src/tree/updater_prune.cc:74: tree pruning end, 1 roots, 22 extra nodes, 50 pruned nodes, max_depth=11\u001b[0m\n",
      "\u001b[34m[135]#011train-rmse:0.240473#011validation-rmse:0.314019\u001b[0m\n",
      "\u001b[34m[01:04:24] src/tree/updater_prune.cc:74: tree pruning end, 1 roots, 6 extra nodes, 98 pruned nodes, max_depth=3\u001b[0m\n",
      "\u001b[34m[136]#011train-rmse:0.240388#011validation-rmse:0.313852\u001b[0m\n",
      "\u001b[34m[01:04:27] src/tree/updater_prune.cc:74: tree pruning end, 1 roots, 20 extra nodes, 98 pruned nodes, max_depth=8\u001b[0m\n",
      "\u001b[34m[137]#011train-rmse:0.240034#011validation-rmse:0.313804\u001b[0m\n",
      "\u001b[34m[01:04:30] src/tree/updater_prune.cc:74: tree pruning end, 1 roots, 0 extra nodes, 36 pruned nodes, max_depth=0\u001b[0m\n",
      "\u001b[34m[138]#011train-rmse:0.240039#011validation-rmse:0.313801\u001b[0m\n",
      "\u001b[34m[01:04:33] src/tree/updater_prune.cc:74: tree pruning end, 1 roots, 8 extra nodes, 64 pruned nodes, max_depth=4\u001b[0m\n",
      "\u001b[34m[139]#011train-rmse:0.239894#011validation-rmse:0.313727\u001b[0m\n",
      "\u001b[34m[01:04:36] src/tree/updater_prune.cc:74: tree pruning end, 1 roots, 24 extra nodes, 116 pruned nodes, max_depth=10\u001b[0m\n",
      "\u001b[34m[140]#011train-rmse:0.239453#011validation-rmse:0.31357\u001b[0m\n",
      "\u001b[34m[01:04:39] src/tree/updater_prune.cc:74: tree pruning end, 1 roots, 20 extra nodes, 36 pruned nodes, max_depth=10\u001b[0m\n",
      "\u001b[34m[141]#011train-rmse:0.239139#011validation-rmse:0.31348\u001b[0m\n",
      "\u001b[34m[01:04:42] src/tree/updater_prune.cc:74: tree pruning end, 1 roots, 18 extra nodes, 54 pruned nodes, max_depth=8\u001b[0m\n",
      "\u001b[34m[142]#011train-rmse:0.238915#011validation-rmse:0.313385\u001b[0m\n",
      "\u001b[34m[01:04:45] src/tree/updater_prune.cc:74: tree pruning end, 1 roots, 0 extra nodes, 32 pruned nodes, max_depth=0\u001b[0m\n",
      "\u001b[34m[143]#011train-rmse:0.238915#011validation-rmse:0.313385\u001b[0m\n",
      "\u001b[34m[01:04:48] src/tree/updater_prune.cc:74: tree pruning end, 1 roots, 2 extra nodes, 86 pruned nodes, max_depth=1\u001b[0m\n",
      "\u001b[34m[144]#011train-rmse:0.238894#011validation-rmse:0.313384\u001b[0m\n",
      "\u001b[34m[01:04:51] src/tree/updater_prune.cc:74: tree pruning end, 1 roots, 20 extra nodes, 66 pruned nodes, max_depth=10\u001b[0m\n",
      "\u001b[34m[145]#011train-rmse:0.238562#011validation-rmse:0.313265\u001b[0m\n",
      "\u001b[34m[01:04:54] src/tree/updater_prune.cc:74: tree pruning end, 1 roots, 18 extra nodes, 110 pruned nodes, max_depth=9\u001b[0m\n",
      "\u001b[34m[146]#011train-rmse:0.238268#011validation-rmse:0.313245\u001b[0m\n",
      "\u001b[34m[01:04:57] src/tree/updater_prune.cc:74: tree pruning end, 1 roots, 0 extra nodes, 68 pruned nodes, max_depth=0\u001b[0m\n",
      "\u001b[34m[147]#011train-rmse:0.238278#011validation-rmse:0.313241\u001b[0m\n",
      "\u001b[34m[01:05:00] src/tree/updater_prune.cc:74: tree pruning end, 1 roots, 12 extra nodes, 60 pruned nodes, max_depth=6\u001b[0m\n",
      "\u001b[34m[148]#011train-rmse:0.238115#011validation-rmse:0.313204\u001b[0m\n",
      "\u001b[34m[01:05:03] src/tree/updater_prune.cc:74: tree pruning end, 1 roots, 22 extra nodes, 108 pruned nodes, max_depth=9\u001b[0m\n",
      "\u001b[34m[149]#011train-rmse:0.237718#011validation-rmse:0.312888\u001b[0m\n",
      "\u001b[34m[01:05:06] src/tree/updater_prune.cc:74: tree pruning end, 1 roots, 20 extra nodes, 60 pruned nodes, max_depth=8\u001b[0m\n",
      "\u001b[34m[150]#011train-rmse:0.237293#011validation-rmse:0.312789\u001b[0m\n",
      "\u001b[34m[01:05:09] src/tree/updater_prune.cc:74: tree pruning end, 1 roots, 20 extra nodes, 54 pruned nodes, max_depth=9\u001b[0m\n",
      "\u001b[34m[151]#011train-rmse:0.237#011validation-rmse:0.31257\u001b[0m\n",
      "\u001b[34m[01:05:12] src/tree/updater_prune.cc:74: tree pruning end, 1 roots, 0 extra nodes, 58 pruned nodes, max_depth=0\u001b[0m\n",
      "\u001b[34m[152]#011train-rmse:0.236998#011validation-rmse:0.312571\u001b[0m\n",
      "\u001b[34m[01:05:15] src/tree/updater_prune.cc:74: tree pruning end, 1 roots, 0 extra nodes, 72 pruned nodes, max_depth=0\u001b[0m\n",
      "\u001b[34m[153]#011train-rmse:0.237#011validation-rmse:0.312569\u001b[0m\n",
      "\u001b[34m[01:05:18] src/tree/updater_prune.cc:74: tree pruning end, 1 roots, 14 extra nodes, 104 pruned nodes, max_depth=6\u001b[0m\n",
      "\u001b[34m[154]#011train-rmse:0.236834#011validation-rmse:0.312446\u001b[0m\n",
      "\u001b[34m[01:05:21] src/tree/updater_prune.cc:74: tree pruning end, 1 roots, 18 extra nodes, 56 pruned nodes, max_depth=9\u001b[0m\n",
      "\u001b[34m[155]#011train-rmse:0.236521#011validation-rmse:0.312262\u001b[0m\n",
      "\u001b[34m[01:05:24] src/tree/updater_prune.cc:74: tree pruning end, 1 roots, 4 extra nodes, 34 pruned nodes, max_depth=2\u001b[0m\n",
      "\u001b[34m[156]#011train-rmse:0.236463#011validation-rmse:0.312219\u001b[0m\n",
      "\u001b[34m[01:05:27] src/tree/updater_prune.cc:74: tree pruning end, 1 roots, 20 extra nodes, 92 pruned nodes, max_depth=10\u001b[0m\n",
      "\u001b[34m[157]#011train-rmse:0.23607#011validation-rmse:0.312225\u001b[0m\n",
      "\u001b[34m[01:05:30] src/tree/updater_prune.cc:74: tree pruning end, 1 roots, 8 extra nodes, 98 pruned nodes, max_depth=3\u001b[0m\n",
      "\u001b[34m[158]#011train-rmse:0.235903#011validation-rmse:0.312013\u001b[0m\n",
      "\u001b[34m[01:05:33] src/tree/updater_prune.cc:74: tree pruning end, 1 roots, 8 extra nodes, 64 pruned nodes, max_depth=4\u001b[0m\n",
      "\u001b[34m[159]#011train-rmse:0.235791#011validation-rmse:0.312019\u001b[0m\n",
      "\u001b[34m[01:05:36] src/tree/updater_prune.cc:74: tree pruning end, 1 roots, 0 extra nodes, 52 pruned nodes, max_depth=0\u001b[0m\n",
      "\u001b[34m[160]#011train-rmse:0.235791#011validation-rmse:0.312019\u001b[0m\n",
      "\u001b[34m[01:05:39] src/tree/updater_prune.cc:74: tree pruning end, 1 roots, 22 extra nodes, 68 pruned nodes, max_depth=11\u001b[0m\n",
      "\u001b[34m[161]#011train-rmse:0.235347#011validation-rmse:0.312034\u001b[0m\n",
      "\u001b[34m[01:05:42] src/tree/updater_prune.cc:74: tree pruning end, 1 roots, 0 extra nodes, 76 pruned nodes, max_depth=0\u001b[0m\n",
      "\u001b[34m[162]#011train-rmse:0.235354#011validation-rmse:0.312031\u001b[0m\n",
      "\u001b[34m[01:05:45] src/tree/updater_prune.cc:74: tree pruning end, 1 roots, 16 extra nodes, 42 pruned nodes, max_depth=8\u001b[0m\n",
      "\u001b[34m[163]#011train-rmse:0.235124#011validation-rmse:0.311959\u001b[0m\n",
      "\u001b[34m[01:05:48] src/tree/updater_prune.cc:74: tree pruning end, 1 roots, 6 extra nodes, 50 pruned nodes, max_depth=3\u001b[0m\n",
      "\u001b[34m[164]#011train-rmse:0.235008#011validation-rmse:0.311931\u001b[0m\n",
      "\u001b[34m[01:05:51] src/tree/updater_prune.cc:74: tree pruning end, 1 roots, 0 extra nodes, 56 pruned nodes, max_depth=0\u001b[0m\n",
      "\u001b[34m[165]#011train-rmse:0.235007#011validation-rmse:0.311932\u001b[0m\n",
      "\u001b[34m[01:05:54] src/tree/updater_prune.cc:74: tree pruning end, 1 roots, 0 extra nodes, 36 pruned nodes, max_depth=0\u001b[0m\n",
      "\u001b[34m[166]#011train-rmse:0.235002#011validation-rmse:0.311935\u001b[0m\n",
      "\u001b[34m[01:05:57] src/tree/updater_prune.cc:74: tree pruning end, 1 roots, 16 extra nodes, 66 pruned nodes, max_depth=8\u001b[0m\n",
      "\u001b[34m[167]#011train-rmse:0.234749#011validation-rmse:0.311736\u001b[0m\n",
      "\u001b[34m[01:06:00] src/tree/updater_prune.cc:74: tree pruning end, 1 roots, 16 extra nodes, 78 pruned nodes, max_depth=8\u001b[0m\n",
      "\u001b[34m[168]#011train-rmse:0.234541#011validation-rmse:0.311546\u001b[0m\n",
      "\u001b[34m[01:06:03] src/tree/updater_prune.cc:74: tree pruning end, 1 roots, 6 extra nodes, 84 pruned nodes, max_depth=3\u001b[0m\n",
      "\u001b[34m[169]#011train-rmse:0.234428#011validation-rmse:0.311404\u001b[0m\n",
      "\u001b[34m[01:06:06] src/tree/updater_prune.cc:74: tree pruning end, 1 roots, 12 extra nodes, 86 pruned nodes, max_depth=5\u001b[0m\n",
      "\u001b[34m[170]#011train-rmse:0.234199#011validation-rmse:0.311464\u001b[0m\n",
      "\u001b[34m[01:06:09] src/tree/updater_prune.cc:74: tree pruning end, 1 roots, 22 extra nodes, 70 pruned nodes, max_depth=11\u001b[0m\n",
      "\u001b[34m[171]#011train-rmse:0.233836#011validation-rmse:0.311397\u001b[0m\n",
      "\u001b[34m[01:06:12] src/tree/updater_prune.cc:74: tree pruning end, 1 roots, 0 extra nodes, 76 pruned nodes, max_depth=0\u001b[0m\n",
      "\u001b[34m[172]#011train-rmse:0.23383#011validation-rmse:0.3114\u001b[0m\n",
      "\u001b[34m[01:06:14] src/tree/updater_prune.cc:74: tree pruning end, 1 roots, 0 extra nodes, 78 pruned nodes, max_depth=0\u001b[0m\n",
      "\u001b[34m[173]#011train-rmse:0.233827#011validation-rmse:0.311401\u001b[0m\n",
      "\u001b[34m[01:06:17] src/tree/updater_prune.cc:74: tree pruning end, 1 roots, 18 extra nodes, 44 pruned nodes, max_depth=9\u001b[0m\n",
      "\u001b[34m[174]#011train-rmse:0.233479#011validation-rmse:0.311294\u001b[0m\n",
      "\u001b[34m[01:06:20] src/tree/updater_prune.cc:74: tree pruning end, 1 roots, 18 extra nodes, 60 pruned nodes, max_depth=9\u001b[0m\n",
      "\u001b[34m[175]#011train-rmse:0.233208#011validation-rmse:0.311229\u001b[0m\n",
      "\u001b[34m[01:06:23] src/tree/updater_prune.cc:74: tree pruning end, 1 roots, 12 extra nodes, 52 pruned nodes, max_depth=6\u001b[0m\n",
      "\u001b[34m[176]#011train-rmse:0.233004#011validation-rmse:0.311165\u001b[0m\n",
      "\u001b[34m[01:06:26] src/tree/updater_prune.cc:74: tree pruning end, 1 roots, 2 extra nodes, 66 pruned nodes, max_depth=1\u001b[0m\n",
      "\u001b[34m[177]#011train-rmse:0.232983#011validation-rmse:0.311174\u001b[0m\n",
      "\u001b[34m[01:06:29] src/tree/updater_prune.cc:74: tree pruning end, 1 roots, 0 extra nodes, 54 pruned nodes, max_depth=0\u001b[0m\n",
      "\u001b[34m[178]#011train-rmse:0.232985#011validation-rmse:0.311173\u001b[0m\n",
      "\u001b[34m[01:06:32] src/tree/updater_prune.cc:74: tree pruning end, 1 roots, 24 extra nodes, 94 pruned nodes, max_depth=10\u001b[0m\n",
      "\u001b[34m[179]#011train-rmse:0.232603#011validation-rmse:0.311034\u001b[0m\n",
      "\u001b[34m[01:06:35] src/tree/updater_prune.cc:74: tree pruning end, 1 roots, 10 extra nodes, 68 pruned nodes, max_depth=5\u001b[0m\n",
      "\u001b[34m[180]#011train-rmse:0.232422#011validation-rmse:0.31094\u001b[0m\n",
      "\u001b[34m[01:06:38] src/tree/updater_prune.cc:74: tree pruning end, 1 roots, 0 extra nodes, 64 pruned nodes, max_depth=0\u001b[0m\n",
      "\u001b[34m[181]#011train-rmse:0.23242#011validation-rmse:0.310941\u001b[0m\n",
      "\u001b[34m[01:06:41] src/tree/updater_prune.cc:74: tree pruning end, 1 roots, 0 extra nodes, 56 pruned nodes, max_depth=0\u001b[0m\n",
      "\u001b[34m[182]#011train-rmse:0.232419#011validation-rmse:0.310942\u001b[0m\n",
      "\u001b[34m[01:06:44] src/tree/updater_prune.cc:74: tree pruning end, 1 roots, 2 extra nodes, 52 pruned nodes, max_depth=1\u001b[0m\n",
      "\u001b[34m[183]#011train-rmse:0.232387#011validation-rmse:0.31095\u001b[0m\n",
      "\u001b[34m[01:06:47] src/tree/updater_prune.cc:74: tree pruning end, 1 roots, 0 extra nodes, 46 pruned nodes, max_depth=0\u001b[0m\n",
      "\u001b[34m[184]#011train-rmse:0.232391#011validation-rmse:0.310949\u001b[0m\n",
      "\u001b[34m[01:06:50] src/tree/updater_prune.cc:74: tree pruning end, 1 roots, 0 extra nodes, 84 pruned nodes, max_depth=0\u001b[0m\n",
      "\u001b[34m[185]#011train-rmse:0.23238#011validation-rmse:0.310953\u001b[0m\n",
      "\u001b[34m[01:06:53] src/tree/updater_prune.cc:74: tree pruning end, 1 roots, 0 extra nodes, 68 pruned nodes, max_depth=0\u001b[0m\n",
      "\u001b[34m[186]#011train-rmse:0.232391#011validation-rmse:0.310949\u001b[0m\n",
      "\u001b[34m[01:06:56] src/tree/updater_prune.cc:74: tree pruning end, 1 roots, 22 extra nodes, 76 pruned nodes, max_depth=11\u001b[0m\n",
      "\u001b[34m[187]#011train-rmse:0.23208#011validation-rmse:0.310881\u001b[0m\n",
      "\u001b[34m[01:06:59] src/tree/updater_prune.cc:74: tree pruning end, 1 roots, 0 extra nodes, 92 pruned nodes, max_depth=0\u001b[0m\n",
      "\u001b[34m[188]#011train-rmse:0.232088#011validation-rmse:0.310879\u001b[0m\n",
      "\u001b[34m[01:07:02] src/tree/updater_prune.cc:74: tree pruning end, 1 roots, 0 extra nodes, 70 pruned nodes, max_depth=0\u001b[0m\n",
      "\u001b[34m[189]#011train-rmse:0.232081#011validation-rmse:0.310881\u001b[0m\n",
      "\u001b[34m[01:07:05] src/tree/updater_prune.cc:74: tree pruning end, 1 roots, 0 extra nodes, 78 pruned nodes, max_depth=0\u001b[0m\n",
      "\u001b[34m[190]#011train-rmse:0.23208#011validation-rmse:0.310881\u001b[0m\n",
      "\u001b[34m[01:07:08] src/tree/updater_prune.cc:74: tree pruning end, 1 roots, 0 extra nodes, 60 pruned nodes, max_depth=0\u001b[0m\n",
      "\u001b[34m[191]#011train-rmse:0.23208#011validation-rmse:0.310881\u001b[0m\n",
      "\u001b[34m[01:07:11] src/tree/updater_prune.cc:74: tree pruning end, 1 roots, 2 extra nodes, 36 pruned nodes, max_depth=1\u001b[0m\n",
      "\u001b[34m[192]#011train-rmse:0.232052#011validation-rmse:0.3109\u001b[0m\n",
      "\u001b[34m[01:07:14] src/tree/updater_prune.cc:74: tree pruning end, 1 roots, 24 extra nodes, 80 pruned nodes, max_depth=11\u001b[0m\n",
      "\u001b[34m[193]#011train-rmse:0.231756#011validation-rmse:0.310755\u001b[0m\n",
      "\u001b[34m[01:07:17] src/tree/updater_prune.cc:74: tree pruning end, 1 roots, 0 extra nodes, 80 pruned nodes, max_depth=0\u001b[0m\n",
      "\u001b[34m[194]#011train-rmse:0.231749#011validation-rmse:0.310758\u001b[0m\n",
      "\u001b[34m[01:07:20] src/tree/updater_prune.cc:74: tree pruning end, 1 roots, 0 extra nodes, 36 pruned nodes, max_depth=0\u001b[0m\n",
      "\u001b[34m[195]#011train-rmse:0.231745#011validation-rmse:0.31076\u001b[0m\n",
      "\u001b[34m[01:07:23] src/tree/updater_prune.cc:74: tree pruning end, 1 roots, 6 extra nodes, 72 pruned nodes, max_depth=3\u001b[0m\n",
      "\u001b[34m[196]#011train-rmse:0.231689#011validation-rmse:0.310691\u001b[0m\n",
      "\u001b[34m[01:07:25] src/tree/updater_prune.cc:74: tree pruning end, 1 roots, 0 extra nodes, 76 pruned nodes, max_depth=0\u001b[0m\n",
      "\u001b[34m[197]#011train-rmse:0.231691#011validation-rmse:0.310689\u001b[0m\n",
      "\u001b[34m[01:07:28] src/tree/updater_prune.cc:74: tree pruning end, 1 roots, 20 extra nodes, 74 pruned nodes, max_depth=10\u001b[0m\n",
      "\u001b[34m[198]#011train-rmse:0.231423#011validation-rmse:0.310797\u001b[0m\n",
      "\u001b[34m[01:07:31] src/tree/updater_prune.cc:74: tree pruning end, 1 roots, 22 extra nodes, 52 pruned nodes, max_depth=11\u001b[0m\n",
      "\u001b[34m[199]#011train-rmse:0.231084#011validation-rmse:0.310755\u001b[0m\n"
     ]
    },
    {
     "name": "stdout",
     "output_type": "stream",
     "text": [
      "Training seconds: 694\n",
      "Billable seconds: 694\n"
     ]
    }
   ],
   "source": [
    "# TODO: Create a new estimator object attached to the best training job found during hyperparameter tuning\n",
    "\n",
    "xgb_attached = sagemaker.estimator.Estimator.attach(xgb_hyperparameter_tuner.best_training_job())\n"
   ]
  },
  {
   "cell_type": "markdown",
   "metadata": {},
   "source": [
    "Now that we have an estimator object attached to the correct training job, we can proceed as we normally would and create a transformer object."
   ]
  },
  {
   "cell_type": "code",
   "execution_count": null,
   "metadata": {},
   "outputs": [
    {
     "name": "stderr",
     "output_type": "stream",
     "text": [
      "Parameter image will be renamed to image_uri in SageMaker Python SDK v2.\n"
     ]
    }
   ],
   "source": [
    "# TODO: Create a transformer object from the attached estimator. Using an instance count of 1 and an instance type of ml.m4.xlarge\n",
    "#       should be more than enough.\n",
    "\n",
    "xgb_transformer = xgb_attached.transformer(instance_count=1, instance_type='ml.x4.xlarge')\n"
   ]
  },
  {
   "cell_type": "markdown",
   "metadata": {},
   "source": [
    "Next we actually perform the transform job. When doing so we need to make sure to specify the type of data we are sending so that it is serialized correctly in the background. In our case we are providing our model with csv data so we specify `text/csv`. Also, if the test data that we have provided is too large to process all at once then we need to specify how the data file should be split up. Since each line is a single entry in our data set we tell SageMaker that it can split the input on each line."
   ]
  },
  {
   "cell_type": "code",
   "execution_count": null,
   "metadata": {},
   "outputs": [
    {
     "ename": "ClientError",
     "evalue": "An error occurred (ValidationException) when calling the CreateTransformJob operation: 1 validation error detected: Value 'ml.x4.xlarge' at 'transformResources.instanceType' failed to satisfy constraint: Member must satisfy enum value set: [ml.m5.4xlarge, ml.p2.xlarge, ml.m4.16xlarge, ml.m5.large, ml.p3.16xlarge, ml.p2.16xlarge, ml.c4.2xlarge, ml.c5.2xlarge, ml.c4.4xlarge, ml.c5.4xlarge, ml.c4.8xlarge, ml.c5.9xlarge, ml.c5.xlarge, ml.c4.xlarge, ml.c5.18xlarge, ml.p3.2xlarge, ml.m5.xlarge, ml.m4.10xlarge, ml.m5.12xlarge, ml.m4.xlarge, ml.m5.24xlarge, ml.m4.2xlarge, ml.m5.2xlarge, ml.p2.8xlarge, ml.p3.8xlarge, ml.m4.4xlarge]",
     "output_type": "error",
     "traceback": [
      "\u001b[0;31m---------------------------------------------------------------------------\u001b[0m",
      "\u001b[0;31mClientError\u001b[0m                               Traceback (most recent call last)",
      "\u001b[0;32m<ipython-input-27-5962ae3fb746>\u001b[0m in \u001b[0;36m<module>\u001b[0;34m\u001b[0m\n\u001b[1;32m      1\u001b[0m \u001b[0;31m# TODO: Start the transform job. Make sure to specify the content type and the split type of the test data.\u001b[0m\u001b[0;34m\u001b[0m\u001b[0;34m\u001b[0m\u001b[0;34m\u001b[0m\u001b[0m\n\u001b[1;32m      2\u001b[0m \u001b[0;34m\u001b[0m\u001b[0m\n\u001b[0;32m----> 3\u001b[0;31m \u001b[0mxgb_transformer\u001b[0m\u001b[0;34m.\u001b[0m\u001b[0mtransform\u001b[0m\u001b[0;34m(\u001b[0m\u001b[0mtest_location\u001b[0m\u001b[0;34m,\u001b[0m \u001b[0mcontent_type\u001b[0m\u001b[0;34m=\u001b[0m\u001b[0;34m'text/csv'\u001b[0m\u001b[0;34m,\u001b[0m \u001b[0msplit_type\u001b[0m\u001b[0;34m=\u001b[0m\u001b[0;34m'Line'\u001b[0m\u001b[0;34m)\u001b[0m\u001b[0;34m\u001b[0m\u001b[0;34m\u001b[0m\u001b[0m\n\u001b[0m",
      "\u001b[0;32m~/anaconda3/envs/python3/lib/python3.6/site-packages/sagemaker/transformer.py\u001b[0m in \u001b[0;36mtransform\u001b[0;34m(self, data, data_type, content_type, compression_type, split_type, job_name, input_filter, output_filter, join_source, experiment_config, model_client_config, wait, logs)\u001b[0m\n\u001b[1;32m    214\u001b[0m             \u001b[0mjoin_source\u001b[0m\u001b[0;34m,\u001b[0m\u001b[0;34m\u001b[0m\u001b[0;34m\u001b[0m\u001b[0m\n\u001b[1;32m    215\u001b[0m             \u001b[0mexperiment_config\u001b[0m\u001b[0;34m,\u001b[0m\u001b[0;34m\u001b[0m\u001b[0;34m\u001b[0m\u001b[0m\n\u001b[0;32m--> 216\u001b[0;31m             \u001b[0mmodel_client_config\u001b[0m\u001b[0;34m,\u001b[0m\u001b[0;34m\u001b[0m\u001b[0;34m\u001b[0m\u001b[0m\n\u001b[0m\u001b[1;32m    217\u001b[0m         )\n\u001b[1;32m    218\u001b[0m \u001b[0;34m\u001b[0m\u001b[0m\n",
      "\u001b[0;32m~/anaconda3/envs/python3/lib/python3.6/site-packages/sagemaker/transformer.py\u001b[0m in \u001b[0;36mstart_new\u001b[0;34m(cls, transformer, data, data_type, content_type, compression_type, split_type, input_filter, output_filter, join_source, experiment_config, model_client_config)\u001b[0m\n\u001b[1;32m    385\u001b[0m             \u001b[0mmodel_client_config\u001b[0m\u001b[0;34m=\u001b[0m\u001b[0mmodel_client_config\u001b[0m\u001b[0;34m,\u001b[0m\u001b[0;34m\u001b[0m\u001b[0;34m\u001b[0m\u001b[0m\n\u001b[1;32m    386\u001b[0m             \u001b[0mtags\u001b[0m\u001b[0;34m=\u001b[0m\u001b[0mtransformer\u001b[0m\u001b[0;34m.\u001b[0m\u001b[0mtags\u001b[0m\u001b[0;34m,\u001b[0m\u001b[0;34m\u001b[0m\u001b[0;34m\u001b[0m\u001b[0m\n\u001b[0;32m--> 387\u001b[0;31m             \u001b[0mdata_processing\u001b[0m\u001b[0;34m=\u001b[0m\u001b[0mdata_processing\u001b[0m\u001b[0;34m,\u001b[0m\u001b[0;34m\u001b[0m\u001b[0;34m\u001b[0m\u001b[0m\n\u001b[0m\u001b[1;32m    388\u001b[0m         )\n\u001b[1;32m    389\u001b[0m \u001b[0;34m\u001b[0m\u001b[0m\n",
      "\u001b[0;32m~/anaconda3/envs/python3/lib/python3.6/site-packages/sagemaker/session.py\u001b[0m in \u001b[0;36mtransform\u001b[0;34m(self, job_name, model_name, strategy, max_concurrent_transforms, max_payload, env, input_config, output_config, resource_config, experiment_config, tags, data_processing, model_client_config)\u001b[0m\n\u001b[1;32m   2060\u001b[0m         \u001b[0mLOGGER\u001b[0m\u001b[0;34m.\u001b[0m\u001b[0minfo\u001b[0m\u001b[0;34m(\u001b[0m\u001b[0;34m\"Creating transform job with name: %s\"\u001b[0m\u001b[0;34m,\u001b[0m \u001b[0mjob_name\u001b[0m\u001b[0;34m)\u001b[0m\u001b[0;34m\u001b[0m\u001b[0;34m\u001b[0m\u001b[0m\n\u001b[1;32m   2061\u001b[0m         \u001b[0mLOGGER\u001b[0m\u001b[0;34m.\u001b[0m\u001b[0mdebug\u001b[0m\u001b[0;34m(\u001b[0m\u001b[0;34m\"Transform request: %s\"\u001b[0m\u001b[0;34m,\u001b[0m \u001b[0mjson\u001b[0m\u001b[0;34m.\u001b[0m\u001b[0mdumps\u001b[0m\u001b[0;34m(\u001b[0m\u001b[0mtransform_request\u001b[0m\u001b[0;34m,\u001b[0m \u001b[0mindent\u001b[0m\u001b[0;34m=\u001b[0m\u001b[0;36m4\u001b[0m\u001b[0;34m)\u001b[0m\u001b[0;34m)\u001b[0m\u001b[0;34m\u001b[0m\u001b[0;34m\u001b[0m\u001b[0m\n\u001b[0;32m-> 2062\u001b[0;31m         \u001b[0mself\u001b[0m\u001b[0;34m.\u001b[0m\u001b[0msagemaker_client\u001b[0m\u001b[0;34m.\u001b[0m\u001b[0mcreate_transform_job\u001b[0m\u001b[0;34m(\u001b[0m\u001b[0;34m**\u001b[0m\u001b[0mtransform_request\u001b[0m\u001b[0;34m)\u001b[0m\u001b[0;34m\u001b[0m\u001b[0;34m\u001b[0m\u001b[0m\n\u001b[0m\u001b[1;32m   2063\u001b[0m \u001b[0;34m\u001b[0m\u001b[0m\n\u001b[1;32m   2064\u001b[0m     def create_model(\n",
      "\u001b[0;32m~/anaconda3/envs/python3/lib/python3.6/site-packages/botocore/client.py\u001b[0m in \u001b[0;36m_api_call\u001b[0;34m(self, *args, **kwargs)\u001b[0m\n\u001b[1;32m    335\u001b[0m                     \"%s() only accepts keyword arguments.\" % py_operation_name)\n\u001b[1;32m    336\u001b[0m             \u001b[0;31m# The \"self\" in this scope is referring to the BaseClient.\u001b[0m\u001b[0;34m\u001b[0m\u001b[0;34m\u001b[0m\u001b[0;34m\u001b[0m\u001b[0m\n\u001b[0;32m--> 337\u001b[0;31m             \u001b[0;32mreturn\u001b[0m \u001b[0mself\u001b[0m\u001b[0;34m.\u001b[0m\u001b[0m_make_api_call\u001b[0m\u001b[0;34m(\u001b[0m\u001b[0moperation_name\u001b[0m\u001b[0;34m,\u001b[0m \u001b[0mkwargs\u001b[0m\u001b[0;34m)\u001b[0m\u001b[0;34m\u001b[0m\u001b[0;34m\u001b[0m\u001b[0m\n\u001b[0m\u001b[1;32m    338\u001b[0m \u001b[0;34m\u001b[0m\u001b[0m\n\u001b[1;32m    339\u001b[0m         \u001b[0m_api_call\u001b[0m\u001b[0;34m.\u001b[0m\u001b[0m__name__\u001b[0m \u001b[0;34m=\u001b[0m \u001b[0mstr\u001b[0m\u001b[0;34m(\u001b[0m\u001b[0mpy_operation_name\u001b[0m\u001b[0;34m)\u001b[0m\u001b[0;34m\u001b[0m\u001b[0;34m\u001b[0m\u001b[0m\n",
      "\u001b[0;32m~/anaconda3/envs/python3/lib/python3.6/site-packages/botocore/client.py\u001b[0m in \u001b[0;36m_make_api_call\u001b[0;34m(self, operation_name, api_params)\u001b[0m\n\u001b[1;32m    654\u001b[0m             \u001b[0merror_code\u001b[0m \u001b[0;34m=\u001b[0m \u001b[0mparsed_response\u001b[0m\u001b[0;34m.\u001b[0m\u001b[0mget\u001b[0m\u001b[0;34m(\u001b[0m\u001b[0;34m\"Error\"\u001b[0m\u001b[0;34m,\u001b[0m \u001b[0;34m{\u001b[0m\u001b[0;34m}\u001b[0m\u001b[0;34m)\u001b[0m\u001b[0;34m.\u001b[0m\u001b[0mget\u001b[0m\u001b[0;34m(\u001b[0m\u001b[0;34m\"Code\"\u001b[0m\u001b[0;34m)\u001b[0m\u001b[0;34m\u001b[0m\u001b[0;34m\u001b[0m\u001b[0m\n\u001b[1;32m    655\u001b[0m             \u001b[0merror_class\u001b[0m \u001b[0;34m=\u001b[0m \u001b[0mself\u001b[0m\u001b[0;34m.\u001b[0m\u001b[0mexceptions\u001b[0m\u001b[0;34m.\u001b[0m\u001b[0mfrom_code\u001b[0m\u001b[0;34m(\u001b[0m\u001b[0merror_code\u001b[0m\u001b[0;34m)\u001b[0m\u001b[0;34m\u001b[0m\u001b[0;34m\u001b[0m\u001b[0m\n\u001b[0;32m--> 656\u001b[0;31m             \u001b[0;32mraise\u001b[0m \u001b[0merror_class\u001b[0m\u001b[0;34m(\u001b[0m\u001b[0mparsed_response\u001b[0m\u001b[0;34m,\u001b[0m \u001b[0moperation_name\u001b[0m\u001b[0;34m)\u001b[0m\u001b[0;34m\u001b[0m\u001b[0;34m\u001b[0m\u001b[0m\n\u001b[0m\u001b[1;32m    657\u001b[0m         \u001b[0;32melse\u001b[0m\u001b[0;34m:\u001b[0m\u001b[0;34m\u001b[0m\u001b[0;34m\u001b[0m\u001b[0m\n\u001b[1;32m    658\u001b[0m             \u001b[0;32mreturn\u001b[0m \u001b[0mparsed_response\u001b[0m\u001b[0;34m\u001b[0m\u001b[0;34m\u001b[0m\u001b[0m\n",
      "\u001b[0;31mClientError\u001b[0m: An error occurred (ValidationException) when calling the CreateTransformJob operation: 1 validation error detected: Value 'ml.x4.xlarge' at 'transformResources.instanceType' failed to satisfy constraint: Member must satisfy enum value set: [ml.m5.4xlarge, ml.p2.xlarge, ml.m4.16xlarge, ml.m5.large, ml.p3.16xlarge, ml.p2.16xlarge, ml.c4.2xlarge, ml.c5.2xlarge, ml.c4.4xlarge, ml.c5.4xlarge, ml.c4.8xlarge, ml.c5.9xlarge, ml.c5.xlarge, ml.c4.xlarge, ml.c5.18xlarge, ml.p3.2xlarge, ml.m5.xlarge, ml.m4.10xlarge, ml.m5.12xlarge, ml.m4.xlarge, ml.m5.24xlarge, ml.m4.2xlarge, ml.m5.2xlarge, ml.p2.8xlarge, ml.p3.8xlarge, ml.m4.4xlarge]"
     ]
    }
   ],
   "source": [
    "# TODO: Start the transform job. Make sure to specify the content type and the split type of the test data.\n",
    "\n",
    "xgb_transformer.transform(test_location, content_type='text/csv', split_type='Line')"
   ]
  },
  {
   "cell_type": "markdown",
   "metadata": {},
   "source": [
    "Currently the transform job is running but it is doing so in the background. Since we wish to wait until the transform job is done and we would like a bit of feedback we can run the `wait()` method."
   ]
  },
  {
   "cell_type": "code",
   "execution_count": null,
   "metadata": {},
   "outputs": [],
   "source": [
    "xgb_transformer.wait()"
   ]
  },
  {
   "cell_type": "markdown",
   "metadata": {},
   "source": [
    "Now the transform job has executed and the result, the estimated sentiment of each review, has been saved on S3. Since we would rather work on this file locally we can perform a bit of notebook magic to copy the file to the `data_dir`."
   ]
  },
  {
   "cell_type": "code",
   "execution_count": null,
   "metadata": {},
   "outputs": [],
   "source": [
    "!aws s3 cp --recursive $xgb_transformer.output_path $data_dir"
   ]
  },
  {
   "cell_type": "markdown",
   "metadata": {},
   "source": [
    "The last step is now to read in the output from our model, convert the output to something a little more usable, in this case we want the sentiment to be either `1` (positive) or `0` (negative), and then compare to the ground truth labels."
   ]
  },
  {
   "cell_type": "code",
   "execution_count": null,
   "metadata": {},
   "outputs": [],
   "source": [
    "predictions = pd.read_csv(os.path.join(data_dir, 'test.csv.out'), header=None)\n",
    "predictions = [round(num) for num in predictions.squeeze().values]"
   ]
  },
  {
   "cell_type": "code",
   "execution_count": null,
   "metadata": {},
   "outputs": [],
   "source": [
    "from sklearn.metrics import accuracy_score\n",
    "accuracy_score(test_y, predictions)"
   ]
  },
  {
   "cell_type": "markdown",
   "metadata": {},
   "source": [
    "## Optional: Clean up\n",
    "\n",
    "The default notebook instance on SageMaker doesn't have a lot of excess disk space available. As you continue to complete and execute notebooks you will eventually fill up this disk space, leading to errors which can be difficult to diagnose. Once you are completely finished using a notebook it is a good idea to remove the files that you created along the way. Of course, you can do this from the terminal or from the notebook hub if you would like. The cell below contains some commands to clean up the created files from within the notebook."
   ]
  },
  {
   "cell_type": "code",
   "execution_count": null,
   "metadata": {},
   "outputs": [],
   "source": [
    "# First we will remove all of the files contained in the data_dir directory\n",
    "!rm $data_dir/*\n",
    "\n",
    "# And then we delete the directory itself\n",
    "!rmdir $data_dir\n",
    "\n",
    "# Similarly we will remove the files in the cache_dir directory and the directory itself\n",
    "!rm $cache_dir/*\n",
    "!rmdir $cache_dir"
   ]
  },
  {
   "cell_type": "code",
   "execution_count": null,
   "metadata": {},
   "outputs": [],
   "source": []
  }
 ],
 "metadata": {
  "kernelspec": {
   "display_name": "conda_python3",
   "language": "python",
   "name": "conda_python3"
  }
 },
 "nbformat": 4,
 "nbformat_minor": 2
}
