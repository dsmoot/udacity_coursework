{
 "cells": [
  {
   "cell_type": "markdown",
   "metadata": {},
   "source": [
    "# Sentiment Analysis Web App\n",
    "\n",
    "_Deep Learning Nanodegree Program | Deployment_\n",
    "\n",
    "---\n",
    "\n",
    "In this notebook we will use Amazon's SageMaker service to construct a random tree model to predict the sentiment of a movie review. In addition, we will deploy this model to an endpoint and construct a very simple web app which will interact with our model's deployed endpoint.\n",
    "\n",
    "## General Outline\n",
    "\n",
    "Typically, when using a notebook instance with SageMaker, you will proceed through the following steps. Of course, not every step will need to be done with each project. Also, there is quite a lot of room for variation in many of the steps, as you will see throughout these lessons.\n",
    "\n",
    "1. Download or otherwise retrieve the data.\n",
    "2. Process / Prepare the data.\n",
    "3. Upload the processed data to S3.\n",
    "4. Train a chosen model.\n",
    "5. Test the trained model (typically using a batch transform job).\n",
    "6. Deploy the trained model.\n",
    "7. Use the deployed model.\n",
    "\n",
    "In this notebook we will progress through each of the steps above. We will also see that the final step, using the deployed model, can be quite challenging."
   ]
  },
  {
   "cell_type": "markdown",
   "metadata": {},
   "source": [
    "## Step 1: Downloading the data\n",
    "\n",
    "The dataset we are going to use is very popular among researchers in Natural Language Processing, usually referred to as the [IMDb dataset](http://ai.stanford.edu/~amaas/data/sentiment/). It consists of movie reviews from the website [imdb.com](http://www.imdb.com/), each labeled as either '**pos**itive', if the reviewer enjoyed the film, or '**neg**ative' otherwise.\n",
    "\n",
    "> Maas, Andrew L., et al. [Learning Word Vectors for Sentiment Analysis](http://ai.stanford.edu/~amaas/data/sentiment/). In _Proceedings of the 49th Annual Meeting of the Association for Computational Linguistics: Human Language Technologies_. Association for Computational Linguistics, 2011.\n",
    "\n",
    "We begin by using some Jupyter Notebook magic to download and extract the dataset."
   ]
  },
  {
   "cell_type": "code",
   "execution_count": 1,
   "metadata": {},
   "outputs": [
    {
     "name": "stdout",
     "output_type": "stream",
     "text": [
      "mkdir: cannot create directory ‘../data’: File exists\n",
      "--2020-09-23 12:38:45--  http://ai.stanford.edu/~amaas/data/sentiment/aclImdb_v1.tar.gz\n",
      "Resolving ai.stanford.edu (ai.stanford.edu)... 171.64.68.10\n",
      "Connecting to ai.stanford.edu (ai.stanford.edu)|171.64.68.10|:80... connected.\n",
      "HTTP request sent, awaiting response... 200 OK\n",
      "Length: 84125825 (80M) [application/x-gzip]\n",
      "Saving to: ‘../data/aclImdb_v1.tar.gz’\n",
      "\n",
      "../data/aclImdb_v1. 100%[===================>]  80.23M  25.4MB/s    in 3.7s    \n",
      "\n",
      "2020-09-23 12:38:48 (21.8 MB/s) - ‘../data/aclImdb_v1.tar.gz’ saved [84125825/84125825]\n",
      "\n"
     ]
    }
   ],
   "source": [
    "%mkdir ../data\n",
    "!wget -O ../data/aclImdb_v1.tar.gz http://ai.stanford.edu/~amaas/data/sentiment/aclImdb_v1.tar.gz\n",
    "!tar -zxf ../data/aclImdb_v1.tar.gz -C ../data"
   ]
  },
  {
   "cell_type": "markdown",
   "metadata": {},
   "source": [
    "## Step 2: Preparing and Processing the data\n",
    "\n",
    "The data we have downloaded is split into various files, each of which contains a single review. It will be much easier going forward if we combine these individual files into two large files, one for training and one for testing."
   ]
  },
  {
   "cell_type": "code",
   "execution_count": 2,
   "metadata": {},
   "outputs": [],
   "source": [
    "import os\n",
    "import glob\n",
    "\n",
    "def read_imdb_data(data_dir='../data/aclImdb'):\n",
    "    data = {}\n",
    "    labels = {}\n",
    "    \n",
    "    for data_type in ['train', 'test']:\n",
    "        data[data_type] = {}\n",
    "        labels[data_type] = {}\n",
    "        \n",
    "        for sentiment in ['pos', 'neg']:\n",
    "            data[data_type][sentiment] = []\n",
    "            labels[data_type][sentiment] = []\n",
    "            \n",
    "            path = os.path.join(data_dir, data_type, sentiment, '*.txt')\n",
    "            files = glob.glob(path)\n",
    "            \n",
    "            for f in files:\n",
    "                with open(f) as review:\n",
    "                    data[data_type][sentiment].append(review.read())\n",
    "                    # Here we represent a positive review by '1' and a negative review by '0'\n",
    "                    labels[data_type][sentiment].append(1 if sentiment == 'pos' else 0)\n",
    "                    \n",
    "            assert len(data[data_type][sentiment]) == len(labels[data_type][sentiment]), \\\n",
    "                    \"{}/{} data size does not match labels size\".format(data_type, sentiment)\n",
    "                \n",
    "    return data, labels"
   ]
  },
  {
   "cell_type": "code",
   "execution_count": 3,
   "metadata": {},
   "outputs": [
    {
     "name": "stdout",
     "output_type": "stream",
     "text": [
      "IMDB reviews: train = 12500 pos / 12500 neg, test = 12500 pos / 12500 neg\n"
     ]
    }
   ],
   "source": [
    "data, labels = read_imdb_data()\n",
    "print(\"IMDB reviews: train = {} pos / {} neg, test = {} pos / {} neg\".format(\n",
    "            len(data['train']['pos']), len(data['train']['neg']),\n",
    "            len(data['test']['pos']), len(data['test']['neg'])))"
   ]
  },
  {
   "cell_type": "code",
   "execution_count": 4,
   "metadata": {},
   "outputs": [],
   "source": [
    "from sklearn.utils import shuffle\n",
    "\n",
    "def prepare_imdb_data(data, labels):\n",
    "    \"\"\"Prepare training and test sets from IMDb movie reviews.\"\"\"\n",
    "    \n",
    "    #Combine positive and negative reviews and labels\n",
    "    data_train = data['train']['pos'] + data['train']['neg']\n",
    "    data_test = data['test']['pos'] + data['test']['neg']\n",
    "    labels_train = labels['train']['pos'] + labels['train']['neg']\n",
    "    labels_test = labels['test']['pos'] + labels['test']['neg']\n",
    "    \n",
    "    #Shuffle reviews and corresponding labels within training and test sets\n",
    "    data_train, labels_train = shuffle(data_train, labels_train)\n",
    "    data_test, labels_test = shuffle(data_test, labels_test)\n",
    "    \n",
    "    # Return a unified training data, test data, training labels, test labets\n",
    "    return data_train, data_test, labels_train, labels_test"
   ]
  },
  {
   "cell_type": "code",
   "execution_count": 5,
   "metadata": {},
   "outputs": [
    {
     "name": "stdout",
     "output_type": "stream",
     "text": [
      "IMDb reviews (combined): train = 25000, test = 25000\n"
     ]
    }
   ],
   "source": [
    "train_X, test_X, train_y, test_y = prepare_imdb_data(data, labels)\n",
    "print(\"IMDb reviews (combined): train = {}, test = {}\".format(len(train_X), len(test_X)))"
   ]
  },
  {
   "cell_type": "code",
   "execution_count": 6,
   "metadata": {},
   "outputs": [
    {
     "data": {
      "text/plain": [
       "'This movie had so much potential - a strong cast, a reasonably strong idea and clearly a decent budget. I\\'m not sure where it all went wrong, but each of those elements was wasted. The story went nowhere, the characters were hollow to say the least and the result was a very boring, pointless, waste of a film. I hated it. Judging by the other votes, I\\'m in the minority here and must be some sort of freak. However, I thought this movie was dreadful. I had high hopes, but was very disappointed. A particular disappointment was Jody Foster\\'s character. A very cocky \"fixer\" of sorts makes a nice idea. Jody was confident and sexy, but the character did nothing and went nowhere. Denzel Washington played the same character he always plays - enjoyable but nothing new.'"
      ]
     },
     "execution_count": 6,
     "metadata": {},
     "output_type": "execute_result"
    }
   ],
   "source": [
    "train_X[100]"
   ]
  },
  {
   "cell_type": "markdown",
   "metadata": {},
   "source": [
    "## Processing the data\n",
    "\n",
    "Now that we have our training and testing datasets merged and ready to use, we need to start processing the raw data into something that will be useable by our machine learning algorithm. To begin with, we remove any html formatting and any non-alpha numeric characters that may appear in the reviews. We will do this in a very simplistic way using Python's regular expression module. We will discuss the reason for this rather simplistic pre-processing later on."
   ]
  },
  {
   "cell_type": "code",
   "execution_count": 7,
   "metadata": {},
   "outputs": [],
   "source": [
    "import re\n",
    "\n",
    "REPLACE_NO_SPACE = re.compile(\"(\\.)|(\\;)|(\\:)|(\\!)|(\\')|(\\?)|(\\,)|(\\\")|(\\()|(\\))|(\\[)|(\\])\")\n",
    "REPLACE_WITH_SPACE = re.compile(\"(<br\\s*/><br\\s*/>)|(\\-)|(\\/)\")\n",
    "\n",
    "def review_to_words(review):\n",
    "    words = REPLACE_NO_SPACE.sub(\"\", review.lower())\n",
    "    words = REPLACE_WITH_SPACE.sub(\" \", words)\n",
    "    return words"
   ]
  },
  {
   "cell_type": "code",
   "execution_count": 8,
   "metadata": {},
   "outputs": [
    {
     "data": {
      "text/plain": [
       "'this movie had so much potential   a strong cast a reasonably strong idea and clearly a decent budget im not sure where it all went wrong but each of those elements was wasted the story went nowhere the characters were hollow to say the least and the result was a very boring pointless waste of a film i hated it judging by the other votes im in the minority here and must be some sort of freak however i thought this movie was dreadful i had high hopes but was very disappointed a particular disappointment was jody fosters character a very cocky fixer of sorts makes a nice idea jody was confident and sexy but the character did nothing and went nowhere denzel washington played the same character he always plays   enjoyable but nothing new'"
      ]
     },
     "execution_count": 8,
     "metadata": {},
     "output_type": "execute_result"
    }
   ],
   "source": [
    "review_to_words(train_X[100])"
   ]
  },
  {
   "cell_type": "code",
   "execution_count": 9,
   "metadata": {},
   "outputs": [],
   "source": [
    "import pickle\n",
    "\n",
    "cache_dir = os.path.join(\"../cache\", \"sentiment_web_app\")  # where to store cache files\n",
    "os.makedirs(cache_dir, exist_ok=True)  # ensure cache directory exists\n",
    "\n",
    "def preprocess_data(data_train, data_test, labels_train, labels_test,\n",
    "                    cache_dir=cache_dir, cache_file=\"preprocessed_data.pkl\"):\n",
    "    \"\"\"Convert each review to words; read from cache if available.\"\"\"\n",
    "\n",
    "    # If cache_file is not None, try to read from it first\n",
    "    cache_data = None\n",
    "    if cache_file is not None:\n",
    "        try:\n",
    "            with open(os.path.join(cache_dir, cache_file), \"rb\") as f:\n",
    "                cache_data = pickle.load(f)\n",
    "            print(\"Read preprocessed data from cache file:\", cache_file)\n",
    "        except:\n",
    "            pass  # unable to read from cache, but that's okay\n",
    "    \n",
    "    # If cache is missing, then do the heavy lifting\n",
    "    if cache_data is None:\n",
    "        # Preprocess training and test data to obtain words for each review\n",
    "        #words_train = list(map(review_to_words, data_train))\n",
    "        #words_test = list(map(review_to_words, data_test))\n",
    "        words_train = [review_to_words(review) for review in data_train]\n",
    "        words_test = [review_to_words(review) for review in data_test]\n",
    "        \n",
    "        # Write to cache file for future runs\n",
    "        if cache_file is not None:\n",
    "            cache_data = dict(words_train=words_train, words_test=words_test,\n",
    "                              labels_train=labels_train, labels_test=labels_test)\n",
    "            with open(os.path.join(cache_dir, cache_file), \"wb\") as f:\n",
    "                pickle.dump(cache_data, f)\n",
    "            print(\"Wrote preprocessed data to cache file:\", cache_file)\n",
    "    else:\n",
    "        # Unpack data loaded from cache file\n",
    "        words_train, words_test, labels_train, labels_test = (cache_data['words_train'],\n",
    "                cache_data['words_test'], cache_data['labels_train'], cache_data['labels_test'])\n",
    "    \n",
    "    return words_train, words_test, labels_train, labels_test"
   ]
  },
  {
   "cell_type": "code",
   "execution_count": 10,
   "metadata": {},
   "outputs": [
    {
     "name": "stdout",
     "output_type": "stream",
     "text": [
      "Read preprocessed data from cache file: preprocessed_data.pkl\n"
     ]
    }
   ],
   "source": [
    "# Preprocess data\n",
    "train_X, test_X, train_y, test_y = preprocess_data(train_X, test_X, train_y, test_y)"
   ]
  },
  {
   "cell_type": "markdown",
   "metadata": {},
   "source": [
    "### Extract Bag-of-Words features\n",
    "\n",
    "For the model we will be implementing, rather than using the reviews directly, we are going to transform each review into a Bag-of-Words feature representation. Keep in mind that 'in the wild' we will only have access to the training set so our transformer can only use the training set to construct a representation."
   ]
  },
  {
   "cell_type": "code",
   "execution_count": 11,
   "metadata": {},
   "outputs": [],
   "source": [
    "import numpy as np\n",
    "from sklearn.feature_extraction.text import CountVectorizer\n",
    "import joblib\n",
    "# joblib is an enhanced version of pickle that is more efficient for storing NumPy arrays\n",
    "\n",
    "def extract_BoW_features(words_train, words_test, vocabulary_size=3000,\n",
    "                         cache_dir=cache_dir, cache_file=\"bow_features.pkl\"):\n",
    "    \"\"\"Extract Bag-of-Words for a given set of documents, already preprocessed into words.\"\"\"\n",
    "    \n",
    "    # If cache_file is not None, try to read from it first\n",
    "    cache_data = None\n",
    "    if cache_file is not None:\n",
    "        try:\n",
    "            with open(os.path.join(cache_dir, cache_file), \"rb\") as f:\n",
    "                cache_data = joblib.load(f)\n",
    "            print(\"Read features from cache file:\", cache_file)\n",
    "        except:\n",
    "            pass  # unable to read from cache, but that's okay\n",
    "    \n",
    "    # If cache is missing, then do the heavy lifting\n",
    "    if cache_data is None:\n",
    "        # Fit a vectorizer to training documents and use it to transform them\n",
    "        # NOTE: Training documents have already been preprocessed and tokenized into words;\n",
    "        #       pass in dummy functions to skip those steps, e.g. preprocessor=lambda x: x\n",
    "        vectorizer = CountVectorizer(max_features=vocabulary_size)\n",
    "        features_train = vectorizer.fit_transform(words_train).toarray()\n",
    "\n",
    "        # Apply the same vectorizer to transform the test documents (ignore unknown words)\n",
    "        features_test = vectorizer.transform(words_test).toarray()\n",
    "        \n",
    "        # NOTE: Remember to convert the features using .toarray() for a compact representation\n",
    "        \n",
    "        # Write to cache file for future runs (store vocabulary as well)\n",
    "        if cache_file is not None:\n",
    "            vocabulary = vectorizer.vocabulary_\n",
    "            cache_data = dict(features_train=features_train, features_test=features_test,\n",
    "                             vocabulary=vocabulary)\n",
    "            with open(os.path.join(cache_dir, cache_file), \"wb\") as f:\n",
    "                joblib.dump(cache_data, f)\n",
    "            print(\"Wrote features to cache file:\", cache_file)\n",
    "    else:\n",
    "        # Unpack data loaded from cache file\n",
    "        features_train, features_test, vocabulary = (cache_data['features_train'],\n",
    "                cache_data['features_test'], cache_data['vocabulary'])\n",
    "    \n",
    "    # Return both the extracted features as well as the vocabulary\n",
    "    return features_train, features_test, vocabulary"
   ]
  },
  {
   "cell_type": "code",
   "execution_count": 12,
   "metadata": {},
   "outputs": [
    {
     "name": "stdout",
     "output_type": "stream",
     "text": [
      "Read features from cache file: bow_features.pkl\n"
     ]
    }
   ],
   "source": [
    "# Extract Bag of Words features for both training and test datasets\n",
    "train_X, test_X, vocabulary = extract_BoW_features(train_X, test_X)"
   ]
  },
  {
   "cell_type": "code",
   "execution_count": 13,
   "metadata": {},
   "outputs": [
    {
     "data": {
      "text/plain": [
       "5000"
      ]
     },
     "execution_count": 13,
     "metadata": {},
     "output_type": "execute_result"
    }
   ],
   "source": [
    "len(train_X[100])"
   ]
  },
  {
   "cell_type": "markdown",
   "metadata": {},
   "source": [
    "## Step 3: Upload data to S3\n",
    "\n",
    "Now that we have created the feature representation of our training (and testing) data, it is time to start setting up and using the XGBoost classifier provided by SageMaker.\n",
    "\n",
    "### Writing the datasets\n",
    "\n",
    "The XGBoost classifier that we will be using requires the dataset to be written to a file and stored using Amazon S3. To do this, we will start by splitting the training dataset into two parts, the data we will train the model with and a validation set. Then, we will write those datasets to a file locally and then upload the files to S3. In addition, we will write the test set to a file and upload that file to S3. This is so that we can use SageMakers Batch Transform functionality to test our model once we've fit it."
   ]
  },
  {
   "cell_type": "code",
   "execution_count": 14,
   "metadata": {},
   "outputs": [],
   "source": [
    "import pandas as pd\n",
    "\n",
    "# Earlier we shuffled the training dataset so to make things simple we can just assign\n",
    "# the first 10 000 reviews to the validation set and use the remaining reviews for training.\n",
    "val_X = pd.DataFrame(train_X[:10000])\n",
    "train_X = pd.DataFrame(train_X[10000:])\n",
    "\n",
    "val_y = pd.DataFrame(train_y[:10000])\n",
    "train_y = pd.DataFrame(train_y[10000:])"
   ]
  },
  {
   "cell_type": "markdown",
   "metadata": {},
   "source": [
    "The documentation for the XGBoost algorithm in SageMaker requires that the training and validation datasets should contain no headers or index and that the label should occur first for each sample.\n",
    "\n",
    "For more information about this and other algorithms, the SageMaker developer documentation can be found on __[Amazon's website.](https://docs.aws.amazon.com/sagemaker/latest/dg/)__"
   ]
  },
  {
   "cell_type": "code",
   "execution_count": 15,
   "metadata": {},
   "outputs": [],
   "source": [
    "# First we make sure that the local directory in which we'd like to store the training and validation csv files exists.\n",
    "data_dir = '../data/sentiment_web_app'\n",
    "if not os.path.exists(data_dir):\n",
    "    os.makedirs(data_dir)"
   ]
  },
  {
   "cell_type": "code",
   "execution_count": 16,
   "metadata": {},
   "outputs": [],
   "source": [
    "#pd.DataFrame(test_X).to_csv(os.path.join(data_dir, 'test.csv'), header=False, index=False)\n",
    "\n",
    "#pd.concat([val_y, val_X], axis=1).to_csv(os.path.join(data_dir, 'validation.csv'), header=False, index=False)\n",
    "\n",
    "pd.concat([train_y[0:5000], train_X[0:5000]], axis=1).to_csv(os.path.join(data_dir, 'train.csv'), header=False, index=False)\n",
    "pd.concat([train_y[5000:10000], train_X[5000:10000]], axis=1).to_csv(os.path.join(data_dir, 'train.csv'), mode='a', header=False, index=False)\n",
    "pd.concat([train_y[10000:], train_X[10000:]], axis=1).to_csv(os.path.join(data_dir, 'train.csv'), mode='a', header=False, index=False)"
   ]
  },
  {
   "cell_type": "code",
   "execution_count": 17,
   "metadata": {},
   "outputs": [],
   "source": [
    "# To save a bit of memory we can set text_X, train_X, val_X, train_y and val_y to None.\n",
    "\n",
    "test_X = train_X = val_X = train_y = val_y = None"
   ]
  },
  {
   "cell_type": "markdown",
   "metadata": {},
   "source": [
    "### Uploading Training / Validation files to S3\n",
    "\n",
    "Amazon's S3 service allows us to store files that can be accessed by both the built-in training models such as the XGBoost model we will be using as well as custom models such as the one we will see a little later.\n",
    "\n",
    "For this and most other tasks we will be doing using SageMaker, there are two methods we could use. The first is to use the low level functionality of SageMaker which requires knowing each of the objects involved in the SageMaker environment. The second is to use the high level functionality in which certain choices have been made on the user's behalf. The low level approach benefits from allowing the user a great deal of flexibility while the high level approach makes development much quicker. For our purposes we will opt to use the high level approach although using the low-level approach is certainly an option.\n",
    "\n",
    "Recall the method `upload_data()` which is a member of the object representing our current SageMaker session. What this method does is upload the data to the default bucket (which is created if it does not exist) into the path described by the key_prefix variable. To see this for yourself, once you have uploaded the data files, go to the S3 console and look to see where the files have been uploaded.\n",
    "\n",
    "For additional resources, see the __[SageMaker API documentation](http://sagemaker.readthedocs.io/en/latest/)__ and in addition the __[SageMaker Developer Guide.](https://docs.aws.amazon.com/sagemaker/latest/dg/)__"
   ]
  },
  {
   "cell_type": "code",
   "execution_count": 18,
   "metadata": {},
   "outputs": [],
   "source": [
    "import sagemaker\n",
    "\n",
    "session = sagemaker.Session() # Store the current SageMaker session\n",
    "\n",
    "# S3 prefix (which folder will we use)\n",
    "prefix = 'sentiment-web-app'\n",
    "\n",
    "test_location = session.upload_data(os.path.join(data_dir, 'test.csv'), key_prefix=prefix)\n",
    "val_location = session.upload_data(os.path.join(data_dir, 'validation.csv'), key_prefix=prefix)\n",
    "train_location = session.upload_data(os.path.join(data_dir, 'train.csv'), key_prefix=prefix)"
   ]
  },
  {
   "cell_type": "markdown",
   "metadata": {},
   "source": [
    "## Step 4: Creating the XGBoost model\n",
    "\n",
    "Now that the data has been uploaded it is time to create the XGBoost model. To begin with, we need to do some setup. At this point it is worth discussing what a model is in SageMaker. It is easiest to think of a model of comprising three different objects in the SageMaker ecosystem, which interact with one another.\n",
    "\n",
    "- Model Artifacts\n",
    "- Training Code (Container)\n",
    "- Inference Code (Container)\n",
    "\n",
    "The Model Artifacts are what you might think of as the actual model itself. For example, if you were building a neural network, the model artifacts would be the weights of the various layers. In our case, for an XGBoost model, the artifacts are the actual trees that are created during training.\n",
    "\n",
    "The other two objects, the training code and the inference code are then used to manipulate the training artifacts. More precisely, the training code uses the training data that is provided and creates the model artifacts, while the inference code uses the model artifacts to make predictions on new data.\n",
    "\n",
    "The way that SageMaker runs the training and inference code is by making use of Docker containers. For now, think of a container as being a way of packaging code up so that dependencies aren't an issue."
   ]
  },
  {
   "cell_type": "code",
   "execution_count": 19,
   "metadata": {},
   "outputs": [],
   "source": [
    "from sagemaker import get_execution_role\n",
    "\n",
    "# Our current execution role is required when creating the model as the training\n",
    "# and inference code will need to access the model artifacts.\n",
    "role = get_execution_role()"
   ]
  },
  {
   "cell_type": "code",
   "execution_count": 20,
   "metadata": {},
   "outputs": [
    {
     "name": "stderr",
     "output_type": "stream",
     "text": [
      "'get_image_uri' method will be deprecated in favor of 'ImageURIProvider' class in SageMaker Python SDK v2.\n",
      "There is a more up to date SageMaker XGBoost image. To use the newer image, please set 'repo_version'='1.0-1'. For example:\n",
      "\tget_image_uri(region, 'xgboost', '1.0-1').\n"
     ]
    }
   ],
   "source": [
    "# We need to retrieve the location of the container which is provided by Amazon for using XGBoost.\n",
    "# As a matter of convenience, the training and inference code both use the same container.\n",
    "from sagemaker.amazon.amazon_estimator import get_image_uri\n",
    "\n",
    "container = get_image_uri(session.boto_region_name, 'xgboost')"
   ]
  },
  {
   "cell_type": "code",
   "execution_count": 21,
   "metadata": {},
   "outputs": [
    {
     "name": "stderr",
     "output_type": "stream",
     "text": [
      "Parameter image_name will be renamed to image_uri in SageMaker Python SDK v2.\n"
     ]
    }
   ],
   "source": [
    "# First we create a SageMaker estimator object for our model.\n",
    "xgb = sagemaker.estimator.Estimator(container, # The location of the container we wish to use\n",
    "                                    role,                                    # What is our current IAM Role\n",
    "                                    train_instance_count=1,                  # How many compute instances\n",
    "                                    train_instance_type='ml.m4.xlarge',      # What kind of compute instances\n",
    "                                    output_path='s3://{}/{}/output'.format(session.default_bucket(), prefix),\n",
    "                                    sagemaker_session=session)\n",
    "\n",
    "# And then set the algorithm specific parameters.\n",
    "xgb.set_hyperparameters(max_depth=5,\n",
    "                        eta=0.2,\n",
    "                        gamma=4,\n",
    "                        min_child_weight=6,\n",
    "                        subsample=0.8,\n",
    "                        silent=0,\n",
    "                        objective='binary:logistic',\n",
    "                        early_stopping_rounds=10,\n",
    "                        num_round=500)"
   ]
  },
  {
   "cell_type": "markdown",
   "metadata": {},
   "source": [
    "### Fit the XGBoost model\n",
    "\n",
    "Now that our model has been set up we simply need to attach the training and validation datasets and then ask SageMaker to set up the computation."
   ]
  },
  {
   "cell_type": "code",
   "execution_count": 22,
   "metadata": {},
   "outputs": [
    {
     "name": "stderr",
     "output_type": "stream",
     "text": [
      "'s3_input' class will be renamed to 'TrainingInput' in SageMaker Python SDK v2.\n",
      "'s3_input' class will be renamed to 'TrainingInput' in SageMaker Python SDK v2.\n"
     ]
    }
   ],
   "source": [
    "s3_input_train = sagemaker.s3_input(s3_data=train_location, content_type='csv')\n",
    "s3_input_validation = sagemaker.s3_input(s3_data=val_location, content_type='csv')"
   ]
  },
  {
   "cell_type": "code",
   "execution_count": 23,
   "metadata": {},
   "outputs": [
    {
     "name": "stdout",
     "output_type": "stream",
     "text": [
      "2020-09-23 12:39:55 Starting - Starting the training job...\n",
      "2020-09-23 12:39:57 Starting - Launching requested ML instances......\n",
      "2020-09-23 12:41:21 Starting - Preparing the instances for training......\n",
      "2020-09-23 12:42:13 Downloading - Downloading input data...\n",
      "2020-09-23 12:42:47 Training - Training image download completed. Training in progress.\u001b[34mArguments: train\u001b[0m\n",
      "\u001b[34m[2020-09-23:12:42:48:INFO] Running standalone xgboost training.\u001b[0m\n",
      "\u001b[34m[2020-09-23:12:42:48:INFO] File size need to be processed in the node: 238.5mb. Available memory size in the node: 8468.42mb\u001b[0m\n",
      "\u001b[34m[2020-09-23:12:42:48:INFO] Determined delimiter of CSV input is ','\u001b[0m\n",
      "\u001b[34m[12:42:48] S3DistributionType set as FullyReplicated\u001b[0m\n",
      "\u001b[34m[12:42:50] 15000x5000 matrix with 75000000 entries loaded from /opt/ml/input/data/train?format=csv&label_column=0&delimiter=,\u001b[0m\n",
      "\u001b[34m[2020-09-23:12:42:50:INFO] Determined delimiter of CSV input is ','\u001b[0m\n",
      "\u001b[34m[12:42:50] S3DistributionType set as FullyReplicated\u001b[0m\n",
      "\u001b[34m[12:42:51] 10000x5000 matrix with 50000000 entries loaded from /opt/ml/input/data/validation?format=csv&label_column=0&delimiter=,\u001b[0m\n",
      "\u001b[34m[12:42:54] src/tree/updater_prune.cc:74: tree pruning end, 1 roots, 48 extra nodes, 6 pruned nodes, max_depth=5\u001b[0m\n",
      "\u001b[34m[0]#011train-error:0.308333#011validation-error:0.3065\u001b[0m\n",
      "\u001b[34mMultiple eval metrics have been passed: 'validation-error' will be used for early stopping.\n",
      "\u001b[0m\n",
      "\u001b[34mWill train until validation-error hasn't improved in 10 rounds.\u001b[0m\n",
      "\u001b[34m[12:42:56] src/tree/updater_prune.cc:74: tree pruning end, 1 roots, 34 extra nodes, 6 pruned nodes, max_depth=5\u001b[0m\n",
      "\u001b[34m[1]#011train-error:0.303867#011validation-error:0.3005\u001b[0m\n",
      "\u001b[34m[12:42:57] src/tree/updater_prune.cc:74: tree pruning end, 1 roots, 40 extra nodes, 6 pruned nodes, max_depth=5\u001b[0m\n",
      "\u001b[34m[2]#011train-error:0.284867#011validation-error:0.2855\u001b[0m\n",
      "\u001b[34m[12:42:59] src/tree/updater_prune.cc:74: tree pruning end, 1 roots, 30 extra nodes, 4 pruned nodes, max_depth=5\u001b[0m\n",
      "\u001b[34m[3]#011train-error:0.28#011validation-error:0.2785\u001b[0m\n",
      "\u001b[34m[12:43:00] src/tree/updater_prune.cc:74: tree pruning end, 1 roots, 50 extra nodes, 0 pruned nodes, max_depth=5\u001b[0m\n",
      "\u001b[34m[4]#011train-error:0.269267#011validation-error:0.2707\u001b[0m\n",
      "\u001b[34m[12:43:01] src/tree/updater_prune.cc:74: tree pruning end, 1 roots, 42 extra nodes, 4 pruned nodes, max_depth=5\u001b[0m\n",
      "\u001b[34m[5]#011train-error:0.260467#011validation-error:0.265\u001b[0m\n",
      "\u001b[34m[12:43:03] src/tree/updater_prune.cc:74: tree pruning end, 1 roots, 34 extra nodes, 6 pruned nodes, max_depth=5\u001b[0m\n",
      "\u001b[34m[6]#011train-error:0.251067#011validation-error:0.2587\u001b[0m\n",
      "\u001b[34m[12:43:04] src/tree/updater_prune.cc:74: tree pruning end, 1 roots, 26 extra nodes, 8 pruned nodes, max_depth=5\u001b[0m\n",
      "\u001b[34m[7]#011train-error:0.246#011validation-error:0.2526\u001b[0m\n",
      "\u001b[34m[12:43:05] src/tree/updater_prune.cc:74: tree pruning end, 1 roots, 26 extra nodes, 12 pruned nodes, max_depth=5\u001b[0m\n",
      "\u001b[34m[8]#011train-error:0.238133#011validation-error:0.2459\u001b[0m\n",
      "\u001b[34m[12:43:06] src/tree/updater_prune.cc:74: tree pruning end, 1 roots, 26 extra nodes, 4 pruned nodes, max_depth=5\u001b[0m\n",
      "\u001b[34m[9]#011train-error:0.234667#011validation-error:0.2424\u001b[0m\n",
      "\u001b[34m[12:43:08] src/tree/updater_prune.cc:74: tree pruning end, 1 roots, 36 extra nodes, 8 pruned nodes, max_depth=5\u001b[0m\n",
      "\u001b[34m[10]#011train-error:0.225267#011validation-error:0.2364\u001b[0m\n",
      "\u001b[34m[12:43:09] src/tree/updater_prune.cc:74: tree pruning end, 1 roots, 40 extra nodes, 4 pruned nodes, max_depth=5\u001b[0m\n",
      "\u001b[34m[11]#011train-error:0.2172#011validation-error:0.2324\u001b[0m\n",
      "\u001b[34m[12:43:10] src/tree/updater_prune.cc:74: tree pruning end, 1 roots, 42 extra nodes, 2 pruned nodes, max_depth=5\u001b[0m\n",
      "\u001b[34m[12]#011train-error:0.210467#011validation-error:0.2276\u001b[0m\n",
      "\u001b[34m[12:43:12] src/tree/updater_prune.cc:74: tree pruning end, 1 roots, 36 extra nodes, 4 pruned nodes, max_depth=5\u001b[0m\n",
      "\u001b[34m[13]#011train-error:0.207#011validation-error:0.2236\u001b[0m\n",
      "\u001b[34m[12:43:13] src/tree/updater_prune.cc:74: tree pruning end, 1 roots, 40 extra nodes, 8 pruned nodes, max_depth=5\u001b[0m\n",
      "\u001b[34m[14]#011train-error:0.205267#011validation-error:0.2169\u001b[0m\n",
      "\u001b[34m[12:43:14] src/tree/updater_prune.cc:74: tree pruning end, 1 roots, 26 extra nodes, 6 pruned nodes, max_depth=5\u001b[0m\n",
      "\u001b[34m[15]#011train-error:0.200533#011validation-error:0.2157\u001b[0m\n",
      "\u001b[34m[12:43:15] src/tree/updater_prune.cc:74: tree pruning end, 1 roots, 26 extra nodes, 8 pruned nodes, max_depth=5\u001b[0m\n",
      "\u001b[34m[16]#011train-error:0.195333#011validation-error:0.2128\u001b[0m\n",
      "\u001b[34m[12:43:17] src/tree/updater_prune.cc:74: tree pruning end, 1 roots, 36 extra nodes, 10 pruned nodes, max_depth=5\u001b[0m\n",
      "\u001b[34m[17]#011train-error:0.1934#011validation-error:0.2106\u001b[0m\n",
      "\u001b[34m[12:43:18] src/tree/updater_prune.cc:74: tree pruning end, 1 roots, 38 extra nodes, 4 pruned nodes, max_depth=5\u001b[0m\n",
      "\u001b[34m[18]#011train-error:0.190933#011validation-error:0.2088\u001b[0m\n",
      "\u001b[34m[12:43:19] src/tree/updater_prune.cc:74: tree pruning end, 1 roots, 24 extra nodes, 8 pruned nodes, max_depth=5\u001b[0m\n",
      "\u001b[34m[19]#011train-error:0.188933#011validation-error:0.2064\u001b[0m\n",
      "\u001b[34m[12:43:21] src/tree/updater_prune.cc:74: tree pruning end, 1 roots, 24 extra nodes, 2 pruned nodes, max_depth=5\u001b[0m\n",
      "\u001b[34m[20]#011train-error:0.1854#011validation-error:0.2049\u001b[0m\n",
      "\u001b[34m[12:43:22] src/tree/updater_prune.cc:74: tree pruning end, 1 roots, 24 extra nodes, 10 pruned nodes, max_depth=5\u001b[0m\n",
      "\u001b[34m[21]#011train-error:0.180867#011validation-error:0.2017\u001b[0m\n",
      "\u001b[34m[12:43:23] src/tree/updater_prune.cc:74: tree pruning end, 1 roots, 44 extra nodes, 4 pruned nodes, max_depth=5\u001b[0m\n",
      "\u001b[34m[22]#011train-error:0.178333#011validation-error:0.1992\u001b[0m\n",
      "\u001b[34m[12:43:24] src/tree/updater_prune.cc:74: tree pruning end, 1 roots, 26 extra nodes, 12 pruned nodes, max_depth=5\u001b[0m\n",
      "\u001b[34m[23]#011train-error:0.176467#011validation-error:0.1968\u001b[0m\n",
      "\u001b[34m[12:43:26] src/tree/updater_prune.cc:74: tree pruning end, 1 roots, 26 extra nodes, 8 pruned nodes, max_depth=5\u001b[0m\n",
      "\u001b[34m[24]#011train-error:0.1758#011validation-error:0.1986\u001b[0m\n",
      "\u001b[34m[12:43:27] src/tree/updater_prune.cc:74: tree pruning end, 1 roots, 32 extra nodes, 2 pruned nodes, max_depth=5\u001b[0m\n",
      "\u001b[34m[25]#011train-error:0.1722#011validation-error:0.1959\u001b[0m\n",
      "\u001b[34m[12:43:28] src/tree/updater_prune.cc:74: tree pruning end, 1 roots, 34 extra nodes, 10 pruned nodes, max_depth=5\u001b[0m\n",
      "\u001b[34m[26]#011train-error:0.1708#011validation-error:0.1947\u001b[0m\n",
      "\u001b[34m[12:43:29] src/tree/updater_prune.cc:74: tree pruning end, 1 roots, 20 extra nodes, 6 pruned nodes, max_depth=5\u001b[0m\n",
      "\u001b[34m[27]#011train-error:0.1692#011validation-error:0.1947\u001b[0m\n",
      "\u001b[34m[12:43:31] src/tree/updater_prune.cc:74: tree pruning end, 1 roots, 24 extra nodes, 10 pruned nodes, max_depth=5\u001b[0m\n",
      "\u001b[34m[28]#011train-error:0.1676#011validation-error:0.1927\u001b[0m\n",
      "\u001b[34m[12:43:32] src/tree/updater_prune.cc:74: tree pruning end, 1 roots, 34 extra nodes, 4 pruned nodes, max_depth=5\u001b[0m\n",
      "\u001b[34m[29]#011train-error:0.165333#011validation-error:0.1916\u001b[0m\n",
      "\u001b[34m[12:43:33] src/tree/updater_prune.cc:74: tree pruning end, 1 roots, 28 extra nodes, 12 pruned nodes, max_depth=5\u001b[0m\n",
      "\u001b[34m[30]#011train-error:0.164867#011validation-error:0.1906\u001b[0m\n",
      "\u001b[34m[12:43:35] src/tree/updater_prune.cc:74: tree pruning end, 1 roots, 38 extra nodes, 4 pruned nodes, max_depth=5\u001b[0m\n",
      "\u001b[34m[31]#011train-error:0.162733#011validation-error:0.1892\u001b[0m\n",
      "\u001b[34m[12:43:36] src/tree/updater_prune.cc:74: tree pruning end, 1 roots, 26 extra nodes, 8 pruned nodes, max_depth=5\u001b[0m\n",
      "\u001b[34m[32]#011train-error:0.161533#011validation-error:0.1884\u001b[0m\n",
      "\u001b[34m[12:43:37] src/tree/updater_prune.cc:74: tree pruning end, 1 roots, 20 extra nodes, 12 pruned nodes, max_depth=5\u001b[0m\n",
      "\u001b[34m[33]#011train-error:0.161067#011validation-error:0.1875\u001b[0m\n",
      "\u001b[34m[12:43:38] src/tree/updater_prune.cc:74: tree pruning end, 1 roots, 34 extra nodes, 0 pruned nodes, max_depth=5\u001b[0m\n",
      "\u001b[34m[34]#011train-error:0.158467#011validation-error:0.1865\u001b[0m\n",
      "\u001b[34m[12:43:40] src/tree/updater_prune.cc:74: tree pruning end, 1 roots, 24 extra nodes, 8 pruned nodes, max_depth=5\u001b[0m\n",
      "\u001b[34m[35]#011train-error:0.1574#011validation-error:0.1851\u001b[0m\n",
      "\u001b[34m[12:43:41] src/tree/updater_prune.cc:74: tree pruning end, 1 roots, 28 extra nodes, 10 pruned nodes, max_depth=5\u001b[0m\n",
      "\u001b[34m[36]#011train-error:0.156#011validation-error:0.1841\u001b[0m\n",
      "\u001b[34m[12:43:42] src/tree/updater_prune.cc:74: tree pruning end, 1 roots, 42 extra nodes, 10 pruned nodes, max_depth=5\u001b[0m\n",
      "\u001b[34m[37]#011train-error:0.154733#011validation-error:0.181\u001b[0m\n",
      "\u001b[34m[12:43:43] src/tree/updater_prune.cc:74: tree pruning end, 1 roots, 18 extra nodes, 8 pruned nodes, max_depth=5\u001b[0m\n",
      "\u001b[34m[38]#011train-error:0.1538#011validation-error:0.1797\u001b[0m\n",
      "\u001b[34m[12:43:45] src/tree/updater_prune.cc:74: tree pruning end, 1 roots, 16 extra nodes, 12 pruned nodes, max_depth=5\u001b[0m\n",
      "\u001b[34m[39]#011train-error:0.1534#011validation-error:0.1791\u001b[0m\n",
      "\u001b[34m[12:43:46] src/tree/updater_prune.cc:74: tree pruning end, 1 roots, 36 extra nodes, 4 pruned nodes, max_depth=5\u001b[0m\n",
      "\u001b[34m[40]#011train-error:0.1514#011validation-error:0.1773\u001b[0m\n",
      "\u001b[34m[12:43:47] src/tree/updater_prune.cc:74: tree pruning end, 1 roots, 22 extra nodes, 14 pruned nodes, max_depth=5\u001b[0m\n",
      "\u001b[34m[41]#011train-error:0.1498#011validation-error:0.1759\u001b[0m\n",
      "\u001b[34m[12:43:48] src/tree/updater_prune.cc:74: tree pruning end, 1 roots, 16 extra nodes, 8 pruned nodes, max_depth=5\u001b[0m\n",
      "\u001b[34m[42]#011train-error:0.1486#011validation-error:0.1754\u001b[0m\n",
      "\u001b[34m[12:43:50] src/tree/updater_prune.cc:74: tree pruning end, 1 roots, 16 extra nodes, 8 pruned nodes, max_depth=5\u001b[0m\n",
      "\u001b[34m[43]#011train-error:0.148#011validation-error:0.1745\u001b[0m\n"
     ]
    },
    {
     "name": "stdout",
     "output_type": "stream",
     "text": [
      "\u001b[34m[12:43:51] src/tree/updater_prune.cc:74: tree pruning end, 1 roots, 24 extra nodes, 20 pruned nodes, max_depth=5\u001b[0m\n",
      "\u001b[34m[44]#011train-error:0.147667#011validation-error:0.1742\u001b[0m\n",
      "\u001b[34m[12:43:52] src/tree/updater_prune.cc:74: tree pruning end, 1 roots, 20 extra nodes, 8 pruned nodes, max_depth=5\u001b[0m\n",
      "\u001b[34m[45]#011train-error:0.1466#011validation-error:0.1736\u001b[0m\n",
      "\u001b[34m[12:43:54] src/tree/updater_prune.cc:74: tree pruning end, 1 roots, 32 extra nodes, 10 pruned nodes, max_depth=5\u001b[0m\n",
      "\u001b[34m[46]#011train-error:0.144733#011validation-error:0.173\u001b[0m\n",
      "\u001b[34m[12:43:55] src/tree/updater_prune.cc:74: tree pruning end, 1 roots, 24 extra nodes, 16 pruned nodes, max_depth=5\u001b[0m\n",
      "\u001b[34m[47]#011train-error:0.143067#011validation-error:0.1728\u001b[0m\n",
      "\u001b[34m[12:43:56] src/tree/updater_prune.cc:74: tree pruning end, 1 roots, 20 extra nodes, 12 pruned nodes, max_depth=5\u001b[0m\n",
      "\u001b[34m[48]#011train-error:0.1424#011validation-error:0.1739\u001b[0m\n",
      "\u001b[34m[12:43:57] src/tree/updater_prune.cc:74: tree pruning end, 1 roots, 24 extra nodes, 0 pruned nodes, max_depth=5\u001b[0m\n",
      "\u001b[34m[49]#011train-error:0.1408#011validation-error:0.1735\u001b[0m\n",
      "\u001b[34m[12:43:59] src/tree/updater_prune.cc:74: tree pruning end, 1 roots, 18 extra nodes, 14 pruned nodes, max_depth=5\u001b[0m\n",
      "\u001b[34m[50]#011train-error:0.139333#011validation-error:0.173\u001b[0m\n",
      "\u001b[34m[12:44:00] src/tree/updater_prune.cc:74: tree pruning end, 1 roots, 16 extra nodes, 8 pruned nodes, max_depth=5\u001b[0m\n",
      "\u001b[34m[51]#011train-error:0.138667#011validation-error:0.1714\u001b[0m\n",
      "\u001b[34m[12:44:01] src/tree/updater_prune.cc:74: tree pruning end, 1 roots, 26 extra nodes, 6 pruned nodes, max_depth=5\u001b[0m\n",
      "\u001b[34m[52]#011train-error:0.136933#011validation-error:0.1703\u001b[0m\n",
      "\u001b[34m[12:44:02] src/tree/updater_prune.cc:74: tree pruning end, 1 roots, 26 extra nodes, 10 pruned nodes, max_depth=5\u001b[0m\n",
      "\u001b[34m[53]#011train-error:0.1356#011validation-error:0.1682\u001b[0m\n",
      "\u001b[34m[12:44:04] src/tree/updater_prune.cc:74: tree pruning end, 1 roots, 26 extra nodes, 6 pruned nodes, max_depth=5\u001b[0m\n",
      "\u001b[34m[54]#011train-error:0.133667#011validation-error:0.1691\u001b[0m\n",
      "\u001b[34m[12:44:05] src/tree/updater_prune.cc:74: tree pruning end, 1 roots, 26 extra nodes, 12 pruned nodes, max_depth=5\u001b[0m\n",
      "\u001b[34m[55]#011train-error:0.1332#011validation-error:0.1686\u001b[0m\n",
      "\u001b[34m[12:44:06] src/tree/updater_prune.cc:74: tree pruning end, 1 roots, 18 extra nodes, 4 pruned nodes, max_depth=5\u001b[0m\n",
      "\u001b[34m[56]#011train-error:0.1318#011validation-error:0.1676\u001b[0m\n",
      "\u001b[34m[12:44:07] src/tree/updater_prune.cc:74: tree pruning end, 1 roots, 30 extra nodes, 10 pruned nodes, max_depth=5\u001b[0m\n",
      "\u001b[34m[57]#011train-error:0.1312#011validation-error:0.1661\u001b[0m\n",
      "\u001b[34m[12:44:09] src/tree/updater_prune.cc:74: tree pruning end, 1 roots, 22 extra nodes, 2 pruned nodes, max_depth=5\u001b[0m\n",
      "\u001b[34m[58]#011train-error:0.1314#011validation-error:0.1656\u001b[0m\n",
      "\u001b[34m[12:44:10] src/tree/updater_prune.cc:74: tree pruning end, 1 roots, 20 extra nodes, 16 pruned nodes, max_depth=5\u001b[0m\n",
      "\u001b[34m[59]#011train-error:0.1302#011validation-error:0.165\u001b[0m\n",
      "\u001b[34m[12:44:11] src/tree/updater_prune.cc:74: tree pruning end, 1 roots, 14 extra nodes, 14 pruned nodes, max_depth=5\u001b[0m\n",
      "\u001b[34m[60]#011train-error:0.129533#011validation-error:0.1663\u001b[0m\n",
      "\u001b[34m[12:44:13] src/tree/updater_prune.cc:74: tree pruning end, 1 roots, 18 extra nodes, 12 pruned nodes, max_depth=5\u001b[0m\n",
      "\u001b[34m[61]#011train-error:0.129067#011validation-error:0.1657\u001b[0m\n",
      "\u001b[34m[12:44:14] src/tree/updater_prune.cc:74: tree pruning end, 1 roots, 24 extra nodes, 14 pruned nodes, max_depth=5\u001b[0m\n",
      "\u001b[34m[62]#011train-error:0.128533#011validation-error:0.1649\u001b[0m\n",
      "\u001b[34m[12:44:15] src/tree/updater_prune.cc:74: tree pruning end, 1 roots, 22 extra nodes, 12 pruned nodes, max_depth=5\u001b[0m\n",
      "\u001b[34m[63]#011train-error:0.127533#011validation-error:0.1634\u001b[0m\n",
      "\u001b[34m[12:44:16] src/tree/updater_prune.cc:74: tree pruning end, 1 roots, 18 extra nodes, 8 pruned nodes, max_depth=5\u001b[0m\n",
      "\u001b[34m[64]#011train-error:0.1262#011validation-error:0.1625\u001b[0m\n",
      "\u001b[34m[12:44:18] src/tree/updater_prune.cc:74: tree pruning end, 1 roots, 24 extra nodes, 2 pruned nodes, max_depth=5\u001b[0m\n",
      "\u001b[34m[65]#011train-error:0.125667#011validation-error:0.1621\u001b[0m\n",
      "\u001b[34m[12:44:19] src/tree/updater_prune.cc:74: tree pruning end, 1 roots, 14 extra nodes, 8 pruned nodes, max_depth=5\u001b[0m\n",
      "\u001b[34m[66]#011train-error:0.125333#011validation-error:0.1607\u001b[0m\n",
      "\u001b[34m[12:44:20] src/tree/updater_prune.cc:74: tree pruning end, 1 roots, 18 extra nodes, 18 pruned nodes, max_depth=5\u001b[0m\n",
      "\u001b[34m[67]#011train-error:0.1252#011validation-error:0.1615\u001b[0m\n",
      "\u001b[34m[12:44:21] src/tree/updater_prune.cc:74: tree pruning end, 1 roots, 22 extra nodes, 6 pruned nodes, max_depth=5\u001b[0m\n",
      "\u001b[34m[68]#011train-error:0.124067#011validation-error:0.1608\u001b[0m\n",
      "\u001b[34m[12:44:23] src/tree/updater_prune.cc:74: tree pruning end, 1 roots, 18 extra nodes, 2 pruned nodes, max_depth=5\u001b[0m\n",
      "\u001b[34m[69]#011train-error:0.123067#011validation-error:0.1608\u001b[0m\n",
      "\u001b[34m[12:44:24] src/tree/updater_prune.cc:74: tree pruning end, 1 roots, 24 extra nodes, 8 pruned nodes, max_depth=5\u001b[0m\n",
      "\u001b[34m[70]#011train-error:0.122267#011validation-error:0.1598\u001b[0m\n",
      "\u001b[34m[12:44:25] src/tree/updater_prune.cc:74: tree pruning end, 1 roots, 14 extra nodes, 14 pruned nodes, max_depth=5\u001b[0m\n",
      "\u001b[34m[71]#011train-error:0.121467#011validation-error:0.1586\u001b[0m\n",
      "\u001b[34m[12:44:26] src/tree/updater_prune.cc:74: tree pruning end, 1 roots, 16 extra nodes, 6 pruned nodes, max_depth=5\u001b[0m\n",
      "\u001b[34m[72]#011train-error:0.120867#011validation-error:0.1583\u001b[0m\n",
      "\u001b[34m[12:44:28] src/tree/updater_prune.cc:74: tree pruning end, 1 roots, 10 extra nodes, 6 pruned nodes, max_depth=5\u001b[0m\n",
      "\u001b[34m[73]#011train-error:0.120133#011validation-error:0.1578\u001b[0m\n",
      "\u001b[34m[12:44:29] src/tree/updater_prune.cc:74: tree pruning end, 1 roots, 20 extra nodes, 10 pruned nodes, max_depth=5\u001b[0m\n",
      "\u001b[34m[74]#011train-error:0.119867#011validation-error:0.1571\u001b[0m\n",
      "\u001b[34m[12:44:30] src/tree/updater_prune.cc:74: tree pruning end, 1 roots, 22 extra nodes, 14 pruned nodes, max_depth=5\u001b[0m\n",
      "\u001b[34m[75]#011train-error:0.119#011validation-error:0.1564\u001b[0m\n",
      "\u001b[34m[12:44:32] src/tree/updater_prune.cc:74: tree pruning end, 1 roots, 24 extra nodes, 12 pruned nodes, max_depth=5\u001b[0m\n",
      "\u001b[34m[76]#011train-error:0.118#011validation-error:0.1573\u001b[0m\n",
      "\u001b[34m[12:44:33] src/tree/updater_prune.cc:74: tree pruning end, 1 roots, 38 extra nodes, 6 pruned nodes, max_depth=5\u001b[0m\n",
      "\u001b[34m[77]#011train-error:0.1176#011validation-error:0.1565\u001b[0m\n",
      "\u001b[34m[12:44:34] src/tree/updater_prune.cc:74: tree pruning end, 1 roots, 16 extra nodes, 10 pruned nodes, max_depth=5\u001b[0m\n",
      "\u001b[34m[78]#011train-error:0.116933#011validation-error:0.1568\u001b[0m\n",
      "\u001b[34m[12:44:35] src/tree/updater_prune.cc:74: tree pruning end, 1 roots, 10 extra nodes, 6 pruned nodes, max_depth=5\u001b[0m\n",
      "\u001b[34m[79]#011train-error:0.116467#011validation-error:0.156\u001b[0m\n",
      "\u001b[34m[12:44:37] src/tree/updater_prune.cc:74: tree pruning end, 1 roots, 12 extra nodes, 4 pruned nodes, max_depth=5\u001b[0m\n",
      "\u001b[34m[80]#011train-error:0.115667#011validation-error:0.1551\u001b[0m\n",
      "\u001b[34m[12:44:38] src/tree/updater_prune.cc:74: tree pruning end, 1 roots, 12 extra nodes, 8 pruned nodes, max_depth=5\u001b[0m\n",
      "\u001b[34m[81]#011train-error:0.1154#011validation-error:0.1551\u001b[0m\n",
      "\u001b[34m[12:44:39] src/tree/updater_prune.cc:74: tree pruning end, 1 roots, 20 extra nodes, 2 pruned nodes, max_depth=5\u001b[0m\n",
      "\u001b[34m[82]#011train-error:0.115133#011validation-error:0.1546\u001b[0m\n",
      "\u001b[34m[12:44:40] src/tree/updater_prune.cc:74: tree pruning end, 1 roots, 34 extra nodes, 6 pruned nodes, max_depth=5\u001b[0m\n",
      "\u001b[34m[83]#011train-error:0.113333#011validation-error:0.1545\u001b[0m\n",
      "\u001b[34m[12:44:42] src/tree/updater_prune.cc:74: tree pruning end, 1 roots, 14 extra nodes, 2 pruned nodes, max_depth=5\u001b[0m\n",
      "\u001b[34m[84]#011train-error:0.112267#011validation-error:0.1541\u001b[0m\n",
      "\u001b[34m[12:44:43] src/tree/updater_prune.cc:74: tree pruning end, 1 roots, 12 extra nodes, 8 pruned nodes, max_depth=5\u001b[0m\n",
      "\u001b[34m[85]#011train-error:0.112667#011validation-error:0.1539\u001b[0m\n",
      "\u001b[34m[12:44:44] src/tree/updater_prune.cc:74: tree pruning end, 1 roots, 20 extra nodes, 10 pruned nodes, max_depth=5\u001b[0m\n",
      "\u001b[34m[86]#011train-error:0.111933#011validation-error:0.1539\u001b[0m\n",
      "\u001b[34m[12:44:45] src/tree/updater_prune.cc:74: tree pruning end, 1 roots, 30 extra nodes, 14 pruned nodes, max_depth=5\u001b[0m\n",
      "\u001b[34m[87]#011train-error:0.1106#011validation-error:0.1534\u001b[0m\n",
      "\u001b[34m[12:44:47] src/tree/updater_prune.cc:74: tree pruning end, 1 roots, 24 extra nodes, 12 pruned nodes, max_depth=5\u001b[0m\n",
      "\u001b[34m[88]#011train-error:0.110267#011validation-error:0.153\u001b[0m\n",
      "\u001b[34m[12:44:48] src/tree/updater_prune.cc:74: tree pruning end, 1 roots, 10 extra nodes, 6 pruned nodes, max_depth=5\u001b[0m\n",
      "\u001b[34m[89]#011train-error:0.1098#011validation-error:0.1518\u001b[0m\n",
      "\u001b[34m[12:44:49] src/tree/updater_prune.cc:74: tree pruning end, 1 roots, 16 extra nodes, 8 pruned nodes, max_depth=5\u001b[0m\n",
      "\u001b[34m[90]#011train-error:0.109733#011validation-error:0.1516\u001b[0m\n",
      "\u001b[34m[12:44:51] src/tree/updater_prune.cc:74: tree pruning end, 1 roots, 26 extra nodes, 10 pruned nodes, max_depth=5\u001b[0m\n",
      "\u001b[34m[91]#011train-error:0.1078#011validation-error:0.1516\u001b[0m\n",
      "\u001b[34m[12:44:52] src/tree/updater_prune.cc:74: tree pruning end, 1 roots, 18 extra nodes, 8 pruned nodes, max_depth=5\u001b[0m\n",
      "\u001b[34m[92]#011train-error:0.107867#011validation-error:0.1514\u001b[0m\n",
      "\u001b[34m[12:44:53] src/tree/updater_prune.cc:74: tree pruning end, 1 roots, 18 extra nodes, 6 pruned nodes, max_depth=5\u001b[0m\n",
      "\u001b[34m[93]#011train-error:0.107667#011validation-error:0.1519\u001b[0m\n",
      "\u001b[34m[12:44:54] src/tree/updater_prune.cc:74: tree pruning end, 1 roots, 16 extra nodes, 8 pruned nodes, max_depth=5\u001b[0m\n",
      "\u001b[34m[94]#011train-error:0.106933#011validation-error:0.1518\u001b[0m\n",
      "\u001b[34m[12:44:56] src/tree/updater_prune.cc:74: tree pruning end, 1 roots, 28 extra nodes, 8 pruned nodes, max_depth=5\u001b[0m\n",
      "\u001b[34m[95]#011train-error:0.1058#011validation-error:0.1503\u001b[0m\n"
     ]
    },
    {
     "name": "stdout",
     "output_type": "stream",
     "text": [
      "\u001b[34m[12:44:57] src/tree/updater_prune.cc:74: tree pruning end, 1 roots, 22 extra nodes, 8 pruned nodes, max_depth=5\u001b[0m\n",
      "\u001b[34m[96]#011train-error:0.1052#011validation-error:0.1493\u001b[0m\n",
      "\u001b[34m[12:44:58] src/tree/updater_prune.cc:74: tree pruning end, 1 roots, 12 extra nodes, 8 pruned nodes, max_depth=5\u001b[0m\n",
      "\u001b[34m[97]#011train-error:0.105333#011validation-error:0.1491\u001b[0m\n",
      "\u001b[34m[12:44:59] src/tree/updater_prune.cc:74: tree pruning end, 1 roots, 18 extra nodes, 12 pruned nodes, max_depth=5\u001b[0m\n",
      "\u001b[34m[98]#011train-error:0.105267#011validation-error:0.1491\u001b[0m\n",
      "\u001b[34m[12:45:01] src/tree/updater_prune.cc:74: tree pruning end, 1 roots, 12 extra nodes, 6 pruned nodes, max_depth=5\u001b[0m\n",
      "\u001b[34m[99]#011train-error:0.104667#011validation-error:0.1489\u001b[0m\n",
      "\u001b[34m[12:45:02] src/tree/updater_prune.cc:74: tree pruning end, 1 roots, 10 extra nodes, 8 pruned nodes, max_depth=5\u001b[0m\n",
      "\u001b[34m[100]#011train-error:0.1048#011validation-error:0.1487\u001b[0m\n",
      "\u001b[34m[12:45:03] src/tree/updater_prune.cc:74: tree pruning end, 1 roots, 14 extra nodes, 18 pruned nodes, max_depth=5\u001b[0m\n",
      "\u001b[34m[101]#011train-error:0.104133#011validation-error:0.1485\u001b[0m\n",
      "\u001b[34m[12:45:04] src/tree/updater_prune.cc:74: tree pruning end, 1 roots, 22 extra nodes, 8 pruned nodes, max_depth=5\u001b[0m\n",
      "\u001b[34m[102]#011train-error:0.103067#011validation-error:0.1481\u001b[0m\n",
      "\u001b[34m[12:45:06] src/tree/updater_prune.cc:74: tree pruning end, 1 roots, 24 extra nodes, 14 pruned nodes, max_depth=5\u001b[0m\n",
      "\u001b[34m[103]#011train-error:0.102067#011validation-error:0.1477\u001b[0m\n",
      "\u001b[34m[12:45:07] src/tree/updater_prune.cc:74: tree pruning end, 1 roots, 22 extra nodes, 12 pruned nodes, max_depth=5\u001b[0m\n",
      "\u001b[34m[104]#011train-error:0.1014#011validation-error:0.1477\u001b[0m\n",
      "\u001b[34m[12:45:08] src/tree/updater_prune.cc:74: tree pruning end, 1 roots, 14 extra nodes, 6 pruned nodes, max_depth=5\u001b[0m\n",
      "\u001b[34m[105]#011train-error:0.100533#011validation-error:0.1479\u001b[0m\n",
      "\u001b[34m[12:45:10] src/tree/updater_prune.cc:74: tree pruning end, 1 roots, 18 extra nodes, 14 pruned nodes, max_depth=5\u001b[0m\n",
      "\u001b[34m[106]#011train-error:0.100333#011validation-error:0.1478\u001b[0m\n",
      "\u001b[34m[12:45:11] src/tree/updater_prune.cc:74: tree pruning end, 1 roots, 10 extra nodes, 10 pruned nodes, max_depth=5\u001b[0m\n",
      "\u001b[34m[107]#011train-error:0.100467#011validation-error:0.1477\u001b[0m\n",
      "\u001b[34m[12:45:12] src/tree/updater_prune.cc:74: tree pruning end, 1 roots, 24 extra nodes, 8 pruned nodes, max_depth=5\u001b[0m\n",
      "\u001b[34m[108]#011train-error:0.100067#011validation-error:0.1483\u001b[0m\n",
      "\u001b[34m[12:45:13] src/tree/updater_prune.cc:74: tree pruning end, 1 roots, 10 extra nodes, 10 pruned nodes, max_depth=5\u001b[0m\n",
      "\u001b[34m[109]#011train-error:0.099133#011validation-error:0.1482\u001b[0m\n",
      "\u001b[34m[12:45:15] src/tree/updater_prune.cc:74: tree pruning end, 1 roots, 16 extra nodes, 2 pruned nodes, max_depth=5\u001b[0m\n",
      "\u001b[34m[110]#011train-error:0.0992#011validation-error:0.1486\u001b[0m\n",
      "\u001b[34m[12:45:16] src/tree/updater_prune.cc:74: tree pruning end, 1 roots, 14 extra nodes, 8 pruned nodes, max_depth=5\u001b[0m\n",
      "\u001b[34m[111]#011train-error:0.0984#011validation-error:0.1475\u001b[0m\n",
      "\u001b[34m[12:45:17] src/tree/updater_prune.cc:74: tree pruning end, 1 roots, 14 extra nodes, 6 pruned nodes, max_depth=5\u001b[0m\n",
      "\u001b[34m[112]#011train-error:0.098067#011validation-error:0.1471\u001b[0m\n",
      "\u001b[34m[12:45:19] src/tree/updater_prune.cc:74: tree pruning end, 1 roots, 18 extra nodes, 6 pruned nodes, max_depth=5\u001b[0m\n",
      "\u001b[34m[113]#011train-error:0.0972#011validation-error:0.1469\u001b[0m\n",
      "\u001b[34m[12:45:20] src/tree/updater_prune.cc:74: tree pruning end, 1 roots, 12 extra nodes, 10 pruned nodes, max_depth=5\u001b[0m\n",
      "\u001b[34m[114]#011train-error:0.096733#011validation-error:0.1468\u001b[0m\n",
      "\u001b[34m[12:45:21] src/tree/updater_prune.cc:74: tree pruning end, 1 roots, 32 extra nodes, 6 pruned nodes, max_depth=5\u001b[0m\n",
      "\u001b[34m[115]#011train-error:0.096#011validation-error:0.1477\u001b[0m\n",
      "\u001b[34m[12:45:22] src/tree/updater_prune.cc:74: tree pruning end, 1 roots, 16 extra nodes, 10 pruned nodes, max_depth=5\u001b[0m\n",
      "\u001b[34m[116]#011train-error:0.0958#011validation-error:0.1468\u001b[0m\n",
      "\u001b[34m[12:45:24] src/tree/updater_prune.cc:74: tree pruning end, 1 roots, 18 extra nodes, 8 pruned nodes, max_depth=5\u001b[0m\n",
      "\u001b[34m[117]#011train-error:0.0956#011validation-error:0.1472\u001b[0m\n",
      "\u001b[34m[12:45:25] src/tree/updater_prune.cc:74: tree pruning end, 1 roots, 28 extra nodes, 12 pruned nodes, max_depth=5\u001b[0m\n",
      "\u001b[34m[118]#011train-error:0.094867#011validation-error:0.1458\u001b[0m\n",
      "\u001b[34m[12:45:26] src/tree/updater_prune.cc:74: tree pruning end, 1 roots, 12 extra nodes, 8 pruned nodes, max_depth=5\u001b[0m\n",
      "\u001b[34m[119]#011train-error:0.094733#011validation-error:0.146\u001b[0m\n",
      "\u001b[34m[12:45:28] src/tree/updater_prune.cc:74: tree pruning end, 1 roots, 12 extra nodes, 12 pruned nodes, max_depth=5\u001b[0m\n",
      "\u001b[34m[120]#011train-error:0.0948#011validation-error:0.1455\u001b[0m\n",
      "\u001b[34m[12:45:29] src/tree/updater_prune.cc:74: tree pruning end, 1 roots, 26 extra nodes, 8 pruned nodes, max_depth=5\u001b[0m\n",
      "\u001b[34m[121]#011train-error:0.093933#011validation-error:0.1458\u001b[0m\n",
      "\u001b[34m[12:45:30] src/tree/updater_prune.cc:74: tree pruning end, 1 roots, 10 extra nodes, 10 pruned nodes, max_depth=5\u001b[0m\n",
      "\u001b[34m[122]#011train-error:0.093467#011validation-error:0.1451\u001b[0m\n",
      "\u001b[34m[12:45:31] src/tree/updater_prune.cc:74: tree pruning end, 1 roots, 28 extra nodes, 6 pruned nodes, max_depth=5\u001b[0m\n",
      "\u001b[34m[123]#011train-error:0.093133#011validation-error:0.145\u001b[0m\n",
      "\u001b[34m[12:45:33] src/tree/updater_prune.cc:74: tree pruning end, 1 roots, 26 extra nodes, 14 pruned nodes, max_depth=5\u001b[0m\n",
      "\u001b[34m[124]#011train-error:0.091867#011validation-error:0.145\u001b[0m\n",
      "\u001b[34m[12:45:34] src/tree/updater_prune.cc:74: tree pruning end, 1 roots, 16 extra nodes, 10 pruned nodes, max_depth=5\u001b[0m\n",
      "\u001b[34m[125]#011train-error:0.092133#011validation-error:0.1448\u001b[0m\n",
      "\u001b[34m[12:45:35] src/tree/updater_prune.cc:74: tree pruning end, 1 roots, 20 extra nodes, 12 pruned nodes, max_depth=5\u001b[0m\n",
      "\u001b[34m[126]#011train-error:0.0918#011validation-error:0.1442\u001b[0m\n",
      "\u001b[34m[12:45:36] src/tree/updater_prune.cc:74: tree pruning end, 1 roots, 10 extra nodes, 10 pruned nodes, max_depth=5\u001b[0m\n",
      "\u001b[34m[127]#011train-error:0.091867#011validation-error:0.1437\u001b[0m\n",
      "\u001b[34m[12:45:38] src/tree/updater_prune.cc:74: tree pruning end, 1 roots, 14 extra nodes, 2 pruned nodes, max_depth=5\u001b[0m\n",
      "\u001b[34m[128]#011train-error:0.091933#011validation-error:0.1436\u001b[0m\n",
      "\u001b[34m[12:45:39] src/tree/updater_prune.cc:74: tree pruning end, 1 roots, 14 extra nodes, 0 pruned nodes, max_depth=5\u001b[0m\n",
      "\u001b[34m[129]#011train-error:0.091067#011validation-error:0.1435\u001b[0m\n",
      "\u001b[34m[12:45:40] src/tree/updater_prune.cc:74: tree pruning end, 1 roots, 34 extra nodes, 8 pruned nodes, max_depth=5\u001b[0m\n",
      "\u001b[34m[130]#011train-error:0.090333#011validation-error:0.1431\u001b[0m\n",
      "\u001b[34m[12:45:42] src/tree/updater_prune.cc:74: tree pruning end, 1 roots, 16 extra nodes, 6 pruned nodes, max_depth=5\u001b[0m\n",
      "\u001b[34m[131]#011train-error:0.090067#011validation-error:0.1425\u001b[0m\n",
      "\u001b[34m[12:45:43] src/tree/updater_prune.cc:74: tree pruning end, 1 roots, 10 extra nodes, 8 pruned nodes, max_depth=5\u001b[0m\n",
      "\u001b[34m[132]#011train-error:0.0898#011validation-error:0.1435\u001b[0m\n",
      "\u001b[34m[12:45:44] src/tree/updater_prune.cc:74: tree pruning end, 1 roots, 24 extra nodes, 16 pruned nodes, max_depth=5\u001b[0m\n",
      "\u001b[34m[133]#011train-error:0.0886#011validation-error:0.1422\u001b[0m\n",
      "\u001b[34m[12:45:45] src/tree/updater_prune.cc:74: tree pruning end, 1 roots, 10 extra nodes, 10 pruned nodes, max_depth=5\u001b[0m\n",
      "\u001b[34m[134]#011train-error:0.088533#011validation-error:0.142\u001b[0m\n",
      "\u001b[34m[12:45:47] src/tree/updater_prune.cc:74: tree pruning end, 1 roots, 20 extra nodes, 4 pruned nodes, max_depth=5\u001b[0m\n",
      "\u001b[34m[135]#011train-error:0.088#011validation-error:0.1422\u001b[0m\n",
      "\u001b[34m[12:45:48] src/tree/updater_prune.cc:74: tree pruning end, 1 roots, 14 extra nodes, 10 pruned nodes, max_depth=5\u001b[0m\n",
      "\u001b[34m[136]#011train-error:0.087667#011validation-error:0.1424\u001b[0m\n",
      "\u001b[34m[12:45:49] src/tree/updater_prune.cc:74: tree pruning end, 1 roots, 26 extra nodes, 16 pruned nodes, max_depth=5\u001b[0m\n",
      "\u001b[34m[137]#011train-error:0.0874#011validation-error:0.142\u001b[0m\n",
      "\u001b[34m[12:45:51] src/tree/updater_prune.cc:74: tree pruning end, 1 roots, 22 extra nodes, 14 pruned nodes, max_depth=5\u001b[0m\n",
      "\u001b[34m[138]#011train-error:0.086133#011validation-error:0.1423\u001b[0m\n",
      "\u001b[34m[12:45:52] src/tree/updater_prune.cc:74: tree pruning end, 1 roots, 12 extra nodes, 8 pruned nodes, max_depth=5\u001b[0m\n",
      "\u001b[34m[139]#011train-error:0.086067#011validation-error:0.142\u001b[0m\n"
     ]
    },
    {
     "name": "stdout",
     "output_type": "stream",
     "text": [
      "\u001b[34m[12:45:53] src/tree/updater_prune.cc:74: tree pruning end, 1 roots, 10 extra nodes, 2 pruned nodes, max_depth=5\u001b[0m\n",
      "\u001b[34m[140]#011train-error:0.0854#011validation-error:0.1421\u001b[0m\n",
      "\u001b[34m[12:45:54] src/tree/updater_prune.cc:74: tree pruning end, 1 roots, 20 extra nodes, 8 pruned nodes, max_depth=5\u001b[0m\n",
      "\u001b[34m[141]#011train-error:0.085467#011validation-error:0.1424\u001b[0m\n",
      "\u001b[34m[12:45:56] src/tree/updater_prune.cc:74: tree pruning end, 1 roots, 16 extra nodes, 10 pruned nodes, max_depth=5\u001b[0m\n",
      "\u001b[34m[142]#011train-error:0.085#011validation-error:0.1421\u001b[0m\n",
      "\u001b[34m[12:45:57] src/tree/updater_prune.cc:74: tree pruning end, 1 roots, 10 extra nodes, 2 pruned nodes, max_depth=5\u001b[0m\n",
      "\u001b[34m[143]#011train-error:0.084867#011validation-error:0.142\u001b[0m\n",
      "\u001b[34m[12:45:58] src/tree/updater_prune.cc:74: tree pruning end, 1 roots, 14 extra nodes, 2 pruned nodes, max_depth=5\u001b[0m\n",
      "\u001b[34m[144]#011train-error:0.084467#011validation-error:0.1424\u001b[0m\n",
      "\u001b[34mStopping. Best iteration:\u001b[0m\n",
      "\u001b[34m[134]#011train-error:0.088533#011validation-error:0.142\n",
      "\u001b[0m\n",
      "\n",
      "2020-09-23 12:46:08 Uploading - Uploading generated training model\n",
      "2020-09-23 12:46:08 Completed - Training job completed\n",
      "Training seconds: 235\n",
      "Billable seconds: 235\n"
     ]
    }
   ],
   "source": [
    "xgb.fit({'train': s3_input_train, 'validation': s3_input_validation})"
   ]
  },
  {
   "cell_type": "markdown",
   "metadata": {},
   "source": [
    "## Step 5: Testing the model\n",
    "\n",
    "Now that we've fit our XGBoost model, it's time to see how well it performs. To do this we will use SageMakers Batch Transform functionality. Batch Transform is a convenient way to perform inference on a large dataset in a way that is not realtime. That is, we don't necessarily need to use our model's results immediately and instead we can perform inference on a large number of samples. An example of this in industry might be performing an end of month report. This method of inference can also be useful to us as it means that we can perform inference on our entire test set. \n",
    "\n",
    "To perform a Batch Transformation we need to first create a transformer objects from our trained estimator object."
   ]
  },
  {
   "cell_type": "code",
   "execution_count": 24,
   "metadata": {},
   "outputs": [
    {
     "name": "stderr",
     "output_type": "stream",
     "text": [
      "Parameter image will be renamed to image_uri in SageMaker Python SDK v2.\n"
     ]
    }
   ],
   "source": [
    "xgb_transformer = xgb.transformer(instance_count = 1, instance_type = 'ml.m4.xlarge')"
   ]
  },
  {
   "cell_type": "markdown",
   "metadata": {},
   "source": [
    "Next we actually perform the transform job. When doing so we need to make sure to specify the type of data we are sending so that it is serialized correctly in the background. In our case we are providing our model with csv data so we specify `text/csv`. Also, if the test data that we have provided is too large to process all at once then we need to specify how the data file should be split up. Since each line is a single entry in our data set we tell SageMaker that it can split the input on each line."
   ]
  },
  {
   "cell_type": "code",
   "execution_count": 25,
   "metadata": {},
   "outputs": [],
   "source": [
    "xgb_transformer.transform(test_location, content_type='text/csv', split_type='Line')"
   ]
  },
  {
   "cell_type": "markdown",
   "metadata": {},
   "source": [
    "Currently the transform job is running but it is doing so in the background. Since we wish to wait until the transform job is done and we would like a bit of feedback we can run the `wait()` method."
   ]
  },
  {
   "cell_type": "code",
   "execution_count": 26,
   "metadata": {},
   "outputs": [
    {
     "name": "stdout",
     "output_type": "stream",
     "text": [
      "..............................\u001b[32m2020-09-23T12:51:26.216:[sagemaker logs]: MaxConcurrentTransforms=4, MaxPayloadInMB=6, BatchStrategy=MULTI_RECORD\u001b[0m\n",
      "\u001b[34mArguments: serve\u001b[0m\n",
      "\u001b[34m[2020-09-23 12:51:26 +0000] [1] [INFO] Starting gunicorn 19.7.1\u001b[0m\n",
      "\u001b[34m[2020-09-23 12:51:26 +0000] [1] [INFO] Listening at: http://0.0.0.0:8080 (1)\u001b[0m\n",
      "\u001b[34m[2020-09-23 12:51:26 +0000] [1] [INFO] Using worker: gevent\u001b[0m\n",
      "\u001b[34m[2020-09-23 12:51:26 +0000] [37] [INFO] Booting worker with pid: 37\u001b[0m\n",
      "\u001b[35mArguments: serve\u001b[0m\n",
      "\u001b[35m[2020-09-23 12:51:26 +0000] [1] [INFO] Starting gunicorn 19.7.1\u001b[0m\n",
      "\u001b[35m[2020-09-23 12:51:26 +0000] [1] [INFO] Listening at: http://0.0.0.0:8080 (1)\u001b[0m\n",
      "\u001b[35m[2020-09-23 12:51:26 +0000] [1] [INFO] Using worker: gevent\u001b[0m\n",
      "\u001b[35m[2020-09-23 12:51:26 +0000] [37] [INFO] Booting worker with pid: 37\u001b[0m\n",
      "\u001b[34m[2020-09-23 12:51:26 +0000] [38] [INFO] Booting worker with pid: 38\u001b[0m\n",
      "\u001b[34m[2020-09-23 12:51:26 +0000] [39] [INFO] Booting worker with pid: 39\u001b[0m\n",
      "\u001b[34m[2020-09-23:12:51:26:INFO] Model loaded successfully for worker : 38\u001b[0m\n",
      "\u001b[34m[2020-09-23:12:51:26:INFO] Model loaded successfully for worker : 37\u001b[0m\n",
      "\u001b[34m[2020-09-23 12:51:26 +0000] [40] [INFO] Booting worker with pid: 40\u001b[0m\n",
      "\u001b[34m[2020-09-23:12:51:26:INFO] Model loaded successfully for worker : 39\u001b[0m\n",
      "\u001b[34m[2020-09-23:12:51:26:INFO] Model loaded successfully for worker : 40\u001b[0m\n",
      "\u001b[34m[2020-09-23:12:51:26:INFO] Sniff delimiter as ','\u001b[0m\n",
      "\u001b[34m[2020-09-23:12:51:26:INFO] Determined delimiter of CSV input is ','\u001b[0m\n",
      "\u001b[34m[2020-09-23:12:51:26:INFO] Sniff delimiter as ','\u001b[0m\n",
      "\u001b[34m[2020-09-23:12:51:26:INFO] Determined delimiter of CSV input is ','\u001b[0m\n",
      "\u001b[34m[2020-09-23:12:51:27:INFO] Sniff delimiter as ','\u001b[0m\n",
      "\u001b[34m[2020-09-23:12:51:27:INFO] Determined delimiter of CSV input is ','\u001b[0m\n",
      "\u001b[34m[2020-09-23:12:51:27:INFO] Sniff delimiter as ','\u001b[0m\n",
      "\u001b[34m[2020-09-23:12:51:27:INFO] Determined delimiter of CSV input is ','\u001b[0m\n",
      "\u001b[34m[2020-09-23:12:51:29:INFO] Sniff delimiter as ','\u001b[0m\n",
      "\u001b[34m[2020-09-23:12:51:29:INFO] Determined delimiter of CSV input is ','\u001b[0m\n",
      "\u001b[34m[2020-09-23:12:51:29:INFO] Sniff delimiter as ','\u001b[0m\n",
      "\u001b[34m[2020-09-23:12:51:29:INFO] Determined delimiter of CSV input is ','\u001b[0m\n",
      "\u001b[35m[2020-09-23 12:51:26 +0000] [38] [INFO] Booting worker with pid: 38\u001b[0m\n",
      "\u001b[35m[2020-09-23 12:51:26 +0000] [39] [INFO] Booting worker with pid: 39\u001b[0m\n",
      "\u001b[35m[2020-09-23:12:51:26:INFO] Model loaded successfully for worker : 38\u001b[0m\n",
      "\u001b[35m[2020-09-23:12:51:26:INFO] Model loaded successfully for worker : 37\u001b[0m\n",
      "\u001b[35m[2020-09-23 12:51:26 +0000] [40] [INFO] Booting worker with pid: 40\u001b[0m\n",
      "\u001b[35m[2020-09-23:12:51:26:INFO] Model loaded successfully for worker : 39\u001b[0m\n",
      "\u001b[35m[2020-09-23:12:51:26:INFO] Model loaded successfully for worker : 40\u001b[0m\n",
      "\u001b[35m[2020-09-23:12:51:26:INFO] Sniff delimiter as ','\u001b[0m\n",
      "\u001b[35m[2020-09-23:12:51:26:INFO] Determined delimiter of CSV input is ','\u001b[0m\n",
      "\u001b[35m[2020-09-23:12:51:26:INFO] Sniff delimiter as ','\u001b[0m\n",
      "\u001b[35m[2020-09-23:12:51:26:INFO] Determined delimiter of CSV input is ','\u001b[0m\n",
      "\u001b[35m[2020-09-23:12:51:27:INFO] Sniff delimiter as ','\u001b[0m\n",
      "\u001b[35m[2020-09-23:12:51:27:INFO] Determined delimiter of CSV input is ','\u001b[0m\n",
      "\u001b[35m[2020-09-23:12:51:27:INFO] Sniff delimiter as ','\u001b[0m\n",
      "\u001b[35m[2020-09-23:12:51:27:INFO] Determined delimiter of CSV input is ','\u001b[0m\n",
      "\u001b[35m[2020-09-23:12:51:29:INFO] Sniff delimiter as ','\u001b[0m\n",
      "\u001b[35m[2020-09-23:12:51:29:INFO] Determined delimiter of CSV input is ','\u001b[0m\n",
      "\u001b[35m[2020-09-23:12:51:29:INFO] Sniff delimiter as ','\u001b[0m\n",
      "\u001b[35m[2020-09-23:12:51:29:INFO] Determined delimiter of CSV input is ','\u001b[0m\n",
      "\u001b[34m[2020-09-23:12:51:29:INFO] Sniff delimiter as ','\u001b[0m\n",
      "\u001b[34m[2020-09-23:12:51:29:INFO] Determined delimiter of CSV input is ','\u001b[0m\n",
      "\u001b[34m[2020-09-23:12:51:29:INFO] Sniff delimiter as ','\u001b[0m\n",
      "\u001b[34m[2020-09-23:12:51:29:INFO] Determined delimiter of CSV input is ','\u001b[0m\n",
      "\u001b[35m[2020-09-23:12:51:29:INFO] Sniff delimiter as ','\u001b[0m\n",
      "\u001b[35m[2020-09-23:12:51:29:INFO] Determined delimiter of CSV input is ','\u001b[0m\n",
      "\u001b[35m[2020-09-23:12:51:29:INFO] Sniff delimiter as ','\u001b[0m\n",
      "\u001b[35m[2020-09-23:12:51:29:INFO] Determined delimiter of CSV input is ','\u001b[0m\n",
      "\u001b[34m[2020-09-23:12:51:31:INFO] Sniff delimiter as ','\u001b[0m\n",
      "\u001b[34m[2020-09-23:12:51:31:INFO] Determined delimiter of CSV input is ','\u001b[0m\n",
      "\u001b[34m[2020-09-23:12:51:31:INFO] Sniff delimiter as ','\u001b[0m\n",
      "\u001b[34m[2020-09-23:12:51:31:INFO] Determined delimiter of CSV input is ','\u001b[0m\n",
      "\u001b[34m[2020-09-23:12:51:32:INFO] Sniff delimiter as ','\u001b[0m\n",
      "\u001b[34m[2020-09-23:12:51:32:INFO] Determined delimiter of CSV input is ','\u001b[0m\n",
      "\u001b[34m[2020-09-23:12:51:32:INFO] Sniff delimiter as ','\u001b[0m\n",
      "\u001b[34m[2020-09-23:12:51:32:INFO] Determined delimiter of CSV input is ','\u001b[0m\n",
      "\u001b[35m[2020-09-23:12:51:31:INFO] Sniff delimiter as ','\u001b[0m\n",
      "\u001b[35m[2020-09-23:12:51:31:INFO] Determined delimiter of CSV input is ','\u001b[0m\n",
      "\u001b[35m[2020-09-23:12:51:31:INFO] Sniff delimiter as ','\u001b[0m\n",
      "\u001b[35m[2020-09-23:12:51:31:INFO] Determined delimiter of CSV input is ','\u001b[0m\n",
      "\u001b[35m[2020-09-23:12:51:32:INFO] Sniff delimiter as ','\u001b[0m\n",
      "\u001b[35m[2020-09-23:12:51:32:INFO] Determined delimiter of CSV input is ','\u001b[0m\n",
      "\u001b[35m[2020-09-23:12:51:32:INFO] Sniff delimiter as ','\u001b[0m\n",
      "\u001b[35m[2020-09-23:12:51:32:INFO] Determined delimiter of CSV input is ','\u001b[0m\n",
      "\u001b[34m[2020-09-23:12:51:34:INFO] Sniff delimiter as ','\u001b[0m\n",
      "\u001b[34m[2020-09-23:12:51:34:INFO] Determined delimiter of CSV input is ','\u001b[0m\n",
      "\u001b[34m[2020-09-23:12:51:34:INFO] Sniff delimiter as ','\u001b[0m\n",
      "\u001b[34m[2020-09-23:12:51:34:INFO] Determined delimiter of CSV input is ','\u001b[0m\n",
      "\u001b[35m[2020-09-23:12:51:34:INFO] Sniff delimiter as ','\u001b[0m\n",
      "\u001b[35m[2020-09-23:12:51:34:INFO] Determined delimiter of CSV input is ','\u001b[0m\n",
      "\u001b[35m[2020-09-23:12:51:34:INFO] Sniff delimiter as ','\u001b[0m\n",
      "\u001b[35m[2020-09-23:12:51:34:INFO] Determined delimiter of CSV input is ','\u001b[0m\n",
      "\u001b[34m[2020-09-23:12:51:34:INFO] Sniff delimiter as ','\u001b[0m\n",
      "\u001b[34m[2020-09-23:12:51:34:INFO] Determined delimiter of CSV input is ','\u001b[0m\n",
      "\u001b[34m[2020-09-23:12:51:34:INFO] Sniff delimiter as ','\u001b[0m\n",
      "\u001b[34m[2020-09-23:12:51:34:INFO] Determined delimiter of CSV input is ','\u001b[0m\n",
      "\u001b[35m[2020-09-23:12:51:34:INFO] Sniff delimiter as ','\u001b[0m\n",
      "\u001b[35m[2020-09-23:12:51:34:INFO] Determined delimiter of CSV input is ','\u001b[0m\n",
      "\u001b[35m[2020-09-23:12:51:34:INFO] Sniff delimiter as ','\u001b[0m\n",
      "\u001b[35m[2020-09-23:12:51:34:INFO] Determined delimiter of CSV input is ','\u001b[0m\n",
      "\u001b[34m[2020-09-23:12:51:36:INFO] Sniff delimiter as ','\u001b[0m\n",
      "\u001b[34m[2020-09-23:12:51:36:INFO] Determined delimiter of CSV input is ','\u001b[0m\n",
      "\u001b[34m[2020-09-23:12:51:36:INFO] Sniff delimiter as ','\u001b[0m\n",
      "\u001b[34m[2020-09-23:12:51:36:INFO] Determined delimiter of CSV input is ','\u001b[0m\n",
      "\u001b[34m[2020-09-23:12:51:37:INFO] Sniff delimiter as ','\u001b[0m\n",
      "\u001b[34m[2020-09-23:12:51:37:INFO] Determined delimiter of CSV input is ','\u001b[0m\n",
      "\u001b[34m[2020-09-23:12:51:37:INFO] Sniff delimiter as ','\u001b[0m\n",
      "\u001b[35m[2020-09-23:12:51:36:INFO] Sniff delimiter as ','\u001b[0m\n",
      "\u001b[35m[2020-09-23:12:51:36:INFO] Determined delimiter of CSV input is ','\u001b[0m\n",
      "\u001b[35m[2020-09-23:12:51:36:INFO] Sniff delimiter as ','\u001b[0m\n",
      "\u001b[35m[2020-09-23:12:51:36:INFO] Determined delimiter of CSV input is ','\u001b[0m\n",
      "\u001b[35m[2020-09-23:12:51:37:INFO] Sniff delimiter as ','\u001b[0m\n",
      "\u001b[35m[2020-09-23:12:51:37:INFO] Determined delimiter of CSV input is ','\u001b[0m\n",
      "\u001b[35m[2020-09-23:12:51:37:INFO] Sniff delimiter as ','\u001b[0m\n",
      "\u001b[34m[2020-09-23:12:51:37:INFO] Determined delimiter of CSV input is ','\u001b[0m\n",
      "\u001b[35m[2020-09-23:12:51:37:INFO] Determined delimiter of CSV input is ','\u001b[0m\n",
      "\u001b[34m[2020-09-23:12:51:38:INFO] Determined delimiter of CSV input is ','\u001b[0m\n",
      "\u001b[34m[2020-09-23:12:51:39:INFO] Sniff delimiter as ','\u001b[0m\n",
      "\u001b[34m[2020-09-23:12:51:39:INFO] Determined delimiter of CSV input is ','\u001b[0m\n",
      "\u001b[35m[2020-09-23:12:51:38:INFO] Determined delimiter of CSV input is ','\u001b[0m\n",
      "\u001b[35m[2020-09-23:12:51:39:INFO] Sniff delimiter as ','\u001b[0m\n",
      "\u001b[35m[2020-09-23:12:51:39:INFO] Determined delimiter of CSV input is ','\u001b[0m\n",
      "\u001b[34m[2020-09-23:12:51:39:INFO] Sniff delimiter as ','\u001b[0m\n",
      "\u001b[34m[2020-09-23:12:51:39:INFO] Determined delimiter of CSV input is ','\u001b[0m\n",
      "\u001b[34m[2020-09-23:12:51:39:INFO] Sniff delimiter as ','\u001b[0m\n",
      "\u001b[34m[2020-09-23:12:51:39:INFO] Determined delimiter of CSV input is ','\u001b[0m\n",
      "\u001b[35m[2020-09-23:12:51:39:INFO] Sniff delimiter as ','\u001b[0m\n",
      "\u001b[35m[2020-09-23:12:51:39:INFO] Determined delimiter of CSV input is ','\u001b[0m\n",
      "\u001b[35m[2020-09-23:12:51:39:INFO] Sniff delimiter as ','\u001b[0m\n",
      "\u001b[35m[2020-09-23:12:51:39:INFO] Determined delimiter of CSV input is ','\u001b[0m\n",
      "\u001b[34m[2020-09-23:12:51:41:INFO] Sniff delimiter as ','\u001b[0m\n",
      "\u001b[35m[2020-09-23:12:51:41:INFO] Sniff delimiter as ','\u001b[0m\n",
      "\u001b[34m[2020-09-23:12:51:41:INFO] Determined delimiter of CSV input is ','\u001b[0m\n",
      "\u001b[34m[2020-09-23:12:51:41:INFO] Sniff delimiter as ','\u001b[0m\n",
      "\u001b[34m[2020-09-23:12:51:41:INFO] Determined delimiter of CSV input is ','\u001b[0m\n",
      "\u001b[34m[2020-09-23:12:51:41:INFO] Sniff delimiter as ','\u001b[0m\n",
      "\u001b[34m[2020-09-23:12:51:41:INFO] Determined delimiter of CSV input is ','\u001b[0m\n",
      "\u001b[34m[2020-09-23:12:51:42:INFO] Sniff delimiter as ','\u001b[0m\n",
      "\u001b[34m[2020-09-23:12:51:42:INFO] Determined delimiter of CSV input is ','\u001b[0m\n",
      "\u001b[35m[2020-09-23:12:51:41:INFO] Determined delimiter of CSV input is ','\u001b[0m\n",
      "\u001b[35m[2020-09-23:12:51:41:INFO] Sniff delimiter as ','\u001b[0m\n",
      "\u001b[35m[2020-09-23:12:51:41:INFO] Determined delimiter of CSV input is ','\u001b[0m\n",
      "\u001b[35m[2020-09-23:12:51:41:INFO] Sniff delimiter as ','\u001b[0m\n",
      "\u001b[35m[2020-09-23:12:51:41:INFO] Determined delimiter of CSV input is ','\u001b[0m\n",
      "\u001b[35m[2020-09-23:12:51:42:INFO] Sniff delimiter as ','\u001b[0m\n",
      "\u001b[35m[2020-09-23:12:51:42:INFO] Determined delimiter of CSV input is ','\u001b[0m\n",
      "\u001b[34m[2020-09-23:12:51:43:INFO] Sniff delimiter as ','\u001b[0m\n",
      "\u001b[34m[2020-09-23:12:51:43:INFO] Determined delimiter of CSV input is ','\u001b[0m\n",
      "\u001b[35m[2020-09-23:12:51:43:INFO] Sniff delimiter as ','\u001b[0m\n",
      "\u001b[35m[2020-09-23:12:51:43:INFO] Determined delimiter of CSV input is ','\u001b[0m\n",
      "\u001b[34m[2020-09-23:12:51:44:INFO] Sniff delimiter as ','\u001b[0m\n",
      "\u001b[34m[2020-09-23:12:51:44:INFO] Determined delimiter of CSV input is ','\u001b[0m\n",
      "\u001b[34m[2020-09-23:12:51:44:INFO] Sniff delimiter as ','\u001b[0m\n",
      "\u001b[34m[2020-09-23:12:51:44:INFO] Determined delimiter of CSV input is ','\u001b[0m\n",
      "\u001b[35m[2020-09-23:12:51:44:INFO] Sniff delimiter as ','\u001b[0m\n",
      "\u001b[35m[2020-09-23:12:51:44:INFO] Determined delimiter of CSV input is ','\u001b[0m\n",
      "\u001b[35m[2020-09-23:12:51:44:INFO] Sniff delimiter as ','\u001b[0m\n",
      "\u001b[35m[2020-09-23:12:51:44:INFO] Determined delimiter of CSV input is ','\u001b[0m\n",
      "\u001b[34m[2020-09-23:12:51:44:INFO] Sniff delimiter as ','\u001b[0m\n",
      "\u001b[34m[2020-09-23:12:51:44:INFO] Determined delimiter of CSV input is ','\u001b[0m\n",
      "\u001b[35m[2020-09-23:12:51:44:INFO] Sniff delimiter as ','\u001b[0m\n",
      "\u001b[35m[2020-09-23:12:51:44:INFO] Determined delimiter of CSV input is ','\u001b[0m\n",
      "\u001b[34m[2020-09-23:12:51:46:INFO] Sniff delimiter as ','\u001b[0m\n",
      "\u001b[34m[2020-09-23:12:51:46:INFO] Determined delimiter of CSV input is ','\u001b[0m\n",
      "\u001b[35m[2020-09-23:12:51:46:INFO] Sniff delimiter as ','\u001b[0m\n",
      "\u001b[35m[2020-09-23:12:51:46:INFO] Determined delimiter of CSV input is ','\u001b[0m\n",
      "\u001b[34m[2020-09-23:12:51:46:INFO] Sniff delimiter as ','\u001b[0m\n",
      "\u001b[34m[2020-09-23:12:51:46:INFO] Determined delimiter of CSV input is ','\u001b[0m\n",
      "\u001b[34m[2020-09-23:12:51:46:INFO] Sniff delimiter as ','\u001b[0m\n",
      "\u001b[34m[2020-09-23:12:51:46:INFO] Determined delimiter of CSV input is ','\u001b[0m\n",
      "\u001b[34m[2020-09-23:12:51:47:INFO] Sniff delimiter as ','\u001b[0m\n",
      "\u001b[34m[2020-09-23:12:51:47:INFO] Determined delimiter of CSV input is ','\u001b[0m\n",
      "\u001b[35m[2020-09-23:12:51:46:INFO] Sniff delimiter as ','\u001b[0m\n",
      "\u001b[35m[2020-09-23:12:51:46:INFO] Determined delimiter of CSV input is ','\u001b[0m\n",
      "\u001b[35m[2020-09-23:12:51:46:INFO] Sniff delimiter as ','\u001b[0m\n",
      "\u001b[35m[2020-09-23:12:51:46:INFO] Determined delimiter of CSV input is ','\u001b[0m\n",
      "\u001b[35m[2020-09-23:12:51:47:INFO] Sniff delimiter as ','\u001b[0m\n",
      "\u001b[35m[2020-09-23:12:51:47:INFO] Determined delimiter of CSV input is ','\u001b[0m\n"
     ]
    },
    {
     "name": "stdout",
     "output_type": "stream",
     "text": [
      "\u001b[34m[2020-09-23:12:51:49:INFO] Sniff delimiter as ','\u001b[0m\n",
      "\u001b[34m[2020-09-23:12:51:49:INFO] Determined delimiter of CSV input is ','\u001b[0m\n",
      "\u001b[35m[2020-09-23:12:51:49:INFO] Sniff delimiter as ','\u001b[0m\n",
      "\u001b[35m[2020-09-23:12:51:49:INFO] Determined delimiter of CSV input is ','\u001b[0m\n",
      "\n"
     ]
    }
   ],
   "source": [
    "xgb_transformer.wait()"
   ]
  },
  {
   "cell_type": "markdown",
   "metadata": {},
   "source": [
    "Now the transform job has executed and the result, the estimated sentiment of each review, has been saved on S3. Since we would rather work on this file locally we can perform a bit of notebook magic to copy the file to the `data_dir`."
   ]
  },
  {
   "cell_type": "code",
   "execution_count": 27,
   "metadata": {},
   "outputs": [
    {
     "name": "stdout",
     "output_type": "stream",
     "text": [
      "Completed 256.0 KiB/369.1 KiB (4.1 MiB/s) with 1 file(s) remaining\r",
      "Completed 369.1 KiB/369.1 KiB (5.7 MiB/s) with 1 file(s) remaining\r",
      "download: s3://sagemaker-us-east-2-693733391946/xgboost-2020-09-23-12-46-39-691/test.csv.out to ../data/sentiment_web_app/test.csv.out\r\n"
     ]
    }
   ],
   "source": [
    "!aws s3 cp --recursive $xgb_transformer.output_path $data_dir"
   ]
  },
  {
   "cell_type": "markdown",
   "metadata": {},
   "source": [
    "The last step is now to read in the output from our model, convert the output to something a little more usable, in this case we want the sentiment to be either `1` (positive) or `0` (negative), and then compare to the ground truth labels."
   ]
  },
  {
   "cell_type": "code",
   "execution_count": 28,
   "metadata": {},
   "outputs": [],
   "source": [
    "predictions = pd.read_csv(os.path.join(data_dir, 'test.csv.out'), header=None)\n",
    "predictions = [round(num) for num in predictions.squeeze().values]"
   ]
  },
  {
   "cell_type": "code",
   "execution_count": 29,
   "metadata": {},
   "outputs": [
    {
     "data": {
      "text/plain": [
       "0.85656"
      ]
     },
     "execution_count": 29,
     "metadata": {},
     "output_type": "execute_result"
    }
   ],
   "source": [
    "from sklearn.metrics import accuracy_score\n",
    "accuracy_score(test_y, predictions)"
   ]
  },
  {
   "cell_type": "markdown",
   "metadata": {},
   "source": [
    "## Step 6: Deploying the model\n",
    "\n",
    "Once we construct and fit our model, SageMaker stores the resulting model artifacts and we can use those to deploy an endpoint (inference code). To see this, look in the SageMaker console and you should see that a model has been created along with a link to the S3 location where the model artifacts have been stored.\n",
    "\n",
    "Deploying an endpoint is a lot like training the model with a few important differences. The first is that a deployed model doesn't change the model artifacts, so as you send it various testing instances the model won't change. Another difference is that since we aren't performing a fixed computation, as we were in the training step or while performing a batch transform, the compute instance that gets started stays running until we tell it to stop. This is important to note as if we forget and leave it running we will be charged the entire time.\n",
    "\n",
    "In other words **If you are no longer using a deployed endpoint, shut it down!**"
   ]
  },
  {
   "cell_type": "code",
   "execution_count": 30,
   "metadata": {},
   "outputs": [
    {
     "name": "stderr",
     "output_type": "stream",
     "text": [
      "Parameter image will be renamed to image_uri in SageMaker Python SDK v2.\n",
      "Using already existing model: xgboost-2020-09-23-12-39-55-496\n"
     ]
    },
    {
     "name": "stdout",
     "output_type": "stream",
     "text": [
      "-------------!"
     ]
    }
   ],
   "source": [
    "xgb_predictor = xgb.deploy(initial_instance_count = 1, instance_type = 'ml.m4.xlarge')"
   ]
  },
  {
   "cell_type": "markdown",
   "metadata": {},
   "source": [
    "### Testing the model (again)\n",
    "\n",
    "Now that we have deployed our endpoint, we can send the testing data to it and get back the inference results. We already did this earlier using the batch transform functionality of SageMaker, however, we will test our model again using the newly deployed endpoint so that we can make sure that it works properly and to get a bit of a feel for how the endpoint works.\n",
    "\n",
    "When using the created endpoint it is important to know that we are limited in the amount of information we can send in each call so we need to break the testing data up into chunks and then send each chunk. Also, we need to serialize our data before we send it to the endpoint to ensure that our data is transmitted properly. Fortunately, SageMaker can do the serialization part for us provided we tell it the format of our data."
   ]
  },
  {
   "cell_type": "code",
   "execution_count": 31,
   "metadata": {},
   "outputs": [],
   "source": [
    "from sagemaker.predictor import csv_serializer\n",
    "\n",
    "# We need to tell the endpoint what format the data we are sending is in so that SageMaker can perform the serialization.\n",
    "xgb_predictor.content_type = 'text/csv'\n",
    "xgb_predictor.serializer = csv_serializer"
   ]
  },
  {
   "cell_type": "code",
   "execution_count": 32,
   "metadata": {},
   "outputs": [],
   "source": [
    "# We split the data into chunks and send each chunk seperately, accumulating the results.\n",
    "\n",
    "def predict(data, rows=512):\n",
    "    split_array = np.array_split(data, int(data.shape[0] / float(rows) + 1))\n",
    "    predictions = ''\n",
    "    for array in split_array:\n",
    "        predictions = ','.join([predictions, xgb_predictor.predict(array).decode('utf-8')])\n",
    "    \n",
    "    return np.fromstring(predictions[1:], sep=',')"
   ]
  },
  {
   "cell_type": "code",
   "execution_count": 33,
   "metadata": {},
   "outputs": [],
   "source": [
    "test_X = pd.read_csv(os.path.join(data_dir, 'test.csv'), header=None).values\n",
    "\n",
    "predictions = predict(test_X)\n",
    "predictions = [round(num) for num in predictions]"
   ]
  },
  {
   "cell_type": "markdown",
   "metadata": {},
   "source": [
    "Lastly, we check to see what the accuracy of our model is."
   ]
  },
  {
   "cell_type": "code",
   "execution_count": 34,
   "metadata": {},
   "outputs": [
    {
     "data": {
      "text/plain": [
       "0.85656"
      ]
     },
     "execution_count": 34,
     "metadata": {},
     "output_type": "execute_result"
    }
   ],
   "source": [
    "from sklearn.metrics import accuracy_score\n",
    "accuracy_score(test_y, predictions)"
   ]
  },
  {
   "cell_type": "markdown",
   "metadata": {},
   "source": [
    "And the results here should agree with the model testing that we did earlier using the batch transform job.\n",
    "\n",
    "### Cleaning up\n",
    "\n",
    "Now that we've determined that deploying our model works as expected, we are going to shut it down. Remember that the longer the endpoint is left running, the greater the cost and since we have a bit more work to do before we are able to use our endpoint with our simple web app, we should shut everything down."
   ]
  },
  {
   "cell_type": "code",
   "execution_count": 35,
   "metadata": {},
   "outputs": [],
   "source": [
    "xgb_predictor.delete_endpoint()"
   ]
  },
  {
   "cell_type": "markdown",
   "metadata": {},
   "source": [
    "## Step 7: Putting our model to work\n",
    "\n",
    "As we've mentioned a few times now, our goal is to have our model deployed and then access it using a very simple web app. The intent is for this web app to take some user submitted data (a review), send it off to our endpoint (the model) and then display the result.\n",
    "\n",
    "However, there is a small catch. Currently the only way we can access the endpoint to send it data is using the SageMaker API. We can, if we wish, expose the actual URL that our model's endpoint is receiving data from, however, if we just send it data ourselves we will not get anything in return. This is because the endpoint created by SageMaker requires the entity accessing it have the correct permissions. So, we would need to somehow authenticate our web app with AWS.\n",
    "\n",
    "Having a website that authenticates to AWS seems a bit beyond the scope of this lesson so we will opt for an alternative approach. Namely, we will create a new endpoint which does not require authentication and which acts as a proxy for the SageMaker endpoint.\n",
    "\n",
    "As an additional constraint, we will try to avoid doing any data processing in the web app itself. Remember that when we constructed and tested our model we started with a movie review, then we simplified it by removing any html formatting and punctuation, then we constructed a bag of words embedding and the resulting vector is what we sent to our model. All of this needs to be done to our user input as well.\n",
    "\n",
    "Fortunately we can do all of this data processing in the backend, using Amazon's Lambda service.\n",
    "\n",
    "<img src=\"Web App Diagram.svg\">\n",
    "\n",
    "The diagram above gives an overview of how the various services will work together. On the far right is the model which we trained above and which will be deployed using SageMaker. On the far left is our web app that collects a user's movie review, sends it off and expects a positive or negative sentiment in return.\n",
    "\n",
    "In the middle is where some of the magic happens. We will construct a Lambda function, which you can think of as a straightforward Python function that can be executed whenever a specified event occurs. This Python function will do the data processing we need to perform on a user submitted review. In addition, we will give this function permission to send and recieve data from a SageMaker endpoint.\n",
    "\n",
    "Lastly, the method we will use to execute the Lambda function is a new endpoint that we will create using API Gateway. This endpoint will be a url that listens for data to be sent to it. Once it gets some data it will pass that data on to the Lambda function and then return whatever the Lambda function returns. Essentially it will act as an interface that lets our web app communicate with the Lambda function.\n",
    "\n",
    "### Processing a single review\n",
    "\n",
    "For now, suppose we are given a movie review by our user in the form of a string, like so:"
   ]
  },
  {
   "cell_type": "code",
   "execution_count": 36,
   "metadata": {},
   "outputs": [],
   "source": [
    "test_review = \"Nothing but a disgusting materialistic pageant of glistening abed remote control greed zombies, totally devoid of any heart or heat. A romantic comedy that has zero romantic chemestry and zero laughs!\""
   ]
  },
  {
   "cell_type": "markdown",
   "metadata": {},
   "source": [
    "How do we go from this string to the bag of words feature vector that is expected by our model?\n",
    "\n",
    "If we recall at the beginning of this notebook, the first step is to remove any unnecessary characters using the `review_to_words` method. Remember that we intentionally did this in a very simplistic way. This is because we are going to have to copy this method to our (eventual) Lambda function (we will go into more detail later) and this means it needs to be rather simplistic."
   ]
  },
  {
   "cell_type": "code",
   "execution_count": 37,
   "metadata": {},
   "outputs": [
    {
     "name": "stdout",
     "output_type": "stream",
     "text": [
      "nothing but a disgusting materialistic pageant of glistening abed remote control greed zombies totally devoid of any heart or heat a romantic comedy that has zero romantic chemestry and zero laughs\n"
     ]
    }
   ],
   "source": [
    "test_words = review_to_words(test_review)\n",
    "print(test_words)"
   ]
  },
  {
   "cell_type": "markdown",
   "metadata": {},
   "source": [
    "Next, we need to construct a bag of words embedding of the `test_words` string. To do this, remember that a bag of words embedding uses a `vocabulary` consisting of the most frequently appearing words in a set of documents. Then, for each word in the vocabulary we record the number of times that word appears in `test_words`. We constructed the `vocabulary` earlier using the training set for our problem so encoding `test_words` is relatively straightforward."
   ]
  },
  {
   "cell_type": "code",
   "execution_count": 38,
   "metadata": {},
   "outputs": [],
   "source": [
    "def bow_encoding(words, vocabulary):\n",
    "    bow = [0] * len(vocabulary) # Start by setting the count for each word in the vocabulary to zero.\n",
    "    for word in words.split():  # For each word in the string\n",
    "        if word in vocabulary:  # If the word is one that occurs in the vocabulary, increase its count.\n",
    "            bow[vocabulary[word]] += 1\n",
    "    return bow"
   ]
  },
  {
   "cell_type": "code",
   "execution_count": 39,
   "metadata": {},
   "outputs": [
    {
     "name": "stdout",
     "output_type": "stream",
     "text": [
      "[0, 0, 0, 0, 0, 0, 0, 0, 0, 0, 0, 0, 0, 0, 0, 0, 0, 0, 0, 0, 0, 0, 0, 0, 0, 0, 0, 0, 0, 0, 0, 0, 0, 0, 0, 0, 0, 0, 0, 0, 0, 0, 0, 0, 0, 0, 0, 0, 0, 0, 0, 0, 0, 0, 0, 0, 0, 0, 0, 0, 0, 0, 0, 0, 0, 0, 0, 0, 0, 0, 0, 0, 0, 0, 0, 0, 0, 0, 0, 0, 0, 0, 0, 0, 0, 0, 0, 0, 0, 0, 0, 0, 0, 0, 0, 0, 0, 0, 0, 0, 0, 0, 0, 0, 0, 0, 0, 0, 0, 0, 0, 0, 0, 0, 0, 0, 0, 0, 0, 0, 0, 0, 0, 0, 0, 0, 0, 0, 0, 0, 0, 0, 0, 0, 0, 0, 0, 0, 0, 0, 0, 0, 0, 0, 0, 0, 0, 0, 0, 0, 0, 0, 0, 0, 0, 0, 0, 0, 0, 0, 0, 0, 0, 0, 0, 0, 0, 0, 0, 0, 0, 0, 0, 0, 0, 0, 0, 0, 0, 0, 0, 0, 0, 0, 0, 0, 0, 0, 0, 0, 0, 0, 0, 0, 0, 0, 0, 0, 0, 0, 0, 0, 0, 0, 0, 0, 0, 0, 0, 0, 0, 0, 0, 0, 0, 0, 0, 0, 0, 0, 0, 0, 0, 0, 0, 0, 0, 1, 0, 0, 0, 0, 0, 0, 0, 0, 0, 0, 0, 0, 0, 0, 0, 0, 0, 0, 0, 0, 0, 0, 0, 0, 0, 0, 0, 0, 1, 0, 0, 0, 0, 0, 0, 0, 0, 0, 0, 0, 0, 0, 0, 0, 0, 0, 0, 0, 0, 0, 0, 0, 0, 0, 0, 0, 0, 0, 0, 0, 0, 0, 0, 0, 0, 0, 0, 0, 0, 0, 0, 0, 0, 0, 0, 0, 0, 0, 0, 0, 0, 0, 0, 0, 0, 0, 0, 0, 0, 0, 0, 0, 0, 0, 0, 0, 0, 0, 0, 0, 0, 0, 0, 0, 0, 0, 0, 0, 0, 0, 0, 0, 0, 0, 0, 0, 0, 0, 0, 0, 0, 0, 0, 0, 0, 0, 0, 0, 0, 0, 0, 0, 0, 0, 0, 0, 0, 0, 0, 0, 0, 0, 0, 0, 0, 0, 0, 0, 0, 0, 0, 0, 0, 0, 0, 0, 0, 0, 0, 0, 0, 0, 0, 0, 0, 0, 0, 0, 0, 0, 0, 0, 0, 0, 0, 0, 0, 0, 0, 0, 0, 0, 0, 0, 0, 0, 0, 0, 0, 0, 0, 0, 0, 0, 0, 0, 0, 0, 0, 0, 0, 0, 0, 0, 0, 0, 0, 0, 0, 0, 0, 0, 0, 0, 0, 0, 0, 0, 0, 0, 0, 0, 0, 0, 0, 0, 0, 0, 0, 0, 0, 0, 0, 0, 0, 0, 0, 0, 0, 0, 0, 0, 0, 0, 0, 0, 0, 0, 0, 0, 0, 0, 0, 0, 0, 0, 0, 0, 0, 0, 0, 0, 0, 0, 0, 0, 0, 0, 0, 0, 0, 0, 0, 0, 0, 0, 0, 0, 0, 0, 0, 0, 0, 0, 0, 0, 0, 0, 0, 0, 0, 0, 0, 0, 0, 0, 0, 0, 0, 0, 0, 0, 0, 0, 0, 0, 0, 0, 0, 0, 0, 0, 0, 0, 0, 0, 0, 0, 0, 0, 0, 0, 0, 0, 0, 0, 0, 0, 0, 0, 0, 0, 0, 0, 0, 0, 0, 0, 0, 0, 0, 0, 0, 0, 0, 0, 0, 0, 0, 0, 0, 0, 0, 0, 0, 0, 0, 0, 0, 0, 0, 0, 0, 0, 0, 0, 0, 0, 0, 0, 0, 0, 0, 0, 0, 0, 0, 0, 0, 0, 0, 0, 0, 0, 0, 0, 0, 0, 0, 0, 0, 0, 0, 0, 0, 0, 0, 0, 0, 0, 0, 0, 0, 0, 0, 0, 0, 1, 0, 0, 0, 0, 0, 0, 0, 0, 0, 0, 0, 0, 0, 0, 0, 0, 0, 0, 0, 0, 0, 0, 0, 0, 0, 0, 0, 0, 0, 0, 0, 0, 0, 0, 0, 0, 0, 0, 0, 0, 0, 0, 0, 0, 0, 0, 0, 0, 0, 0, 0, 0, 0, 0, 0, 0, 0, 0, 0, 0, 0, 0, 0, 0, 0, 0, 0, 0, 0, 0, 0, 0, 0, 0, 0, 0, 0, 0, 0, 0, 0, 0, 0, 0, 0, 0, 0, 0, 0, 0, 0, 0, 0, 0, 0, 0, 0, 0, 0, 0, 0, 0, 0, 0, 0, 0, 0, 0, 0, 0, 0, 0, 0, 0, 0, 0, 0, 0, 0, 0, 0, 0, 0, 0, 0, 0, 0, 0, 0, 0, 0, 0, 0, 0, 0, 0, 0, 0, 0, 0, 0, 0, 0, 0, 0, 0, 0, 0, 0, 0, 0, 0, 0, 0, 0, 0, 0, 0, 0, 0, 0, 0, 0, 0, 0, 0, 0, 0, 0, 0, 0, 0, 0, 0, 0, 0, 0, 0, 0, 0, 0, 0, 0, 0, 0, 0, 0, 0, 0, 0, 0, 0, 0, 0, 0, 0, 0, 0, 0, 0, 0, 0, 0, 0, 0, 0, 0, 0, 0, 0, 0, 0, 0, 0, 0, 0, 0, 0, 0, 0, 0, 0, 0, 0, 0, 0, 0, 0, 0, 0, 0, 0, 0, 0, 0, 0, 0, 0, 0, 0, 0, 0, 0, 0, 0, 0, 0, 0, 0, 0, 0, 0, 0, 1, 0, 0, 0, 0, 0, 0, 0, 0, 0, 0, 0, 0, 0, 0, 0, 0, 0, 0, 0, 0, 0, 0, 0, 0, 0, 0, 0, 0, 0, 0, 0, 0, 0, 0, 0, 0, 0, 0, 0, 0, 0, 0, 0, 0, 0, 0, 0, 0, 0, 0, 0, 0, 0, 0, 0, 0, 0, 0, 0, 0, 0, 0, 0, 0, 0, 0, 0, 0, 0, 0, 0, 0, 0, 0, 0, 0, 0, 0, 0, 0, 0, 0, 0, 0, 0, 0, 0, 1, 0, 0, 0, 0, 0, 0, 0, 0, 0, 0, 0, 0, 0, 0, 0, 0, 0, 0, 0, 0, 0, 0, 0, 0, 0, 0, 0, 0, 0, 0, 0, 0, 0, 0, 0, 0, 0, 0, 0, 0, 0, 0, 0, 0, 0, 0, 0, 0, 0, 0, 0, 0, 0, 0, 0, 0, 0, 0, 0, 0, 0, 0, 0, 0, 0, 0, 0, 0, 0, 0, 0, 0, 0, 0, 0, 0, 0, 0, 0, 0, 0, 0, 0, 0, 0, 0, 0, 0, 0, 0, 0, 0, 0, 0, 0, 0, 0, 0, 0, 0, 0, 0, 0, 0, 0, 0, 0, 0, 0, 0, 0, 0, 0, 0, 0, 0, 0, 0, 0, 0, 0, 0, 0, 0, 0, 0, 0, 0, 0, 0, 0, 0, 0, 0, 0, 0, 0, 0, 0, 0, 0, 0, 0, 0, 0, 0, 0, 0, 0, 0, 0, 0, 0, 0, 0, 0, 0, 0, 0, 0, 0, 0, 0, 0, 0, 0, 0, 0, 0, 0, 0, 0, 0, 0, 0, 0, 0, 0, 0, 0, 0, 0, 0, 0, 0, 0, 0, 0, 0, 0, 0, 0, 0, 0, 0, 0, 0, 0, 0, 0, 0, 0, 0, 0, 0, 0, 0, 0, 0, 0, 0, 0, 0, 0, 0, 0, 0, 0, 0, 0, 0, 0, 0, 0, 0, 0, 0, 0, 0, 0, 0, 0, 0, 0, 0, 0, 0, 0, 0, 0, 0, 0, 0, 0, 0, 0, 0, 0, 0, 0, 0, 0, 1, 0, 0, 0, 0, 0, 0, 0, 0, 0, 0, 0, 0, 0, 0, 0, 0, 0, 0, 0, 0, 0, 0, 0, 0, 0, 0, 0, 0, 0, 0, 0, 0, 0, 0, 0, 0, 0, 0, 0, 0, 0, 0, 0, 0, 0, 0, 0, 0, 0, 0, 0, 0, 0, 0, 0, 1, 0, 0, 0, 0, 0, 0, 0, 0, 0, 0, 0, 0, 0, 0, 0, 0, 0, 0, 0, 0, 0, 0, 0, 0, 0, 0, 0, 0, 0, 0, 0, 0, 0, 0, 0, 0, 0, 0, 0, 0, 0, 0, 0, 0, 0, 0, 0, 0, 0, 0, 0, 0, 0, 0, 0, 0, 0, 0, 0, 0, 0, 0, 0, 0, 0, 0, 0, 0, 0, 0, 0, 0, 0, 0, 0, 0, 0, 0, 0, 0, 0, 0, 0, 0, 0, 0, 0, 0, 0, 0, 0, 0, 0, 0, 0, 0, 0, 0, 0, 0, 0, 0, 0, 0, 0, 0, 0, 0, 0, 0, 0, 0, 0, 0, 0, 0, 0, 0, 0, 0, 0, 0, 0, 0, 0, 0, 0, 0, 0, 0, 0, 0, 0, 0, 0, 0, 0, 0, 0, 0, 0, 0, 0, 0, 0, 0, 0, 0, 0, 0, 0, 0, 0, 0, 0, 0, 0, 0, 0, 0, 0, 0, 0, 0, 0, 0, 0, 0, 0, 0, 0, 0, 0, 0, 0, 0, 0, 0, 0, 0, 0, 0, 0, 0, 0, 0, 0, 0, 0, 0, 0, 0, 0, 0, 0, 0, 0, 0, 0, 0, 0, 0, 0, 0, 0, 0, 0, 0, 0, 0, 0, 0, 0, 0, 0, 0, 0, 0, 0, 0, 0, 0, 0, 0, 0, 0, 0, 0, 0, 0, 0, 0, 0, 0, 0, 0, 0, 0, 0, 0, 0, 0, 0, 0, 0, 0, 0, 0, 0, 0, 0, 0, 0, 0, 0, 0, 0, 0, 0, 0, 0, 0, 0, 0, 0, 0, 0, 0, 0, 0, 0, 0, 0, 0, 0, 0, 0, 0, 0, 0, 0, 0, 0, 0, 0, 0, 0, 0, 0, 0, 0, 0, 0, 0, 0, 0, 0, 0, 0, 0, 0, 0, 0, 0, 0, 0, 0, 0, 0, 0, 0, 0, 0, 0, 0, 0, 0, 0, 0, 0, 0, 0, 0, 0, 0, 0, 0, 0, 0, 0, 0, 0, 0, 0, 0, 0, 0, 0, 0, 0, 0, 0, 0, 0, 0, 0, 0, 0, 0, 0, 0, 0, 0, 0, 0, 0, 0, 0, 0, 0, 0, 0, 0, 0, 0, 0, 0, 0, 0, 0, 0, 0, 0, 0, 0, 0, 0, 0, 0, 0, 0, 0, 0, 0, 0, 0, 0, 0, 0, 0, 0, 0, 0, 0, 0, 0, 0, 0, 0, 0, 0, 0, 0, 0, 0, 0, 0, 0, 0, 0, 0, 0, 0, 0, 0, 0, 0, 0, 0, 0, 0, 0, 0, 0, 0, 0, 0, 0, 0, 0, 0, 0, 0, 0, 0, 0, 0, 0, 0, 0, 0, 0, 0, 0, 0, 0, 0, 0, 0, 0, 0, 0, 0, 0, 0, 0, 0, 0, 0, 0, 0, 0, 0, 0, 0, 0, 0, 0, 0, 0, 0, 0, 0, 0, 0, 0, 0, 0, 0, 0, 0, 0, 0, 0, 0, 0, 0, 0, 0, 0, 0, 0, 0, 0, 0, 0, 0, 0, 0, 0, 0, 0, 0, 0, 0, 0, 0, 0, 0, 0, 0, 0, 0, 0, 0, 0, 0, 0, 0, 0, 0, 0, 0, 0, 0, 0, 0, 0, 0, 0, 0, 0, 0, 0, 0, 0, 0, 0, 0, 0, 0, 0, 0, 0, 0, 0, 0, 0, 0, 0, 0, 0, 0, 0, 0, 0, 0, 0, 0, 0, 0, 0, 0, 0, 0, 0, 0, 0, 0, 0, 0, 0, 0, 0, 0, 0, 0, 0, 0, 0, 0, 0, 0, 0, 0, 0, 0, 0, 0, 0, 0, 0, 0, 0, 0, 0, 0, 0, 0, 0, 0, 0, 0, 0, 0, 0, 0, 0, 0, 0, 0, 0, 0, 0, 0, 0, 0, 0, 0, 0, 0, 0, 0, 0, 0, 0, 0, 0, 0, 0, 0, 0, 0, 0, 0, 0, 0, 0, 0, 0, 0, 0, 0, 0, 0, 0, 0, 0, 0, 0, 0, 0, 0, 0, 0, 0, 0, 0, 0, 0, 0, 0, 0, 0, 0, 0, 0, 0, 0, 0, 0, 0, 0, 0, 0, 0, 0, 0, 0, 0, 0, 1, 0, 0, 0, 0, 0, 0, 0, 0, 0, 0, 0, 0, 0, 0, 0, 0, 0, 0, 0, 0, 0, 0, 0, 0, 0, 0, 0, 0, 0, 0, 0, 0, 0, 0, 0, 0, 0, 0, 0, 0, 0, 0, 0, 0, 0, 0, 0, 0, 0, 0, 0, 0, 0, 0, 0, 0, 0, 0, 0, 0, 0, 0, 0, 0, 0, 0, 0, 0, 0, 0, 0, 0, 0, 0, 1, 0, 0, 0, 0, 0, 0, 0, 0, 0, 0, 0, 0, 0, 0, 0, 0, 0, 0, 0, 0, 1, 0, 0, 1, 0, 0, 0, 0, 0, 0, 0, 0, 0, 0, 0, 0, 0, 0, 0, 0, 0, 0, 0, 0, 0, 0, 0, 0, 0, 0, 0, 0, 0, 0, 0, 0, 0, 0, 0, 0, 0, 0, 0, 0, 0, 0, 0, 0, 0, 0, 0, 0, 0, 0, 0, 0, 0, 0, 0, 0, 0, 0, 0, 0, 0, 0, 0, 0, 0, 0, 0, 0, 0, 0, 0, 0, 0, 0, 0, 0, 0, 0, 0, 0, 0, 0, 0, 0, 0, 0, 0, 0, 0, 0, 0, 0, 0, 0, 0, 0, 0, 0, 0, 0, 0, 0, 0, 0, 0, 0, 0, 0, 0, 0, 0, 0, 0, 0, 0, 0, 0, 0, 0, 0, 0, 0, 0, 0, 0, 0, 0, 0, 0, 0, 0, 0, 0, 0, 0, 0, 0, 0, 0, 0, 0, 0, 0, 0, 0, 0, 0, 0, 0, 0, 0, 0, 0, 0, 0, 0, 0, 0, 0, 0, 0, 0, 0, 0, 0, 0, 0, 0, 0, 0, 0, 0, 0, 0, 0, 0, 0, 0, 0, 0, 0, 0, 0, 0, 0, 0, 0, 0, 0, 0, 0, 0, 0, 0, 0, 0, 0, 0, 0, 0, 0, 0, 0, 0, 0, 0, 0, 0, 0, 0, 0, 0, 0, 0, 0, 0, 0, 0, 0, 0, 0, 0, 0, 0, 0, 0, 0, 0, 0, 0, 0, 0, 0, 0, 0, 0, 0, 0, 0, 0, 0, 0, 0, 0, 0, 0, 0, 0, 0, 0, 0, 0, 0, 0, 0, 0, 0, 0, 0, 0, 0, 0, 0, 0, 0, 0, 0, 0, 0, 0, 0, 0, 0, 0, 0, 0, 0, 0, 0, 0, 0, 0, 0, 0, 0, 0, 0, 0, 0, 0, 0, 0, 0, 0, 0, 0, 0, 0, 0, 0, 0, 0, 0, 0, 0, 0, 0, 0, 0, 0, 0, 0, 0, 0, 0, 0, 0, 0, 0, 0, 0, 0, 0, 0, 0, 0, 0, 0, 0, 0, 0, 0, 0, 0, 0, 0, 0, 0, 0, 0, 0, 0, 0, 0, 0, 0, 0, 0, 0, 0, 0, 0, 0, 0, 0, 0, 0, 0, 0, 0, 0, 0, 0, 0, 0, 0, 0, 0, 0, 0, 0, 0, 0, 0, 0, 0, 0, 0, 0, 0, 0, 0, 0, 0, 0, 0, 0, 0, 0, 0, 0, 0, 0, 0, 0, 0, 0, 0, 0, 0, 0, 0, 0, 0, 0, 0, 0, 0, 0, 0, 0, 0, 0, 0, 0, 0, 0, 0, 0, 0, 0, 0, 0, 0, 0, 0, 0, 0, 0, 0, 0, 0, 0, 0, 0, 0, 0, 0, 0, 0, 0, 0, 0, 0, 0, 0, 0, 0, 0, 0, 0, 0, 0, 0, 0, 0, 0, 0, 0, 0, 0, 0, 0, 0, 0, 0, 0, 1, 0, 0, 0, 0, 0, 0, 0, 0, 0, 0, 0, 0, 0, 0, 0, 0, 0, 0, 0, 0, 0, 0, 0, 0, 0, 0, 0, 0, 0, 0, 0, 0, 0, 0, 0, 0, 0, 0, 0, 0, 0, 0, 0, 0, 0, 0, 0, 0, 0, 0, 0, 0, 0, 0, 0, 0, 0, 0, 0, 0, 0, 0, 0, 0, 0, 0, 0, 0, 0, 0, 0, 0, 0, 0, 0, 0, 0, 0, 0, 0, 0, 0, 0, 0, 0, 0, 0, 0, 0, 0, 0, 0, 0, 0, 0, 0, 0, 0, 0, 0, 0, 0, 0, 0, 0, 0, 0, 0, 0, 0, 0, 0, 0, 0, 0, 0, 0, 0, 0, 0, 0, 0, 0, 0, 0, 0, 0, 0, 0, 0, 0, 0, 0, 0, 0, 0, 0, 0, 0, 0, 0, 0, 0, 0, 0, 0, 0, 0, 0, 0, 0, 0, 0, 0, 0, 0, 0, 0, 0, 0, 0, 0, 0, 0, 0, 0, 0, 0, 0, 0, 0, 0, 0, 0, 0, 0, 0, 0, 0, 0, 0, 0, 0, 0, 0, 0, 0, 0, 0, 0, 0, 0, 0, 0, 0, 0, 0, 0, 0, 0, 0, 0, 0, 0, 0, 0, 0, 0, 0, 0, 0, 0, 0, 0, 0, 0, 0, 0, 0, 0, 0, 0, 0, 0, 0, 0, 0, 0, 0, 0, 0, 0, 0, 0, 0, 0, 0, 0, 0, 0, 0, 0, 0, 0, 0, 0, 0, 0, 0, 0, 0, 0, 0, 0, 0, 0, 0, 0, 0, 0, 0, 0, 0, 0, 0, 0, 0, 0, 0, 0, 0, 0, 0, 0, 0, 0, 0, 0, 0, 0, 0, 0, 0, 0, 0, 0, 0, 0, 0, 0, 0, 0, 0, 0, 0, 0, 0, 0, 0, 0, 0, 0, 0, 0, 0, 0, 0, 0, 0, 0, 0, 0, 0, 0, 0, 0, 0, 0, 0, 0, 0, 0, 0, 0, 0, 0, 0, 0, 0, 0, 0, 0, 0, 0, 0, 0, 0, 0, 0, 0, 0, 0, 0, 0, 0, 0, 0, 0, 0, 0, 0, 0, 0, 0, 0, 0, 0, 0, 0, 0, 0, 0, 0, 0, 0, 0, 0, 0, 0, 0, 0, 0, 0, 0, 0, 0, 0, 0, 0, 0, 0, 0, 0, 0, 0, 0, 0, 0, 0, 0, 0, 0, 0, 0, 0, 0, 0, 0, 0, 0, 0, 0, 0, 0, 0, 0, 0, 0, 0, 0, 0, 0, 0, 0, 0, 0, 0, 0, 0, 0, 0, 0, 0, 0, 0, 0, 0, 0, 0, 0, 0, 0, 0, 0, 0, 0, 0, 0, 0, 0, 0, 0, 0, 0, 0, 0, 0, 0, 0, 0, 0, 0, 0, 0, 0, 0, 0, 0, 0, 0, 0, 0, 0, 0, 0, 0, 0, 0, 0, 0, 0, 0, 0, 0, 0, 0, 0, 0, 0, 0, 0, 0, 0, 0, 0, 0, 0, 0, 0, 0, 0, 0, 0, 0, 0, 0, 0, 0, 0, 0, 0, 0, 0, 0, 0, 0, 0, 0, 0, 0, 0, 0, 1, 0, 0, 0, 0, 0, 0, 0, 0, 0, 0, 0, 0, 0, 0, 0, 0, 0, 0, 0, 0, 0, 0, 0, 0, 0, 0, 0, 0, 0, 0, 0, 0, 0, 0, 0, 2, 0, 0, 0, 0, 0, 0, 0, 0, 0, 0, 0, 0, 0, 0, 0, 0, 0, 0, 0, 0, 0, 0, 0, 0, 0, 0, 0, 0, 0, 0, 0, 0, 0, 0, 0, 0, 0, 0, 0, 0, 1, 0, 0, 0, 0, 0, 0, 0, 0, 0, 0, 0, 0, 0, 0, 0, 0, 0, 0, 0, 0, 0, 0, 0, 0, 0, 0, 0, 0, 0, 0, 0, 0, 0, 0, 0, 0, 0, 0, 0, 0, 0, 0, 0, 0, 0, 0, 0, 0, 0, 0, 0, 0, 0, 0, 0, 0, 0, 0, 0, 0, 0, 0, 0, 0, 0, 0, 0, 0, 0, 0, 0, 0, 0, 0, 0, 0, 0, 0, 0, 0, 0, 0, 0, 0, 0, 0, 0, 0, 0, 0, 0, 0, 0, 0, 0, 0, 0, 0, 0, 0, 0, 0, 0, 0, 0, 0, 0, 0, 0, 0, 0, 0, 0, 0, 0, 0, 0, 0, 0, 0, 0, 0, 0, 0, 0, 0, 0, 0, 0, 0, 0, 0, 0, 0, 0, 0, 0, 0, 0, 0, 0, 0, 0, 0, 0, 0, 0, 0, 0, 0, 0, 0, 0, 0, 0, 0, 0, 0, 0, 0, 0, 0, 0, 0, 0, 0, 0, 0, 0, 0, 0, 0, 0, 0, 0, 0, 0, 0, 0, 0, 0, 0, 0, 0, 0, 0, 0, 0, 0, 0, 0, 0, 0, 0, 0, 0, 0, 0, 0, 0, 0, 0, 0, 0, 0, 0, 0, 0, 0, 0, 0, 0, 0, 0, 0, 0, 0, 0, 0, 0, 0, 0, 0, 0, 0, 0, 0, 0, 0, 0, 0, 0, 0, 0, 0, 0, 0, 0, 0, 0, 0, 0, 0, 0, 0, 0, 0, 0, 0, 0, 0, 0, 0, 0, 0, 0, 0, 0, 0, 0, 0, 0, 0, 0, 0, 0, 0, 0, 0, 0, 0, 0, 0, 0, 0, 0, 0, 0, 0, 0, 0, 0, 0, 0, 0, 0, 0, 0, 0, 0, 0, 0, 0, 0, 0, 0, 0, 0, 0, 0, 0, 0, 0, 0, 0, 0, 0, 0, 0, 0, 0, 0, 0, 0, 0, 0, 0, 0, 0, 0, 0, 0, 0, 0, 0, 0, 0, 0, 0, 0, 0, 0, 0, 0, 0, 0, 0, 0, 0, 0, 0, 0, 0, 0, 0, 0, 0, 0, 0, 0, 0, 0, 0, 0, 0, 0, 0, 0, 0, 0, 0, 0, 0, 0, 0, 0, 0, 0, 0, 0, 0, 0, 0, 0, 0, 0, 0, 0, 0, 0, 0, 0, 0, 0, 0, 0, 0, 0, 0, 0, 0, 0, 0, 0, 0, 0, 0, 0, 0, 0, 0, 0, 0, 0, 0, 0, 0, 0, 0, 0, 0, 0, 0, 0, 0, 0, 0, 0, 0, 0, 0, 0, 0, 0, 0, 0, 0, 0, 0, 0, 0, 0, 0, 0, 0, 0, 0, 0, 0, 0, 0, 0, 0, 0, 0, 0, 0, 0, 0, 0, 0, 0, 0, 0, 0, 0, 0, 0, 0, 0, 0, 0, 0, 0, 0, 0, 0, 0, 0, 0, 0, 0, 0, 0, 0, 0, 0, 0, 0, 0, 0, 0, 0, 0, 0, 0, 0, 0, 0, 0, 0, 0, 0, 0, 0, 0, 0, 0, 1, 0, 0, 0, 0, 0, 0, 0, 0, 0, 0, 0, 0, 0, 0, 0, 0, 0, 0, 0, 0, 0, 0, 0, 0, 0, 0, 0, 0, 0, 0, 0, 0, 0, 0, 0, 0, 0, 0, 0, 0, 0, 0, 0, 0, 0, 0, 0, 0, 0, 0, 0, 0, 0, 0, 0, 0, 0, 0, 0, 0, 0, 0, 0, 0, 0, 0, 0, 0, 0, 0, 0, 0, 0, 0, 0, 0, 0, 0, 0, 0, 0, 0, 0, 0, 0, 0, 0, 0, 0, 0, 0, 0, 0, 0, 0, 0, 0, 0, 0, 0, 0, 0, 0, 0, 0, 0, 0, 0, 0, 0, 2, 0, 0, 0, 0, 0, 0, 0, 0, 0, 0, 0, 0, 0, 0, 0, 0, 0, 0, 0, 0, 0, 0, 0, 0, 0, 0, 0, 0, 0, 0, 0, 0, 0, 0, 0, 0, 0, 0, 0, 0, 0, 0, 0, 0, 0, 0, 0, 0, 0, 0, 0, 0, 0, 0, 0, 0, 0, 0, 0, 0, 0, 0, 0, 0, 0, 0, 0, 0, 0, 0, 0, 0, 0, 0, 0, 0, 0, 0, 0, 0, 0, 0, 0, 0, 0, 0, 0, 0, 0, 0, 0, 0, 0, 0, 0, 0, 0, 0, 0, 0, 0, 0, 0, 0, 0, 0, 0, 0, 0, 0, 0, 0, 0, 0, 0, 0, 0, 0, 0, 0, 0, 0, 0, 0, 0, 0, 0, 0, 0, 0, 0, 0, 0, 0, 0, 0, 0, 0, 0, 0, 0, 0, 0, 0, 0, 0, 0, 0, 0, 0, 0, 0, 0, 0, 0, 0, 0, 0, 0, 0, 0, 0, 0, 0, 0, 0, 0, 0, 0, 0, 0, 0, 0, 0, 0, 0, 0, 0, 0, 0, 0, 0, 0, 0, 0, 0, 0, 0, 0, 0, 0, 0, 0, 0, 0, 0, 0, 0, 0, 0, 0, 0, 0, 0, 0, 0, 0, 0, 0, 0, 0, 0, 0, 0, 0, 0, 0, 0, 0, 0, 0, 0, 0, 0, 0, 0, 0, 0, 0, 0, 0, 0, 0, 0, 0, 0, 0, 0, 0, 0, 0, 0, 0, 0, 0, 0, 0, 0, 0, 0, 0, 0, 0, 0, 0, 0, 0, 0, 0, 0, 0, 0, 0, 0, 0, 0, 0, 0, 0, 0, 0, 0, 0, 0, 0, 0, 0, 0, 0, 0, 0, 0, 0, 0, 0, 0, 0, 0, 0, 0, 0, 0, 0, 0, 0, 0, 0, 0, 0, 0, 0, 0, 0, 0, 0, 0, 0, 0, 0, 0, 0, 0, 0, 0, 0, 0, 0, 0, 0, 0, 0, 0, 0, 0, 0, 0, 0, 0, 0, 0, 0, 0, 0, 0, 0, 0, 0, 0, 0, 0, 0, 0, 0, 0, 0, 0, 0, 0, 0, 0, 0, 0, 0, 0, 0, 0, 0, 0, 0, 0, 0, 0, 0, 0, 0, 0, 0, 0, 0, 0, 0, 0, 0, 0, 0, 0, 0, 0, 0, 0, 0, 0, 0, 0, 0, 0, 0, 0, 0, 0, 0, 0, 0, 0, 0, 0, 0, 0, 0, 0, 0, 0, 0, 0, 0, 0, 0, 0, 0, 0, 0, 0, 0, 0, 0, 0, 0, 0, 0, 0, 0, 0, 0, 0, 0, 0, 0, 0, 0, 0, 0, 0, 0, 0, 0, 0, 0, 0, 0, 0, 0, 0, 0, 0, 0, 0, 0, 0, 0, 0, 0, 0, 0, 0, 0, 0, 0, 0, 0, 0, 0, 0, 0, 0, 0, 0, 0, 0, 0, 0, 0, 0, 0, 0, 0, 0, 0, 0, 0, 0, 0, 0, 0, 0, 0, 0, 0, 0, 0, 0, 0, 0, 0, 0, 0, 0, 0, 0, 0, 0, 0, 0, 0, 0, 0, 0, 0, 0, 0, 0, 0, 0, 0, 0, 0, 0, 0, 0, 0, 0, 0, 0, 0, 0, 0, 0, 0, 0, 0, 0, 0, 0, 0, 0, 0, 0, 0, 0, 0, 0, 0, 0, 0, 0, 0, 0, 0, 0, 0, 0, 0, 0, 0, 0, 0, 0, 0, 0, 0, 0, 0, 0, 0, 0, 0, 0, 0, 0, 0, 0, 0, 0, 0, 0, 0, 0, 0, 0, 0, 0, 0, 0, 0, 0, 0, 0, 0, 0, 0, 0, 0, 0, 0, 0, 0, 0, 0, 0, 0, 0, 0, 0, 0, 0, 0, 0, 0, 0, 0, 0, 0, 0, 0, 0, 0, 0, 0, 0, 0, 0, 0, 0, 0, 0, 0, 0, 0, 0, 0, 0, 0, 0, 0, 0, 0, 0, 0, 0, 0, 0, 0, 0, 0, 0, 0, 0, 0, 0, 0, 0, 0, 0, 0, 0, 0, 0, 0, 0, 0, 0, 0, 0, 0, 0, 0, 0, 0, 0, 0, 0, 0, 0, 0, 0, 0, 0, 0, 0, 0, 0, 0, 0, 0, 0, 0, 0, 0, 0, 1, 0, 0, 0, 0, 0, 0, 0, 0, 0, 0, 0, 0, 0, 0, 0, 0, 0, 0, 0, 0, 0, 0, 0, 0, 0, 0, 0, 0, 0, 0, 0, 0, 0, 0, 0, 0, 0, 0, 0, 0, 0, 0, 0, 0, 0, 0, 0, 0, 0, 0, 0, 0, 0, 0, 0, 0, 0, 0, 0, 0, 0, 0, 0, 0, 0, 0, 0, 0, 0, 0, 0, 0, 0, 0, 0, 0, 0, 0, 0, 0, 0, 0, 0, 0, 0, 0, 0, 0, 0, 0, 0, 0, 0, 0, 0, 0, 0, 0, 0, 0, 0, 0, 0, 0, 0, 0, 0, 1, 0, 0, 0, 0, 0, 0, 0, 0, 0, 0, 0, 0, 0, 0, 0, 0, 0, 0, 0, 0, 0, 0, 0, 0, 0, 0, 0, 0, 0, 0, 0, 0, 0, 0, 0, 0, 0, 0, 0, 0, 0, 0, 0, 0, 0, 0, 0, 0, 0, 0, 0, 0, 0, 0, 0, 0, 0, 0, 0, 0, 0, 0, 0, 0, 0, 0, 0, 0, 0, 0, 0, 0, 0, 0, 0, 0, 0, 0, 0, 0, 0, 0, 0, 0, 0, 0, 0, 0, 0, 0, 0, 0, 0, 0, 0, 0, 0, 0, 0, 0, 0, 0, 0, 0, 0, 0, 0, 0, 0, 0, 0, 0, 0, 0, 0, 0, 0, 0, 0, 0, 0, 0, 0, 0, 0, 0, 0, 0, 0, 0, 0, 0, 0, 0, 0, 0, 0, 0, 0, 0, 0, 0, 0, 0, 0, 0, 0, 0, 0, 0, 0, 0, 0, 0, 0, 0, 0, 0, 0, 0, 0, 0, 0, 0, 0, 0, 0, 0, 0, 0, 0, 0, 0, 0, 0, 0, 0, 0, 0, 0, 0, 0, 0, 0, 0, 0, 0, 0, 0, 0, 0, 0, 0, 0, 0, 0, 0, 0, 0, 0, 0, 0, 0, 0, 0, 0, 0, 0, 0, 0, 0, 0, 0, 0, 0, 0, 0, 0, 0, 0, 0, 0, 0, 0, 0, 0, 0, 0, 0, 0, 0, 0, 0, 0, 0, 0, 0, 0, 0, 0, 0, 0, 0, 0, 0, 0, 0, 0, 0, 0, 0, 0, 0, 0, 0, 0, 0, 0, 0, 0, 0, 0, 0, 0, 0, 0, 0, 0, 0, 0, 0, 0, 0, 0, 0, 0, 0, 0, 0, 0, 0, 0, 0, 0, 0, 0, 0, 0, 0, 0, 0, 0, 0, 0, 0, 0, 0, 0, 0, 0, 0, 0, 0, 0, 0, 0, 0, 0, 0, 0, 0, 0, 0, 0, 0, 0, 0, 0, 0, 0, 0, 0, 0, 0, 0, 0, 0, 0, 0, 0, 0, 0, 0, 0, 0, 0, 0, 0, 0, 0, 0, 0, 0, 0, 0, 0, 0, 0, 0, 0, 0, 0, 0, 0, 0, 0, 0, 0, 0, 0, 0, 0, 0, 0, 0, 0, 0, 0, 0, 0, 0, 0, 0, 0, 0, 0, 0, 0, 0, 0, 0, 0, 0, 0, 0, 0, 0, 0, 0, 0, 0, 0, 0, 0, 0, 0, 0, 0, 0, 0, 0, 0, 0, 0, 0, 0, 0, 0, 0, 0, 0, 0, 0, 0, 0, 0, 0, 0, 0, 0, 0, 0, 0, 0, 0, 0, 0, 0, 0, 0, 0, 0, 0, 0, 0, 0, 0, 0, 0, 0, 0, 0, 0, 0, 0, 0, 0, 0, 0, 0, 0, 0, 0, 0, 0, 0, 0, 0, 0, 0, 0, 0, 0, 2, 0, 1, 0]\n"
     ]
    }
   ],
   "source": [
    "test_bow = bow_encoding(test_words, vocabulary)\n",
    "print(test_bow)"
   ]
  },
  {
   "cell_type": "code",
   "execution_count": 40,
   "metadata": {},
   "outputs": [
    {
     "data": {
      "text/plain": [
       "5000"
      ]
     },
     "execution_count": 40,
     "metadata": {},
     "output_type": "execute_result"
    }
   ],
   "source": [
    "len(test_bow)"
   ]
  },
  {
   "cell_type": "markdown",
   "metadata": {},
   "source": [
    "So now we know how to construct a bag of words encoding of a user provided review, how to we send it to our endpoint? First, we need to start the endpoint back up."
   ]
  },
  {
   "cell_type": "code",
   "execution_count": 42,
   "metadata": {},
   "outputs": [
    {
     "name": "stderr",
     "output_type": "stream",
     "text": [
      "Parameter image will be renamed to image_uri in SageMaker Python SDK v2.\n",
      "Using already existing model: xgboost-2020-09-23-12-39-55-496\n"
     ]
    },
    {
     "name": "stdout",
     "output_type": "stream",
     "text": [
      "-------------!"
     ]
    }
   ],
   "source": [
    "xgb_predictor = xgb.deploy(initial_instance_count = 1, instance_type = 'ml.m4.xlarge')"
   ]
  },
  {
   "cell_type": "markdown",
   "metadata": {},
   "source": [
    "At this point we could just do the same thing that we did earlier when we tested our deployed model and send `test_bow` to our endpoint using the `xgb_predictor` object. However, when we eventually construct our Lambda function we won't have access to this object, so how do we call a SageMaker endpoint?\n",
    "\n",
    "It turns out that Python functions that are used in Lambda have access to another Amazon library called `boto3`. This library provides an API for working with Amazon services, including SageMaker. To start with, we need to get a handle to the SageMaker runtime."
   ]
  },
  {
   "cell_type": "code",
   "execution_count": 44,
   "metadata": {},
   "outputs": [],
   "source": [
    "import boto3\n",
    "\n",
    "runtime = boto3.Session().client('sagemaker-runtime')"
   ]
  },
  {
   "cell_type": "markdown",
   "metadata": {},
   "source": [
    "And now that we have access to the SageMaker runtime, we can ask it to make use of (invoke) an endpoint that has already been created. However, we need to provide SageMaker with the name of the deployed endpoint. To find this out we can print it out using the `xgb_predictor` object."
   ]
  },
  {
   "cell_type": "code",
   "execution_count": 45,
   "metadata": {},
   "outputs": [
    {
     "data": {
      "text/plain": [
       "'xgboost-2020-09-23-12-39-55-496'"
      ]
     },
     "execution_count": 45,
     "metadata": {},
     "output_type": "execute_result"
    }
   ],
   "source": [
    "xgb_predictor.endpoint"
   ]
  },
  {
   "cell_type": "markdown",
   "metadata": {},
   "source": [
    "Using the SageMaker runtime and the name of our endpoint, we can invoke the endpoint and send it the `test_bow` data."
   ]
  },
  {
   "cell_type": "code",
   "execution_count": 46,
   "metadata": {},
   "outputs": [
    {
     "ename": "ParamValidationError",
     "evalue": "Parameter validation failed:\nInvalid type for parameter Body, value: [0, 0, 0, 0, 0, 0, 0, 0, 0, 0, 0, 0, 0, 0, 0, 0, 0, 0, 0, 0, 0, 0, 0, 0, 0, 0, 0, 0, 0, 0, 0, 0, 0, 0, 0, 0, 0, 0, 0, 0, 0, 0, 0, 0, 0, 0, 0, 0, 0, 0, 0, 0, 0, 0, 0, 0, 0, 0, 0, 0, 0, 0, 0, 0, 0, 0, 0, 0, 0, 0, 0, 0, 0, 0, 0, 0, 0, 0, 0, 0, 0, 0, 0, 0, 0, 0, 0, 0, 0, 0, 0, 0, 0, 0, 0, 0, 0, 0, 0, 0, 0, 0, 0, 0, 0, 0, 0, 0, 0, 0, 0, 0, 0, 0, 0, 0, 0, 0, 0, 0, 0, 0, 0, 0, 0, 0, 0, 0, 0, 0, 0, 0, 0, 0, 0, 0, 0, 0, 0, 0, 0, 0, 0, 0, 0, 0, 0, 0, 0, 0, 0, 0, 0, 0, 0, 0, 0, 0, 0, 0, 0, 0, 0, 0, 0, 0, 0, 0, 0, 0, 0, 0, 0, 0, 0, 0, 0, 0, 0, 0, 0, 0, 0, 0, 0, 0, 0, 0, 0, 0, 0, 0, 0, 0, 0, 0, 0, 0, 0, 0, 0, 0, 0, 0, 0, 0, 0, 0, 0, 0, 0, 0, 0, 0, 0, 0, 0, 0, 0, 0, 0, 0, 0, 0, 0, 0, 0, 1, 0, 0, 0, 0, 0, 0, 0, 0, 0, 0, 0, 0, 0, 0, 0, 0, 0, 0, 0, 0, 0, 0, 0, 0, 0, 0, 0, 0, 1, 0, 0, 0, 0, 0, 0, 0, 0, 0, 0, 0, 0, 0, 0, 0, 0, 0, 0, 0, 0, 0, 0, 0, 0, 0, 0, 0, 0, 0, 0, 0, 0, 0, 0, 0, 0, 0, 0, 0, 0, 0, 0, 0, 0, 0, 0, 0, 0, 0, 0, 0, 0, 0, 0, 0, 0, 0, 0, 0, 0, 0, 0, 0, 0, 0, 0, 0, 0, 0, 0, 0, 0, 0, 0, 0, 0, 0, 0, 0, 0, 0, 0, 0, 0, 0, 0, 0, 0, 0, 0, 0, 0, 0, 0, 0, 0, 0, 0, 0, 0, 0, 0, 0, 0, 0, 0, 0, 0, 0, 0, 0, 0, 0, 0, 0, 0, 0, 0, 0, 0, 0, 0, 0, 0, 0, 0, 0, 0, 0, 0, 0, 0, 0, 0, 0, 0, 0, 0, 0, 0, 0, 0, 0, 0, 0, 0, 0, 0, 0, 0, 0, 0, 0, 0, 0, 0, 0, 0, 0, 0, 0, 0, 0, 0, 0, 0, 0, 0, 0, 0, 0, 0, 0, 0, 0, 0, 0, 0, 0, 0, 0, 0, 0, 0, 0, 0, 0, 0, 0, 0, 0, 0, 0, 0, 0, 0, 0, 0, 0, 0, 0, 0, 0, 0, 0, 0, 0, 0, 0, 0, 0, 0, 0, 0, 0, 0, 0, 0, 0, 0, 0, 0, 0, 0, 0, 0, 0, 0, 0, 0, 0, 0, 0, 0, 0, 0, 0, 0, 0, 0, 0, 0, 0, 0, 0, 0, 0, 0, 0, 0, 0, 0, 0, 0, 0, 0, 0, 0, 0, 0, 0, 0, 0, 0, 0, 0, 0, 0, 0, 0, 0, 0, 0, 0, 0, 0, 0, 0, 0, 0, 0, 0, 0, 0, 0, 0, 0, 0, 0, 0, 0, 0, 0, 0, 0, 0, 0, 0, 0, 0, 0, 0, 0, 0, 0, 0, 0, 0, 0, 0, 0, 0, 0, 0, 0, 0, 0, 0, 0, 0, 0, 0, 0, 0, 0, 0, 0, 0, 0, 0, 0, 0, 0, 0, 0, 0, 0, 0, 0, 0, 0, 0, 0, 0, 0, 0, 0, 0, 0, 0, 0, 0, 0, 0, 0, 0, 0, 0, 0, 0, 0, 0, 0, 0, 0, 0, 0, 0, 0, 0, 0, 0, 0, 0, 0, 0, 0, 0, 1, 0, 0, 0, 0, 0, 0, 0, 0, 0, 0, 0, 0, 0, 0, 0, 0, 0, 0, 0, 0, 0, 0, 0, 0, 0, 0, 0, 0, 0, 0, 0, 0, 0, 0, 0, 0, 0, 0, 0, 0, 0, 0, 0, 0, 0, 0, 0, 0, 0, 0, 0, 0, 0, 0, 0, 0, 0, 0, 0, 0, 0, 0, 0, 0, 0, 0, 0, 0, 0, 0, 0, 0, 0, 0, 0, 0, 0, 0, 0, 0, 0, 0, 0, 0, 0, 0, 0, 0, 0, 0, 0, 0, 0, 0, 0, 0, 0, 0, 0, 0, 0, 0, 0, 0, 0, 0, 0, 0, 0, 0, 0, 0, 0, 0, 0, 0, 0, 0, 0, 0, 0, 0, 0, 0, 0, 0, 0, 0, 0, 0, 0, 0, 0, 0, 0, 0, 0, 0, 0, 0, 0, 0, 0, 0, 0, 0, 0, 0, 0, 0, 0, 0, 0, 0, 0, 0, 0, 0, 0, 0, 0, 0, 0, 0, 0, 0, 0, 0, 0, 0, 0, 0, 0, 0, 0, 0, 0, 0, 0, 0, 0, 0, 0, 0, 0, 0, 0, 0, 0, 0, 0, 0, 0, 0, 0, 0, 0, 0, 0, 0, 0, 0, 0, 0, 0, 0, 0, 0, 0, 0, 0, 0, 0, 0, 0, 0, 0, 0, 0, 0, 0, 0, 0, 0, 0, 0, 0, 0, 0, 0, 0, 0, 0, 0, 0, 0, 0, 0, 0, 0, 0, 0, 0, 0, 0, 0, 0, 0, 0, 0, 0, 0, 0, 1, 0, 0, 0, 0, 0, 0, 0, 0, 0, 0, 0, 0, 0, 0, 0, 0, 0, 0, 0, 0, 0, 0, 0, 0, 0, 0, 0, 0, 0, 0, 0, 0, 0, 0, 0, 0, 0, 0, 0, 0, 0, 0, 0, 0, 0, 0, 0, 0, 0, 0, 0, 0, 0, 0, 0, 0, 0, 0, 0, 0, 0, 0, 0, 0, 0, 0, 0, 0, 0, 0, 0, 0, 0, 0, 0, 0, 0, 0, 0, 0, 0, 0, 0, 0, 0, 0, 0, 1, 0, 0, 0, 0, 0, 0, 0, 0, 0, 0, 0, 0, 0, 0, 0, 0, 0, 0, 0, 0, 0, 0, 0, 0, 0, 0, 0, 0, 0, 0, 0, 0, 0, 0, 0, 0, 0, 0, 0, 0, 0, 0, 0, 0, 0, 0, 0, 0, 0, 0, 0, 0, 0, 0, 0, 0, 0, 0, 0, 0, 0, 0, 0, 0, 0, 0, 0, 0, 0, 0, 0, 0, 0, 0, 0, 0, 0, 0, 0, 0, 0, 0, 0, 0, 0, 0, 0, 0, 0, 0, 0, 0, 0, 0, 0, 0, 0, 0, 0, 0, 0, 0, 0, 0, 0, 0, 0, 0, 0, 0, 0, 0, 0, 0, 0, 0, 0, 0, 0, 0, 0, 0, 0, 0, 0, 0, 0, 0, 0, 0, 0, 0, 0, 0, 0, 0, 0, 0, 0, 0, 0, 0, 0, 0, 0, 0, 0, 0, 0, 0, 0, 0, 0, 0, 0, 0, 0, 0, 0, 0, 0, 0, 0, 0, 0, 0, 0, 0, 0, 0, 0, 0, 0, 0, 0, 0, 0, 0, 0, 0, 0, 0, 0, 0, 0, 0, 0, 0, 0, 0, 0, 0, 0, 0, 0, 0, 0, 0, 0, 0, 0, 0, 0, 0, 0, 0, 0, 0, 0, 0, 0, 0, 0, 0, 0, 0, 0, 0, 0, 0, 0, 0, 0, 0, 0, 0, 0, 0, 0, 0, 0, 0, 0, 0, 0, 0, 0, 0, 0, 0, 0, 0, 0, 0, 0, 0, 0, 0, 0, 0, 0, 0, 1, 0, 0, 0, 0, 0, 0, 0, 0, 0, 0, 0, 0, 0, 0, 0, 0, 0, 0, 0, 0, 0, 0, 0, 0, 0, 0, 0, 0, 0, 0, 0, 0, 0, 0, 0, 0, 0, 0, 0, 0, 0, 0, 0, 0, 0, 0, 0, 0, 0, 0, 0, 0, 0, 0, 0, 1, 0, 0, 0, 0, 0, 0, 0, 0, 0, 0, 0, 0, 0, 0, 0, 0, 0, 0, 0, 0, 0, 0, 0, 0, 0, 0, 0, 0, 0, 0, 0, 0, 0, 0, 0, 0, 0, 0, 0, 0, 0, 0, 0, 0, 0, 0, 0, 0, 0, 0, 0, 0, 0, 0, 0, 0, 0, 0, 0, 0, 0, 0, 0, 0, 0, 0, 0, 0, 0, 0, 0, 0, 0, 0, 0, 0, 0, 0, 0, 0, 0, 0, 0, 0, 0, 0, 0, 0, 0, 0, 0, 0, 0, 0, 0, 0, 0, 0, 0, 0, 0, 0, 0, 0, 0, 0, 0, 0, 0, 0, 0, 0, 0, 0, 0, 0, 0, 0, 0, 0, 0, 0, 0, 0, 0, 0, 0, 0, 0, 0, 0, 0, 0, 0, 0, 0, 0, 0, 0, 0, 0, 0, 0, 0, 0, 0, 0, 0, 0, 0, 0, 0, 0, 0, 0, 0, 0, 0, 0, 0, 0, 0, 0, 0, 0, 0, 0, 0, 0, 0, 0, 0, 0, 0, 0, 0, 0, 0, 0, 0, 0, 0, 0, 0, 0, 0, 0, 0, 0, 0, 0, 0, 0, 0, 0, 0, 0, 0, 0, 0, 0, 0, 0, 0, 0, 0, 0, 0, 0, 0, 0, 0, 0, 0, 0, 0, 0, 0, 0, 0, 0, 0, 0, 0, 0, 0, 0, 0, 0, 0, 0, 0, 0, 0, 0, 0, 0, 0, 0, 0, 0, 0, 0, 0, 0, 0, 0, 0, 0, 0, 0, 0, 0, 0, 0, 0, 0, 0, 0, 0, 0, 0, 0, 0, 0, 0, 0, 0, 0, 0, 0, 0, 0, 0, 0, 0, 0, 0, 0, 0, 0, 0, 0, 0, 0, 0, 0, 0, 0, 0, 0, 0, 0, 0, 0, 0, 0, 0, 0, 0, 0, 0, 0, 0, 0, 0, 0, 0, 0, 0, 0, 0, 0, 0, 0, 0, 0, 0, 0, 0, 0, 0, 0, 0, 0, 0, 0, 0, 0, 0, 0, 0, 0, 0, 0, 0, 0, 0, 0, 0, 0, 0, 0, 0, 0, 0, 0, 0, 0, 0, 0, 0, 0, 0, 0, 0, 0, 0, 0, 0, 0, 0, 0, 0, 0, 0, 0, 0, 0, 0, 0, 0, 0, 0, 0, 0, 0, 0, 0, 0, 0, 0, 0, 0, 0, 0, 0, 0, 0, 0, 0, 0, 0, 0, 0, 0, 0, 0, 0, 0, 0, 0, 0, 0, 0, 0, 0, 0, 0, 0, 0, 0, 0, 0, 0, 0, 0, 0, 0, 0, 0, 0, 0, 0, 0, 0, 0, 0, 0, 0, 0, 0, 0, 0, 0, 0, 0, 0, 0, 0, 0, 0, 0, 0, 0, 0, 0, 0, 0, 0, 0, 0, 0, 0, 0, 0, 0, 0, 0, 0, 0, 0, 0, 0, 0, 0, 0, 0, 0, 0, 0, 0, 0, 0, 0, 0, 0, 0, 0, 0, 0, 0, 0, 0, 0, 0, 0, 0, 0, 0, 0, 0, 0, 0, 0, 0, 0, 0, 0, 0, 0, 0, 0, 0, 0, 0, 0, 0, 0, 0, 0, 0, 0, 0, 0, 0, 0, 0, 0, 0, 0, 0, 0, 0, 0, 0, 0, 0, 0, 0, 0, 0, 0, 0, 0, 0, 0, 0, 0, 0, 0, 0, 0, 0, 0, 0, 0, 0, 0, 0, 0, 0, 0, 0, 0, 0, 0, 0, 0, 0, 0, 0, 0, 0, 0, 0, 0, 0, 0, 0, 0, 0, 0, 0, 0, 0, 0, 0, 0, 0, 0, 0, 0, 0, 0, 0, 0, 0, 0, 0, 0, 0, 0, 0, 0, 0, 0, 0, 0, 0, 0, 0, 0, 0, 0, 0, 0, 0, 0, 0, 0, 0, 0, 0, 0, 0, 0, 0, 0, 0, 0, 0, 0, 0, 0, 0, 0, 0, 0, 0, 0, 0, 0, 0, 0, 0, 0, 0, 0, 0, 0, 0, 0, 0, 0, 0, 0, 0, 0, 0, 0, 0, 0, 0, 0, 0, 0, 0, 0, 0, 0, 0, 0, 0, 0, 0, 0, 0, 0, 0, 0, 0, 0, 0, 0, 0, 0, 0, 0, 0, 0, 1, 0, 0, 0, 0, 0, 0, 0, 0, 0, 0, 0, 0, 0, 0, 0, 0, 0, 0, 0, 0, 0, 0, 0, 0, 0, 0, 0, 0, 0, 0, 0, 0, 0, 0, 0, 0, 0, 0, 0, 0, 0, 0, 0, 0, 0, 0, 0, 0, 0, 0, 0, 0, 0, 0, 0, 0, 0, 0, 0, 0, 0, 0, 0, 0, 0, 0, 0, 0, 0, 0, 0, 0, 0, 0, 1, 0, 0, 0, 0, 0, 0, 0, 0, 0, 0, 0, 0, 0, 0, 0, 0, 0, 0, 0, 0, 1, 0, 0, 1, 0, 0, 0, 0, 0, 0, 0, 0, 0, 0, 0, 0, 0, 0, 0, 0, 0, 0, 0, 0, 0, 0, 0, 0, 0, 0, 0, 0, 0, 0, 0, 0, 0, 0, 0, 0, 0, 0, 0, 0, 0, 0, 0, 0, 0, 0, 0, 0, 0, 0, 0, 0, 0, 0, 0, 0, 0, 0, 0, 0, 0, 0, 0, 0, 0, 0, 0, 0, 0, 0, 0, 0, 0, 0, 0, 0, 0, 0, 0, 0, 0, 0, 0, 0, 0, 0, 0, 0, 0, 0, 0, 0, 0, 0, 0, 0, 0, 0, 0, 0, 0, 0, 0, 0, 0, 0, 0, 0, 0, 0, 0, 0, 0, 0, 0, 0, 0, 0, 0, 0, 0, 0, 0, 0, 0, 0, 0, 0, 0, 0, 0, 0, 0, 0, 0, 0, 0, 0, 0, 0, 0, 0, 0, 0, 0, 0, 0, 0, 0, 0, 0, 0, 0, 0, 0, 0, 0, 0, 0, 0, 0, 0, 0, 0, 0, 0, 0, 0, 0, 0, 0, 0, 0, 0, 0, 0, 0, 0, 0, 0, 0, 0, 0, 0, 0, 0, 0, 0, 0, 0, 0, 0, 0, 0, 0, 0, 0, 0, 0, 0, 0, 0, 0, 0, 0, 0, 0, 0, 0, 0, 0, 0, 0, 0, 0, 0, 0, 0, 0, 0, 0, 0, 0, 0, 0, 0, 0, 0, 0, 0, 0, 0, 0, 0, 0, 0, 0, 0, 0, 0, 0, 0, 0, 0, 0, 0, 0, 0, 0, 0, 0, 0, 0, 0, 0, 0, 0, 0, 0, 0, 0, 0, 0, 0, 0, 0, 0, 0, 0, 0, 0, 0, 0, 0, 0, 0, 0, 0, 0, 0, 0, 0, 0, 0, 0, 0, 0, 0, 0, 0, 0, 0, 0, 0, 0, 0, 0, 0, 0, 0, 0, 0, 0, 0, 0, 0, 0, 0, 0, 0, 0, 0, 0, 0, 0, 0, 0, 0, 0, 0, 0, 0, 0, 0, 0, 0, 0, 0, 0, 0, 0, 0, 0, 0, 0, 0, 0, 0, 0, 0, 0, 0, 0, 0, 0, 0, 0, 0, 0, 0, 0, 0, 0, 0, 0, 0, 0, 0, 0, 0, 0, 0, 0, 0, 0, 0, 0, 0, 0, 0, 0, 0, 0, 0, 0, 0, 0, 0, 0, 0, 0, 0, 0, 0, 0, 0, 0, 0, 0, 0, 0, 0, 0, 0, 0, 0, 0, 0, 0, 0, 0, 0, 0, 0, 0, 0, 0, 0, 0, 0, 0, 0, 0, 0, 0, 0, 0, 0, 0, 0, 0, 0, 0, 0, 0, 0, 0, 0, 0, 0, 0, 0, 0, 0, 0, 0, 0, 0, 0, 0, 0, 0, 0, 0, 0, 0, 0, 0, 0, 0, 0, 0, 0, 0, 0, 0, 0, 0, 0, 0, 0, 0, 0, 0, 0, 0, 0, 1, 0, 0, 0, 0, 0, 0, 0, 0, 0, 0, 0, 0, 0, 0, 0, 0, 0, 0, 0, 0, 0, 0, 0, 0, 0, 0, 0, 0, 0, 0, 0, 0, 0, 0, 0, 0, 0, 0, 0, 0, 0, 0, 0, 0, 0, 0, 0, 0, 0, 0, 0, 0, 0, 0, 0, 0, 0, 0, 0, 0, 0, 0, 0, 0, 0, 0, 0, 0, 0, 0, 0, 0, 0, 0, 0, 0, 0, 0, 0, 0, 0, 0, 0, 0, 0, 0, 0, 0, 0, 0, 0, 0, 0, 0, 0, 0, 0, 0, 0, 0, 0, 0, 0, 0, 0, 0, 0, 0, 0, 0, 0, 0, 0, 0, 0, 0, 0, 0, 0, 0, 0, 0, 0, 0, 0, 0, 0, 0, 0, 0, 0, 0, 0, 0, 0, 0, 0, 0, 0, 0, 0, 0, 0, 0, 0, 0, 0, 0, 0, 0, 0, 0, 0, 0, 0, 0, 0, 0, 0, 0, 0, 0, 0, 0, 0, 0, 0, 0, 0, 0, 0, 0, 0, 0, 0, 0, 0, 0, 0, 0, 0, 0, 0, 0, 0, 0, 0, 0, 0, 0, 0, 0, 0, 0, 0, 0, 0, 0, 0, 0, 0, 0, 0, 0, 0, 0, 0, 0, 0, 0, 0, 0, 0, 0, 0, 0, 0, 0, 0, 0, 0, 0, 0, 0, 0, 0, 0, 0, 0, 0, 0, 0, 0, 0, 0, 0, 0, 0, 0, 0, 0, 0, 0, 0, 0, 0, 0, 0, 0, 0, 0, 0, 0, 0, 0, 0, 0, 0, 0, 0, 0, 0, 0, 0, 0, 0, 0, 0, 0, 0, 0, 0, 0, 0, 0, 0, 0, 0, 0, 0, 0, 0, 0, 0, 0, 0, 0, 0, 0, 0, 0, 0, 0, 0, 0, 0, 0, 0, 0, 0, 0, 0, 0, 0, 0, 0, 0, 0, 0, 0, 0, 0, 0, 0, 0, 0, 0, 0, 0, 0, 0, 0, 0, 0, 0, 0, 0, 0, 0, 0, 0, 0, 0, 0, 0, 0, 0, 0, 0, 0, 0, 0, 0, 0, 0, 0, 0, 0, 0, 0, 0, 0, 0, 0, 0, 0, 0, 0, 0, 0, 0, 0, 0, 0, 0, 0, 0, 0, 0, 0, 0, 0, 0, 0, 0, 0, 0, 0, 0, 0, 0, 0, 0, 0, 0, 0, 0, 0, 0, 0, 0, 0, 0, 0, 0, 0, 0, 0, 0, 0, 0, 0, 0, 0, 0, 0, 0, 0, 0, 0, 0, 0, 0, 0, 0, 0, 0, 0, 0, 0, 0, 0, 0, 0, 0, 0, 0, 0, 0, 0, 0, 0, 0, 0, 0, 0, 0, 0, 0, 0, 0, 0, 0, 0, 0, 0, 0, 0, 0, 0, 0, 0, 0, 0, 0, 0, 0, 0, 0, 0, 0, 0, 0, 0, 0, 0, 0, 0, 0, 0, 0, 0, 0, 0, 0, 0, 0, 0, 0, 0, 0, 0, 0, 0, 0, 0, 0, 0, 0, 0, 0, 0, 0, 0, 0, 0, 0, 0, 0, 0, 0, 0, 0, 0, 0, 0, 0, 0, 0, 0, 0, 0, 1, 0, 0, 0, 0, 0, 0, 0, 0, 0, 0, 0, 0, 0, 0, 0, 0, 0, 0, 0, 0, 0, 0, 0, 0, 0, 0, 0, 0, 0, 0, 0, 0, 0, 0, 0, 2, 0, 0, 0, 0, 0, 0, 0, 0, 0, 0, 0, 0, 0, 0, 0, 0, 0, 0, 0, 0, 0, 0, 0, 0, 0, 0, 0, 0, 0, 0, 0, 0, 0, 0, 0, 0, 0, 0, 0, 0, 1, 0, 0, 0, 0, 0, 0, 0, 0, 0, 0, 0, 0, 0, 0, 0, 0, 0, 0, 0, 0, 0, 0, 0, 0, 0, 0, 0, 0, 0, 0, 0, 0, 0, 0, 0, 0, 0, 0, 0, 0, 0, 0, 0, 0, 0, 0, 0, 0, 0, 0, 0, 0, 0, 0, 0, 0, 0, 0, 0, 0, 0, 0, 0, 0, 0, 0, 0, 0, 0, 0, 0, 0, 0, 0, 0, 0, 0, 0, 0, 0, 0, 0, 0, 0, 0, 0, 0, 0, 0, 0, 0, 0, 0, 0, 0, 0, 0, 0, 0, 0, 0, 0, 0, 0, 0, 0, 0, 0, 0, 0, 0, 0, 0, 0, 0, 0, 0, 0, 0, 0, 0, 0, 0, 0, 0, 0, 0, 0, 0, 0, 0, 0, 0, 0, 0, 0, 0, 0, 0, 0, 0, 0, 0, 0, 0, 0, 0, 0, 0, 0, 0, 0, 0, 0, 0, 0, 0, 0, 0, 0, 0, 0, 0, 0, 0, 0, 0, 0, 0, 0, 0, 0, 0, 0, 0, 0, 0, 0, 0, 0, 0, 0, 0, 0, 0, 0, 0, 0, 0, 0, 0, 0, 0, 0, 0, 0, 0, 0, 0, 0, 0, 0, 0, 0, 0, 0, 0, 0, 0, 0, 0, 0, 0, 0, 0, 0, 0, 0, 0, 0, 0, 0, 0, 0, 0, 0, 0, 0, 0, 0, 0, 0, 0, 0, 0, 0, 0, 0, 0, 0, 0, 0, 0, 0, 0, 0, 0, 0, 0, 0, 0, 0, 0, 0, 0, 0, 0, 0, 0, 0, 0, 0, 0, 0, 0, 0, 0, 0, 0, 0, 0, 0, 0, 0, 0, 0, 0, 0, 0, 0, 0, 0, 0, 0, 0, 0, 0, 0, 0, 0, 0, 0, 0, 0, 0, 0, 0, 0, 0, 0, 0, 0, 0, 0, 0, 0, 0, 0, 0, 0, 0, 0, 0, 0, 0, 0, 0, 0, 0, 0, 0, 0, 0, 0, 0, 0, 0, 0, 0, 0, 0, 0, 0, 0, 0, 0, 0, 0, 0, 0, 0, 0, 0, 0, 0, 0, 0, 0, 0, 0, 0, 0, 0, 0, 0, 0, 0, 0, 0, 0, 0, 0, 0, 0, 0, 0, 0, 0, 0, 0, 0, 0, 0, 0, 0, 0, 0, 0, 0, 0, 0, 0, 0, 0, 0, 0, 0, 0, 0, 0, 0, 0, 0, 0, 0, 0, 0, 0, 0, 0, 0, 0, 0, 0, 0, 0, 0, 0, 0, 0, 0, 0, 0, 0, 0, 0, 0, 0, 0, 0, 0, 0, 0, 0, 0, 0, 0, 0, 0, 0, 0, 0, 0, 0, 0, 0, 0, 0, 0, 0, 0, 0, 0, 0, 0, 0, 0, 0, 0, 0, 0, 0, 0, 0, 0, 0, 0, 0, 0, 0, 0, 0, 0, 0, 0, 0, 0, 0, 0, 0, 0, 0, 0, 0, 0, 0, 0, 0, 0, 0, 0, 0, 0, 0, 0, 0, 0, 0, 0, 0, 0, 0, 0, 0, 0, 0, 0, 0, 1, 0, 0, 0, 0, 0, 0, 0, 0, 0, 0, 0, 0, 0, 0, 0, 0, 0, 0, 0, 0, 0, 0, 0, 0, 0, 0, 0, 0, 0, 0, 0, 0, 0, 0, 0, 0, 0, 0, 0, 0, 0, 0, 0, 0, 0, 0, 0, 0, 0, 0, 0, 0, 0, 0, 0, 0, 0, 0, 0, 0, 0, 0, 0, 0, 0, 0, 0, 0, 0, 0, 0, 0, 0, 0, 0, 0, 0, 0, 0, 0, 0, 0, 0, 0, 0, 0, 0, 0, 0, 0, 0, 0, 0, 0, 0, 0, 0, 0, 0, 0, 0, 0, 0, 0, 0, 0, 0, 0, 0, 0, 2, 0, 0, 0, 0, 0, 0, 0, 0, 0, 0, 0, 0, 0, 0, 0, 0, 0, 0, 0, 0, 0, 0, 0, 0, 0, 0, 0, 0, 0, 0, 0, 0, 0, 0, 0, 0, 0, 0, 0, 0, 0, 0, 0, 0, 0, 0, 0, 0, 0, 0, 0, 0, 0, 0, 0, 0, 0, 0, 0, 0, 0, 0, 0, 0, 0, 0, 0, 0, 0, 0, 0, 0, 0, 0, 0, 0, 0, 0, 0, 0, 0, 0, 0, 0, 0, 0, 0, 0, 0, 0, 0, 0, 0, 0, 0, 0, 0, 0, 0, 0, 0, 0, 0, 0, 0, 0, 0, 0, 0, 0, 0, 0, 0, 0, 0, 0, 0, 0, 0, 0, 0, 0, 0, 0, 0, 0, 0, 0, 0, 0, 0, 0, 0, 0, 0, 0, 0, 0, 0, 0, 0, 0, 0, 0, 0, 0, 0, 0, 0, 0, 0, 0, 0, 0, 0, 0, 0, 0, 0, 0, 0, 0, 0, 0, 0, 0, 0, 0, 0, 0, 0, 0, 0, 0, 0, 0, 0, 0, 0, 0, 0, 0, 0, 0, 0, 0, 0, 0, 0, 0, 0, 0, 0, 0, 0, 0, 0, 0, 0, 0, 0, 0, 0, 0, 0, 0, 0, 0, 0, 0, 0, 0, 0, 0, 0, 0, 0, 0, 0, 0, 0, 0, 0, 0, 0, 0, 0, 0, 0, 0, 0, 0, 0, 0, 0, 0, 0, 0, 0, 0, 0, 0, 0, 0, 0, 0, 0, 0, 0, 0, 0, 0, 0, 0, 0, 0, 0, 0, 0, 0, 0, 0, 0, 0, 0, 0, 0, 0, 0, 0, 0, 0, 0, 0, 0, 0, 0, 0, 0, 0, 0, 0, 0, 0, 0, 0, 0, 0, 0, 0, 0, 0, 0, 0, 0, 0, 0, 0, 0, 0, 0, 0, 0, 0, 0, 0, 0, 0, 0, 0, 0, 0, 0, 0, 0, 0, 0, 0, 0, 0, 0, 0, 0, 0, 0, 0, 0, 0, 0, 0, 0, 0, 0, 0, 0, 0, 0, 0, 0, 0, 0, 0, 0, 0, 0, 0, 0, 0, 0, 0, 0, 0, 0, 0, 0, 0, 0, 0, 0, 0, 0, 0, 0, 0, 0, 0, 0, 0, 0, 0, 0, 0, 0, 0, 0, 0, 0, 0, 0, 0, 0, 0, 0, 0, 0, 0, 0, 0, 0, 0, 0, 0, 0, 0, 0, 0, 0, 0, 0, 0, 0, 0, 0, 0, 0, 0, 0, 0, 0, 0, 0, 0, 0, 0, 0, 0, 0, 0, 0, 0, 0, 0, 0, 0, 0, 0, 0, 0, 0, 0, 0, 0, 0, 0, 0, 0, 0, 0, 0, 0, 0, 0, 0, 0, 0, 0, 0, 0, 0, 0, 0, 0, 0, 0, 0, 0, 0, 0, 0, 0, 0, 0, 0, 0, 0, 0, 0, 0, 0, 0, 0, 0, 0, 0, 0, 0, 0, 0, 0, 0, 0, 0, 0, 0, 0, 0, 0, 0, 0, 0, 0, 0, 0, 0, 0, 0, 0, 0, 0, 0, 0, 0, 0, 0, 0, 0, 0, 0, 0, 0, 0, 0, 0, 0, 0, 0, 0, 0, 0, 0, 0, 0, 0, 0, 0, 0, 0, 0, 0, 0, 0, 0, 0, 0, 0, 0, 0, 0, 0, 0, 0, 0, 0, 0, 0, 0, 0, 0, 0, 0, 0, 0, 0, 0, 0, 0, 0, 0, 0, 0, 0, 0, 0, 0, 0, 0, 0, 0, 0, 0, 0, 0, 0, 0, 0, 0, 0, 0, 0, 0, 0, 0, 0, 0, 0, 0, 0, 0, 0, 0, 0, 0, 0, 0, 0, 0, 0, 0, 0, 0, 0, 0, 0, 0, 0, 0, 0, 0, 0, 0, 0, 0, 0, 0, 0, 0, 0, 0, 0, 0, 0, 0, 0, 0, 0, 0, 0, 0, 0, 0, 0, 0, 0, 0, 0, 0, 0, 0, 0, 0, 0, 0, 0, 0, 0, 0, 0, 0, 0, 0, 0, 0, 0, 0, 0, 0, 0, 0, 0, 0, 0, 0, 0, 0, 0, 0, 0, 0, 0, 0, 0, 0, 0, 0, 0, 0, 0, 0, 0, 0, 0, 0, 0, 0, 0, 0, 0, 0, 1, 0, 0, 0, 0, 0, 0, 0, 0, 0, 0, 0, 0, 0, 0, 0, 0, 0, 0, 0, 0, 0, 0, 0, 0, 0, 0, 0, 0, 0, 0, 0, 0, 0, 0, 0, 0, 0, 0, 0, 0, 0, 0, 0, 0, 0, 0, 0, 0, 0, 0, 0, 0, 0, 0, 0, 0, 0, 0, 0, 0, 0, 0, 0, 0, 0, 0, 0, 0, 0, 0, 0, 0, 0, 0, 0, 0, 0, 0, 0, 0, 0, 0, 0, 0, 0, 0, 0, 0, 0, 0, 0, 0, 0, 0, 0, 0, 0, 0, 0, 0, 0, 0, 0, 0, 0, 0, 0, 1, 0, 0, 0, 0, 0, 0, 0, 0, 0, 0, 0, 0, 0, 0, 0, 0, 0, 0, 0, 0, 0, 0, 0, 0, 0, 0, 0, 0, 0, 0, 0, 0, 0, 0, 0, 0, 0, 0, 0, 0, 0, 0, 0, 0, 0, 0, 0, 0, 0, 0, 0, 0, 0, 0, 0, 0, 0, 0, 0, 0, 0, 0, 0, 0, 0, 0, 0, 0, 0, 0, 0, 0, 0, 0, 0, 0, 0, 0, 0, 0, 0, 0, 0, 0, 0, 0, 0, 0, 0, 0, 0, 0, 0, 0, 0, 0, 0, 0, 0, 0, 0, 0, 0, 0, 0, 0, 0, 0, 0, 0, 0, 0, 0, 0, 0, 0, 0, 0, 0, 0, 0, 0, 0, 0, 0, 0, 0, 0, 0, 0, 0, 0, 0, 0, 0, 0, 0, 0, 0, 0, 0, 0, 0, 0, 0, 0, 0, 0, 0, 0, 0, 0, 0, 0, 0, 0, 0, 0, 0, 0, 0, 0, 0, 0, 0, 0, 0, 0, 0, 0, 0, 0, 0, 0, 0, 0, 0, 0, 0, 0, 0, 0, 0, 0, 0, 0, 0, 0, 0, 0, 0, 0, 0, 0, 0, 0, 0, 0, 0, 0, 0, 0, 0, 0, 0, 0, 0, 0, 0, 0, 0, 0, 0, 0, 0, 0, 0, 0, 0, 0, 0, 0, 0, 0, 0, 0, 0, 0, 0, 0, 0, 0, 0, 0, 0, 0, 0, 0, 0, 0, 0, 0, 0, 0, 0, 0, 0, 0, 0, 0, 0, 0, 0, 0, 0, 0, 0, 0, 0, 0, 0, 0, 0, 0, 0, 0, 0, 0, 0, 0, 0, 0, 0, 0, 0, 0, 0, 0, 0, 0, 0, 0, 0, 0, 0, 0, 0, 0, 0, 0, 0, 0, 0, 0, 0, 0, 0, 0, 0, 0, 0, 0, 0, 0, 0, 0, 0, 0, 0, 0, 0, 0, 0, 0, 0, 0, 0, 0, 0, 0, 0, 0, 0, 0, 0, 0, 0, 0, 0, 0, 0, 0, 0, 0, 0, 0, 0, 0, 0, 0, 0, 0, 0, 0, 0, 0, 0, 0, 0, 0, 0, 0, 0, 0, 0, 0, 0, 0, 0, 0, 0, 0, 0, 0, 0, 0, 0, 0, 0, 0, 0, 0, 0, 0, 0, 0, 0, 0, 0, 0, 0, 0, 0, 0, 0, 0, 0, 0, 0, 0, 0, 0, 0, 0, 0, 0, 0, 0, 0, 0, 0, 0, 0, 0, 0, 0, 0, 0, 0, 0, 0, 0, 0, 0, 0, 0, 0, 0, 0, 0, 0, 0, 0, 0, 0, 0, 0, 0, 0, 0, 0, 0, 0, 0, 0, 0, 0, 0, 0, 0, 0, 0, 0, 0, 0, 0, 0, 0, 0, 0, 0, 0, 0, 0, 0, 0, 0, 0, 0, 0, 0, 0, 0, 2, 0, 1, 0], type: <class 'list'>, valid types: <class 'bytes'>, <class 'bytearray'>, file-like object",
     "output_type": "error",
     "traceback": [
      "\u001b[0;31m---------------------------------------------------------------------------\u001b[0m",
      "\u001b[0;31mParamValidationError\u001b[0m                      Traceback (most recent call last)",
      "\u001b[0;32m<ipython-input-46-c9ab54ae3a48>\u001b[0m in \u001b[0;36m<module>\u001b[0;34m\u001b[0m\n\u001b[1;32m      1\u001b[0m response = runtime.invoke_endpoint(EndpointName = xgb_predictor.endpoint, # The name of the endpoint we created\n\u001b[1;32m      2\u001b[0m                                        \u001b[0mContentType\u001b[0m \u001b[0;34m=\u001b[0m \u001b[0;34m'text/csv'\u001b[0m\u001b[0;34m,\u001b[0m                     \u001b[0;31m# The data format that is expected\u001b[0m\u001b[0;34m\u001b[0m\u001b[0;34m\u001b[0m\u001b[0m\n\u001b[0;32m----> 3\u001b[0;31m                                        Body = test_bow)\n\u001b[0m",
      "\u001b[0;32m~/anaconda3/envs/python3/lib/python3.6/site-packages/botocore/client.py\u001b[0m in \u001b[0;36m_api_call\u001b[0;34m(self, *args, **kwargs)\u001b[0m\n\u001b[1;32m    335\u001b[0m                     \"%s() only accepts keyword arguments.\" % py_operation_name)\n\u001b[1;32m    336\u001b[0m             \u001b[0;31m# The \"self\" in this scope is referring to the BaseClient.\u001b[0m\u001b[0;34m\u001b[0m\u001b[0;34m\u001b[0m\u001b[0;34m\u001b[0m\u001b[0m\n\u001b[0;32m--> 337\u001b[0;31m             \u001b[0;32mreturn\u001b[0m \u001b[0mself\u001b[0m\u001b[0;34m.\u001b[0m\u001b[0m_make_api_call\u001b[0m\u001b[0;34m(\u001b[0m\u001b[0moperation_name\u001b[0m\u001b[0;34m,\u001b[0m \u001b[0mkwargs\u001b[0m\u001b[0;34m)\u001b[0m\u001b[0;34m\u001b[0m\u001b[0;34m\u001b[0m\u001b[0m\n\u001b[0m\u001b[1;32m    338\u001b[0m \u001b[0;34m\u001b[0m\u001b[0m\n\u001b[1;32m    339\u001b[0m         \u001b[0m_api_call\u001b[0m\u001b[0;34m.\u001b[0m\u001b[0m__name__\u001b[0m \u001b[0;34m=\u001b[0m \u001b[0mstr\u001b[0m\u001b[0;34m(\u001b[0m\u001b[0mpy_operation_name\u001b[0m\u001b[0;34m)\u001b[0m\u001b[0;34m\u001b[0m\u001b[0;34m\u001b[0m\u001b[0m\n",
      "\u001b[0;32m~/anaconda3/envs/python3/lib/python3.6/site-packages/botocore/client.py\u001b[0m in \u001b[0;36m_make_api_call\u001b[0;34m(self, operation_name, api_params)\u001b[0m\n\u001b[1;32m    627\u001b[0m         }\n\u001b[1;32m    628\u001b[0m         request_dict = self._convert_to_request_dict(\n\u001b[0;32m--> 629\u001b[0;31m             api_params, operation_model, context=request_context)\n\u001b[0m\u001b[1;32m    630\u001b[0m \u001b[0;34m\u001b[0m\u001b[0m\n\u001b[1;32m    631\u001b[0m         \u001b[0mservice_id\u001b[0m \u001b[0;34m=\u001b[0m \u001b[0mself\u001b[0m\u001b[0;34m.\u001b[0m\u001b[0m_service_model\u001b[0m\u001b[0;34m.\u001b[0m\u001b[0mservice_id\u001b[0m\u001b[0;34m.\u001b[0m\u001b[0mhyphenize\u001b[0m\u001b[0;34m(\u001b[0m\u001b[0;34m)\u001b[0m\u001b[0;34m\u001b[0m\u001b[0;34m\u001b[0m\u001b[0m\n",
      "\u001b[0;32m~/anaconda3/envs/python3/lib/python3.6/site-packages/botocore/client.py\u001b[0m in \u001b[0;36m_convert_to_request_dict\u001b[0;34m(self, api_params, operation_model, context)\u001b[0m\n\u001b[1;32m    675\u001b[0m             api_params, operation_model, context)\n\u001b[1;32m    676\u001b[0m         request_dict = self._serializer.serialize_to_request(\n\u001b[0;32m--> 677\u001b[0;31m             api_params, operation_model)\n\u001b[0m\u001b[1;32m    678\u001b[0m         \u001b[0;32mif\u001b[0m \u001b[0;32mnot\u001b[0m \u001b[0mself\u001b[0m\u001b[0;34m.\u001b[0m\u001b[0m_client_config\u001b[0m\u001b[0;34m.\u001b[0m\u001b[0minject_host_prefix\u001b[0m\u001b[0;34m:\u001b[0m\u001b[0;34m\u001b[0m\u001b[0;34m\u001b[0m\u001b[0m\n\u001b[1;32m    679\u001b[0m             \u001b[0mrequest_dict\u001b[0m\u001b[0;34m.\u001b[0m\u001b[0mpop\u001b[0m\u001b[0;34m(\u001b[0m\u001b[0;34m'host_prefix'\u001b[0m\u001b[0;34m,\u001b[0m \u001b[0;32mNone\u001b[0m\u001b[0;34m)\u001b[0m\u001b[0;34m\u001b[0m\u001b[0;34m\u001b[0m\u001b[0m\n",
      "\u001b[0;32m~/anaconda3/envs/python3/lib/python3.6/site-packages/botocore/validate.py\u001b[0m in \u001b[0;36mserialize_to_request\u001b[0;34m(self, parameters, operation_model)\u001b[0m\n\u001b[1;32m    295\u001b[0m                                                     operation_model.input_shape)\n\u001b[1;32m    296\u001b[0m             \u001b[0;32mif\u001b[0m \u001b[0mreport\u001b[0m\u001b[0;34m.\u001b[0m\u001b[0mhas_errors\u001b[0m\u001b[0;34m(\u001b[0m\u001b[0;34m)\u001b[0m\u001b[0;34m:\u001b[0m\u001b[0;34m\u001b[0m\u001b[0;34m\u001b[0m\u001b[0m\n\u001b[0;32m--> 297\u001b[0;31m                 \u001b[0;32mraise\u001b[0m \u001b[0mParamValidationError\u001b[0m\u001b[0;34m(\u001b[0m\u001b[0mreport\u001b[0m\u001b[0;34m=\u001b[0m\u001b[0mreport\u001b[0m\u001b[0;34m.\u001b[0m\u001b[0mgenerate_report\u001b[0m\u001b[0;34m(\u001b[0m\u001b[0;34m)\u001b[0m\u001b[0;34m)\u001b[0m\u001b[0;34m\u001b[0m\u001b[0;34m\u001b[0m\u001b[0m\n\u001b[0m\u001b[1;32m    298\u001b[0m         return self._serializer.serialize_to_request(parameters,\n\u001b[1;32m    299\u001b[0m                                                      operation_model)\n",
      "\u001b[0;31mParamValidationError\u001b[0m: Parameter validation failed:\nInvalid type for parameter Body, value: [0, 0, 0, 0, 0, 0, 0, 0, 0, 0, 0, 0, 0, 0, 0, 0, 0, 0, 0, 0, 0, 0, 0, 0, 0, 0, 0, 0, 0, 0, 0, 0, 0, 0, 0, 0, 0, 0, 0, 0, 0, 0, 0, 0, 0, 0, 0, 0, 0, 0, 0, 0, 0, 0, 0, 0, 0, 0, 0, 0, 0, 0, 0, 0, 0, 0, 0, 0, 0, 0, 0, 0, 0, 0, 0, 0, 0, 0, 0, 0, 0, 0, 0, 0, 0, 0, 0, 0, 0, 0, 0, 0, 0, 0, 0, 0, 0, 0, 0, 0, 0, 0, 0, 0, 0, 0, 0, 0, 0, 0, 0, 0, 0, 0, 0, 0, 0, 0, 0, 0, 0, 0, 0, 0, 0, 0, 0, 0, 0, 0, 0, 0, 0, 0, 0, 0, 0, 0, 0, 0, 0, 0, 0, 0, 0, 0, 0, 0, 0, 0, 0, 0, 0, 0, 0, 0, 0, 0, 0, 0, 0, 0, 0, 0, 0, 0, 0, 0, 0, 0, 0, 0, 0, 0, 0, 0, 0, 0, 0, 0, 0, 0, 0, 0, 0, 0, 0, 0, 0, 0, 0, 0, 0, 0, 0, 0, 0, 0, 0, 0, 0, 0, 0, 0, 0, 0, 0, 0, 0, 0, 0, 0, 0, 0, 0, 0, 0, 0, 0, 0, 0, 0, 0, 0, 0, 0, 0, 1, 0, 0, 0, 0, 0, 0, 0, 0, 0, 0, 0, 0, 0, 0, 0, 0, 0, 0, 0, 0, 0, 0, 0, 0, 0, 0, 0, 0, 1, 0, 0, 0, 0, 0, 0, 0, 0, 0, 0, 0, 0, 0, 0, 0, 0, 0, 0, 0, 0, 0, 0, 0, 0, 0, 0, 0, 0, 0, 0, 0, 0, 0, 0, 0, 0, 0, 0, 0, 0, 0, 0, 0, 0, 0, 0, 0, 0, 0, 0, 0, 0, 0, 0, 0, 0, 0, 0, 0, 0, 0, 0, 0, 0, 0, 0, 0, 0, 0, 0, 0, 0, 0, 0, 0, 0, 0, 0, 0, 0, 0, 0, 0, 0, 0, 0, 0, 0, 0, 0, 0, 0, 0, 0, 0, 0, 0, 0, 0, 0, 0, 0, 0, 0, 0, 0, 0, 0, 0, 0, 0, 0, 0, 0, 0, 0, 0, 0, 0, 0, 0, 0, 0, 0, 0, 0, 0, 0, 0, 0, 0, 0, 0, 0, 0, 0, 0, 0, 0, 0, 0, 0, 0, 0, 0, 0, 0, 0, 0, 0, 0, 0, 0, 0, 0, 0, 0, 0, 0, 0, 0, 0, 0, 0, 0, 0, 0, 0, 0, 0, 0, 0, 0, 0, 0, 0, 0, 0, 0, 0, 0, 0, 0, 0, 0, 0, 0, 0, 0, 0, 0, 0, 0, 0, 0, 0, 0, 0, 0, 0, 0, 0, 0, 0, 0, 0, 0, 0, 0, 0, 0, 0, 0, 0, 0, 0, 0, 0, 0, 0, 0, 0, 0, 0, 0, 0, 0, 0, 0, 0, 0, 0, 0, 0, 0, 0, 0, 0, 0, 0, 0, 0, 0, 0, 0, 0, 0, 0, 0, 0, 0, 0, 0, 0, 0, 0, 0, 0, 0, 0, 0, 0, 0, 0, 0, 0, 0, 0, 0, 0, 0, 0, 0, 0, 0, 0, 0, 0, 0, 0, 0, 0, 0, 0, 0, 0, 0, 0, 0, 0, 0, 0, 0, 0, 0, 0, 0, 0, 0, 0, 0, 0, 0, 0, 0, 0, 0, 0, 0, 0, 0, 0, 0, 0, 0, 0, 0, 0, 0, 0, 0, 0, 0, 0, 0, 0, 0, 0, 0, 0, 0, 0, 0, 0, 0, 0, 0, 0, 0, 0, 0, 0, 0, 0, 0, 0, 0, 0, 0, 0, 0, 0, 0, 0, 0, 0, 0, 0, 0, 0, 0, 0, 0, 0, 0, 0, 0, 0, 0, 0, 0, 0, 0, 0, 0, 0, 0, 0, 1, 0, 0, 0, 0, 0, 0, 0, 0, 0, 0, 0, 0, 0, 0, 0, 0, 0, 0, 0, 0, 0, 0, 0, 0, 0, 0, 0, 0, 0, 0, 0, 0, 0, 0, 0, 0, 0, 0, 0, 0, 0, 0, 0, 0, 0, 0, 0, 0, 0, 0, 0, 0, 0, 0, 0, 0, 0, 0, 0, 0, 0, 0, 0, 0, 0, 0, 0, 0, 0, 0, 0, 0, 0, 0, 0, 0, 0, 0, 0, 0, 0, 0, 0, 0, 0, 0, 0, 0, 0, 0, 0, 0, 0, 0, 0, 0, 0, 0, 0, 0, 0, 0, 0, 0, 0, 0, 0, 0, 0, 0, 0, 0, 0, 0, 0, 0, 0, 0, 0, 0, 0, 0, 0, 0, 0, 0, 0, 0, 0, 0, 0, 0, 0, 0, 0, 0, 0, 0, 0, 0, 0, 0, 0, 0, 0, 0, 0, 0, 0, 0, 0, 0, 0, 0, 0, 0, 0, 0, 0, 0, 0, 0, 0, 0, 0, 0, 0, 0, 0, 0, 0, 0, 0, 0, 0, 0, 0, 0, 0, 0, 0, 0, 0, 0, 0, 0, 0, 0, 0, 0, 0, 0, 0, 0, 0, 0, 0, 0, 0, 0, 0, 0, 0, 0, 0, 0, 0, 0, 0, 0, 0, 0, 0, 0, 0, 0, 0, 0, 0, 0, 0, 0, 0, 0, 0, 0, 0, 0, 0, 0, 0, 0, 0, 0, 0, 0, 0, 0, 0, 0, 0, 0, 0, 0, 0, 0, 0, 0, 0, 0, 0, 0, 0, 1, 0, 0, 0, 0, 0, 0, 0, 0, 0, 0, 0, 0, 0, 0, 0, 0, 0, 0, 0, 0, 0, 0, 0, 0, 0, 0, 0, 0, 0, 0, 0, 0, 0, 0, 0, 0, 0, 0, 0, 0, 0, 0, 0, 0, 0, 0, 0, 0, 0, 0, 0, 0, 0, 0, 0, 0, 0, 0, 0, 0, 0, 0, 0, 0, 0, 0, 0, 0, 0, 0, 0, 0, 0, 0, 0, 0, 0, 0, 0, 0, 0, 0, 0, 0, 0, 0, 0, 1, 0, 0, 0, 0, 0, 0, 0, 0, 0, 0, 0, 0, 0, 0, 0, 0, 0, 0, 0, 0, 0, 0, 0, 0, 0, 0, 0, 0, 0, 0, 0, 0, 0, 0, 0, 0, 0, 0, 0, 0, 0, 0, 0, 0, 0, 0, 0, 0, 0, 0, 0, 0, 0, 0, 0, 0, 0, 0, 0, 0, 0, 0, 0, 0, 0, 0, 0, 0, 0, 0, 0, 0, 0, 0, 0, 0, 0, 0, 0, 0, 0, 0, 0, 0, 0, 0, 0, 0, 0, 0, 0, 0, 0, 0, 0, 0, 0, 0, 0, 0, 0, 0, 0, 0, 0, 0, 0, 0, 0, 0, 0, 0, 0, 0, 0, 0, 0, 0, 0, 0, 0, 0, 0, 0, 0, 0, 0, 0, 0, 0, 0, 0, 0, 0, 0, 0, 0, 0, 0, 0, 0, 0, 0, 0, 0, 0, 0, 0, 0, 0, 0, 0, 0, 0, 0, 0, 0, 0, 0, 0, 0, 0, 0, 0, 0, 0, 0, 0, 0, 0, 0, 0, 0, 0, 0, 0, 0, 0, 0, 0, 0, 0, 0, 0, 0, 0, 0, 0, 0, 0, 0, 0, 0, 0, 0, 0, 0, 0, 0, 0, 0, 0, 0, 0, 0, 0, 0, 0, 0, 0, 0, 0, 0, 0, 0, 0, 0, 0, 0, 0, 0, 0, 0, 0, 0, 0, 0, 0, 0, 0, 0, 0, 0, 0, 0, 0, 0, 0, 0, 0, 0, 0, 0, 0, 0, 0, 0, 0, 0, 0, 0, 0, 1, 0, 0, 0, 0, 0, 0, 0, 0, 0, 0, 0, 0, 0, 0, 0, 0, 0, 0, 0, 0, 0, 0, 0, 0, 0, 0, 0, 0, 0, 0, 0, 0, 0, 0, 0, 0, 0, 0, 0, 0, 0, 0, 0, 0, 0, 0, 0, 0, 0, 0, 0, 0, 0, 0, 0, 1, 0, 0, 0, 0, 0, 0, 0, 0, 0, 0, 0, 0, 0, 0, 0, 0, 0, 0, 0, 0, 0, 0, 0, 0, 0, 0, 0, 0, 0, 0, 0, 0, 0, 0, 0, 0, 0, 0, 0, 0, 0, 0, 0, 0, 0, 0, 0, 0, 0, 0, 0, 0, 0, 0, 0, 0, 0, 0, 0, 0, 0, 0, 0, 0, 0, 0, 0, 0, 0, 0, 0, 0, 0, 0, 0, 0, 0, 0, 0, 0, 0, 0, 0, 0, 0, 0, 0, 0, 0, 0, 0, 0, 0, 0, 0, 0, 0, 0, 0, 0, 0, 0, 0, 0, 0, 0, 0, 0, 0, 0, 0, 0, 0, 0, 0, 0, 0, 0, 0, 0, 0, 0, 0, 0, 0, 0, 0, 0, 0, 0, 0, 0, 0, 0, 0, 0, 0, 0, 0, 0, 0, 0, 0, 0, 0, 0, 0, 0, 0, 0, 0, 0, 0, 0, 0, 0, 0, 0, 0, 0, 0, 0, 0, 0, 0, 0, 0, 0, 0, 0, 0, 0, 0, 0, 0, 0, 0, 0, 0, 0, 0, 0, 0, 0, 0, 0, 0, 0, 0, 0, 0, 0, 0, 0, 0, 0, 0, 0, 0, 0, 0, 0, 0, 0, 0, 0, 0, 0, 0, 0, 0, 0, 0, 0, 0, 0, 0, 0, 0, 0, 0, 0, 0, 0, 0, 0, 0, 0, 0, 0, 0, 0, 0, 0, 0, 0, 0, 0, 0, 0, 0, 0, 0, 0, 0, 0, 0, 0, 0, 0, 0, 0, 0, 0, 0, 0, 0, 0, 0, 0, 0, 0, 0, 0, 0, 0, 0, 0, 0, 0, 0, 0, 0, 0, 0, 0, 0, 0, 0, 0, 0, 0, 0, 0, 0, 0, 0, 0, 0, 0, 0, 0, 0, 0, 0, 0, 0, 0, 0, 0, 0, 0, 0, 0, 0, 0, 0, 0, 0, 0, 0, 0, 0, 0, 0, 0, 0, 0, 0, 0, 0, 0, 0, 0, 0, 0, 0, 0, 0, 0, 0, 0, 0, 0, 0, 0, 0, 0, 0, 0, 0, 0, 0, 0, 0, 0, 0, 0, 0, 0, 0, 0, 0, 0, 0, 0, 0, 0, 0, 0, 0, 0, 0, 0, 0, 0, 0, 0, 0, 0, 0, 0, 0, 0, 0, 0, 0, 0, 0, 0, 0, 0, 0, 0, 0, 0, 0, 0, 0, 0, 0, 0, 0, 0, 0, 0, 0, 0, 0, 0, 0, 0, 0, 0, 0, 0, 0, 0, 0, 0, 0, 0, 0, 0, 0, 0, 0, 0, 0, 0, 0, 0, 0, 0, 0, 0, 0, 0, 0, 0, 0, 0, 0, 0, 0, 0, 0, 0, 0, 0, 0, 0, 0, 0, 0, 0, 0, 0, 0, 0, 0, 0, 0, 0, 0, 0, 0, 0, 0, 0, 0, 0, 0, 0, 0, 0, 0, 0, 0, 0, 0, 0, 0, 0, 0, 0, 0, 0, 0, 0, 0, 0, 0, 0, 0, 0, 0, 0, 0, 0, 0, 0, 0, 0, 0, 0, 0, 0, 0, 0, 0, 0, 0, 0, 0, 0, 0, 0, 0, 0, 0, 0, 0, 0, 0, 0, 0, 0, 0, 0, 0, 0, 0, 0, 0, 0, 0, 0, 0, 0, 0, 0, 0, 0, 0, 0, 0, 0, 0, 0, 0, 0, 0, 0, 0, 0, 0, 0, 0, 0, 0, 0, 0, 0, 0, 0, 0, 0, 0, 0, 0, 0, 0, 0, 0, 0, 0, 0, 0, 0, 0, 0, 0, 0, 0, 0, 0, 0, 0, 0, 0, 0, 0, 0, 0, 0, 0, 0, 0, 0, 0, 0, 0, 0, 0, 0, 0, 0, 0, 0, 0, 0, 0, 0, 0, 0, 0, 0, 0, 0, 0, 0, 0, 0, 0, 0, 0, 0, 0, 0, 0, 0, 0, 0, 0, 0, 0, 0, 0, 0, 0, 0, 0, 0, 0, 0, 0, 0, 0, 0, 0, 0, 0, 0, 0, 0, 0, 0, 0, 0, 0, 0, 0, 0, 0, 0, 0, 0, 0, 0, 0, 0, 0, 0, 0, 0, 0, 0, 0, 0, 0, 0, 0, 0, 0, 0, 0, 0, 0, 0, 0, 1, 0, 0, 0, 0, 0, 0, 0, 0, 0, 0, 0, 0, 0, 0, 0, 0, 0, 0, 0, 0, 0, 0, 0, 0, 0, 0, 0, 0, 0, 0, 0, 0, 0, 0, 0, 0, 0, 0, 0, 0, 0, 0, 0, 0, 0, 0, 0, 0, 0, 0, 0, 0, 0, 0, 0, 0, 0, 0, 0, 0, 0, 0, 0, 0, 0, 0, 0, 0, 0, 0, 0, 0, 0, 0, 1, 0, 0, 0, 0, 0, 0, 0, 0, 0, 0, 0, 0, 0, 0, 0, 0, 0, 0, 0, 0, 1, 0, 0, 1, 0, 0, 0, 0, 0, 0, 0, 0, 0, 0, 0, 0, 0, 0, 0, 0, 0, 0, 0, 0, 0, 0, 0, 0, 0, 0, 0, 0, 0, 0, 0, 0, 0, 0, 0, 0, 0, 0, 0, 0, 0, 0, 0, 0, 0, 0, 0, 0, 0, 0, 0, 0, 0, 0, 0, 0, 0, 0, 0, 0, 0, 0, 0, 0, 0, 0, 0, 0, 0, 0, 0, 0, 0, 0, 0, 0, 0, 0, 0, 0, 0, 0, 0, 0, 0, 0, 0, 0, 0, 0, 0, 0, 0, 0, 0, 0, 0, 0, 0, 0, 0, 0, 0, 0, 0, 0, 0, 0, 0, 0, 0, 0, 0, 0, 0, 0, 0, 0, 0, 0, 0, 0, 0, 0, 0, 0, 0, 0, 0, 0, 0, 0, 0, 0, 0, 0, 0, 0, 0, 0, 0, 0, 0, 0, 0, 0, 0, 0, 0, 0, 0, 0, 0, 0, 0, 0, 0, 0, 0, 0, 0, 0, 0, 0, 0, 0, 0, 0, 0, 0, 0, 0, 0, 0, 0, 0, 0, 0, 0, 0, 0, 0, 0, 0, 0, 0, 0, 0, 0, 0, 0, 0, 0, 0, 0, 0, 0, 0, 0, 0, 0, 0, 0, 0, 0, 0, 0, 0, 0, 0, 0, 0, 0, 0, 0, 0, 0, 0, 0, 0, 0, 0, 0, 0, 0, 0, 0, 0, 0, 0, 0, 0, 0, 0, 0, 0, 0, 0, 0, 0, 0, 0, 0, 0, 0, 0, 0, 0, 0, 0, 0, 0, 0, 0, 0, 0, 0, 0, 0, 0, 0, 0, 0, 0, 0, 0, 0, 0, 0, 0, 0, 0, 0, 0, 0, 0, 0, 0, 0, 0, 0, 0, 0, 0, 0, 0, 0, 0, 0, 0, 0, 0, 0, 0, 0, 0, 0, 0, 0, 0, 0, 0, 0, 0, 0, 0, 0, 0, 0, 0, 0, 0, 0, 0, 0, 0, 0, 0, 0, 0, 0, 0, 0, 0, 0, 0, 0, 0, 0, 0, 0, 0, 0, 0, 0, 0, 0, 0, 0, 0, 0, 0, 0, 0, 0, 0, 0, 0, 0, 0, 0, 0, 0, 0, 0, 0, 0, 0, 0, 0, 0, 0, 0, 0, 0, 0, 0, 0, 0, 0, 0, 0, 0, 0, 0, 0, 0, 0, 0, 0, 0, 0, 0, 0, 0, 0, 0, 0, 0, 0, 0, 0, 0, 0, 0, 0, 0, 0, 0, 0, 0, 0, 0, 0, 0, 0, 0, 0, 0, 0, 0, 0, 0, 0, 0, 0, 0, 0, 0, 0, 0, 0, 0, 0, 0, 0, 0, 0, 0, 0, 0, 0, 0, 0, 0, 0, 0, 0, 0, 0, 0, 0, 0, 0, 0, 0, 0, 0, 0, 0, 0, 0, 0, 0, 0, 0, 0, 0, 0, 0, 0, 0, 0, 0, 0, 0, 0, 1, 0, 0, 0, 0, 0, 0, 0, 0, 0, 0, 0, 0, 0, 0, 0, 0, 0, 0, 0, 0, 0, 0, 0, 0, 0, 0, 0, 0, 0, 0, 0, 0, 0, 0, 0, 0, 0, 0, 0, 0, 0, 0, 0, 0, 0, 0, 0, 0, 0, 0, 0, 0, 0, 0, 0, 0, 0, 0, 0, 0, 0, 0, 0, 0, 0, 0, 0, 0, 0, 0, 0, 0, 0, 0, 0, 0, 0, 0, 0, 0, 0, 0, 0, 0, 0, 0, 0, 0, 0, 0, 0, 0, 0, 0, 0, 0, 0, 0, 0, 0, 0, 0, 0, 0, 0, 0, 0, 0, 0, 0, 0, 0, 0, 0, 0, 0, 0, 0, 0, 0, 0, 0, 0, 0, 0, 0, 0, 0, 0, 0, 0, 0, 0, 0, 0, 0, 0, 0, 0, 0, 0, 0, 0, 0, 0, 0, 0, 0, 0, 0, 0, 0, 0, 0, 0, 0, 0, 0, 0, 0, 0, 0, 0, 0, 0, 0, 0, 0, 0, 0, 0, 0, 0, 0, 0, 0, 0, 0, 0, 0, 0, 0, 0, 0, 0, 0, 0, 0, 0, 0, 0, 0, 0, 0, 0, 0, 0, 0, 0, 0, 0, 0, 0, 0, 0, 0, 0, 0, 0, 0, 0, 0, 0, 0, 0, 0, 0, 0, 0, 0, 0, 0, 0, 0, 0, 0, 0, 0, 0, 0, 0, 0, 0, 0, 0, 0, 0, 0, 0, 0, 0, 0, 0, 0, 0, 0, 0, 0, 0, 0, 0, 0, 0, 0, 0, 0, 0, 0, 0, 0, 0, 0, 0, 0, 0, 0, 0, 0, 0, 0, 0, 0, 0, 0, 0, 0, 0, 0, 0, 0, 0, 0, 0, 0, 0, 0, 0, 0, 0, 0, 0, 0, 0, 0, 0, 0, 0, 0, 0, 0, 0, 0, 0, 0, 0, 0, 0, 0, 0, 0, 0, 0, 0, 0, 0, 0, 0, 0, 0, 0, 0, 0, 0, 0, 0, 0, 0, 0, 0, 0, 0, 0, 0, 0, 0, 0, 0, 0, 0, 0, 0, 0, 0, 0, 0, 0, 0, 0, 0, 0, 0, 0, 0, 0, 0, 0, 0, 0, 0, 0, 0, 0, 0, 0, 0, 0, 0, 0, 0, 0, 0, 0, 0, 0, 0, 0, 0, 0, 0, 0, 0, 0, 0, 0, 0, 0, 0, 0, 0, 0, 0, 0, 0, 0, 0, 0, 0, 0, 0, 0, 0, 0, 0, 0, 0, 0, 0, 0, 0, 0, 0, 0, 0, 0, 0, 0, 0, 0, 0, 0, 0, 0, 0, 0, 0, 0, 0, 0, 0, 0, 0, 0, 0, 0, 0, 0, 0, 0, 0, 0, 0, 0, 0, 0, 0, 0, 0, 0, 0, 0, 0, 0, 0, 0, 0, 0, 0, 0, 0, 0, 0, 0, 0, 0, 0, 0, 0, 0, 0, 0, 0, 0, 0, 0, 0, 0, 0, 0, 0, 0, 0, 0, 0, 0, 0, 0, 0, 0, 0, 0, 0, 0, 0, 0, 0, 0, 0, 0, 0, 0, 0, 0, 0, 0, 0, 0, 0, 0, 0, 0, 0, 0, 1, 0, 0, 0, 0, 0, 0, 0, 0, 0, 0, 0, 0, 0, 0, 0, 0, 0, 0, 0, 0, 0, 0, 0, 0, 0, 0, 0, 0, 0, 0, 0, 0, 0, 0, 0, 2, 0, 0, 0, 0, 0, 0, 0, 0, 0, 0, 0, 0, 0, 0, 0, 0, 0, 0, 0, 0, 0, 0, 0, 0, 0, 0, 0, 0, 0, 0, 0, 0, 0, 0, 0, 0, 0, 0, 0, 0, 1, 0, 0, 0, 0, 0, 0, 0, 0, 0, 0, 0, 0, 0, 0, 0, 0, 0, 0, 0, 0, 0, 0, 0, 0, 0, 0, 0, 0, 0, 0, 0, 0, 0, 0, 0, 0, 0, 0, 0, 0, 0, 0, 0, 0, 0, 0, 0, 0, 0, 0, 0, 0, 0, 0, 0, 0, 0, 0, 0, 0, 0, 0, 0, 0, 0, 0, 0, 0, 0, 0, 0, 0, 0, 0, 0, 0, 0, 0, 0, 0, 0, 0, 0, 0, 0, 0, 0, 0, 0, 0, 0, 0, 0, 0, 0, 0, 0, 0, 0, 0, 0, 0, 0, 0, 0, 0, 0, 0, 0, 0, 0, 0, 0, 0, 0, 0, 0, 0, 0, 0, 0, 0, 0, 0, 0, 0, 0, 0, 0, 0, 0, 0, 0, 0, 0, 0, 0, 0, 0, 0, 0, 0, 0, 0, 0, 0, 0, 0, 0, 0, 0, 0, 0, 0, 0, 0, 0, 0, 0, 0, 0, 0, 0, 0, 0, 0, 0, 0, 0, 0, 0, 0, 0, 0, 0, 0, 0, 0, 0, 0, 0, 0, 0, 0, 0, 0, 0, 0, 0, 0, 0, 0, 0, 0, 0, 0, 0, 0, 0, 0, 0, 0, 0, 0, 0, 0, 0, 0, 0, 0, 0, 0, 0, 0, 0, 0, 0, 0, 0, 0, 0, 0, 0, 0, 0, 0, 0, 0, 0, 0, 0, 0, 0, 0, 0, 0, 0, 0, 0, 0, 0, 0, 0, 0, 0, 0, 0, 0, 0, 0, 0, 0, 0, 0, 0, 0, 0, 0, 0, 0, 0, 0, 0, 0, 0, 0, 0, 0, 0, 0, 0, 0, 0, 0, 0, 0, 0, 0, 0, 0, 0, 0, 0, 0, 0, 0, 0, 0, 0, 0, 0, 0, 0, 0, 0, 0, 0, 0, 0, 0, 0, 0, 0, 0, 0, 0, 0, 0, 0, 0, 0, 0, 0, 0, 0, 0, 0, 0, 0, 0, 0, 0, 0, 0, 0, 0, 0, 0, 0, 0, 0, 0, 0, 0, 0, 0, 0, 0, 0, 0, 0, 0, 0, 0, 0, 0, 0, 0, 0, 0, 0, 0, 0, 0, 0, 0, 0, 0, 0, 0, 0, 0, 0, 0, 0, 0, 0, 0, 0, 0, 0, 0, 0, 0, 0, 0, 0, 0, 0, 0, 0, 0, 0, 0, 0, 0, 0, 0, 0, 0, 0, 0, 0, 0, 0, 0, 0, 0, 0, 0, 0, 0, 0, 0, 0, 0, 0, 0, 0, 0, 0, 0, 0, 0, 0, 0, 0, 0, 0, 0, 0, 0, 0, 0, 0, 0, 0, 0, 0, 0, 0, 0, 0, 0, 0, 0, 0, 0, 0, 0, 0, 0, 0, 0, 0, 0, 0, 0, 0, 0, 0, 0, 0, 0, 0, 0, 0, 0, 0, 0, 0, 0, 0, 0, 0, 0, 0, 0, 0, 0, 0, 0, 0, 0, 0, 0, 0, 0, 0, 0, 0, 0, 0, 0, 0, 0, 0, 0, 0, 0, 0, 0, 0, 0, 0, 0, 0, 0, 1, 0, 0, 0, 0, 0, 0, 0, 0, 0, 0, 0, 0, 0, 0, 0, 0, 0, 0, 0, 0, 0, 0, 0, 0, 0, 0, 0, 0, 0, 0, 0, 0, 0, 0, 0, 0, 0, 0, 0, 0, 0, 0, 0, 0, 0, 0, 0, 0, 0, 0, 0, 0, 0, 0, 0, 0, 0, 0, 0, 0, 0, 0, 0, 0, 0, 0, 0, 0, 0, 0, 0, 0, 0, 0, 0, 0, 0, 0, 0, 0, 0, 0, 0, 0, 0, 0, 0, 0, 0, 0, 0, 0, 0, 0, 0, 0, 0, 0, 0, 0, 0, 0, 0, 0, 0, 0, 0, 0, 0, 0, 2, 0, 0, 0, 0, 0, 0, 0, 0, 0, 0, 0, 0, 0, 0, 0, 0, 0, 0, 0, 0, 0, 0, 0, 0, 0, 0, 0, 0, 0, 0, 0, 0, 0, 0, 0, 0, 0, 0, 0, 0, 0, 0, 0, 0, 0, 0, 0, 0, 0, 0, 0, 0, 0, 0, 0, 0, 0, 0, 0, 0, 0, 0, 0, 0, 0, 0, 0, 0, 0, 0, 0, 0, 0, 0, 0, 0, 0, 0, 0, 0, 0, 0, 0, 0, 0, 0, 0, 0, 0, 0, 0, 0, 0, 0, 0, 0, 0, 0, 0, 0, 0, 0, 0, 0, 0, 0, 0, 0, 0, 0, 0, 0, 0, 0, 0, 0, 0, 0, 0, 0, 0, 0, 0, 0, 0, 0, 0, 0, 0, 0, 0, 0, 0, 0, 0, 0, 0, 0, 0, 0, 0, 0, 0, 0, 0, 0, 0, 0, 0, 0, 0, 0, 0, 0, 0, 0, 0, 0, 0, 0, 0, 0, 0, 0, 0, 0, 0, 0, 0, 0, 0, 0, 0, 0, 0, 0, 0, 0, 0, 0, 0, 0, 0, 0, 0, 0, 0, 0, 0, 0, 0, 0, 0, 0, 0, 0, 0, 0, 0, 0, 0, 0, 0, 0, 0, 0, 0, 0, 0, 0, 0, 0, 0, 0, 0, 0, 0, 0, 0, 0, 0, 0, 0, 0, 0, 0, 0, 0, 0, 0, 0, 0, 0, 0, 0, 0, 0, 0, 0, 0, 0, 0, 0, 0, 0, 0, 0, 0, 0, 0, 0, 0, 0, 0, 0, 0, 0, 0, 0, 0, 0, 0, 0, 0, 0, 0, 0, 0, 0, 0, 0, 0, 0, 0, 0, 0, 0, 0, 0, 0, 0, 0, 0, 0, 0, 0, 0, 0, 0, 0, 0, 0, 0, 0, 0, 0, 0, 0, 0, 0, 0, 0, 0, 0, 0, 0, 0, 0, 0, 0, 0, 0, 0, 0, 0, 0, 0, 0, 0, 0, 0, 0, 0, 0, 0, 0, 0, 0, 0, 0, 0, 0, 0, 0, 0, 0, 0, 0, 0, 0, 0, 0, 0, 0, 0, 0, 0, 0, 0, 0, 0, 0, 0, 0, 0, 0, 0, 0, 0, 0, 0, 0, 0, 0, 0, 0, 0, 0, 0, 0, 0, 0, 0, 0, 0, 0, 0, 0, 0, 0, 0, 0, 0, 0, 0, 0, 0, 0, 0, 0, 0, 0, 0, 0, 0, 0, 0, 0, 0, 0, 0, 0, 0, 0, 0, 0, 0, 0, 0, 0, 0, 0, 0, 0, 0, 0, 0, 0, 0, 0, 0, 0, 0, 0, 0, 0, 0, 0, 0, 0, 0, 0, 0, 0, 0, 0, 0, 0, 0, 0, 0, 0, 0, 0, 0, 0, 0, 0, 0, 0, 0, 0, 0, 0, 0, 0, 0, 0, 0, 0, 0, 0, 0, 0, 0, 0, 0, 0, 0, 0, 0, 0, 0, 0, 0, 0, 0, 0, 0, 0, 0, 0, 0, 0, 0, 0, 0, 0, 0, 0, 0, 0, 0, 0, 0, 0, 0, 0, 0, 0, 0, 0, 0, 0, 0, 0, 0, 0, 0, 0, 0, 0, 0, 0, 0, 0, 0, 0, 0, 0, 0, 0, 0, 0, 0, 0, 0, 0, 0, 0, 0, 0, 0, 0, 0, 0, 0, 0, 0, 0, 0, 0, 0, 0, 0, 0, 0, 0, 0, 0, 0, 0, 0, 0, 0, 0, 0, 0, 0, 0, 0, 0, 0, 0, 0, 0, 0, 0, 0, 0, 0, 0, 0, 0, 0, 0, 0, 0, 0, 0, 0, 0, 0, 0, 0, 0, 0, 0, 0, 0, 0, 0, 0, 0, 0, 0, 0, 0, 0, 0, 0, 0, 0, 0, 0, 0, 0, 0, 0, 0, 0, 0, 0, 0, 0, 0, 0, 0, 0, 0, 0, 0, 0, 0, 0, 0, 0, 0, 0, 0, 0, 0, 0, 0, 0, 0, 0, 0, 0, 0, 0, 0, 0, 0, 0, 0, 0, 0, 0, 0, 0, 0, 0, 0, 0, 0, 0, 0, 0, 0, 0, 0, 0, 0, 0, 0, 0, 0, 0, 0, 0, 0, 0, 0, 0, 0, 0, 0, 0, 0, 0, 0, 0, 0, 0, 0, 0, 0, 1, 0, 0, 0, 0, 0, 0, 0, 0, 0, 0, 0, 0, 0, 0, 0, 0, 0, 0, 0, 0, 0, 0, 0, 0, 0, 0, 0, 0, 0, 0, 0, 0, 0, 0, 0, 0, 0, 0, 0, 0, 0, 0, 0, 0, 0, 0, 0, 0, 0, 0, 0, 0, 0, 0, 0, 0, 0, 0, 0, 0, 0, 0, 0, 0, 0, 0, 0, 0, 0, 0, 0, 0, 0, 0, 0, 0, 0, 0, 0, 0, 0, 0, 0, 0, 0, 0, 0, 0, 0, 0, 0, 0, 0, 0, 0, 0, 0, 0, 0, 0, 0, 0, 0, 0, 0, 0, 0, 1, 0, 0, 0, 0, 0, 0, 0, 0, 0, 0, 0, 0, 0, 0, 0, 0, 0, 0, 0, 0, 0, 0, 0, 0, 0, 0, 0, 0, 0, 0, 0, 0, 0, 0, 0, 0, 0, 0, 0, 0, 0, 0, 0, 0, 0, 0, 0, 0, 0, 0, 0, 0, 0, 0, 0, 0, 0, 0, 0, 0, 0, 0, 0, 0, 0, 0, 0, 0, 0, 0, 0, 0, 0, 0, 0, 0, 0, 0, 0, 0, 0, 0, 0, 0, 0, 0, 0, 0, 0, 0, 0, 0, 0, 0, 0, 0, 0, 0, 0, 0, 0, 0, 0, 0, 0, 0, 0, 0, 0, 0, 0, 0, 0, 0, 0, 0, 0, 0, 0, 0, 0, 0, 0, 0, 0, 0, 0, 0, 0, 0, 0, 0, 0, 0, 0, 0, 0, 0, 0, 0, 0, 0, 0, 0, 0, 0, 0, 0, 0, 0, 0, 0, 0, 0, 0, 0, 0, 0, 0, 0, 0, 0, 0, 0, 0, 0, 0, 0, 0, 0, 0, 0, 0, 0, 0, 0, 0, 0, 0, 0, 0, 0, 0, 0, 0, 0, 0, 0, 0, 0, 0, 0, 0, 0, 0, 0, 0, 0, 0, 0, 0, 0, 0, 0, 0, 0, 0, 0, 0, 0, 0, 0, 0, 0, 0, 0, 0, 0, 0, 0, 0, 0, 0, 0, 0, 0, 0, 0, 0, 0, 0, 0, 0, 0, 0, 0, 0, 0, 0, 0, 0, 0, 0, 0, 0, 0, 0, 0, 0, 0, 0, 0, 0, 0, 0, 0, 0, 0, 0, 0, 0, 0, 0, 0, 0, 0, 0, 0, 0, 0, 0, 0, 0, 0, 0, 0, 0, 0, 0, 0, 0, 0, 0, 0, 0, 0, 0, 0, 0, 0, 0, 0, 0, 0, 0, 0, 0, 0, 0, 0, 0, 0, 0, 0, 0, 0, 0, 0, 0, 0, 0, 0, 0, 0, 0, 0, 0, 0, 0, 0, 0, 0, 0, 0, 0, 0, 0, 0, 0, 0, 0, 0, 0, 0, 0, 0, 0, 0, 0, 0, 0, 0, 0, 0, 0, 0, 0, 0, 0, 0, 0, 0, 0, 0, 0, 0, 0, 0, 0, 0, 0, 0, 0, 0, 0, 0, 0, 0, 0, 0, 0, 0, 0, 0, 0, 0, 0, 0, 0, 0, 0, 0, 0, 0, 0, 0, 0, 0, 0, 0, 0, 0, 0, 0, 0, 0, 0, 0, 0, 0, 0, 0, 0, 0, 0, 0, 0, 0, 0, 0, 0, 0, 0, 0, 0, 0, 0, 0, 0, 0, 0, 0, 0, 0, 0, 0, 0, 0, 0, 0, 0, 0, 0, 0, 0, 0, 0, 0, 0, 0, 0, 0, 0, 0, 0, 0, 0, 0, 0, 0, 0, 0, 0, 0, 0, 0, 0, 0, 0, 0, 0, 0, 0, 2, 0, 1, 0], type: <class 'list'>, valid types: <class 'bytes'>, <class 'bytearray'>, file-like object"
     ]
    }
   ],
   "source": [
    "response = runtime.invoke_endpoint(EndpointName = xgb_predictor.endpoint, # The name of the endpoint we created\n",
    "                                       ContentType = 'text/csv',                     # The data format that is expected\n",
    "                                       Body = test_bow)"
   ]
  },
  {
   "cell_type": "markdown",
   "metadata": {},
   "source": [
    "So why did we get an error?\n",
    "\n",
    "Because we tried to send the endpoint a list of integers but it expected us to send data of type `text/csv`. So, we need to convert it."
   ]
  },
  {
   "cell_type": "code",
   "execution_count": 47,
   "metadata": {},
   "outputs": [],
   "source": [
    "response = runtime.invoke_endpoint(EndpointName = xgb_predictor.endpoint, # The name of the endpoint we created\n",
    "                                       ContentType = 'text/csv',                     # The data format that is expected\n",
    "                                       Body = ','.join([str(val) for val in test_bow]).encode('utf-8'))"
   ]
  },
  {
   "cell_type": "code",
   "execution_count": 48,
   "metadata": {},
   "outputs": [
    {
     "name": "stdout",
     "output_type": "stream",
     "text": [
      "{'ResponseMetadata': {'RequestId': 'a67ad9d4-a7e2-4992-8266-d62fed2ce555', 'HTTPStatusCode': 200, 'HTTPHeaders': {'x-amzn-requestid': 'a67ad9d4-a7e2-4992-8266-d62fed2ce555', 'x-amzn-invoked-production-variant': 'AllTraffic', 'date': 'Wed, 23 Sep 2020 13:14:22 GMT', 'content-type': 'text/csv; charset=utf-8', 'content-length': '14'}, 'RetryAttempts': 0}, 'ContentType': 'text/csv; charset=utf-8', 'InvokedProductionVariant': 'AllTraffic', 'Body': <botocore.response.StreamingBody object at 0x7fe35c723f60>}\n"
     ]
    }
   ],
   "source": [
    "print(response)"
   ]
  },
  {
   "cell_type": "markdown",
   "metadata": {},
   "source": [
    "As we can see, the response from our model is a somewhat complicated looking dict that contains a bunch of information. The bit that we are most interested in is `'Body'` object which is a streaming object that we need to `read` in order to make use of."
   ]
  },
  {
   "cell_type": "code",
   "execution_count": 49,
   "metadata": {},
   "outputs": [
    {
     "name": "stdout",
     "output_type": "stream",
     "text": [
      "0.449318468571\n"
     ]
    }
   ],
   "source": [
    "response = response['Body'].read().decode('utf-8')\n",
    "print(response)"
   ]
  },
  {
   "cell_type": "markdown",
   "metadata": {},
   "source": [
    "Now that we know how to process the incoming user data we can start setting up the infrastructure to make our simple web app work. To do this we will make use of two different services. Amazon's Lambda and API Gateway services.\n",
    "\n",
    "Lambda is a service which allows someone to write some relatively simple code and have it executed whenever a chosen trigger occurs. For example, you may want to update a database whenever new data is uploaded to a folder stored on S3.\n",
    "\n",
    "API Gateway is a service that allows you to create HTTP endpoints (url addresses) which are connected to other AWS services. One of the benefits to this is that you get to decide what credentials, if any, are required to access these endpoints.\n",
    "\n",
    "In our case we are going to set up an HTTP endpoint through API Gateway which is open to the public. Then, whenever anyone sends data to our public endpoint we will trigger a Lambda function which will send the input (in our case a review) to our model's endpoint and then return the result."
   ]
  },
  {
   "cell_type": "markdown",
   "metadata": {},
   "source": [
    "### Setting up a Lambda function\n",
    "\n",
    "The first thing we are going to do is set up a Lambda function. This Lambda function will be executed whenever our public API has data sent to it. When it is executed it will receive the data, perform any sort of processing that is required, send the data (the review) to the SageMaker endpoint we've created and then return the result.\n",
    "\n",
    "#### Part A: Create an IAM Role for the Lambda function\n",
    "\n",
    "Since we want the Lambda function to call a SageMaker endpoint, we need to make sure that it has permission to do so. To do this, we will construct a role that we can later give the Lambda function.\n",
    "\n",
    "Using the AWS Console, navigate to the **IAM** page and click on **Roles**. Then, click on **Create role**. Make sure that the **AWS service** is the type of trusted entity selected and choose **Lambda** as the service that will use this role, then click **Next: Permissions**.\n",
    "\n",
    "In the search box type `sagemaker` and select the check box next to the **AmazonSageMakerFullAccess** policy. Then, click on **Next: Review**.\n",
    "\n",
    "Lastly, give this role a name. Make sure you use a name that you will remember later on, for example `LambdaSageMakerRole`. Then, click on **Create role**."
   ]
  },
  {
   "cell_type": "markdown",
   "metadata": {},
   "source": [
    "#### Part B: Create a Lambda function\n",
    "\n",
    "Now it is time to actually create the Lambda function. Remember from earlier that in order to process the user provided input and send it to our endpoint we need to gather two pieces of information:\n",
    "\n",
    " - The name of the endpoint, and\n",
    " - the vocabulary object.\n",
    "\n",
    "We will copy these pieces of information to our Lambda function after we create it.\n",
    "\n",
    "To start, using the AWS Console, navigate to the AWS Lambda page and click on **Create a function**. When you get to the next page, make sure that **Author from scratch** is selected. Now, name your Lambda function, using a name that you will remember later on, for example `sentiment_analysis_xgboost_func`. Make sure that the **Python 3.6** runtime is selected and then choose the role that you created in the previous part. Then, click on **Create Function**.\n",
    "\n",
    "On the next page you will see some information about the Lambda function you've just created. If you scroll down you should see an editor in which you can write the code that will be executed when your Lambda function is triggered. Collecting the code we wrote above to process a single review and adding it to the provided example `lambda_handler` we arrive at the following.\n",
    "\n",
    "```python\n",
    "# We need to use the low-level library to interact with SageMaker since the SageMaker API\n",
    "# is not available natively through Lambda.\n",
    "import boto3\n",
    "\n",
    "# And we need the regular expression library to do some of the data processing\n",
    "import re\n",
    "\n",
    "REPLACE_NO_SPACE = re.compile(\"(\\.)|(\\;)|(\\:)|(\\!)|(\\')|(\\?)|(\\,)|(\\\")|(\\()|(\\))|(\\[)|(\\])\")\n",
    "REPLACE_WITH_SPACE = re.compile(\"(<br\\s*/><br\\s*/>)|(\\-)|(\\/)\")\n",
    "\n",
    "def review_to_words(review):\n",
    "    words = REPLACE_NO_SPACE.sub(\"\", review.lower())\n",
    "    words = REPLACE_WITH_SPACE.sub(\" \", words)\n",
    "    return words\n",
    "    \n",
    "def bow_encoding(words, vocabulary):\n",
    "    bow = [0] * len(vocabulary) # Start by setting the count for each word in the vocabulary to zero.\n",
    "    for word in words.split():  # For each word in the string\n",
    "        if word in vocabulary:  # If the word is one that occurs in the vocabulary, increase its count.\n",
    "            bow[vocabulary[word]] += 1\n",
    "    return bow\n",
    "\n",
    "\n",
    "def lambda_handler(event, context):\n",
    "    \n",
    "    vocab = \"*** ACTUAL VOCABULARY GOES HERE ***\"\n",
    "    \n",
    "    words = review_to_words(event['body'])\n",
    "    bow = bow_encoding(words, vocab)\n",
    "\n",
    "    # The SageMaker runtime is what allows us to invoke the endpoint that we've created.\n",
    "    runtime = boto3.Session().client('sagemaker-runtime')\n",
    "\n",
    "    # Now we use the SageMaker runtime to invoke our endpoint, sending the review we were given\n",
    "    response = runtime.invoke_endpoint(EndpointName = '***ENDPOINT NAME HERE***',# The name of the endpoint we created\n",
    "                                       ContentType = 'text/csv',                 # The data format that is expected\n",
    "                                       Body = ','.join([str(val) for val in bow]).encode('utf-8')) # The actual review\n",
    "\n",
    "    # The response is an HTTP response whose body contains the result of our inference\n",
    "    result = response['Body'].read().decode('utf-8')\n",
    "    \n",
    "    # Round the result so that our web app only gets '1' or '0' as a response.\n",
    "    result = round(float(result))\n",
    "\n",
    "    return {\n",
    "        'statusCode' : 200,\n",
    "        'headers' : { 'Content-Type' : 'text/plain', 'Access-Control-Allow-Origin' : '*' },\n",
    "        'body' : str(result)\n",
    "    }\n",
    "```"
   ]
  },
  {
   "cell_type": "markdown",
   "metadata": {},
   "source": [
    "Once you have copy and pasted the code above into the Lambda code editor, replace the `**ENDPOINT NAME HERE**` portion with the name of the endpoint that we deployed earlier. You can determine the name of the endpoint using the code cell below."
   ]
  },
  {
   "cell_type": "code",
   "execution_count": 50,
   "metadata": {},
   "outputs": [
    {
     "data": {
      "text/plain": [
       "'xgboost-2020-09-23-12-39-55-496'"
      ]
     },
     "execution_count": 50,
     "metadata": {},
     "output_type": "execute_result"
    }
   ],
   "source": [
    "xgb_predictor.endpoint"
   ]
  },
  {
   "cell_type": "markdown",
   "metadata": {},
   "source": [
    "In addition, you will need to copy the vocabulary dict to the appropriate place in the code at the beginning of the `lambda_handler` method. The cell below prints out the vocabulary dict in a way that is easy to copy and paste."
   ]
  },
  {
   "cell_type": "code",
   "execution_count": 51,
   "metadata": {},
   "outputs": [
    {
     "name": "stdout",
     "output_type": "stream",
     "text": [
      "{'dont': 1324, 'ever': 1539, 'consider': 949, 'watching': 4814, 'this': 4457, 'sorry': 4076, 'excuse': 1565, 'for': 1784, 'film': 1716, 'the': 4426, 'way': 4819, 'it': 2366, 'is': 2360, 'shot': 3950, 'lit': 2622, 'acted': 99, 'etc': 1528, 'just': 2437, 'doesnt': 1309, 'make': 2714, 'sense': 3878, 'its': 2370, 'all': 188, 'so': 4046, 'bad': 382, 'difficult': 1249, 'to': 4507, 'watch': 4810, 'loads': 2634, 'of': 3084, 'clips': 851, 'are': 285, 'repeated': 3633, 'beyond': 476, 'boredom': 542, 'there': 4438, 'seems': 3865, 'be': 418, 'no': 3021, 'normal': 3034, 'person': 3241, 'in': 2257, 'entire': 1503, 'and': 227, 'existence': 1572, 'outside': 3147, 'world': 4946, 'well': 4842, 'exist': 1570, 'why': 4877, 'does': 1308, 'that': 4424, 'guy': 2000, 'become': 433, 'sudden': 4272, 'stupidity': 4248, 'zero': 4996, 'great': 1964, 'movie': 2927, 'shows': 3961, 'what': 4857, 'our': 3140, 'government': 1948, 'will': 4885, 'other': 3136, 'countries': 1013, 'if': 2222, 'we': 4822, 'like': 2600, 'their': 4431, 'isnt': 2362, 'as': 311, 'bush': 631, 'number': 3061, 'one': 3108, 'did': 1241, 'south': 4087, 'america': 213, 'but': 635, 'us': 4689, 'still': 4188, 'has': 2043, 'business': 632, 'around': 297, 'with': 4911, 'movies': 2928, 'also': 200, 'proves': 3450, 'american': 214, 'media': 2791, 'propaganda': 3438, 'exactly': 1552, 'they': 4442, 'reason': 3560, 'against': 148, 'didnt': 1242, 'succeed': 4262, 'was': 4804, 'over': 3149, '90': 60, 'vote': 4765, 'political': 3327, 'documentary': 1307, 'would': 4957, 'were': 4847, 'drama': 1346, 'amazing': 210, 'real': 3550, 'reviewer': 3679, 'lying': 2691, 'when': 4861, 'he': 2056, 'says': 3802, 'private': 3407, 'running': 3757, 'anti': 254, 'time': 4495, 'you': 4986, 'need': 2988, 'read': 3546, 'review': 3678, 'an': 224, 'earlier': 1400, 'by': 641, 'already': 198, 'main': 2708, 'production': 3422, 'can': 664, 'only': 3111, 'basic': 406, 'bleak': 503, 'house': 2178, 'relatively': 3602, 'late': 2524, 'dickens': 1240, 'novel': 3053, 'much': 2935, 'darker': 1116, 'than': 4420, 'his': 2118, 'work': 4940, 'taken': 4350, 'too': 4522, 'literally': 2623, 'director': 1264, 'who': 4870, 'on': 3106, 'rick': 3691, 'appear': 273, 'half': 2007, 'hour': 2176, 'into': 2332, 'opening': 3115, 'episode': 1508, 'relief': 3607, 'first': 1736, 'some': 4061, 'scenes': 3812, 'hard': 2033, 'see': 3856, 'actually': 110, 'my': 2952, 'tv': 4608, 'screen': 3830, 'watched': 4812, 'whole': 4872, 'thing': 4450, 'day': 1129, 'starting': 4158, 'mid': 2834, 'afternoon': 145, 'became': 431, 'less': 2576, 'issue': 2364, 'have': 2052, 'pretty': 3387, 'good': 1937, 'never': 3002, 'problem': 3411, 'before': 440, 'at': 331, 'any': 256, 'pacing': 3164, 'very': 4722, 'ie': 2221, 'slow': 4031, 'am': 205, 'sure': 4308, 'overdone': 3153, 'numerous': 3063, 'shots': 3951, 'people': 3224, 'though': 4461, 'london': 2642, 'held': 2074, 'longer': 2646, 'necessary': 2985, 'mood': 2899, 'atmosphere': 333, 'editor': 1424, 'could': 1007, 'probably': 3410, 'take': 4349, 'several': 3906, 'minutes': 2861, 'out': 3142, 'each': 1396, 'minute': 2860, 'without': 4913, 'losing': 2659, 'line': 2611, 'dialogue': 1234, 'these': 4441, 'slightly': 4029, 'want': 4787, 'two': 4618, 'problems': 3412, 'soon': 4074, 'look': 2647, 'pace': 3162, 'more': 2905, 'important': 2247, 'always': 204, 'tell': 4395, 'story': 4207, 'effectively': 1431, 'novels': 3054, 'long': 2645, 'not': 3041, 'nearly': 2982, 'example': 1554, 'recently': 3570, 're': 3538, 'nicholas': 3011, 'because': 432, 'intrigued': 2334, 'how': 2181, 'douglas': 1334, 'page': 3169, 'book': 535, 'answer': 251, 'simple': 3983, 'full': 1846, 'cut': 1089, 'while': 4867, 'essential': 1523, 'elements': 1444, 'possible': 3353, 'needs': 2991, 'seven': 3904, 'hours': 2177, 'even': 1534, 'many': 2734, 'convoluted': 987, 'plot': 3312, 'clear': 838, 'or': 3125, 'handled': 2019, 'few': 1700, 'random': 3516, 'examples': 1555, 'appears': 278, 'from': 1840, 'nowhere': 3057, 'background': 380, 'lady': 2508, 'her': 2085, 'largely': 2519, 'georges': 1894, 'demand': 1174, 'somewhat': 4068, 'made': 2698, 'enough': 1492, 'love': 2670, 'she': 3924, 'agrees': 158, 'marry': 2747, 'john': 2409, 'neither': 2997, 'agreed': 157, 'secret': 3850, 'marriage': 2745, 'merely': 2817, 'lovers': 2674, 'next': 3008, 'suddenly': 4273, 'them': 4432, 'husband': 2204, 'wife': 4883, 'mrs': 2931, 'introduced': 2337, 'stage': 4139, 'family': 1646, 'left': 2562, 'means': 2785, 'which': 4866, 'discovered': 1280, 'understated': 4644, 'obscure': 3069, 'involvement': 2347, 'makers': 2716, 'both': 547, 'tom': 4514, 'later': 2526, 'obvious': 3072, 'offer': 3088, 'others': 3137, 'major': 2712, 'nonetheless': 3030, 'minor': 2859, 'power': 3362, 'shouldnt': 3953, 'little': 2625, 'points': 3322, 'however': 2183, 'do': 1302, 'murder': 2940, 'thrown': 4481, 'away': 369, 'immediately': 2242, 'suspect': 4327, 'suspense': 4330, 'importance': 2246, 'finding': 1727, 'impact': 2244, 'sub': 4252, 'scene': 3810, 'front': 1841, 'sir': 4000, 'serious': 3892, 'investigation': 2343, 'subsequent': 4257, 'search': 3842, 'during': 1388, 'completely': 922, 'lose': 2655, 'sight': 3969, 'legal': 2564, 'case': 706, 'effect': 1429, 'failing': 1628, 'despair': 1207, 'health': 2060, 'put': 3483, 'hold': 2129, 'may': 2777, 'wrote': 4974, 'havent': 2053, 'years': 4979, 'screenplay': 3832, 'should': 3952, 'keep': 2449, 'different': 1248, 'moving': 2929, 'forward': 1808, 'together': 4511, 'finally': 1724, 'role': 3728, 'almost': 194, 'discovery': 1282, 'new': 3004, 'final': 1722, 'happens': 2029, 'off': 3085, 'despite': 1211, 'performances': 3232, 'outstanding': 3148, 'individual': 2277, 'beautifully': 429, 'tragedy': 4550, 'powerful': 3363, 'superb': 4296, 'adaptation': 114, 'had': 2003, 'been': 438, '2005': 35, 'fact': 1622, 'wouldnt': 4958, 'fully': 1847, 'aware': 368, 'hadnt': 2004, 'seen': 3866, 'andrew': 229, 'davies': 1125, 'better': 472, 'critical': 1062, 'jane': 2380, 'admit': 123, 'really': 3559, 'knows': 2494, 'tame': 4363, 'books': 536, 'impressive': 2253, 'gripping': 1976, 'worth': 4953, 'fate': 1666, 'viewed': 4736, 'mainly': 2709, 'cross': 1066, 'reference': 3585, 'near': 2980, 'version': 4719, 'where': 4863, 'start': 4156, 'started': 4157, 'after': 144, '30': 42, 'mark': 2741, 'caught': 721, 'myself': 2954, 'horror': 2168, 'then': 4436, 'kicked': 2462, 'got': 1944, 'actors': 105, 'gave': 1875, 'average': 362, 'performance': 3231, 'bit': 488, 'bored': 541, 'jones': 2418, 'constant': 957, 'dragged': 1343, 'word': 4937, 'far': 1654, 'fetched': 1698, 'spoiler': 4123, 'alert': 179, 'thought': 4462, 'get': 1899, 'worse': 4951, 'towards': 4540, 'end': 1469, 'looking': 2649, 'monsters': 2894, 'turned': 4604, 'up': 4681, 'eat': 1412, 'dead': 1132, 'sort': 4077, 'flesh': 1753, 'eating': 1414, 'cult': 1077, 'guys': 2001, 'die': 1243, 'ending': 1472, 'me': 2780, 'laugh': 2530, 'once': 3107, 'lead': 2546, 'becomes': 434, 'killer': 2471, 'closing': 858, 'creep': 1051, 'best': 469, 'star': 4150, 'female': 1693, 'job': 2405, 'save': 3795, 'train': 4554, 'wreck': 4965, 'saw': 3799, 'ago': 155, 'desire': 1205, 'again': 147, 'about': 67, 'waters': 4816, 'overlooked': 3155, 'short': 3947, 'cash': 708, 'changes': 750, 'bank': 394, 'runs': 3758, 'passes': 3206, 'him': 2110, 'blank': 501, 'check': 776, 'uses': 4696, 'million': 2849, 'ironically': 2356, 'money': 2890, 'belongs': 460, 'mansion': 2733, 'hes': 2093, 'working': 4944, 'assistant': 326, 'mysterious': 2956, 'wealthy': 4826, 'named': 2962, 'mr': 2930, 'computer': 927, 'goes': 1930, 'crazy': 1035, 'paper': 3186, 'sounds': 4084, 'idea': 2213, 'ive': 2372, 'unbelievable': 4632, 'know': 2490, 'parts': 3202, 'meant': 2786, 'incredible': 2269, 'draw': 1349, 'twelve': 4609, 'year': 4978, 'old': 3101, 'boy': 557, 'going': 1931, 'thirty': 4456, 'woman': 4921, 'being': 448, 'charge': 760, 'persons': 3247, 'small': 4033, 'fortune': 1806, 'shallow': 3918, 'weak': 4823, 'acting': 100, 'predictable': 3370, 'characters': 759, 'memorable': 2804, 'either': 1439, 'cheesy': 780, 'top': 4525, 'annoying': 249, 'funny': 1852, 'character': 757, 'youre': 4992, 'your': 4991, 'skip': 4016, 'released': 3605, 'poorly': 3332, 'say': 3800, 'figured': 1712, 'cops': 993, 'dedicated': 1153, 'newspaper': 3007, 'done': 1322, 'send': 3876, 'dvd': 1392, 'cable': 643, 'run': 3756, 'said': 3775, 'usually': 4699, 'type': 4619, 'especially': 1521, 'cast': 709, 'morgan': 2906, 'freeman': 1829, 'justin': 2440, 'kevin': 2458, 'cary': 705, 'heard': 2062, 'side': 3965, 'death': 1141, 'above': 68, 'brings': 587, 'life': 2593, 'violent': 4747, 'watchable': 4811, 'young': 4989, 'reporter': 3638, 'throw': 4479, 'edited': 1421, 'decent': 1147, 'ladies': 2507, 'girl': 1909, 'friends': 1837, 'cool': 989, 'whats': 4859, 'required': 3643, 'quite': 3498, 'killings': 2474, 'children': 791, 'definitely': 1162, 'ratings': 3533, '100': 1, 'imdb': 2240, '10': 0, 'gene': 1879, 'kelly': 2453, 'frank': 1821, 'sinatra': 3989, 'directed': 1259, 'george': 1893, 'sidney': 3968, 'joe': 2407, 'navy': 2977, 'leave': 2556, 'hollywood': 2137, 'meet': 2795, 'dean': 1139, 'taking': 4352, 'home': 2142, 'aunt': 355, 'falls': 1641, 'wants': 4790, 'try': 4598, 'help': 2079, 'theres': 4440, 'mix': 2878, 'musical': 2948, 'dancing': 1107, 'singing': 3995, 'gets': 1900, 'dance': 1103, 'jerry': 2396, 'mouse': 2920, 'delightful': 1168, 'sequence': 3888, 'sings': 3997, 'heart': 2064, 'favorite': 1672, 'voices': 4762, 'piano': 3267, 'beautiful': 428, 'show': 3954, 'girls': 1911, 'those': 4460, 'big': 478, 'blue': 518, 'eyes': 1614, 'face': 1617, 'break': 569, 'mgm': 2830, 'wonderful': 4928, 'think': 4452, 'feel': 1684, 'explain': 1587, 'actions': 102, 'basically': 407, 'such': 4268, 'mean': 2781, 'although': 202, 'physical': 3265, 'camera': 658, 'boom': 537, 'operation': 3118, 'technical': 4381, 'aspects': 322, 'laughable': 2531, 'unfortunately': 4652, 'areas': 287, 'unlike': 4668, 'classic': 834, 'independent': 2272, 'films': 1721, 'saved': 3796, 'scripts': 3837, 'characterization': 758, 'awful': 372, 'script': 3835, 'worst': 4952, 'crime': 1055, 'every': 1540, 'distribution': 1298, 'indie': 2276, 'died': 1244, 'silent': 3975, 'deaths': 1142, 'brothers': 599, 'explanation': 1591, 'amateur': 207, 'im': 2232, 'picked': 3269, 'part': 3196, 'holds': 2131, 'intrigue': 2333, 'title': 4504, 'let': 2580, 'down': 1335, 'hope': 2155, 'lot': 2662, 'cinema': 815, 'ill': 2228, 'forget': 1793, 'point': 3319, 'experience': 1581, 'shame': 3919, 'low': 2677, 'back': 378, '1980s': 21, 'dad': 1095, 'recorded': 3577, 'must': 2951, '20': 29, 'times': 4497, 'recent': 3569, 'release': 3604, 'course': 1019, 'bought': 552, 'changed': 749, 'vhs': 4724, 'thanks': 4423, 'dark': 1115, 'featuring': 1682, 'van': 4712, 'der': 1191, 'et': 1527, 'al': 171, 'comic': 892, 'another': 250, 'original': 3130, 'dub': 1379, 'translation': 4560, 'japanese': 2382, 'quality': 3487, 'animation': 242, 'raise': 3510, 'question': 3490, 'whether': 4865, 'intended': 2315, 'narrative': 2967, 'theme': 4433, 'loosely': 2652, 'satire': 3789, 'three': 4469, 'ages': 153, 'attempt': 340, 'length': 2570, 'comedy': 889, 'feature': 1679, 'similarities': 3979, 'similar': 3978, 'stories': 4205, 'through': 4477, 'complete': 921, 'style': 4249, 'reduced': 3582, 'fortunately': 1805, 'succeeds': 4264, 'brilliantly': 584, 'contains': 964, 'funniest': 1851, 'nothing': 3048, 'unique': 4660, 'daring': 1114, 'lines': 2613, 'meets': 2797, 'loses': 2658, 'plots': 3313, 'period': 3239, 'set': 3899, 'standard': 4144, 'future': 1856, 'works': 4945, 'mel': 2798, 'brooks': 596, 'genre': 1888, 'believe': 454, 'anyone': 259, 'play': 3299, 'lovable': 2669, 'keaton': 2448, 'stunts': 4246, 'addition': 119, 'wallace': 4781, 'appearance': 274, 'rival': 3708, 'adds': 120, 'appeal': 271, 'thinks': 4454, 'cannot': 669, 'appreciated': 280, 'modern': 2884, 'audiences': 353, 'most': 2910, 'besides': 468, '11': 2, 'information': 2288, 'opinion': 3119, 'five': 1743, 'scientists': 3820, '80': 58, 'press': 3382, 'highly': 2105, 'science': 3817, 'gore': 1941, 'global': 1920, 'warming': 4794, 'mass': 2755, 'wrong': 4973, 'shown': 3960, 'evidence': 1547, 'prove': 3448, 'lies': 2592, 'liberal': 2589, 'school': 3814, 'believing': 457, 'garbage': 1870, 'fairly': 1632, 'budget': 609, 'lack': 2503, 'hurts': 2203, 'believable': 453, 'torn': 4528, 'apart': 264, 'son': 4070, 'whos': 4875, 'searching': 3843, 'himself': 2111, 'white': 4869, 'rest': 3659, 'moment': 2888, 'potential': 3358, 'ruined': 3752, 'excessive': 1561, 'melodrama': 2799, 'sign': 3970, 'needed': 2989, 'recommend': 3574, 'core': 995, 'fan': 1649, 'absolutely': 73, 'viewer': 4737, 'dream': 1354, 'machine': 2694, 'finest': 1730, 'century': 735, 'kidding': 2466, 'marks': 2744, 'mediocre': 2793, 'plague': 3288, 'career': 685, 'except': 1557, 'surprisingly': 4316, 'here': 2086, 'plays': 3304, 'college': 874, 'car': 679, 'attention': 345, 'lucky': 2684, 'rich': 3687, 'cheating': 775, 'decides': 1150, 'faithful': 1635, 'gift': 1906, 'slick': 4026, 'unfortunate': 4651, 'murdered': 2941, 'body': 527, 'hidden': 2096, 'now': 3055, 'bodies': 526, 'seem': 3862, 'rather': 3531, 'foul': 1810, 'unaware': 4630, 'something': 4066, 'suspicious': 4332, 'odd': 3081, 'circumstances': 821, 'particular': 3197, 'man': 2722, 'follows': 1775, 'desperate': 1208, 'grade': 1951, 'action': 101, 'double': 1331, 'kid': 2465, 'romantic': 3735, 'fails': 1629, 'anything': 260, 'interest': 2323, 'least': 2555, 'forty': 1807, 'filmmakers': 1720, 'hit': 2122, 'find': 1726, 'poor': 3331, 'loved': 2671, 'obviously': 3073, 'couldnt': 1008, 'act': 98, 'between': 475, 'villain': 4743, 'makes': 2717, 'events': 1537, 'unconvincing': 4636, 'result': 3662, 'add': 116, 'insult': 2309, 'soundtrack': 4085, 'unbelievably': 4633, 'sounded': 4082, 'self': 3870, 'evident': 1548, 'songs': 4072, 'hear': 2061, 'team': 4378, 'date': 1118, 'montage': 2895, 'loyal': 2680, 'fans': 1651, 'disappointed': 1273, 'understanding': 4643, '14': 6, '15': 7, 'might': 2837, 'expect': 1576, 'viewers': 4738, 'early': 1401, '90s': 61, 'pass': 3204, 'italian': 2367, 'starred': 4153, 'david': 1124, 'linda': 2610, 'blair': 497, 'expecting': 1579, 'honest': 2146, 'took': 4523, 'things': 4451, 'confusing': 942, 'uninteresting': 4658, 'saving': 3798, 'special': 4097, 'effects': 1432, 'same': 3779, 'central': 734, 'confusion': 943, 'relationships': 3600, 'setting': 3901, 'social': 4049, 'context': 968, 'place': 3285, 'harvey': 2042, 'element': 1443, 'lacks': 2506, 'usual': 4698, 'direction': 1261, 'intensity': 2317, 'matters': 2772, 'name': 2961, 'che': 772, 'told': 4513, 'directly': 1263, 'narrator': 2968, 'remain': 3611, 'until': 4678, 'defined': 1160, 'younger': 4990, 'generation': 1883, 'cliché': 843, 'reviews': 3681, 'discuss': 1283, 'depicts': 1186, 'revolution': 3682, 'boys': 559, 'responsible': 3658, 'lost': 2661, 'property': 3441, 'stand': 4143, 'making': 2719, 'choice': 796, 'mention': 2812, 'english': 1484, 'speaking': 4095, 'wonder': 4926, 'cuba': 1075, 'figure': 1711, 'beginning': 443, 'cheap': 773, 'throughout': 4478, 'mostly': 2911, 'wooden': 4934, 'timing': 4498, 'visual': 4756, 'distracting': 1297, 'references': 3586, 'black': 493, 'greek': 1970, 'chorus': 802, 'strictly': 4223, 'gratuitous': 1961, 'consistently': 954, 'waiting': 4771, 'happened': 2027, 'huge': 2185, 'stars': 4155, 'filled': 1715, 'excellent': 1556, 'supporting': 4304, 'harry': 2039, 'bruce': 602, 'youd': 4987, 'delivered': 1170, 'second': 3847, 'rate': 3529, 'henry': 2084, 'competent': 917, 'established': 1525, 'east': 1408, 'africa': 142, 'wwii': 4975, 'americans': 215, 'war': 4791, 'trying': 4599, 'control': 977, 'african': 143, 'nazi': 2978, 'trouble': 4590, 'among': 218, 'men': 2807, 'destruction': 1216, 'british': 589, 'empire': 1465, 'lovely': 2672, 'playing': 3303, 'daughter': 1121, 'britain': 588, '1930s': 11, '40s': 49, 'pro': 3409, 'nowadays': 3056, 'notion': 3051, 'seeing': 3858, 'happy': 2032, 'dying': 1394, 'queen': 3488, 'country': 1014, 'ridiculous': 3695, 'root': 3739, 'piece': 3275, 'effective': 1430, 'support': 4303, 'today': 4508, 'suffers': 4278, 'silly': 3976, 'casting': 710, 'bright': 581, 'showdown': 3956, 'enemy': 1478, 'agent': 151, 'seemed': 3863, 'talk': 4358, 'punch': 3469, 'neat': 2983, 'race': 3502, 'premise': 3373, 'found': 1811, 'authority': 360, 'battle': 414, 'everybody': 1541, 'heat': 2067, 'victims': 4729, 'cousin': 1021, 'holding': 2130, 'available': 361, 'internet': 2327, 'filmed': 1717, 'genuine': 1891, 'locations': 2637, 'interesting': 2325, 'detail': 1217, 'under': 4637, 'exposed': 1599, 'noir': 3024, 'maybe': 2778, 'lighting': 2597, 'werent': 4848, 'plenty': 3310, 'location': 2636, 'noise': 3025, 'non': 3028, 'professional': 3424, 'artists': 309, 'crowd': 1067, 'begin': 442, 'chance': 746, 'chase': 768, 'hanging': 2023, 'jack': 2373, 'genuinely': 1892, 'scary': 3808, 'charismatic': 762, 'intelligent': 2314, 'sick': 3964, 'terrific': 4409, 'widmark': 4881, 'often': 3096, 'anger': 235, 'mission': 2872, 'level': 2585, 'somebody': 4062, 'remake': 3614, 'fx': 1858, 'conflict': 939, 'mentioned': 2813, 'writer': 4968, 'kennedy': 2455, 'thats': 4425, 'spot': 4131, 'types': 4620, 'sleazy': 4023, 'community': 907, 'living': 2630, 'middle': 2835, 'night': 3014, 'enjoy': 1485, 'wasnt': 4806, 'entertaining': 1500, 'highlights': 2104, 'include': 2261, 'absurd': 74, 'music': 2947, 'constantly': 958, 'hideous': 2098, 'someone': 4064, 'gun': 1996, 'turn': 4603, 'green': 1971, 'disgusting': 1286, 'steals': 4172, 'recognize': 3572, 'overall': 3151, 'renting': 3631, 'cant': 670, 'imagine': 2238, 'video': 4732, 'store': 4204, 'carrying': 700, 'learn': 2551, 'appreciate': 279, 'trash': 4563, 'complex': 923, 'dealing': 1136, 'issues': 2365, 'dislike': 1288, 'industry': 2280, 'sue': 4274, 'smith': 4038, 'failed': 1627, 'rise': 3704, 'television': 4394, 'particularly': 3198, 'having': 2054, 'talented': 4355, 'ms': 2932, 'friend': 1835, 'relative': 3601, 'award': 366, 'winning': 4898, 'christ': 806, 'road': 3711, 'come': 885, 'ideas': 2215, 'wind': 4893, 'justice': 2438, 'water': 4815, 'bridge': 578, 'interested': 2324, 'finish': 1732, 'flawless': 1751, 'yet': 4984, 'australian': 357, 'last': 2522, 'couple': 1016, 'viewings': 4740, 'classics': 836, 'voice': 4760, 'broke': 593, 'devils': 1229, 'dollars': 1315, 'moments': 2889, 'surreal': 4317, 'atmospheric': 334, 'realistic': 3553, 'contemporary': 965, 'sheer': 3926, 'entertainment': 1501, 'ordinary': 3129, 'boring': 543, 'go': 1924, 'reaction': 3544, 'cinemas': 816, 'reactions': 3545, 'conversations': 981, 'came': 655, 'heads': 2059, 'negative': 2992, 'enjoyed': 1487, 'terry': 4415, 'stunning': 4244, 'chris': 805, 'la': 2501, 'mind': 2851, 'surprises': 4314, 'touches': 4535, 'peoples': 3225, 'head': 2057, 'james': 2378, 'cole': 872, 'willis': 4890, 'steve': 4181, 'traveling': 4566, 'coming': 895, 'keeps': 2451, 'prevent': 3388, 'deadly': 1133, 'humans': 2190, 'animals': 240, 'oscar': 3134, 'nominated': 3026, 'brad': 560, 'pitt': 3283, 'meaning': 2782, 'psychiatrist': 3458, 'give': 1912, 'careers': 686, 'paul': 3217, 'score': 3823, 'haunting': 2051, 'ones': 3109, 'miss': 2868, 'strange': 4211, 'based': 404, 'shall': 3917, 'criticism': 1063, 'feels': 1687, 'since': 3990, 'deals': 1137, 'themes': 4434, 'humanity': 2189, 'moral': 2903, 'standards': 4145, 'spite': 4117, 'intentions': 2321, 'tone': 4517, 'simply': 3986, 'terribly': 4408, 'disjointed': 1287, 'convey': 982, 'message': 2821, 'jungle': 2434, 'flick': 1754, 'tarzan': 4367, 'sci': 3816, 'fi': 1701, 'differences': 1247, 'section': 3854, 'overlook': 3154, 'stick': 4185, 'remind': 3620, 'led': 2559, 'temple': 4398, 'burt': 628, 'reynolds': 3686, 'involved': 2346, 'attractive': 351, 'scientist': 3819, 'dr': 1340, 'susan': 4326, 'clark': 831, 'trek': 4576, 'upon': 4683, 'ape': 266, 'creatures': 1046, 'covered': 1023, 'hair': 2005, 'survived': 4322, 'touched': 4534, 'influenced': 2287, 'missing': 2871, 'link': 2614, 'apes': 267, 'perhaps': 3238, 'behave': 445, 'develop': 1222, 'human': 2188, 'call': 650, 'initially': 2291, 'nasty': 2969, 'intention': 2319, 'questions': 3492, 'truly': 4595, 'takes': 4351, 'argument': 291, 'hopes': 2159, 'granted': 1957, 'own': 3159, 'greedy': 1969, 'continued': 970, 'seriously': 3893, 'impossible': 2249, 'asked': 317, 'charming': 767, 'relevant': 3606, 'nice': 3009, 'roles': 3729, 'edward': 1427, 'fox': 1814, 'alexander': 181, 'hyde': 2206, 'lame': 2511, 'used': 4692, 'stuck': 4237, 'unintentionally': 4657, 'comical': 893, 'right': 3698, 'sympathy': 4343, 'awfully': 373, 'poignant': 3318, 'philosophical': 3256, 'worthy': 4956, 'failure': 1630, 'witch': 4909, 'spend': 4105, 'redemption': 3581, 'baseball': 403, 'single': 3996, 'high': 2100, 'ball': 388, 'club': 862, 'filming': 1718, 'went': 4846, 'area': 286, 'brave': 567, 'plain': 3289, 'stupid': 4247, 'greatest': 1966, 'deserved': 1200, 'won': 4925, 'list': 2618, 'writing': 4971, 'highest': 2102, 'voight': 4763, 'hoffman': 2128, 'match': 2764, 'drawn': 1351, 'inventive': 2341, 'editing': 1422, 'cinematography': 819, 'youll': 4988, 'vivid': 4759, 'credible': 1048, 'picture': 3272, '60s': 54, 'york': 4985, 'city': 824, 'struggling': 4236, 'overcome': 3152, 'personal': 3243, 'demons': 1178, 'survive': 4321, 'poverty': 3360, 'street': 4216, 'techniques': 4384, 'capture': 675, 'underground': 4638, 'movement': 2924, 'including': 2264, 'fire': 1734, 'flashbacks': 1747, 'drug': 1374, 'trip': 4586, 'sequences': 3889, 'terror': 4412, 'stolen': 4195, 'relationship': 3599, 'strong': 4229, 'friendship': 1838, 'homosexual': 2145, 'subtle': 4260, 'cop': 991, 'connection': 946, 'sexual': 3909, 'midnight': 2836, 'cowboy': 1025, 'influence': 2286, 'none': 3029, 'true': 4594, 'everyone': 1543, 'steven': 4182, 'bottom': 551, 'teenagers': 4391, 'cardboard': 681, 'spoil': 4121, 'telling': 4396, 'super': 4295, 'loose': 2651, 'decide': 1148, 'instead': 2307, 'killing': 2473, 'brain': 562, 'remember': 3618, 'escapes': 1520, 'arrested': 298, 'general': 1880, 'plane': 3291, 'handed': 2016, 'terrorist': 4413, 'gang': 1867, 'air': 165, 'force': 1786, 'pilot': 3279, 'surprise': 4312, 'trained': 4555, 'heroes': 2089, 'girlfriend': 1910, 'baby': 376, 'fell': 1690, 'whatever': 4858, 'flying': 1764, 'cartoons': 704, 'daniel': 1111, 'revelation': 3676, 'matthew': 2774, '24': 39, 'present': 3377, 'christian': 807, 'return': 3667, 'values': 4709, 'ranks': 3522, '1950s': 13, 'plan': 3290, 'age': 149, 'dated': 1119, 'sequel': 3886, 'producers': 3419, 'learned': 2552, 'behind': 447, 'series': 3891, 'code': 868, 'extremely': 1611, 'surprised': 4313, 'mst3k': 2933, 'crew': 1053, 'ok': 3099, 'missed': 2869, 'seconds': 3849, 'titles': 4506, 'assume': 328, 'lots': 2663, 'stephen': 4176, 'king': 2480, 'doing': 1312, 'alice': 183, 'looks': 2650, 'cat': 712, 'alien': 184, 'explained': 1588, 'live': 2626, 'possibly': 3354, 'kind': 2477, 'large': 2518, 'yes': 4982, 'cats': 720, 'cameos': 657, 'avoid': 363, 'written': 4972, 'directorial': 1265, 'effort': 1433, 'office': 3092, 'boyfriend': 558, 'days': 1130, 'situation': 4008, 'returns': 3670, 'par': 3187, 'sound': 4081, 'familiar': 1644, 'nights': 3017, 'tiny': 4500, 'le': 2545, 'brought': 600, 'gem': 1877, 'months': 2898, 'settings': 3902, 'streets': 4217, 'colorful': 877, 'light': 2596, 'hotel': 2175, 'rooms': 3738, 'hire': 2116, 'witness': 4914, 'given': 1913, 'purpose': 3477, 'fits': 1741, 'actress': 106, 'brother': 598, 'sit': 4003, 'sing': 3992, 'thumbs': 4485, 'cute': 1090, 'rating': 3532, 'disease': 1285, 'extra': 1607, 'peter': 3250, 'interpretation': 2328, 'indeed': 2271, 'child': 788, 'impression': 2252, 'group': 1980, 'hopefully': 2157, 'theyll': 4444, 'julia': 2427, 'travels': 4567, 'harris': 2038, 'alex': 180, 'savage': 3794, 'island': 2361, 'along': 196, 'weekend': 4837, 'remote': 3624, 'boat': 523, 'weird': 4840, 'arrives': 302, 'explains': 1590, 'smoke': 4039, 'pot': 3357, 'driving': 1369, 'truck': 4593, 'turns': 4607, 'accidentally': 86, 'believes': 456, 'animal': 239, 'claims': 829, 'accept': 81, 'trade': 4547, 'families': 1645, 'amateurish': 208, 'flawed': 1750, 'totally': 4532, 'situations': 4009, 'women': 4923, 'alone': 195, 'menace': 2808, 'logical': 2640, 'bringing': 586, 'police': 3325, 'rescue': 3645, 'nobody': 3023, 'chases': 770, 'calls': 653, 'sister': 4001, 'flaws': 1752, 'subject': 4253, 'images': 2235, 'material': 2768, 'four': 1812, 'brazil': 568, 'de': 1131, 'blood': 512, 'praise': 3367, 'oh': 3097, 'box': 555, 'description': 1197, 'valley': 4706, 'pool': 3330, 'directing': 1260, 'driven': 1366, 'cliff': 846, 'committed': 904, 'reading': 3547, 'comments': 900, 'swedish': 4335, 'floor': 1759, 'parallel': 3188, 'humor': 2192, 'fantasy': 1653, 'realism': 3552, 'theater': 4427, 'creature': 1045, 'universe': 4664, 'hell': 2077, 'existed': 1571, 'florida': 1761, 'lower': 2678, 'sex': 3908, 'san': 3781, 'francisco': 1819, 'gandhi': 1866, 'western': 4852, 'civilization': 826, 'bring': 585, 'hole': 2132, 'ready': 3549, 'decided': 1149, 'ignore': 2224, 'accents': 80, 'appalling': 268, 'wanted': 4788, 'complicated': 925, 'valuable': 4707, 'reaches': 3541, 'climax': 848, 'care': 683, 'occasionally': 3076, 'fit': 1740, 'judge': 2424, 'adapted': 115, 'journey': 2421, 'explaining': 1589, 'supposed': 4306, 'change': 748, 'pointless': 3321, 'allow': 190, 'mess': 2820, 'touching': 4536, 'impressed': 2251, 'debut': 1143, 'rose': 3740, 'easily': 1407, 'regardless': 3592, 'everything': 1545, 'played': 3300, 'charlotte': 765, 'represents': 3641, 'itself': 2371, 'tree': 4574, 'details': 1219, 'across': 97, 'loaded': 2633, 'emotion': 1459, 'psychological': 3461, 'deal': 1135, 'doubt': 1332, 'majority': 2713, 'follow': 1772, 'whilst': 4868, 'confused': 941, 'ties': 4490, 'ends': 1475, 'kicking': 2463, 'yourself': 4993, 'youve': 4995, 'stock': 4193, 'jason': 2383, 'spends': 4107, 'specifically': 4100, 'gives': 1914, 'fantastic': 1652, 'ray': 3536, 'afterwards': 146, 'symbolism': 4341, 'hints': 2113, 'laid': 2509, 'game': 1864, 'leslie': 2575, 'adventures': 132, 'simon': 3982, 'careful': 687, 'villains': 4744, 'occasional': 3075, 'foreign': 1790, 'hero': 2088, 'uncle': 4634, 'robert': 3715, 'rage': 3508, 'heaven': 2068, 'rules': 3755, 'law': 2539, 'briefly': 580, 'heavy': 2070, 'persona': 3242, 'behavior': 446, 'morris': 2909, 'extent': 1606, 'mystery': 2957, 'holmes': 2139, 'frequently': 1832, 'heroine': 2091, 'wendy': 4845, 'sets': 3900, 'comfortable': 891, 'dialog': 1232, 'showing': 3959, 'keeping': 2450, 'step': 4175, 'ahead': 160, 'mysteries': 2955, 'due': 1383, 'writers': 4969, 'shortly': 3948, 'tries': 4583, 'protect': 3446, 'dealt': 1138, 'identity': 2217, 'criminal': 1057, 'noble': 3022, 'merit': 2818, 'likely': 2602, 'proof': 3437, 'father': 1667, 'prison': 3404, 'criminals': 1058, 'robbery': 3713, 'william': 4886, 'advice': 134, 'planning': 3294, 'embarrassing': 1455, 'da': 1094, 'determined': 1221, 'detective': 1220, 'solve': 4060, 'jonathan': 2417, 'currently': 1085, 'dinner': 1254, 'willie': 4888, 'upset': 4686, 'stomach': 4196, 'apartment': 265, 'certain': 736, 'beaten': 424, 'worlds': 4947, 'whose': 4876, 'reminiscent': 3623, 'entertain': 1498, 'memory': 2806, 'knew': 2487, 'suck': 4269, 'pg': 3253, '13': 4, 'asking': 318, 'moon': 2901, 'prom': 3432, '1980': 20, 'masterpiece': 2761, 'certainly': 737, 'deserves': 1201, 'stays': 4169, 'locked': 2638, 'mental': 2810, 'patients': 3215, 'room': 3737, 'stay': 4166, 'loves': 2675, 'kill': 2469, 'rape': 3524, 'skills': 4014, 'teacher': 4375, 'kills': 2475, 'asleep': 320, 'notice': 3049, 'twenty': 4610, 'teen': 4388, 'deep': 1154, 'emotions': 1462, 'overwhelming': 3158, 'provides': 3453, 'seeking': 3860, 'touch': 4533, 'soul': 4079, 'watches': 4813, 'lesser': 2577, 'depth': 1190, 'received': 3567, 'copy': 994, 'content': 966, 'tape': 4365, 'forgot': 1796, 'angles': 237, 'looked': 2648, 'creepy': 1052, 'generally': 1881, 'twists': 4617, 'lifetime': 2595, 'network': 3001, 'christmas': 809, 'loving': 2676, 'kept': 2457, 'else': 1449, 'post': 3355, 'board': 522, 'advance': 128, 'thank': 4421, 'disney': 1289, 'destroying': 1215, 'fond': 1776, 'memories': 2805, 'former': 1800, '16': 8, 'feeling': 1685, 'rent': 3628, 'thus': 4486, 'managed': 2724, 'endearing': 1470, 'eric': 1515, 'birth': 486, 'within': 4912, 'sea': 3839, 'fight': 1707, 'stands': 4147, 'figures': 1713, 'use': 4691, 'sword': 4340, 'note': 3045, 'total': 4531, 'manages': 2726, 'plus': 3314, 'graphics': 1959, 'backgrounds': 381, 'opportunity': 3122, 'development': 1225, 'wasted': 4808, 'bite': 489, 'waste': 4807, 'kids': 2468, 'remotely': 3625, 'exciting': 1564, 'wont': 4932, 'manage': 2723, 'grab': 1949, 'ocean': 3080, 'finds': 1728, 'international': 2326, 'festival': 1697, 'disappeared': 1271, 'terrible': 4407, 'brilliant': 583, 'sad': 3768, 'art': 304, 'handful': 2017, 'comedies': 888, 'matter': 2771, 'originality': 3131, 'dozen': 1338, 'native': 2973, 'zombies': 4998, 'europe': 1530, 'stop': 4201, 'slaughter': 4021, 'thousands': 4466, 'previous': 3390, 'decade': 1144, 'text': 4419, 'chapter': 756, 'express': 1601, 'fear': 1677, 'hand': 2015, 'open': 3113, 'mouth': 2921, 'scream': 3827, 'quickly': 3494, 'object': 3067, 'heavily': 2069, 'emotionally': 1461, 'ex': 1550, 'eye': 1612, 'contact': 961, 'move': 2922, 'studio': 4240, 'wall': 4780, 'cuts': 1091, '35': 45, 'comes': 890, 'master': 2759, 'slowly': 4032, 'hill': 2108, 'door': 1328, 'window': 4894, 'lets': 2581, 'yeah': 4977, 'frankenstein': 1822, 'destroyed': 1214, 'ironic': 2355, 'germans': 1897, 'hilarious': 2106, 'price': 3392, 'roy': 3746, 'members': 2803, 'falling': 1640, 'evil': 1549, 'spell': 4104, 'close': 852, 'frame': 1815, 'guess': 1989, 'dragon': 1344, 'fighter': 1708, 'channel': 752, 'called': 651, 'cgi': 739, 'unexpected': 4648, 'tune': 4600, 'dangerous': 1110, 'somewhere': 4069, 'redeeming': 3580, 'met': 2824, 'forced': 1787, 'felt': 1692, 'formula': 1802, 'built': 617, 'connected': 945, 'order': 3127, 'prostitute': 3443, 'badly': 383, 'remembered': 3619, 'campbell': 662, 'curiosity': 1082, 'presented': 3379, 'wholly': 4873, 'key': 2459, 'scott': 3825, 'tells': 4397, 'daughters': 1122, 'table': 4346, 'shock': 3939, 'wore': 4939, 'wished': 4905, 'bin': 483, 'utter': 4700, 'resources': 3653, 'warning': 4799, 'themselves': 4435, 'landscapes': 2515, 'earth': 1404, 'planet': 3292, 'bbc': 417, 'captivating': 674, 'patrick': 3216, 'stewart': 4184, 'captain': 673, 'space': 4090, 'appropriate': 283, 'calm': 654, '12': 3, 'north': 3037, 'bear': 420, 'elephant': 1445, 'whale': 4856, 'starts': 4159, 'birds': 485, 'fish': 1738, 'mountains': 2919, 'perfect': 3227, 'presentation': 3378, 'variety': 4713, 'cities': 822, 'arent': 288, 'typical': 4621, 'nature': 2976, 'accompanied': 87, 'opened': 3114, 'brutal': 603, 'hunter': 2199, 'cases': 707, 'motion': 2914, 'shed': 3925, 'newly': 3005, 'born': 544, 'shooting': 3944, 'cost': 1003, 'beauty': 430, 'dutch': 1390, 'yesterday': 4983, 'month': 2897, 'actual': 109, 'rarely': 3527, 'curious': 1083, 'favourite': 1674, 'luckily': 2683, 'cried': 1054, 'diane': 1238, 'lane': 2516, 'mad': 2697, 'throws': 4482, 'ice': 2210, 'throwing': 4480, 'sees': 3867, 'mom': 2887, 'rocks': 3724, 'busy': 634, 'inspired': 2301, 'madness': 2699, 'multiple': 2937, 'fired': 1735, 'allows': 193, 'barely': 399, 'below': 462, 'surely': 4309, 'common': 905, 'relies': 3608, 'somehow': 4063, 'perfectly': 3229, 'moves': 2926, 'risk': 3706, 'becoming': 435, 'awkward': 374, 'fine': 1729, 'demands': 1175, 'sometimes': 4067, 'results': 3664, 'depicted': 1183, 'achieved': 94, 'apparently': 270, 'timeless': 4496, 'helped': 2080, 'respect': 3654, '1990s': 25, 'andrews': 230, 'kinds': 2479, 'similarly': 3980, 'underrated': 4640, 'glenn': 1918, 'ford': 1789, 'actor': 104, 'moody': 2900, 'dirty': 1268, '50s': 52, 'tough': 4537, 'hates': 2048, 'involving': 2349, 'illegal': 2229, 'crap': 1031, 'reasons': 3563, 'cover': 1022, 'killed': 2470, 'hook': 2152, 'photographed': 3261, 'joseph': 2419, 'ben': 463, 'grace': 1950, 'laura': 2537, 'anime': 243, 'reviewers': 3680, 'st': 4137, 'stretch': 4221, 'imagination': 2236, 'pick': 3268, 'leaves': 2557, 'trees': 4575, 'liked': 2601, 'costumes': 1006, 'dull': 1385, 'mentions': 2815, 'threw': 4470, 'measure': 2788, 'split': 4120, 'powers': 3364, 'dressed': 1359, 'costume': 1005, 'grey': 1973, 'ability': 65, 'kiss': 2484, 'batman': 413, 'dumb': 1386, 'leg': 2563, 'create': 1036, 'bugs': 612, 'yellow': 4981, 'dust': 1389, 'hands': 2020, 'wow': 4962, 'fast': 1662, 'expected': 1578, 'comparing': 912, 'mistake': 2873, 'share': 3921, 'endings': 1473, 'experienced': 1582, 'filmmaker': 1719, 'unless': 4667, '18': 10, 'awesome': 371, 'unknown': 4666, 'speak': 4094, 'happen': 2026, 'hardly': 2036, 'errors': 1517, 'fun': 1848, 'blockbuster': 509, 'visually': 4757, 'cares': 689, 'composed': 926, 'captured': 676, 'derek': 1192, 'designs': 1204, 'youth': 4994, 'wealth': 4825, 'ways': 4821, 'tribute': 4579, 'bo': 521, 'commentary': 898, 'mentioning': 2814, 'anthony': 253, 'lover': 2673, 'portrayal': 3344, 'era': 1514, 'value': 4708, 'strength': 4219, 'wrapped': 4964, 'confidence': 938, 'security': 3855, 'anymore': 258, 'rex': 3685, 'reed': 3583, 'doctor': 1304, 'carradine': 694, 'drunk': 1376, 'destroy': 1213, 'male': 2720, 'proceeds': 3414, 'teach': 4374, 'history': 2121, 'ask': 316, 'handsome': 2021, 'roger': 3726, 'naturally': 2975, 'tried': 4582, 'hired': 2117, 'attitude': 346, 'bunch': 622, 'questionable': 3491, 'talent': 4354, 'andy': 231, 'jim': 2402, 'west': 4851, 'absolute': 72, 'disaster': 1276, 'attempts': 343, 'jump': 2429, 'scenery': 3811, 'extreme': 1610, 'jokes': 2415, 'disbelief': 1277, 'lousy': 2668, 'evening': 1535, 'laughed': 2533, 'older': 3102, 'finished': 1733, 'parents': 3191, 'makeup': 2718, 'disc': 1278, 'hate': 2046, 'remains': 3613, 'minded': 2852, 'carry': 699, 'hoping': 2160, 'prefer': 3371, 'putting': 3485, 'sitting': 4007, 'warn': 4796, 'viewing': 4739, 'outrageous': 3146, 'public': 3463, 'round': 3743, 'bumbling': 621, 'paris': 3192, 'clever': 840, 'provided': 3452, 'ann': 244, 'ruth': 3764, 'realize': 3555, 'roman': 3733, 'pleased': 3308, 'artificial': 306, 'intelligence': 2313, 'hide': 2097, 'daddy': 1096, 'six': 4010, 'peace': 3222, 'friendly': 1836, 'creators': 1044, 'faster': 1663, 'command': 896, 'officer': 3093, 'steal': 4170, 'ii': 2226, 'mothers': 2913, 'concerned': 932, 'stealing': 4171, 'toys': 4543, 'growing': 1983, 'greatly': 1967, 'continue': 969, 'hiding': 2099, 'president': 3381, 'boss': 546, 'kate': 2446, 'married': 2746, 'spielberg': 4110, 'society': 4050, 'freedom': 1828, 'speech': 4102, 'please': 3307, 'began': 441, 'gritty': 1977, 'rolled': 3731, 'gone': 1935, 'clint': 849, 'eastwood': 1410, 'don': 1320, 'helps': 2082, 'woods': 4935, 'convince': 983, 'occurred': 3078, 'cameras': 659, 'engaging': 1482, 'gray': 1963, 'mans': 2732, 'feelings': 1686, 'successfully': 4267, 'visuals': 4758, 'cleverly': 841, 'unfolds': 4649, 'build': 613, 'tension': 4404, 'ring': 3700, 'enjoys': 1490, 'chilling': 793, 'bone': 533, 'scare': 3804, 'triumph': 4588, 'historically': 2120, 'german': 1896, 'base': 402, 'improve': 2254, 'status': 4165, 'produced': 3417, 'versions': 4720, 'cry': 1073, 'slight': 4027, 'quiet': 3495, 'humble': 2191, 'celebrity': 728, 'clearly': 839, 'sold': 4052, 'pop': 3333, 'created': 1037, 'able': 66, 'ease': 1405, 'sweet': 4336, 'trailer': 4552, 'id': 2212, 'initial': 2290, 'thoughts': 4464, 'hooked': 2153, 'picking': 3270, 'jaw': 2384, 'furthermore': 1854, 'french': 1830, 'candy': 667, 'futuristic': 1857, 'package': 3167, 'wishing': 4907, 'dubbing': 1381, 'easy': 1411, 'ruin': 3751, 'respected': 3655, 'hong': 2149, 'kong': 2495, 'fresh': 1833, 'conservative': 948, 'indian': 2274, 'soccer': 4048, 'perform': 3230, 'wedding': 4835, 'ultimate': 4625, 'push': 3480, 'traditional': 4549, 'sides': 3967, 'crisis': 1060, 'elsewhere': 1450, 'wrap': 4963, 'survival': 4320, 'royal': 3747, 'paced': 3163, 'photography': 3263, 'followed': 1773, 'unnecessary': 4670, 'sentimental': 3883, '1940s': 12, 'presence': 3376, 'richard': 3688, 'colonel': 875, 'event': 1536, 'song': 4071, 'faces': 1619, 'track': 4544, 'station': 4164, 'catch': 713, 'thousand': 4465, 'red': 3579, 'drew': 1361, 'jimmy': 2403, 'lust': 2690, 'laughs': 2535, 'dan': 1102, 'clues': 864, 'burns': 627, 'local': 2635, 'expert': 1586, 'giving': 1915, 'everyday': 1542, 'capturing': 678, 'successful': 4266, 'damn': 1100, 'forces': 1788, 'teenage': 4389, 'childhood': 789, 'reunion': 3671, 'intriguing': 2335, 'marie': 2739, 'household': 2179, 'sunshine': 4294, 'comedic': 887, 'dynamic': 1395, 'frustration': 1843, 'sincere': 3991, 'compassion': 914, 'warm': 4793, 'environment': 1506, 'inner': 2292, 'builds': 616, 'suspenseful': 4331, 'irony': 2357, 'sole': 4055, 'enjoyment': 1489, 'third': 4455, 'mine': 2855, 'spent': 4108, 'student': 4238, 'medium': 2794, 'absent': 71, 'god': 1926, 'twilight': 4612, 'zone': 4999, 'unoriginal': 4671, 'ghost': 1902, 'agree': 156, 'afraid': 141, 'biggest': 480, 'pathetic': 3213, 'tears': 4380, 'crying': 1074, 'angry': 238, 'actresses': 107, 'suffering': 4277, 'flat': 1748, 'practically': 3365, 'deserve': 1199, 'eddie': 1417, 'murphy': 2945, 'lewis': 2587, 'getting': 1901, 'dramatic': 1348, 'worthless': 4954, 'closely': 854, 'free': 1827, 'changing': 751, 'clichés': 845, 'twice': 4611, 'inside': 2297, 'hint': 2112, 'understand': 4641, 'buying': 640, 'excited': 1562, 'supposedly': 4307, 'students': 4239, 'featured': 1680, 'dimensional': 1253, 'talking': 4360, 'nonsense': 3031, 'anyway': 261, 'bother': 548, 'research': 3646, 'crimes': 1056, 'compare': 910, 'vampire': 4710, 'alike': 186, 'facts': 1625, 'correct': 1000, 'serial': 3890, 'killers': 2472, 'names': 2964, 'describe': 1194, 'anybody': 257, 'rare': 3526, 'tear': 4379, 'dry': 1378, 'merits': 2819, 'shes': 3931, 'method': 2826, 'pain': 3172, 'distant': 1295, 'un': 4628, 'revolutionary': 3683, 'personally': 3246, 'herself': 2092, 'thinking': 4453, 'using': 4697, 'proper': 3439, 'funeral': 1849, 'spain': 4091, 'devoid': 1230, 'bar': 396, 'greed': 1968, 'audience': 352, 'holiday': 2134, 'bland': 500, 'uk': 4624, 'directors': 1266, 'color': 876, 'folks': 1771, 'ashamed': 312, 'executive': 1568, 'producer': 3418, 'credits': 1050, 'joke': 2414, 'vampires': 4711, 'wears': 4831, 'jake': 2377, 'westerns': 4853, 'mann': 2730, 'naked': 2960, 'bay': 416, 'river': 3709, 'mill': 2847, 'walter': 4783, 'innocent': 2294, 'corrupt': 1001, 'halfway': 2008, 'arrive': 300, 'mixed': 2879, 'spooky': 4128, 'radio': 3507, 'ghosts': 1903, 'scared': 3806, 'torture': 4529, 'shirt': 3938, 'creates': 1038, 'lives': 2629, 'scares': 3807, 'violence': 4746, 'sucked': 4270, 'scheme': 3813, 'fool': 1779, 'remarkable': 3615, 'spike': 4111, 'lee': 2560, 'alive': 187, 'lesson': 2578, 'sam': 3778, 'summer': 4291, 'streisand': 4218, 'performers': 3235, 'perspective': 3248, 'hall': 2009, 'promising': 3436, 'connect': 944, 'dialogues': 1235, 'realise': 3551, 'loud': 2665, 'humorous': 2193, 'carrey': 695, 'akshay': 170, 'tired': 4501, 'couples': 1017, 'brilliance': 582, 'separate': 3884, 'test': 4416, 'gary': 1873, 'boot': 538, 'lord': 2653, 'innocence': 2293, 'jeff': 2390, 'normally': 3035, 'sidekick': 3966, 'enjoyable': 1486, 'image': 2233, 'india': 2273, 'emotional': 1460, 'visible': 4752, 'haunted': 2050, 'loss': 2660, 'bollywood': 530, 'indians': 2275, 'meaningful': 2783, 'breath': 573, 'intellectual': 2312, 'further': 1853, 'fair': 1631, 'glad': 1916, 'billy': 482, 'guts': 1999, 'victim': 4728, 'seeks': 3861, 'superbly': 4297, 'lonely': 2644, 'sinister': 3998, 'building': 614, 'suppose': 4305, 'strongly': 4231, 'features': 1681, 'guilty': 1995, 'shoot': 3943, 'added': 117, 'los': 2654, 'angeles': 233, 'nor': 3033, 'estate': 1526, 'hart': 2041, '50': 51, 'member': 2802, 'audio': 354, 'fascinating': 1659, 'aspect': 321, 'known': 2493, 'eg': 1435, 'judy': 2426, 'barry': 401, 'nelson': 2998, 'taylor': 4372, 'superman': 4301, 'giant': 1905, 'insight': 2298, 'levels': 2586, 'training': 4556, 'assigned': 325, 'gender': 1878, 'acceptable': 82, 'todays': 4509, 'onto': 3112, 'wide': 4879, 'task': 4368, 'discussion': 1284, 'considered': 951, 'spoilers': 4124, 'storyline': 4208, 'refreshing': 3588, 'dreary': 1356, 'laughing': 2534, 'hung': 2197, 'claire': 830, '2001': 31, 'degree': 1164, 'likes': 2603, 'incredibly': 2270, 'korean': 2496, 'believed': 455, 'unrealistic': 4675, 'corny': 997, 'likable': 2599, 'dreams': 1355, 'sympathetic': 4342, 'win': 4892, 'potentially': 3359, 'soldier': 4053, 'blade': 495, 'kurt': 2500, 'russell': 3762, 'stayed': 4167, 'virtually': 4750, 'reasonable': 3561, 'unable': 4629, 'terrorists': 4414, 'escape': 1518, 'sequels': 3887, 'sean': 3841, 'proud': 3447, 'band': 391, 'rented': 3630, 'promised': 3434, 'aired': 166, 'whatsoever': 4860, 'rental': 3629, 'walked': 4775, 'throat': 4476, 'spiritual': 4116, 'standing': 4146, 'leader': 2547, 'caliber': 648, 'leads': 2549, 'according': 89, 'spoke': 4125, 'accepted': 83, 'feet': 1688, 'elvis': 1452, 'opens': 3116, 'grand': 1953, 'sat': 3787, 'junk': 2436, 'familys': 1647, 'learns': 2554, 'beast': 422, 'nearby': 2981, 'engaged': 1481, 'lucy': 2685, 'incident': 2260, 'fake': 1636, 'graphic': 1958, 'erotic': 1516, 'wonderfully': 4929, 'pregnant': 3372, 'european': 1531, 'rated': 3530, 'truth': 4597, 'ed': 1416, 'adult': 126, 'toward': 4539, 'showed': 3957, 'grown': 1984, 'ups': 4685, 'provoking': 3455, 'aids': 162, 'past': 3210, 'footage': 1782, 'alcoholic': 178, 'saying': 3801, 'cold': 871, 'surrounded': 4318, 'cheated': 774, 'considering': 952, 'okay': 3100, 'orange': 3126, 'avoided': 364, 'obsession': 3071, 'bette': 471, 'davis': 1126, 'mildred': 2843, 'waitress': 4772, 'coffee': 869, 'shop': 3946, 'medical': 2792, 'pays': 3221, 'meanwhile': 2787, 'secrets': 3853, 'angel': 232, 'broken': 594, 'kicks': 2464, 'burn': 624, 'foot': 1781, 'teenager': 4390, 'sally': 3777, 'march': 2736, 'aging': 154, 'downhill': 1336, 'raised': 3511, 'dies': 1245, 'leading': 2548, 'path': 3212, 'stuff': 4243, 'treats': 4573, 'dogs': 1311, 'philip': 3255, 'asks': 319, 'toy': 4542, 'sisters': 4002, 'terms': 4406, 'lips': 2616, 'mainstream': 2710, 'soft': 4051, 'porn': 3339, 'wear': 4829, 'bare': 398, 'wet': 4854, 'suicide': 4283, 'drive': 1364, 'primary': 3397, 'target': 4366, 'covers': 1024, 'focus': 1766, 'saturday': 3793, 'depicting': 1184, 'pulled': 3465, 'words': 4938, 'wisdom': 4902, 'husbands': 2205, 'sons': 4073, 'wondered': 4927, 'roberts': 3716, 'gold': 1932, 'associated': 327, 'dropping': 1372, 'splatter': 4118, 'university': 4665, 'amusing': 222, 'mindless': 2853, 'essence': 1522, 'needless': 2990, 'drivel': 1365, 'nudity': 3060, 'thrill': 4471, 'slasher': 4020, 'offers': 3091, 'bore': 540, 'paying': 3220, 'bomb': 531, 'guns': 1998, 'flop': 1760, 'answers': 252, 'solution': 4059, 'personalities': 3244, 'sum': 4289, 'stinks': 4192, 'whoever': 4871, 'beat': 423, 'forbidden': 1785, 'lie': 2591, '2007': 37, 'cinematic': 817, 'reality': 3554, 'storytelling': 4209, 'blowing': 515, 'disagree': 1269, 'players': 3302, 'apparent': 269, 'con': 928, 'state': 4160, 'via': 4725, 'rachel': 3503, 'richardson': 3690, 'speaks': 4096, 'load': 2632, 'hence': 2083, 'belief': 451, 'buy': 639, 'breathtaking': 574, 'repeatedly': 3634, 'morning': 2907, 'sounding': 4083, 'unlikely': 4669, 'plausible': 3298, 'fbi': 1676, 'card': 680, 'guessed': 1990, 'benefit': 465, 'counter': 1011, 'props': 3442, 'tale': 4353, 'leaving': 2558, 'sacrifice': 3767, 'anna': 245, 'narration': 2966, 'nevertheless': 3003, 'smart': 4035, 'charm': 766, 'worked': 4941, 'gradually': 1952, 'bitter': 491, 'odds': 3083, '2003': 33, 'houses': 2180, 'jumped': 2430, 'author': 359, 'contract': 973, 'massive': 2758, 'hot': 2174, 'topic': 4526, 'shocked': 3940, 'discover': 1279, 'virgin': 4748, 'accent': 79, 'technology': 4385, 'clothes': 859, 'cultural': 1078, 'source': 4086, 'conclusion': 936, 'account': 90, 'eventually': 1538, 'digital': 1251, 'guard': 1988, 'jeremy': 2394, 'mistakes': 2875, 'shocking': 3941, 'artistic': 308, 'device': 1227, 'drink': 1362, 'approach': 282, '2004': 34, 'investigate': 2342, 'affair': 136, 'pieces': 3276, 'martin': 2750, 'fashion': 1660, 'ultimately': 4626, 'revenge': 3677, 'company': 909, 'secretly': 3852, 'bob': 524, 'inept': 2281, 'secretary': 3851, 'maggie': 2703, 'theyre': 4445, 'phony': 3259, 'abandoned': 62, 'germany': 1898, 'visits': 4755, 'sent': 3881, 'pink': 3280, 'gags': 1862, 'quick': 3493, 'laughter': 2536, 'smile': 4036, 'painting': 3177, 'nude': 3059, 'ah': 159, 'annie': 247, 'signs': 3973, 'lay': 2543, 'cars': 701, 'decisions': 1152, 'glass': 1917, 'instance': 2304, 'range': 3519, 'limited': 2607, 'johnson': 2411, 'brief': 579, 'passion': 3208, 'headed': 2058, 'false': 1642, 'sexy': 3912, 'magical': 2705, 'theatre': 4429, 'michael': 2831, 'magic': 2704, 'decision': 1151, 'awe': 370, 'fabulous': 1616, 'depressed': 1187, 'legendary': 2566, 'exploitation': 1593, 'outfit': 3145, 'pictures': 3273, 'chicks': 786, '70s': 56, 'celluloid': 730, 'dolls': 1316, 'barbara': 397, 'wicked': 4878, 'sexually': 3911, 'frustrated': 1842, 'delivers': 1172, 'hilariously': 2107, 'aka': 169, 'eaten': 1413, 'curtis': 1087, 'ruby': 3750, 'lively': 2628, 'supernatural': 4302, 'deliver': 1169, 'amount': 220, 'language': 2517, 'typically': 4622, 'feminist': 1695, 'mighty': 2838, 'fighting': 1709, 'glorious': 1921, 'quirky': 3496, 'blues': 519, 'sheriff': 3930, 'rubber': 3748, 'monster': 2893, 'suit': 4284, 'trio': 4585, 'stops': 4203, 'gas': 1874, 'bathroom': 412, 'immensely': 2243, 'disappointing': 1274, 'shark': 3922, 'screaming': 3828, 'understandable': 4642, 'cause': 722, 'ten': 4399, 'secondly': 3848, 'gorgeous': 1942, 'popcorn': 3334, 'league': 2550, 'franchise': 1817, 'twins': 4614, 'consistent': 953, 'anyways': 262, 'favor': 1671, 'ended': 1471, 'forth': 1804, 'aliens': 185, 'thoroughly': 4459, 'ryan': 3766, 'genius': 1887, 'albert': 175, 'tim': 4494, 'robbins': 3714, 'equally': 1511, 'matthau': 2773, 'humour': 2194, 'scooby': 3821, 'doo': 1325, 'fall': 1638, 'stopped': 4202, 'retired': 3666, 'sleeping': 4025, 'returned': 3668, 'animated': 241, '17': 9, 'recall': 3565, 'birthday': 487, 'williams': 4887, 'christopher': 810, 'honestly': 2147, 'sadly': 3770, 'danny': 1112, 'hearing': 2063, 'richards': 3689, 'lol': 2641, 'perry': 3240, 'stanley': 4148, 'ralph': 3513, 'wise': 4903, 'bell': 458, 'whom': 4874, 'combination': 882, 'voiced': 4761, 'ward': 4792, 'episodes': 1509, 'segment': 3868, 'album': 176, 'lasted': 2523, 'season': 3844, 'womans': 4922, 'guest': 1992, 'adam': 112, 'hoped': 2156, 'popular': 3336, 'cartoon': 703, 'ultra': 4627, 'solo': 4058, 'robot': 3719, 'documentaries': 1306, 'listening': 2621, 'lengthy': 2571, 'settle': 3903, 'lyrics': 2693, 'productions': 3423, 'compelled': 915, 'italy': 2368, 'eva': 1532, 'mother': 2912, 'discovers': 1281, 'artist': 307, 'lawyer': 2542, 'reveal': 3672, 'caring': 690, 'forgotten': 1797, 'glory': 1922, 'arguably': 289, 'highlight': 2103, 'disturbing': 1300, 'proved': 3449, 'ticket': 4487, 'thriller': 4472, 'factor': 1623, 'chose': 803, 'latter': 2529, 'resulting': 3663, 'theyve': 4446, 'alternate': 201, 'fury': 1855, 'unwatchable': 4680, '80s': 59, 'flashback': 1746, 'chased': 769, 'string': 4227, 'neck': 2986, 'treasure': 4569, 'steps': 4177, 'disappointment': 1275, 'form': 1798, 'seek': 3859, 'worthwhile': 4955, 'attack': 337, 'damage': 1099, 'abraham': 69, 'jealous': 2388, 'liking': 2605, 'installment': 2303, 'notorious': 3052, 'presents': 3380, 'kidnapped': 2467, 'chair': 741, 'finger': 1731, 'unforgettable': 4650, 'closest': 856, 'gory': 1943, 'firstly': 1737, 'pointed': 3320, 'sentence': 3882, 'soap': 4047, 'soldiers': 4054, 'essentially': 1524, 'warned': 4797, 'painfully': 3174, 'embarrassment': 1456, 'thin': 4449, 'endless': 1474, 'food': 1778, 'wins': 4899, 'news': 3006, 'week': 4836, 'brown': 601, 'learning': 2553, 'winner': 4897, 'excitement': 1563, 'united': 4662, 'states': 4163, 'service': 3897, 'fellow': 1691, 'agents': 152, 'corner': 996, 'entertained': 1499, 'thrillers': 4473, 'ludicrous': 2686, 'fashioned': 1661, 'thrilling': 4474, 'sutherland': 4333, 'thankfully': 4422, 'subplot': 4255, 'kim': 2476, 'subplots': 4256, 'resembles': 3648, 'heights': 2073, 'smaller': 4034, 'notch': 3044, 'bound': 553, 'numbers': 3062, 'moved': 2923, 'taste': 4369, 'afford': 139, 'extras': 1609, 'vietnam': 4734, 'civil': 825, 'rights': 3699, 'hits': 2125, 'misses': 2870, 'jay': 2386, 'notes': 3047, 'raw': 3535, 'town': 4541, 'project': 3430, 'forgettable': 1794, 'mary': 2753, 'diana': 1237, 'hal': 2006, 'carter': 702, 'businessman': 633, 'studios': 4241, 'warner': 4798, 'garden': 1872, 'screens': 3833, 'bill': 481, 'powell': 3361, 'louis': 2666, 'victor': 4730, 'market': 2742, 'involves': 2348, 'accomplished': 88, 'hitchcock': 2123, 'devil': 1228, 'dog': 1310, 'blow': 514, 'threatening': 4468, 'climactic': 847, 'wish': 4904, 'donald': 1321, 'chief': 787, 'daily': 1097, 'writes': 4970, 'views': 4741, 'denzel': 1181, 'washington': 4805, 'begins': 444, 'write': 4967, 'land': 2512, '2006': 36, 'causes': 724, 'wars': 4803, 'straight': 4210, 'surprising': 4315, 'reminds': 3622, 'difference': 1246, 'embarrassed': 1454, 'horrible': 2163, 'walken': 4776, 'choices': 797, 'pleasure': 3309, 'isolated': 2363, 'scottish': 3826, 'territory': 4411, 'success': 4265, 'wave': 4817, 'struggle': 4234, 'dignity': 1252, 'struggles': 4235, 'fathers': 1668, 'church': 812, 'walking': 4778, 'matt': 2770, 'moore': 2902, 'joy': 2422, 'ensemble': 1493, 'kinda': 2478, 'credit': 1049, 'model': 2882, 'messed': 2823, 'surface': 4310, 'demented': 1176, 'gotten': 1947, 'shut': 3962, 'enterprise': 1496, 'ship': 3935, 'causing': 725, 'insane': 2296, 'kirk': 2483, 'superior': 4300, 'stunt': 4245, 'cruel': 1070, 'suffered': 4276, 'wasting': 4809, 'kenneth': 2456, 'branagh': 564, 'travesty': 4568, 'class': 832, 'caine': 646, 'reputation': 3642, 'marvelous': 2752, '1972': 18, 'intent': 2318, 'attempting': 342, 'olivier': 3104, 'oscars': 3135, 'brando': 566, 'godfather': 1927, 'displays': 1293, 'butler': 636, 'atrocious': 335, 'inane': 2258, 'frequent': 1831, 'angle': 236, 'absence': 70, 'witty': 4917, 'design': 1202, 'shadows': 3914, 'tight': 4492, 'keith': 2452, 'regard': 3590, 'turning': 4606, 'grave': 1962, 'bag': 384, 'performed': 3233, 'pan': 3183, 'murderous': 2943, 'allowing': 192, 'hamlet': 2013, 'suspects': 4328, 'subtlety': 4261, 'burning': 626, 'robin': 3717, 'gerard': 1895, 'heston': 2094, 'vision': 4753, 'dubbed': 1380, 'everyones': 1544, 'sleep': 4024, 'shape': 3920, 'females': 1694, 'developed': 1223, 'recommended': 3575, 'bits': 490, 'center': 731, 'progresses': 3429, 'lifestyle': 2594, 'credibility': 1047, 'bergman': 466, 'semi': 3875, 'otherwise': 3138, 'speed': 4103, 'subtitles': 4259, 'spanish': 4092, 'burned': 625, 'pushing': 3482, 'expectations': 1577, 'virus': 4751, 'resident': 3649, 'photo': 3260, 'spread': 4133, 'famous': 1648, 'passed': 3205, 'ninja': 3019, 'gay': 1876, 'natural': 2974, 'passing': 3207, 'beach': 419, 'balls': 390, 'website': 4833, 'strangely': 4212, 'fulci': 1845, 'produce': 3416, 'sadistic': 3769, 'brutally': 604, 'miserably': 2866, 'giallo': 1904, 'compelling': 916, 'incoherent': 2265, 'introduces': 2338, 'whenever': 4862, 'massacre': 2756, 'dialogs': 1233, 'advise': 135, 'aforementioned': 140, 'suggested': 4281, 'ought': 3139, 'legend': 2565, 'rolling': 3732, 'bed': 436, 'segments': 3869, 'satisfied': 3790, 'crappy': 1032, 'position': 3348, 'contrast': 975, 'wouldve': 4959, 'twist': 4615, 'earned': 1402, 'convinced': 984, 'pretentious': 3386, 'transfer': 4557, 'appealing': 272, 'lacking': 2505, 'quotes': 3500, 'knowledge': 2492, '1984': 23, 'hurt': 2202, 'burton': 629, 'grim': 1974, 'drinking': 1363, 'guessing': 1991, 'places': 3287, 'harder': 2035, 'bible': 477, 'holes': 2133, 'waited': 4770, 'thugs': 4484, 'sport': 4129, 'martial': 2749, 'arts': 310, 'achieve': 93, 'stronger': 4230, 'slapstick': 4019, 'carries': 698, 'polanski': 3324, 'directs': 1267, 'included': 2262, 'elaborate': 1440, 'opposed': 3123, 'edge': 1419, 'greater': 1965, 'achievement': 95, 'paranoia': 3189, 'identify': 2216, 'uncomfortable': 4635, 'paint': 3175, 'department': 1182, 'empathy': 1463, 'acts': 108, 'gentle': 1890, 'rough': 3742, 'awards': 367, 'starring': 4154, 'talents': 4356, 'placed': 3286, 'journalist': 2420, 'bears': 421, 'resemblance': 3647, 'em': 1453, 'bullets': 620, 'fictional': 1703, 'sports': 4130, 'spoof': 4127, 'parker': 3194, 'stone': 4197, 'losers': 2657, 'perfection': 3228, 'scripted': 3836, 'weakest': 4824, 'tedious': 4387, 'dreadful': 1353, 'extraordinary': 1608, '2002': 32, 'study': 4242, 'workers': 4943, 'descent': 1193, 'possessed': 3350, 'elegant': 1442, 'notably': 3043, 'mountain': 2918, 'masterful': 2760, 'tag': 4348, 'construction': 960, 'shy': 3963, 'sits': 4006, 'machines': 2695, 'obnoxious': 3068, 'drop': 1370, 'deaf': 1134, 'suggest': 4280, 'fears': 1678, '25': 40, 'clean': 837, 'sends': 3877, 'menacing': 2809, 'interviews': 2330, 'worker': 4942, 'wondering': 4930, 'breaks': 571, 'reveals': 3675, 'increasingly': 2268, 'intense': 2316, 'pair': 3178, 'attraction': 350, 'protagonists': 3445, 'homage': 2141, 'considerable': 950, 'view': 4735, 'mundane': 2939, 'drugs': 1375, 'maker': 2715, 'racist': 3506, 'portrays': 3347, 'exists': 1574, 'educational': 1426, 'system': 4345, 'reach': 3539, 'thomas': 4458, 'souls': 4080, 'affect': 137, 'hunters': 2200, 'culture': 1079, 'luck': 2682, 'selling': 3874, '20th': 38, 'enter': 1495, 'wild': 4884, 'direct': 1258, 'nation': 2970, 'recognized': 3573, 'count': 1010, 'castle': 711, 'leonard': 2573, 'court': 1020, 'punishment': 3470, 'regular': 3594, 'edgar': 1418, 'gothic': 1945, 'develops': 1226, 'remarkably': 3616, 'experiment': 1584, 'desperation': 1210, 'tricks': 4581, 'shines': 3933, 'removed': 3626, 'arthur': 305, 'transition': 4559, 'overacting': 3150, 'exaggerated': 1553, 'personality': 3245, 'notable': 3042, 'exercise': 1569, 'convincing': 985, 'controversial': 978, 'horrors': 2169, '1968': 15, 'scarecrow': 3805, 'russian': 3763, 'prince': 3399, 'freak': 1824, 'movements': 2925, 'product': 3421, 'user': 4695, 'shoots': 3945, 'explosion': 1597, 'craft': 1028, 'properly': 3440, 'hey': 2095, 'wake': 4773, 'aside': 315, 'dramas': 1347, 'sucks': 4271, 'flow': 1762, 'joined': 2413, 'pity': 3284, 'judging': 2425, 'trailers': 4553, 'rubbish': 3749, 'soviet': 4089, 'vs': 4766, 'competition': 918, 'painful': 3173, 'itll': 2369, 'appeared': 276, 'shell': 3928, 'forgive': 1795, 'dropped': 1371, 'jail': 2376, 'checking': 777, 'comment': 897, 'creating': 1039, 'grow': 1982, 'minds': 2854, 'react': 3543, 'hopeless': 2158, 'introduce': 2336, 'toilet': 4512, 'seat': 3846, 'kapoor': 2443, 'wearing': 4830, 'shorts': 3949, 'khan': 2460, 'letting': 2584, 'dress': 1358, 'dressing': 1360, 'stooges': 4200, 'cook': 988, 'noticed': 3050, 'winters': 4901, 'blonde': 511, 'concert': 935, 'eerie': 1428, '30s': 44, 'terrifying': 4410, 'coach': 867, 'hamilton': 2012, 'neil': 2996, 'clumsy': 865, 'spirited': 4114, 'aged': 150, 'performer': 3234, 'talked': 4359, 'partner': 3201, 'solid': 4057, 'fail': 1626, 'pay': 3219, 'commercial': 901, 'continues': 971, 'wed': 4834, 'vague': 4704, 'france': 1816, 'tradition': 4548, 'philosophy': 3257, 'park': 3193, 'ride': 3694, 'bet': 470, 'literature': 2624, 'guide': 1993, 'doors': 1329, 'lived': 2627, 'jean': 2389, 'masters': 2763, 'idiot': 2218, 'sake': 3776, 'necessarily': 2984, 'mirror': 2863, 'ignorant': 2223, 'stereotypes': 4179, 'illness': 2230, 'psycho': 3460, 'hospital': 2172, 'jon': 2416, 'suspend': 4329, 'catches': 714, 'forever': 1792, 'complaint': 920, 'buff': 610, 'dozens': 1339, 'disneys': 1290, 'academy': 78, '1960s': 14, 'scope': 3822, 'convincingly': 986, 'species': 4098, 'seasons': 3845, 'per': 3226, 'technique': 4383, 'sadness': 3771, 'creative': 1041, 'earl': 1399, 'paid': 3171, 'schools': 3815, 'magnificent': 2706, 'americas': 216, 'hollywoods': 2138, 'willing': 4889, 'loser': 2656, 'petty': 3252, 'unusual': 4679, 'ears': 1403, 'winds': 4895, 'peters': 3251, 'portrait': 3342, 'tony': 4521, 'broadway': 592, 'picks': 3271, 'screenwriter': 3834, 'party': 3203, 'partly': 3200, 'pulp': 3468, 'fiction': 1702, 'instantly': 2306, 'packed': 3168, 'critics': 1064, 'stiff': 4187, 'expressed': 1602, 'individuals': 2278, 'disappoint': 1272, 'pleasantly': 3306, 'dig': 1250, 'bands': 392, 'assumed': 329, 'brian': 576, 'groups': 1981, 'anywhere': 263, 'rock': 3722, 'grandfather': 1954, 'carried': 697, 'reads': 3548, 'kings': 2482, 'brand': 565, 'walk': 4774, 'distinct': 1296, 'proceedings': 3413, 'glimpse': 1919, 'pet': 3249, 'revealed': 3673, 'theatrical': 4430, 'striking': 4226, 'exception': 1558, 'warmth': 4795, 'structure': 4233, 'experiences': 1583, 'deeply': 1156, '3d': 46, 'nations': 2972, 'treatment': 4572, 'population': 3338, 'reaching': 3542, 'chances': 747, 'lesbian': 2574, 'ass': 323, 'thrills': 4475, 'eighties': 1438, 'rangers': 3520, 'continuity': 972, 'plant': 3296, 'stated': 4161, 'drives': 1368, 'crash': 1033, 'choose': 798, 'rings': 3701, 'todd': 4510, 'nuclear': 3058, 'weapons': 4828, 'models': 2883, 'stereotype': 4178, 'theyd': 4443, 'raymond': 3537, 'co': 866, 'advanced': 129, 'conventional': 979, 'contrary': 974, 'suggests': 4282, 'vulnerable': 4767, 'current': 1084, 'definite': 1161, 'pride': 3394, 'carl': 691, 'romance': 3734, 'golden': 1934, 'commented': 899, 'stale': 4141, 'stretched': 4222, 'easier': 1406, 'chemistry': 781, 'amitabh': 217, 'facial': 1620, 'expression': 1603, 'reminded': 3621, 'jumping': 2431, 'flash': 1745, 'goldberg': 1933, 'blind': 506, 'regarding': 3591, 'wait': 4769, 'equivalent': 1513, 'lazy': 2544, 'rip': 3702, 'friday': 1834, '13th': 5, 'existent': 1573, 'shower': 3958, 'storm': 4206, 'basement': 405, 'realized': 3556, 'portrayed': 3345, 'porno': 3340, 'jumps': 2432, 'capable': 671, 'cutting': 1092, 'mere': 2816, 'wood': 4933, 'scientific': 3818, 'cup': 1080, 'bottle': 550, 'pops': 3335, 'horses': 2171, 'theory': 4437, 'recording': 3578, 'cell': 729, 'phone': 3258, 'cabin': 642, 'fever': 1699, 'category': 717, 'qualities': 3486, 'dating': 1120, 'subjects': 4254, 'psychotic': 3462, 'abysmal': 77, 'knowing': 2491, 'wanting': 4789, 'inappropriate': 2259, 'chasing': 771, 'enjoying': 1488, 'flight': 1757, 'admittedly': 124, 'fly': 1763, 'hundreds': 2196, 'concept': 930, 'following': 1774, 'arms': 294, 'feed': 1683, 'santa': 3784, 'hundred': 2195, 'hed': 2072, 'authentic': 358, 'winter': 4900, 'ensues': 1494, 'alongside': 197, 'flies': 1756, 'happily': 2030, 'utterly': 4701, 'offensive': 3087, 'flaw': 1749, 'collection': 873, 'china': 794, 'liners': 2612, 'logic': 2639, 'asian': 314, 'tragic': 4551, 'cinematographer': 818, 'francis': 1818, 'england': 1483, 'practice': 3366, 'circle': 820, 'timothy': 4499, 'sell': 3872, 'consequences': 947, 'laughably': 2532, 'fifteen': 1706, 'ugly': 4623, 'twisted': 4616, 'buddies': 607, 'irish': 2353, 'silver': 3977, 'portraying': 3346, 'happiness': 2031, 'dalton': 1098, 'overly': 3156, 'opinions': 3120, 'generated': 1882, 'critic': 1061, 'rank': 3521, 'abc': 63, 'blatant': 502, 'cake': 647, 'precious': 3369, 'dire': 1257, 'stereotypical': 4180, 'sitcom': 4004, 'regret': 3593, 'mate': 2767, 'funnier': 1850, 'pile': 3278, 'thru': 4483, 'balance': 387, 'relatives': 3603, 'switch': 4339, 'bacall': 377, 'mixture': 2880, 'genres': 1889, 'caused': 723, 'overrated': 3157, 'tour': 4538, 'sellers': 3873, 'buried': 623, 'weeks': 4838, 'rain': 3509, 'hardcore': 2034, 'breaking': 570, 'meeting': 2796, 'stood': 4199, 'performs': 3237, 'dude': 1382, 'prime': 3398, 'veteran': 4723, 'improvement': 2256, 'videos': 4733, 'racial': 3504, 'beating': 425, 'portray': 3343, 'revolves': 3684, 'sexuality': 3910, 'fights': 1710, 'education': 1425, 'fatal': 1665, 'accurate': 91, 'alcohol': 177, 'lab': 2502, 'spoiled': 4122, 'grows': 1985, 'unfunny': 4653, 'describes': 1196, 'amazingly': 211, 'titanic': 4503, 'ear': 1398, 'combat': 881, 'stylish': 4251, 'troubled': 4591, 'bizarre': 492, 'stranger': 4213, 'finale': 1723, 'nancy': 2965, 'walker': 4777, 'gordon': 1940, 'calling': 652, 'attached': 336, 'claim': 827, 'talks': 4361, 'treated': 4571, 'jesus': 2399, 'affected': 138, 'treat': 4570, 'physically': 3266, 'offended': 3086, 'imaginative': 2237, 'childrens': 792, 'pokemon': 3323, 'worry': 4950, 'fare': 1656, 'tales': 4357, 'wonders': 4931, 'delight': 1167, 'promise': 3433, 'pre': 3368, 'molly': 2886, 'bond': 532, 'saves': 3797, 'japan': 2381, 'suited': 4286, 'skill': 4013, 'hollow': 2135, 'franco': 1820, 'flicks': 1755, 'trust': 4596, 'hearts': 2066, 'succeeded': 4263, 'combined': 884, 'puts': 3484, 'chess': 782, 'resort': 3652, 'championship': 744, 'drops': 1373, 'teachers': 4376, 'wing': 4896, 'vast': 4715, 'reached': 3540, 'nervous': 3000, 'defense': 1159, 'honor': 2150, 'complexity': 924, 'landscape': 2514, 'twin': 4613, 'sky': 4017, 'companion': 908, 'recognition': 3571, 'visit': 4754, 'hatred': 2049, 'broadcast': 591, 'represented': 3640, 'routine': 3744, 'wilson': 4891, 'adequate': 121, '1971': 17, 'appearances': 275, 'lacked': 2504, 'doctors': 1305, 'mickey': 2833, 'emphasis': 1464, 'bang': 393, 'online': 3110, 'mature': 2775, 'favorites': 1673, 'kudos': 2498, 'record': 3576, 'thoughtful': 4463, 'hbo': 2055, 'gain': 1863, 'popularity': 3337, 'communist': 906, 'carefully': 688, 'rotten': 3741, 'corpse': 999, 'understood': 4645, 'campy': 663, '1st': 28, 'charles': 763, 'compared': 911, 'efforts': 1434, 'ad': 111, 'prior': 3403, 'hang': 2022, 'various': 4714, 'goofy': 1939, 'samurai': 3780, 'epic': 1507, 'beloved': 461, 'multi': 2936, 'dollar': 1314, 'adventure': 131, 'trilogy': 4584, 'eastern': 1409, 'army': 295, 'priceless': 3393, 'opposite': 3124, 'historical': 2119, 'officers': 3094, 'bloody': 513, 'complain': 919, 'hype': 2207, 'miike': 2839, 'divorce': 1301, 'village': 4742, 'chosen': 804, 'danger': 1109, 'mini': 2856, 'mechanical': 2790, 'adults': 127, 'heck': 2071, 'access': 84, 'mail': 2707, 'poem': 3315, '2000': 30, 'jackson': 2375, 'spare': 4093, 'insulting': 2310, 'rule': 3754, 'superficial': 4298, 'abuse': 75, 'blacks': 494, 'jerk': 2395, 'rid': 3692, '1970s': 16, 'pleasant': 3305, 'resolution': 3651, 'pitch': 3282, 'football': 1783, 'clip': 850, 'psychic': 3459, 'bucks': 606, 'danes': 1108, 'arrogant': 303, 'struck': 4232, 'prepared': 3374, 'conversation': 980, 'ginger': 1908, 'nuts': 3065, 'rural': 3759, 'fame': 1643, 'staged': 4140, 'wells': 4844, 'profound': 3426, 'undoubtedly': 4646, 'seed': 3857, 'hitler': 2124, 'imagery': 2234, 'phantom': 3254, 'grandmother': 1955, 'assault': 324, 'plans': 3295, 'advantage': 130, 'useless': 4694, 'purposes': 3478, 'borrowed': 545, 'titled': 4505, 'alas': 173, 'closer': 855, 'contrived': 976, 'alright': 199, 'montana': 2896, 'motivations': 2916, 'realizes': 3557, 'slightest': 4028, 'religion': 3609, 'sneak': 4043, 'preview': 3389, 'dvds': 1393, 'tender': 4401, 'pure': 3474, 'promises': 3435, 'lion': 2615, 'howard': 2182, 'nomination': 3027, 'intimate': 2331, 'wounded': 4961, 'encounters': 1468, 'deeper': 1155, 'encounter': 1467, 'pursuit': 3479, 'ground': 1979, 'carpenter': 693, 'deliberately': 1166, 'motivation': 2915, 'mars': 2748, 'sorts': 4078, 'wannabe': 4786, 'stilted': 4190, 'tie': 4488, 'desperately': 1209, 'unseen': 4676, 'horse': 2170, 'crack': 1027, 'higher': 2101, 'attitudes': 347, 'manner': 2731, 'ridden': 3693, 'jr': 2423, 'splendid': 4119, 'niro': 3020, 'sunday': 4293, 'latest': 2527, 'includes': 2263, 'hood': 2151, 'instinct': 2308, 'program': 3427, 'teeth': 4393, 'pulling': 3466, 'cox': 1026, 'designed': 1203, 'weight': 4839, 'amongst': 219, 'werewolf': 4849, 'crush': 1072, 'refuses': 3589, 'related': 3596, 'wishes': 4906, 'aint': 164, 'justify': 2439, 'spending': 4106, 'painted': 3176, 'kick': 2461, 'camp': 661, 'captures': 677, 'butt': 637, 'melting': 2801, 'baker': 385, 'floating': 1758, 'plastic': 3297, 'ran': 3515, 'arm': 292, 'sun': 4292, 'surviving': 4323, 'survivor': 4324, 'pull': 3464, 'lone': 2643, 'photographer': 3262, 'outer': 3144, 'sharp': 3923, 'statement': 4162, 'inevitably': 2283, 'tongue': 4518, 'tied': 4489, 'engage': 1480, 'melodramatic': 2800, 'seventies': 3905, 'worried': 4949, 'duo': 1387, 'neighbor': 2993, 'pie': 3274, '60': 53, 'happening': 2028, 'selfish': 3871, 'pseudo': 3457, 'limits': 2608, 'fooled': 1780, 'originally': 3132, 'empty': 1466, 'knock': 2489, 'chuck': 811, 'holy': 2140, 'turkey': 4602, 'costs': 1004, 'closed': 853, 'prisoners': 3406, 'execution': 1567, 'safe': 3772, '1999': 27, '1990': 24, 'iii': 2227, 'prisoner': 3405, 'nightmare': 3015, 'synopsis': 4344, 'murders': 2944, 'repetitive': 3635, 'frankly': 1823, 'national': 2971, 'texas': 4418, 'seemingly': 3864, 'planned': 3293, 'poster': 3356, 'someones': 4065, 'annoyed': 248, 'ignored': 2225, 'screening': 3831, 'fest': 1696, 'randomly': 3517, 'cheese': 779, 'punk': 3471, 'berlin': 467, 'von': 4764, 'described': 1195, 'testament': 4417, 'capital': 672, 'jewish': 2401, 'faith': 1634, 'deceased': 1146, 'maria': 2738, 'domestic': 1318, 'grew': 1972, 'escaped': 1519, 'pretending': 3385, 'lena': 2569, 'widow': 4882, 'sarah': 3786, 'nazis': 2979, 'frightening': 1839, 'aid': 161, 'eight': 1437, 'manhattan': 2727, 'defeat': 1157, 'universal': 4663, 'provide': 3451, 'military': 2846, 'elderly': 1441, 'remarks': 3617, 'courage': 1018, 'occasion': 3074, 'specific': 4099, 'bobby': 525, 'hammer': 2014, 'carol': 692, 'forest': 1791, 'arrival': 299, 'mentally': 2811, 'ideal': 2214, 'tracks': 4545, 'blown': 516, 'metal': 2825, 'possibility': 3352, 'inevitable': 2282, 'weve': 4855, 'destiny': 1212, 'urge': 4688, 'entirely': 1504, 'matrix': 2769, 'focuses': 1768, 'protagonist': 3444, 'sandler': 3782, 'yelling': 4980, 'tremendous': 4577, 'nyc': 3066, 'presumably': 3383, 'professor': 3425, 'quest': 3489, 'mummy': 2938, 'goal': 1925, 'babe': 375, 'princess': 3400, 'suffer': 4275, 'ancient': 226, 'priest': 3395, 'remaining': 3612, 'providing': 3454, 'mob': 2881, 'square': 4136, 'mild': 2841, 'contained': 963, 'jet': 2400, 'warriors': 4802, 'li': 2588, 'mask': 2754, 'horribly': 2164, 'library': 2590, 'superhero': 4299, 'explosions': 1598, 'charisma': 761, 'impress': 2250, 'chinese': 795, 'bothered': 549, 'usa': 4690, 'weapon': 4827, 'unintentional': 4656, 'gangster': 1868, 'depression': 1189, 'chain': 740, 'inspector': 2299, 'masterpieces': 2762, 'belong': 459, 'enthusiasm': 1502, 'occurs': 3079, 'strike': 4224, 'interaction': 2322, 'exploration': 1594, 'farm': 1657, 'jobs': 2406, 'blew': 505, 'financial': 1725, 'laws': 2541, 'attacked': 338, 'horrendous': 2162, 'gods': 1928, 'spirit': 4113, 'legs': 2567, 'listen': 2620, 'corruption': 1002, 'purple': 3476, 'site': 4005, 'positive': 3349, 'signed': 3971, 'repeat': 3632, 'corporate': 998, 'dancer': 1104, 'singers': 3994, 'pushed': 3481, 'returning': 3669, 'eager': 1397, 'matched': 2765, 'field': 1704, 'chick': 785, 'idiotic': 2219, 'summary': 4290, 'ego': 1436, 'mistaken': 2874, 'elm': 1448, 'rap': 3523, 'fitting': 1742, 'freddy': 1826, 'gruesome': 1986, 'infamous': 2284, 'larry': 2521, 'cynical': 1093, 'staff': 4138, 'relate': 3595, 'hysterical': 2208, 'inducing': 2279, 'attacks': 339, 'reflect': 3587, 'wizard': 4919, 'altogether': 203, 'entry': 1505, 'creation': 1040, 'beats': 426, 'smiling': 4037, 'opera': 3117, 'drawing': 1350, 'bigger': 479, 'oz': 3161, 'lessons': 2579, 'kissing': 2485, 'size': 4012, 'inspiring': 2302, 'angels': 234, 'mile': 2844, '70': 55, 'simplicity': 3984, 'focused': 1767, 'adams': 113, 'meat': 2789, 'beer': 439, 'print': 3402, 'player': 3301, 'woody': 4936, 'conceived': 929, 'delivering': 1171, 'mexican': 2828, 'wrestling': 4966, 'cusack': 1088, 'ham': 2011, 'fat': 1664, 'irritating': 2359, 'omen': 3105, 'karen': 2444, 'grant': 1956, 'quit': 3497, 'replaced': 3636, 'zombie': 4997, 'equal': 1510, 'conspiracy': 956, 'satan': 3788, 'moronic': 2908, 'walks': 4779, 'distance': 1294, 'roll': 3730, 'integrity': 2311, 'tortured': 4530, 'steel': 4173, 'survivors': 4325, 'represent': 3639, 'strip': 4228, 'eve': 1533, 'wanna': 4785, 'sensitive': 3880, 'wit': 4908, 'wound': 4960, 'staying': 4168, 'generations': 1884, 'border': 539, 'importantly': 2248, 'dick': 1239, 'attend': 344, 'panic': 3184, 'virginia': 4749, 'nicely': 3010, 'racism': 3505, 'serves': 3896, 'scrooge': 3838, 'spectacular': 4101, 'commercials': 902, 'rendition': 3627, 'horrific': 2166, 'religious': 3610, 'countless': 1012, 'hitting': 2126, 'appearing': 277, 'smoking': 4040, 'owner': 3160, 'dorothy': 1330, 'process': 3415, 'vincent': 4745, 'lily': 2606, 'motives': 2917, 'underlying': 4639, 'surrounding': 4319, 'introduction': 2339, 'duty': 1391, 'christians': 808, 'joan': 2404, 'anne': 246, 'accused': 92, 'gotta': 1946, 'skin': 4015, 'row': 3745, 'everywhere': 1546, 'robots': 3720, 'spots': 4132, 'thief': 4448, 'cinderella': 814, 'clichéd': 844, 'admire': 122, 'restaurant': 3660, 'travel': 4565, 'witnessed': 4915, 'riveting': 3710, 'dawn': 1127, 'crude': 1069, 'halloween': 2010, 'creator': 1043, 'pearl': 3223, 'silence': 3974, 'ken': 2454, 'september': 3885, '1973': 19, 'generous': 1886, 'cia': 813, 'choreography': 801, 'muslim': 2950, 'simplistic': 3985, 'reasonably': 3562, 'warrior': 4801, 'pit': 3281, 'troops': 4589, 'conflicts': 940, 'witnesses': 4916, 'ned': 2987, 'minimum': 2858, 'julie': 2428, 'join': 2412, 'mexico': 2829, 'magazine': 2702, 'abilities': 64, 'oliver': 3103, 'decades': 1145, 'listed': 2619, 'alan': 172, 'junior': 2435, 'streep': 4215, 'unpleasant': 4672, 'amanda': 206, 'letter': 2582, 'enters': 1497, 'catchy': 716, 'tonight': 4519, 'previously': 3391, 'vehicle': 4717, 'closet': 857, 'stress': 4220, 'sixties': 4011, 'invisible': 2344, 'demon': 1177, 'amazed': 209, 'godzilla': 1929, 'abusive': 76, 'till': 4493, 'therefore': 4439, 'cannibal': 668, '40': 48, 'cruise': 1071, 'teaching': 4377, 'appreciation': 281, 'faced': 1618, 'morality': 2904, 'allowed': 191, 'condition': 937, '75': 57, 'hasnt': 2044, 'cg': 738, 'honesty': 2148, 'lynch': 2692, 'rushed': 3761, 'prequel': 3375, 'raising': 3512, 'fairy': 1633, 'darkness': 1117, 'imagined': 2239, 'buddy': 608, 'whereas': 4864, 'singer': 3993, 'doubts': 1333, 'inferior': 2285, 'maintain': 2711, 'pulls': 3467, 'hugh': 2186, 'hated': 2047, 'cage': 644, 'buildings': 615, 'drag': 1342, 'blah': 496, 'doomed': 1327, 'pages': 3170, 'comics': 894, 'satisfy': 3791, 'cliche': 842, 'rising': 3705, 'slave': 4022, 'definition': 1163, 'uplifting': 4682, 'messages': 2822, 'fallen': 1639, 'methods': 2827, 'grinch': 1975, 'sophisticated': 4075, 'miles': 2845, 'blend': 504, 'jeffrey': 2391, 'polished': 3326, 'bird': 484, 'drags': 1345, 'report': 3637, 'mildly': 2842, 'tea': 4373, 'occur': 3077, 'neighbors': 2995, 'unpredictable': 4673, 'styles': 4250, 'donna': 1323, 'jackie': 2374, 'teens': 4392, 'lisa': 2617, 'satisfying': 3792, 'cameo': 656, 'nostalgia': 3039, 'leo': 2572, 'tommy': 4516, 'dave': 1123, 'betty': 474, 'shirley': 3937, 'pamela': 3182, 'ted': 4386, 'nostalgic': 3040, 'delivery': 1173, 'nonsensical': 3032, 'cooper': 990, 'blame': 499, 'format': 1799, 'colour': 879, 'max': 2776, 'spy': 4135, 'devoted': 1231, 'welcome': 4841, 'latin': 2528, 'scores': 3824, 'implausible': 2245, 'nick': 3013, 'tends': 4402, 'marketing': 2743, 'intentionally': 2320, 'technically': 4382, 'comparison': 913, 'ourselves': 3141, 'progress': 3428, 'responsibility': 3657, 'gross': 1978, 'rush': 3760, 'fancy': 1650, 'shake': 3915, 'wayne': 4820, 'desert': 1198, 'helping': 2081, 'luke': 2688, 'palace': 3180, 'foster': 1809, 'jesse': 2397, '2nd': 41, 'unit': 4661, 'stevens': 4183, 'resist': 3650, 'centers': 733, 'california': 649, 'naive': 2959, 'topless': 4527, 'fred': 1825, 'serve': 3894, 'mike': 2840, 'theaters': 4428, 'urban': 4687, 'garbo': 1871, 'blake': 498, 'downright': 1337, 'unhappy': 4654, 'airplane': 167, 'farce': 1655, 'parent': 3190, 'ron': 3736, 'gonna': 1936, 'ps': 3456, 'dentist': 1180, 'cure': 1081, 'wandering': 4784, 'concerning': 933, 'hip': 2114, 'hop': 2154, 'significant': 3972, 'depiction': 1185, 'chicago': 784, 'threat': 4467, 'facing': 1621, 'mafia': 2701, 'forms': 1801, 'folk': 1770, 'wes': 4850, 'craven': 1034, 'attracted': 349, 'emily': 1457, 'mistress': 2876, 'display': 1291, 'detailed': 1218, 'lake': 2510, 'lloyd': 2631, 'disturbed': 1299, 'trapped': 4562, 'rob': 3712, 'choreographed': 800, 'lou': 2664, 'depressing': 1188, 'lately': 2525, 'ruthless': 3765, 'murderer': 2942, 'suits': 4287, 'lucas': 2681, 'miracle': 2862, 'constructed': 959, 'incomprehensible': 2267, 'thick': 4447, 'parody': 3195, 'falk': 1637, 'tiresome': 4502, 'substance': 4258, 'pig': 3277, 'sin': 3988, 'spirits': 4115, 'drunken': 1377, 'plight': 3311, 'helicopter': 2076, 'knife': 2488, 'improved': 2255, 'adding': 118, 'sullivan': 4288, 'marty': 2751, 'wives': 4918, 'explicit': 1592, 'photos': 3264, 'riding': 3697, 'coherent': 870, 'interview': 2329, 'albeit': 174, 'trap': 4561, 'poetic': 3316, 'displayed': 1292, 'pack': 3166, 'manager': 2725, 'pretend': 3384, 'hills': 2109, 'vicious': 4727, 'requires': 3644, 'nail': 2958, 'mario': 2740, 'showcase': 3955, 'ian': 2209, 'airport': 168, 'upper': 4684, 'vaguely': 4705, 'relation': 3597, 'allen': 189, 'aimed': 163, 'jaws': 2385, 'clue': 863, 'harsh': 2040, 'tracy': 4546, 'diamond': 1236, 'developing': 1224, 'attempted': 341, 'seagal': 3840, 'faults': 1670, 'jamie': 2379, 'macy': 2696, 'sandra': 3783, 'simmons': 3981, 'jennifer': 2392, 'trick': 4580, 'hippie': 2115, 'bullet': 619, 'cave': 726, 'realizing': 3558, 'wacky': 4768, 'beneath': 464, 'raped': 3525, 'breasts': 572, 'hearted': 2065, 'buck': 605, 'solely': 4056, 'exceptionally': 1560, 'exceptional': 1559, 'bull': 618, 'rambo': 3514, 'tons': 4520, 'exposure': 1600, 'primarily': 3396, 'scenario': 3809, 'purely': 3475, 'fourth': 1813, '3000': 43, 'wolf': 4920, 'bold': 528, 'served': 3895, 'beings': 449, 'extended': 1605, 'landing': 2513, 'nose': 3038, 'fault': 1669, 'relations': 3598, 'portion': 3341, 'broad': 590, 'expensive': 1580, 'directions': 1262, 'bath': 411, 'fix': 1744, 'blond': 510, 'kitchen': 2486, 'trial': 4578, 'slap': 4018, 'citizen': 823, '3rd': 47, 'explored': 1596, 'turner': 4605, 'handle': 2018, 'unbearable': 4631, 'dare': 1113, 'lights': 2598, 'amounts': 221, 'endure': 1476, 'formulaic': 1803, 'sticks': 4186, 'ashley': 313, 'miscast': 2864, 'bedroom': 437, 'useful': 4693, 'cd': 727, 'eyed': 1613, 'womens': 4924, 'rabbit': 3501, 'imitation': 2241, 'charlie': 764, 'chaplin': 755, 'clown': 861, 'cube': 1076, 'ho': 2127, 'offered': 3089, 'term': 4405, 'safety': 3773, 'strikes': 4225, 'buffs': 611, 'dinosaurs': 1256, 'cringe': 1059, 'challenge': 742, 'meaningless': 2784, 'oddly': 3082, 'principal': 3401, 'spider': 4109, 'alfred': 182, 'randy': 3518, 'snow': 4045, 'bela': 450, 'lugosi': 2687, 'guilt': 1994, 'couldve': 1009, 'dear': 1140, '1996': 26, 'icon': 2211, 'fill': 1714, 'grasp': 1960, '45': 50, 'hanks': 2025, 'advertising': 133, 'armed': 293, 'poetry': 3317, 'colors': 878, 'exotic': 1575, 'activities': 103, 'canadian': 666, 'nicholson': 3012, 'canada': 665, 'bus': 630, 'pat': 3211, 'minimal': 2857, 'explore': 1595, 'hunt': 2198, 'doc': 1303, 'michelle': 2832, 'anderson': 228, 'myers': 2953, 'craig': 1030, 'mall': 2721, 'driver': 1367, 'politically': 3328, 'suitable': 4285, 'contain': 962, 'chaos': 754, 'outcome': 3143, 'shelley': 3929, 'cheek': 778, 'consists': 955, 'maniac': 2728, 'museum': 2946, 'official': 3095, 'stargate': 4151, 'combine': 883, 'manipulative': 2729, 'energy': 1479, 'namely': 2963, 'lowest': 2679, 'trashy': 4564, 'del': 1165, 'backdrop': 379, 'trite': 4587, 'neo': 2999, 'block': 508, 'goodness': 1938, 'enormous': 1491, 'ballet': 389, 'opportunities': 3121, 'ha': 2002, 'hunting': 2201, 'pants': 3185, 'tense': 4403, 'exact': 1551, 'rogers': 3727, 'shadow': 3913, 'staring': 4152, 'vice': 4726, 'heres': 2087, 'instant': 2305, 'producing': 3420, 'mayor': 2779, 'rebel': 3564, 'dinosaur': 1255, 'offering': 3090, 'kane': 2442, 'larger': 2520, 'executed': 1566, 'johnny': 2410, 'desired': 1206, 'spin': 4112, 'accident': 85, 'homeless': 2143, 'tad': 4347, 'domino': 1319, 'acid': 96, 'adorable': 125, 'paulie': 3218, 'jazz': 2387, 'concerns': 934, 'receives': 3568, 'elizabeth': 1446, 'june': 2433, 'performing': 3236, 'southern': 4088, 'guarantee': 1987, 'witches': 4910, 'severe': 3907, 'transformation': 4558, 'nurse': 3064, 'senseless': 3879, 'copies': 992, 'gabriel': 1859, 'shining': 3934, 'worn': 4948, 'attorney': 348, 'ripped': 3703, 'jessica': 2398, 'commit': 903, 'uwe': 4702, 'boll': 529, 'cameron': 660, 'rocky': 3725, 'orders': 3128, 'brooklyn': 595, 'games': 1865, 'clothing': 860, 'awake': 365, 'hardy': 2037, 'generic': 1885, 'columbo': 880, 'curse': 1086, 'comedian': 886, 'juvenile': 2441, 'pacino': 3165, 'obsessed': 3070, 'shine': 3932, 'reel': 3584, 'ships': 3936, 'patient': 3214, 'antics': 255, 'purchase': 3472, 'mitchell': 2877, 'eccentric': 1415, 'expressions': 1604, 'ethan': 1529, 'swim': 4337, 'tooth': 4524, 'map': 2735, 'host': 2173, 'vengeance': 4718, 'waves': 4818, 'passionate': 3209, 'monkeys': 2892, 'tall': 4362, 'oil': 3098, 'swimming': 4338, 'stones': 4198, 'madonna': 2700, 'union': 4659, 'doll': 1313, 'concern': 931, 'musicals': 2949, 'enemies': 1477, 'gag': 1861, 'misery': 2867, 'strangers': 4214, 'pal': 3179, 'letters': 2583, 'ritter': 3707, 'amy': 223, 'neighborhood': 2994, 'bat': 410, 'sloppy': 4030, 'bakshi': 386, 'stiller': 4189, 'hank': 2024, 'basketball': 409, 'joey': 2408, 'classes': 833, 'challenging': 743, 'childish': 790, 'projects': 3431, 'kingdom': 2481, 'irrelevant': 2358, 'disappear': 1270, 'serving': 3898, 'tend': 4400, 'uneven': 4647, 'focusing': 1769, 'duke': 1384, 'tap': 4364, 'cagney': 645, 'noted': 3046, 'dolph': 1317, 'kung': 2499, 'fu': 1844, 'stole': 4194, 'astaire': 330, 'sappy': 3785, 'dances': 1106, 'equipment': 1512, 'illogical': 2231, 'edie': 1420, 'fascinated': 1658, 'arnold': 296, 'dawson': 1128, 'innovative': 2295, 'blows': 517, 'orson': 3133, 'welles': 4843, 'invasion': 2340, 'hudson': 2184, 'basis': 408, 'idiots': 2220, 'ruins': 3753, 'homer': 2144, 'shoes': 3942, 'brenda': 575, 'screams': 3829, 'helen': 2075, 'miller': 2848, 'beliefs': 452, 'surfing': 4311, 'quote': 3499, 'cared': 684, 'snl': 4044, 'revealing': 3674, 'horrid': 2165, 'horrifying': 2167, 'laurel': 2538, 'gundam': 1997, 'saga': 3774, 'felix': 1689, 'lemmon': 2568, 'chest': 783, 'taught': 4370, 'kay': 2447, 'fay': 1675, 'spring': 4134, 'jenny': 2393, 'claimed': 828, 'crucial': 1068, 'huh': 2187, 'response': 3656, 'restored': 3661, 'inspiration': 2300, 'channels': 753, 'monkey': 2891, 'simpson': 3987, 'argue': 290, 'spoken': 4126, 'gifted': 1907, 'catherine': 718, 'draws': 1352, 'classical': 835, 'chan': 745, 'purchased': 3473, 'dennis': 1179, 'uninspired': 4655, 'vacation': 4703, 'fields': 1705, 'unsettling': 4677, 'creativity': 1042, 'nine': 3018, 'lumet': 2689, 'brady': 561, 'suffice': 4279, 'button': 638, 'dracula': 1341, 'ingredients': 2289, 'heroic': 2090, 'shelf': 3927, 'robinson': 3718, 'rats': 3534, 'stanwyck': 4149, 'dreck': 1357, 'arrived': 301, 'scale': 3803, 'norman': 3036, 'involve': 2345, 'experiments': 1585, 'possibilities': 3351, 'kubrick': 2497, 'iraq': 2351, 'karloff': 2445, 'hat': 2045, 'stinker': 4191, 'rocket': 3723, 'miserable': 2865, 'walls': 4782, 'swear': 4334, 'sink': 3999, 'lincoln': 2609, 'banned': 395, 'paltrow': 3181, 'glover': 1923, 'margaret': 2737, 'victoria': 4731, 'blunt': 520, 'brains': 563, 'battles': 415, 'prize': 3408, 'dancers': 1105, 'doom': 1326, 'crafted': 1029, 'tiger': 4491, 'smooth': 4041, 'parties': 3199, 'vegas': 4716, 'catholic': 719, 'emma': 1458, 'gangsters': 1869, 'stan': 4142, 'factory': 1624, 'stellar': 4174, 'boxing': 556, 'analysis': 225, 'countryside': 1015, 'iron': 2354, 'centered': 732, 'unreal': 4674, 'politics': 3329, 'millions': 2850, 'cards': 682, 'bride': 577, 'mtv': 2934, 'chooses': 799, 'catching': 715, 'ambitious': 212, 'lawrence': 2540, 'matches': 2766, 'retarded': 3665, 'web': 4832, 'snake': 4042, 'ridiculously': 3696, 'ellen': 1447, 'hello': 2078, 'louise': 2667, 'iran': 2350, 'bargain': 400, 'defend': 1158, 'fisher': 1739, 'april': 284, '1983': 22, 'hopper': 2161, 'troubles': 4592, 'contest': 967, 'nightmares': 3016, 'bonus': 534, 'fonda': 1777, 'atlantis': 332, 'incompetent': 2266, 'tomatoes': 4515, 'eyre': 1615, 'rochester': 3721, 'bourne': 554, 'likewise': 2604, 'australia': 356, 'beatty': 427, 'widely': 4880, 'shakespeare': 3916, 'tunes': 4601, 'taxi': 4371, 'receive': 3566, 'masses': 2757, 'modesty': 2885, 'ireland': 2352, 'edition': 1423, 'warren': 4800, 'flynn': 1765, 'versus': 4721, 'ya': 4976, 'damon': 1101, 'carrie': 696, 'rat': 3528, 'lees': 2561, 'gadget': 1860, 'brosnan': 597, 'elvira': 1451, 'crocodile': 1065, 'holly': 2136, 'blob': 507, 'bettie': 473}\n"
     ]
    }
   ],
   "source": [
    "print(str(vocabulary))"
   ]
  },
  {
   "cell_type": "markdown",
   "metadata": {},
   "source": [
    "Once you have added the endpoint name to the Lambda function, click on **Save**. Your Lambda function is now up and running. Next we need to create a way for our web app to execute the Lambda function."
   ]
  },
  {
   "cell_type": "markdown",
   "metadata": {},
   "source": [
    "### Setting up API Gateway\n",
    "\n",
    "Now that our Lambda function is set up, it is time to create a new API using API Gateway that will trigger the Lambda function we have just created.\n",
    "\n",
    "Using AWS Console, navigate to **Amazon API Gateway** and then click on **Get started**.\n",
    "\n",
    "On the next page, make sure that **New API** is selected and give the new api a name, for example, `sentiment_analysis_web_app`. Then, click on **Create API**.\n",
    "\n",
    "Now we have created an API, however it doesn't currently do anything. What we want it to do is to trigger the Lambda function that we created earlier.\n",
    "\n",
    "Select the **Actions** dropdown menu and click **Create Method**. A new blank method will be created, select its dropdown menu and select **POST**, then click on the check mark beside it.\n",
    "\n",
    "For the integration point, make sure that **Lambda Function** is selected and click on the **Use Lambda Proxy integration**. This option makes sure that the data that is sent to the API is then sent directly to the Lambda function with no processing. It also means that the return value must be a proper response object as it will also not be processed by API Gateway.\n",
    "\n",
    "Type the name of the Lambda function you created earlier into the **Lambda Function** text entry box and then click on **Save**. Click on **OK** in the pop-up box that then appears, giving permission to API Gateway to invoke the Lambda function you created.\n",
    "\n",
    "The last step in creating the API Gateway is to select the **Actions** dropdown and click on **Deploy API**. You will need to create a new Deployment stage and name it anything you like, for example `prod`.\n",
    "\n",
    "You have now successfully set up a public API to access your SageMaker model. Make sure to copy or write down the URL provided to invoke your newly created public API as this will be needed in the next step. This URL can be found at the top of the page, highlighted in blue next to the text **Invoke URL**."
   ]
  },
  {
   "cell_type": "markdown",
   "metadata": {},
   "source": [
    "## Step 7: Deploying our web app\n",
    "\n",
    "Now that we have a publicly available API, we can start using it in a web app. For our purposes, we have provided a simple static html file which can make use of the public api you created earlier.\n",
    "\n",
    "In the `website` folder there should be a file called `index.html`. Download the file to your computer and open that file up in a text editor of your choice. There should be a line which contains **\\*\\*REPLACE WITH PUBLIC API URL\\*\\***. Replace this string with the url that you wrote down in the last step and then save the file.\n",
    "\n",
    "Now, if you open `index.html` on your local computer, your browser will behave as a local web server and you can use the provided site to interact with your SageMaker model.\n",
    "\n",
    "If you'd like to go further, you can host this html file anywhere you'd like, for example using github or hosting a static site on Amazon's S3. Once you have done this you can share the link with anyone you'd like and have them play with it too!\n",
    "\n",
    "> **Important Note** In order for the web app to communicate with the SageMaker endpoint, the endpoint has to actually be deployed and running. This means that you are paying for it. Make sure that the endpoint is running when you want to use the web app but that you shut it down when you don't need it, otherwise you will end up with a surprisingly large AWS bill."
   ]
  },
  {
   "cell_type": "markdown",
   "metadata": {},
   "source": [
    "### Delete the endpoint\n",
    "\n",
    "Remember to always shut down your endpoint if you are no longer using it. You are charged for the length of time that the endpoint is running so if you forget and leave it on you could end up with an unexpectedly large bill."
   ]
  },
  {
   "cell_type": "code",
   "execution_count": 52,
   "metadata": {},
   "outputs": [],
   "source": [
    "xgb_predictor.delete_endpoint()"
   ]
  },
  {
   "cell_type": "markdown",
   "metadata": {},
   "source": [
    "## Optional: Clean up\n",
    "\n",
    "The default notebook instance on SageMaker doesn't have a lot of excess disk space available. As you continue to complete and execute notebooks you will eventually fill up this disk space, leading to errors which can be difficult to diagnose. Once you are completely finished using a notebook it is a good idea to remove the files that you created along the way. Of course, you can do this from the terminal or from the notebook hub if you would like. The cell below contains some commands to clean up the created files from within the notebook."
   ]
  },
  {
   "cell_type": "code",
   "execution_count": 53,
   "metadata": {},
   "outputs": [],
   "source": [
    "# First we will remove all of the files contained in the data_dir directory\n",
    "!rm $data_dir/*\n",
    "\n",
    "# And then we delete the directory itself\n",
    "!rmdir $data_dir\n",
    "\n",
    "# Similarly we remove the files in the cache_dir directory and the directory itself\n",
    "!rm $cache_dir/*\n",
    "!rmdir $cache_dir"
   ]
  },
  {
   "cell_type": "code",
   "execution_count": null,
   "metadata": {},
   "outputs": [],
   "source": []
  }
 ],
 "metadata": {
  "kernelspec": {
   "display_name": "conda_python3",
   "language": "python",
   "name": "conda_python3"
  },
  "language_info": {
   "codemirror_mode": {
    "name": "ipython",
    "version": 3
   },
   "file_extension": ".py",
   "mimetype": "text/x-python",
   "name": "python",
   "nbconvert_exporter": "python",
   "pygments_lexer": "ipython3",
   "version": "3.6.10"
  }
 },
 "nbformat": 4,
 "nbformat_minor": 4
}
