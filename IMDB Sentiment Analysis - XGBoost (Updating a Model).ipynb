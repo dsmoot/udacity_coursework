{
 "cells": [
  {
   "cell_type": "markdown",
   "metadata": {},
   "source": [
    "# Sentiment Analysis\n",
    "\n",
    "## Updating a Model in SageMaker\n",
    "\n",
    "_Deep Learning Nanodegree Program | Deployment_\n",
    "\n",
    "---\n",
    "\n",
    "In this notebook we will consider a situation in which a model that we constructed is no longer working as we intended. In particular, we will look at the XGBoost sentiment analysis model that we constructed earlier. In this case, however, we have some new data that our model doesn't seem to perform very well on. As a result, we will re-train our model and update an existing endpoint so that it uses our new model.\n",
    "\n",
    "This notebook starts by re-creating the XGBoost sentiment analysis model that was created in earlier notebooks. This means that you will have already seen the cells up to the end of Step 4. The new content in this notebook begins at Step 5.\n",
    "\n",
    "## Instructions\n",
    "\n",
    "Some template code has already been provided for you, and you will need to implement additional functionality to successfully complete this notebook. You will not need to modify the included code beyond what is requested. Sections that begin with '**TODO**' in the header indicate that you need to complete or implement some portion within them. Instructions will be provided for each section and the specifics of the implementation are marked in the code block with a `# TODO: ...` comment. Please be sure to read the instructions carefully!\n",
    "\n",
    "In addition to implementing code, there will be questions for you to answer which relate to the task and your implementation. Each section where you will answer a question is preceded by a '**Question:**' header. Carefully read each question and provide your answer below the '**Answer:**' header by editing the Markdown cell.\n",
    "\n",
    "> **Note**: Code and Markdown cells can be executed using the **Shift+Enter** keyboard shortcut. In addition, a cell can be edited by typically clicking it (double-click for Markdown cells) or by pressing **Enter** while it is highlighted."
   ]
  },
  {
   "cell_type": "markdown",
   "metadata": {},
   "source": [
    "## Step 1: Downloading the data\n",
    "\n",
    "The dataset we are going to use is very popular among researchers in Natural Language Processing, usually referred to as the [IMDb dataset](http://ai.stanford.edu/~amaas/data/sentiment/). It consists of movie reviews from the website [imdb.com](http://www.imdb.com/), each labeled as either '**pos**itive', if the reviewer enjoyed the film, or '**neg**ative' otherwise.\n",
    "\n",
    "> Maas, Andrew L., et al. [Learning Word Vectors for Sentiment Analysis](http://ai.stanford.edu/~amaas/data/sentiment/). In _Proceedings of the 49th Annual Meeting of the Association for Computational Linguistics: Human Language Technologies_. Association for Computational Linguistics, 2011.\n",
    "\n",
    "We begin by using some Jupyter Notebook magic to download and extract the dataset."
   ]
  },
  {
   "cell_type": "code",
   "execution_count": 1,
   "metadata": {},
   "outputs": [
    {
     "name": "stdout",
     "output_type": "stream",
     "text": [
      "mkdir: cannot create directory ‘../data’: File exists\n",
      "--2020-09-27 15:15:55--  http://ai.stanford.edu/~amaas/data/sentiment/aclImdb_v1.tar.gz\n",
      "Resolving ai.stanford.edu (ai.stanford.edu)... 171.64.68.10\n",
      "Connecting to ai.stanford.edu (ai.stanford.edu)|171.64.68.10|:80... connected.\n",
      "HTTP request sent, awaiting response... 200 OK\n",
      "Length: 84125825 (80M) [application/x-gzip]\n",
      "Saving to: ‘../data/aclImdb_v1.tar.gz’\n",
      "\n",
      "../data/aclImdb_v1. 100%[===================>]  80.23M  25.1MB/s    in 3.6s    \n",
      "\n",
      "2020-09-27 15:15:59 (22.0 MB/s) - ‘../data/aclImdb_v1.tar.gz’ saved [84125825/84125825]\n",
      "\n"
     ]
    }
   ],
   "source": [
    "%mkdir ../data\n",
    "!wget -O ../data/aclImdb_v1.tar.gz http://ai.stanford.edu/~amaas/data/sentiment/aclImdb_v1.tar.gz\n",
    "!tar -zxf ../data/aclImdb_v1.tar.gz -C ../data"
   ]
  },
  {
   "cell_type": "markdown",
   "metadata": {},
   "source": [
    "## Step 2: Preparing the data\n",
    "\n",
    "The data we have downloaded is split into various files, each of which contains a single review. It will be much easier going forward if we combine these individual files into two large files, one for training and one for testing."
   ]
  },
  {
   "cell_type": "code",
   "execution_count": 2,
   "metadata": {},
   "outputs": [],
   "source": [
    "import os\n",
    "import glob\n",
    "\n",
    "def read_imdb_data(data_dir='../data/aclImdb'):\n",
    "    data = {}\n",
    "    labels = {}\n",
    "    \n",
    "    for data_type in ['train', 'test']:\n",
    "        data[data_type] = {}\n",
    "        labels[data_type] = {}\n",
    "        \n",
    "        for sentiment in ['pos', 'neg']:\n",
    "            data[data_type][sentiment] = []\n",
    "            labels[data_type][sentiment] = []\n",
    "            \n",
    "            path = os.path.join(data_dir, data_type, sentiment, '*.txt')\n",
    "            files = glob.glob(path)\n",
    "            \n",
    "            for f in files:\n",
    "                with open(f) as review:\n",
    "                    data[data_type][sentiment].append(review.read())\n",
    "                    # Here we represent a positive review by '1' and a negative review by '0'\n",
    "                    labels[data_type][sentiment].append(1 if sentiment == 'pos' else 0)\n",
    "                    \n",
    "            assert len(data[data_type][sentiment]) == len(labels[data_type][sentiment]), \\\n",
    "                    \"{}/{} data size does not match labels size\".format(data_type, sentiment)\n",
    "                \n",
    "    return data, labels"
   ]
  },
  {
   "cell_type": "code",
   "execution_count": 3,
   "metadata": {},
   "outputs": [
    {
     "name": "stdout",
     "output_type": "stream",
     "text": [
      "IMDB reviews: train = 12500 pos / 12500 neg, test = 12500 pos / 12500 neg\n"
     ]
    }
   ],
   "source": [
    "data, labels = read_imdb_data()\n",
    "print(\"IMDB reviews: train = {} pos / {} neg, test = {} pos / {} neg\".format(\n",
    "            len(data['train']['pos']), len(data['train']['neg']),\n",
    "            len(data['test']['pos']), len(data['test']['neg'])))"
   ]
  },
  {
   "cell_type": "code",
   "execution_count": 4,
   "metadata": {},
   "outputs": [],
   "source": [
    "from sklearn.utils import shuffle\n",
    "\n",
    "def prepare_imdb_data(data, labels):\n",
    "    \"\"\"Prepare training and test sets from IMDb movie reviews.\"\"\"\n",
    "    \n",
    "    #Combine positive and negative reviews and labels\n",
    "    data_train = data['train']['pos'] + data['train']['neg']\n",
    "    data_test = data['test']['pos'] + data['test']['neg']\n",
    "    labels_train = labels['train']['pos'] + labels['train']['neg']\n",
    "    labels_test = labels['test']['pos'] + labels['test']['neg']\n",
    "    \n",
    "    #Shuffle reviews and corresponding labels within training and test sets\n",
    "    data_train, labels_train = shuffle(data_train, labels_train)\n",
    "    data_test, labels_test = shuffle(data_test, labels_test)\n",
    "    \n",
    "    # Return a unified training data, test data, training labels, test labets\n",
    "    return data_train, data_test, labels_train, labels_test"
   ]
  },
  {
   "cell_type": "code",
   "execution_count": 5,
   "metadata": {},
   "outputs": [
    {
     "name": "stdout",
     "output_type": "stream",
     "text": [
      "IMDb reviews (combined): train = 25000, test = 25000\n"
     ]
    }
   ],
   "source": [
    "train_X, test_X, train_y, test_y = prepare_imdb_data(data, labels)\n",
    "print(\"IMDb reviews (combined): train = {}, test = {}\".format(len(train_X), len(test_X)))"
   ]
  },
  {
   "cell_type": "code",
   "execution_count": 6,
   "metadata": {},
   "outputs": [
    {
     "data": {
      "text/plain": [
       "\"I found this film to be an utter dissapointment. The talent available to the director- notably Stanley Tucci, Chris Walken, Hank Azaria and Alan Arkin (without even mentioning the four main leads)- have been completely wasted on an unfunny, mediocre story, whose conclusion one couldn't really care about once introduced to the dire, stereo-typed characters. Julia Roberts is feeble, Zeta-Jones is just plain annoying (appearing to reprise her role from high fidelity, minus the humour), Crystal just plays his same old hyper-active, neurotic, annoying alter-ego and Cusack simply walks through his part, apparently bored with the whole project.<br /><br />For what is supposed to be a 'Romantic comedy', there is absolutely no romance between the central characters, let alone chemistry, and as for the comedy- (possible SPOILERS)well, the only moments of mild humour came off the back of Cusack's role in Grosse Pointe and his relationship with Alan Arkin- the scriptwriter obviously unable to show any originality whatsoever. (Spoilers) Azaria was reasonably amusing as the Mexican lover and Walken did quite an amusing turn as a parody of an arthouse-maverick-Dogme type director- but these parts constituted very little screen time and instead (Spoilers) we were treated to Billy Crystal having his groin sniffed by a dog. Pure genius.<br /><br />For a huge fan of the majority of John Cusack's work, not to mention the rest of the fantastic cast, I was completely let down by a film with plenty of good ideas, and at the same time completely unwilling to explore or elaborate on any of them, instead resorting to the same old genre cliches and even lowering itself to the depths of almost 'gross-out, teen-movie' humour at times.<br /><br />A very poor 4/10.\""
      ]
     },
     "execution_count": 6,
     "metadata": {},
     "output_type": "execute_result"
    }
   ],
   "source": [
    "train_X[100]"
   ]
  },
  {
   "cell_type": "markdown",
   "metadata": {},
   "source": [
    "## Step 3: Processing the data\n",
    "\n",
    "Now that we have our training and testing datasets merged and ready to use, we need to start processing the raw data into something that will be useable by our machine learning algorithm. To begin with, we remove any html formatting that may appear in the reviews and perform some standard natural language processing in order to homogenize the data."
   ]
  },
  {
   "cell_type": "code",
   "execution_count": 7,
   "metadata": {},
   "outputs": [
    {
     "name": "stderr",
     "output_type": "stream",
     "text": [
      "[nltk_data] Downloading package stopwords to\n",
      "[nltk_data]     /home/ec2-user/nltk_data...\n",
      "[nltk_data]   Package stopwords is already up-to-date!\n"
     ]
    }
   ],
   "source": [
    "import nltk\n",
    "nltk.download(\"stopwords\")\n",
    "from nltk.corpus import stopwords\n",
    "from nltk.stem.porter import *\n",
    "stemmer = PorterStemmer()"
   ]
  },
  {
   "cell_type": "code",
   "execution_count": 8,
   "metadata": {},
   "outputs": [],
   "source": [
    "import re\n",
    "from bs4 import BeautifulSoup\n",
    "\n",
    "def review_to_words(review):\n",
    "    text = BeautifulSoup(review, \"html.parser\").get_text() # Remove HTML tags\n",
    "    text = re.sub(r\"[^a-zA-Z0-9]\", \" \", text.lower()) # Convert to lower case\n",
    "    words = text.split() # Split string into words\n",
    "    words = [w for w in words if w not in stopwords.words(\"english\")] # Remove stopwords\n",
    "    words = [PorterStemmer().stem(w) for w in words] # stem\n",
    "    \n",
    "    return words"
   ]
  },
  {
   "cell_type": "code",
   "execution_count": 9,
   "metadata": {},
   "outputs": [
    {
     "data": {
      "text/plain": [
       "['found',\n",
       " 'film',\n",
       " 'utter',\n",
       " 'dissapoint',\n",
       " 'talent',\n",
       " 'avail',\n",
       " 'director',\n",
       " 'notabl',\n",
       " 'stanley',\n",
       " 'tucci',\n",
       " 'chri',\n",
       " 'walken',\n",
       " 'hank',\n",
       " 'azaria',\n",
       " 'alan',\n",
       " 'arkin',\n",
       " 'without',\n",
       " 'even',\n",
       " 'mention',\n",
       " 'four',\n",
       " 'main',\n",
       " 'lead',\n",
       " 'complet',\n",
       " 'wast',\n",
       " 'unfunni',\n",
       " 'mediocr',\n",
       " 'stori',\n",
       " 'whose',\n",
       " 'conclus',\n",
       " 'one',\n",
       " 'realli',\n",
       " 'care',\n",
       " 'introduc',\n",
       " 'dire',\n",
       " 'stereo',\n",
       " 'type',\n",
       " 'charact',\n",
       " 'julia',\n",
       " 'robert',\n",
       " 'feebl',\n",
       " 'zeta',\n",
       " 'jone',\n",
       " 'plain',\n",
       " 'annoy',\n",
       " 'appear',\n",
       " 'repris',\n",
       " 'role',\n",
       " 'high',\n",
       " 'fidel',\n",
       " 'minu',\n",
       " 'humour',\n",
       " 'crystal',\n",
       " 'play',\n",
       " 'old',\n",
       " 'hyper',\n",
       " 'activ',\n",
       " 'neurot',\n",
       " 'annoy',\n",
       " 'alter',\n",
       " 'ego',\n",
       " 'cusack',\n",
       " 'simpli',\n",
       " 'walk',\n",
       " 'part',\n",
       " 'appar',\n",
       " 'bore',\n",
       " 'whole',\n",
       " 'project',\n",
       " 'suppos',\n",
       " 'romant',\n",
       " 'comedi',\n",
       " 'absolut',\n",
       " 'romanc',\n",
       " 'central',\n",
       " 'charact',\n",
       " 'let',\n",
       " 'alon',\n",
       " 'chemistri',\n",
       " 'comedi',\n",
       " 'possibl',\n",
       " 'spoiler',\n",
       " 'well',\n",
       " 'moment',\n",
       " 'mild',\n",
       " 'humour',\n",
       " 'came',\n",
       " 'back',\n",
       " 'cusack',\n",
       " 'role',\n",
       " 'gross',\n",
       " 'point',\n",
       " 'relationship',\n",
       " 'alan',\n",
       " 'arkin',\n",
       " 'scriptwrit',\n",
       " 'obvious',\n",
       " 'unabl',\n",
       " 'show',\n",
       " 'origin',\n",
       " 'whatsoev',\n",
       " 'spoiler',\n",
       " 'azaria',\n",
       " 'reason',\n",
       " 'amus',\n",
       " 'mexican',\n",
       " 'lover',\n",
       " 'walken',\n",
       " 'quit',\n",
       " 'amus',\n",
       " 'turn',\n",
       " 'parodi',\n",
       " 'arthous',\n",
       " 'maverick',\n",
       " 'dogm',\n",
       " 'type',\n",
       " 'director',\n",
       " 'part',\n",
       " 'constitut',\n",
       " 'littl',\n",
       " 'screen',\n",
       " 'time',\n",
       " 'instead',\n",
       " 'spoiler',\n",
       " 'treat',\n",
       " 'billi',\n",
       " 'crystal',\n",
       " 'groin',\n",
       " 'snif',\n",
       " 'dog',\n",
       " 'pure',\n",
       " 'geniu',\n",
       " 'huge',\n",
       " 'fan',\n",
       " 'major',\n",
       " 'john',\n",
       " 'cusack',\n",
       " 'work',\n",
       " 'mention',\n",
       " 'rest',\n",
       " 'fantast',\n",
       " 'cast',\n",
       " 'complet',\n",
       " 'let',\n",
       " 'film',\n",
       " 'plenti',\n",
       " 'good',\n",
       " 'idea',\n",
       " 'time',\n",
       " 'complet',\n",
       " 'unwil',\n",
       " 'explor',\n",
       " 'elabor',\n",
       " 'instead',\n",
       " 'resort',\n",
       " 'old',\n",
       " 'genr',\n",
       " 'clich',\n",
       " 'even',\n",
       " 'lower',\n",
       " 'depth',\n",
       " 'almost',\n",
       " 'gross',\n",
       " 'teen',\n",
       " 'movi',\n",
       " 'humour',\n",
       " 'time',\n",
       " 'poor',\n",
       " '4',\n",
       " '10']"
      ]
     },
     "execution_count": 9,
     "metadata": {},
     "output_type": "execute_result"
    }
   ],
   "source": [
    "review_to_words(train_X[100])"
   ]
  },
  {
   "cell_type": "code",
   "execution_count": 10,
   "metadata": {},
   "outputs": [],
   "source": [
    "import pickle\n",
    "\n",
    "cache_dir = os.path.join(\"../cache\", \"sentiment_analysis\")  # where to store cache files\n",
    "os.makedirs(cache_dir, exist_ok=True)  # ensure cache directory exists\n",
    "\n",
    "def preprocess_data(data_train, data_test, labels_train, labels_test,\n",
    "                    cache_dir=cache_dir, cache_file=\"preprocessed_data.pkl\"):\n",
    "    \"\"\"Convert each review to words; read from cache if available.\"\"\"\n",
    "\n",
    "    # If cache_file is not None, try to read from it first\n",
    "    cache_data = None\n",
    "    if cache_file is not None:\n",
    "        try:\n",
    "            with open(os.path.join(cache_dir, cache_file), \"rb\") as f:\n",
    "                cache_data = pickle.load(f)\n",
    "            print(\"Read preprocessed data from cache file:\", cache_file)\n",
    "        except:\n",
    "            pass  # unable to read from cache, but that's okay\n",
    "    \n",
    "    # If cache is missing, then do the heavy lifting\n",
    "    if cache_data is None:\n",
    "        # Preprocess training and test data to obtain words for each review\n",
    "        #words_train = list(map(review_to_words, data_train))\n",
    "        #words_test = list(map(review_to_words, data_test))\n",
    "        words_train = [review_to_words(review) for review in data_train]\n",
    "        words_test = [review_to_words(review) for review in data_test]\n",
    "        \n",
    "        # Write to cache file for future runs\n",
    "        if cache_file is not None:\n",
    "            cache_data = dict(words_train=words_train, words_test=words_test,\n",
    "                              labels_train=labels_train, labels_test=labels_test)\n",
    "            with open(os.path.join(cache_dir, cache_file), \"wb\") as f:\n",
    "                pickle.dump(cache_data, f)\n",
    "            print(\"Wrote preprocessed data to cache file:\", cache_file)\n",
    "    else:\n",
    "        # Unpack data loaded from cache file\n",
    "        words_train, words_test, labels_train, labels_test = (cache_data['words_train'],\n",
    "                cache_data['words_test'], cache_data['labels_train'], cache_data['labels_test'])\n",
    "    \n",
    "    return words_train, words_test, labels_train, labels_test"
   ]
  },
  {
   "cell_type": "code",
   "execution_count": 11,
   "metadata": {},
   "outputs": [
    {
     "name": "stdout",
     "output_type": "stream",
     "text": [
      "Read preprocessed data from cache file: preprocessed_data.pkl\n"
     ]
    }
   ],
   "source": [
    "# Preprocess data\n",
    "train_X, test_X, train_y, test_y = preprocess_data(train_X, test_X, train_y, test_y)"
   ]
  },
  {
   "cell_type": "markdown",
   "metadata": {},
   "source": [
    "### Extract Bag-of-Words features\n",
    "\n",
    "For the model we will be implementing, rather than using the reviews directly, we are going to transform each review into a Bag-of-Words feature representation. Keep in mind that 'in the wild' we will only have access to the training set so our transformer can only use the training set to construct a representation."
   ]
  },
  {
   "cell_type": "code",
   "execution_count": 12,
   "metadata": {},
   "outputs": [],
   "source": [
    "import numpy as np\n",
    "from sklearn.feature_extraction.text import CountVectorizer\n",
    "import joblib\n",
    "# joblib is an enhanced version of pickle that is more efficient for storing NumPy arrays\n",
    "\n",
    "def extract_BoW_features(words_train, words_test, vocabulary_size=5000,\n",
    "                         cache_dir=cache_dir, cache_file=\"bow_features.pkl\"):\n",
    "    \"\"\"Extract Bag-of-Words for a given set of documents, already preprocessed into words.\"\"\"\n",
    "    \n",
    "    # If cache_file is not None, try to read from it first\n",
    "    cache_data = None\n",
    "    if cache_file is not None:\n",
    "        try:\n",
    "            with open(os.path.join(cache_dir, cache_file), \"rb\") as f:\n",
    "                cache_data = joblib.load(f)\n",
    "            print(\"Read features from cache file:\", cache_file)\n",
    "        except:\n",
    "            pass  # unable to read from cache, but that's okay\n",
    "    \n",
    "    # If cache is missing, then do the heavy lifting\n",
    "    if cache_data is None:\n",
    "        # Fit a vectorizer to training documents and use it to transform them\n",
    "        # NOTE: Training documents have already been preprocessed and tokenized into words;\n",
    "        #       pass in dummy functions to skip those steps, e.g. preprocessor=lambda x: x\n",
    "        vectorizer = CountVectorizer(max_features=vocabulary_size,\n",
    "                preprocessor=lambda x: x, tokenizer=lambda x: x)  # already preprocessed\n",
    "        features_train = vectorizer.fit_transform(words_train).toarray()\n",
    "\n",
    "        # Apply the same vectorizer to transform the test documents (ignore unknown words)\n",
    "        features_test = vectorizer.transform(words_test).toarray()\n",
    "        \n",
    "        # NOTE: Remember to convert the features using .toarray() for a compact representation\n",
    "        \n",
    "        # Write to cache file for future runs (store vocabulary as well)\n",
    "        if cache_file is not None:\n",
    "            vocabulary = vectorizer.vocabulary_\n",
    "            cache_data = dict(features_train=features_train, features_test=features_test,\n",
    "                             vocabulary=vocabulary)\n",
    "            with open(os.path.join(cache_dir, cache_file), \"wb\") as f:\n",
    "                joblib.dump(cache_data, f)\n",
    "            print(\"Wrote features to cache file:\", cache_file)\n",
    "    else:\n",
    "        # Unpack data loaded from cache file\n",
    "        features_train, features_test, vocabulary = (cache_data['features_train'],\n",
    "                cache_data['features_test'], cache_data['vocabulary'])\n",
    "    \n",
    "    # Return both the extracted features as well as the vocabulary\n",
    "    return features_train, features_test, vocabulary"
   ]
  },
  {
   "cell_type": "code",
   "execution_count": 13,
   "metadata": {},
   "outputs": [
    {
     "name": "stdout",
     "output_type": "stream",
     "text": [
      "Read features from cache file: bow_features.pkl\n"
     ]
    }
   ],
   "source": [
    "# Extract Bag of Words features for both training and test datasets\n",
    "train_X, test_X, vocabulary = extract_BoW_features(train_X, test_X)"
   ]
  },
  {
   "cell_type": "code",
   "execution_count": 14,
   "metadata": {},
   "outputs": [
    {
     "data": {
      "text/plain": [
       "5000"
      ]
     },
     "execution_count": 14,
     "metadata": {},
     "output_type": "execute_result"
    }
   ],
   "source": [
    "len(train_X[100])"
   ]
  },
  {
   "cell_type": "markdown",
   "metadata": {},
   "source": [
    "## Step 4: Classification using XGBoost\n",
    "\n",
    "Now that we have created the feature representation of our training (and testing) data, it is time to start setting up and using the XGBoost classifier provided by SageMaker.\n",
    "\n",
    "### Writing the dataset\n",
    "\n",
    "The XGBoost classifier that we will be using requires the dataset to be written to a file and stored using Amazon S3. To do this, we will start by splitting the training dataset into two parts, the data we will train the model with and a validation set. Then, we will write those datasets to a file and upload the files to S3. In addition, we will write the test set input to a file and upload the file to S3. This is so that we can use SageMakers Batch Transform functionality to test our model once we've fit it."
   ]
  },
  {
   "cell_type": "code",
   "execution_count": 15,
   "metadata": {},
   "outputs": [],
   "source": [
    "import pandas as pd\n",
    "\n",
    "# Earlier we shuffled the training dataset so to make things simple we can just assign\n",
    "# the first 10 000 reviews to the validation set and use the remaining reviews for training.\n",
    "val_X = pd.DataFrame(train_X[:10000])\n",
    "train_X = pd.DataFrame(train_X[10000:])\n",
    "\n",
    "val_y = pd.DataFrame(train_y[:10000])\n",
    "train_y = pd.DataFrame(train_y[10000:])"
   ]
  },
  {
   "cell_type": "markdown",
   "metadata": {},
   "source": [
    "The documentation for the XGBoost algorithm in SageMaker requires that the saved datasets should contain no headers or index and that for the training and validation data, the label should occur first for each sample.\n",
    "\n",
    "For more information about this and other algorithms, the SageMaker developer documentation can be found on __[Amazon's website.](https://docs.aws.amazon.com/sagemaker/latest/dg/)__"
   ]
  },
  {
   "cell_type": "code",
   "execution_count": 16,
   "metadata": {},
   "outputs": [],
   "source": [
    "# First we make sure that the local directory in which we'd like to store the training and validation csv files exists.\n",
    "data_dir = '../data/sentiment_update'\n",
    "if not os.path.exists(data_dir):\n",
    "    os.makedirs(data_dir)"
   ]
  },
  {
   "cell_type": "code",
   "execution_count": 17,
   "metadata": {},
   "outputs": [],
   "source": [
    "pd.DataFrame(test_X).to_csv(os.path.join(data_dir, 'test.csv'), header=False, index=False)\n",
    "\n",
    "pd.concat([val_y, val_X], axis=1).to_csv(os.path.join(data_dir, 'validation.csv'), header=False, index=False)\n",
    "pd.concat([train_y, train_X], axis=1).to_csv(os.path.join(data_dir, 'train.csv'), header=False, index=False)"
   ]
  },
  {
   "cell_type": "code",
   "execution_count": 18,
   "metadata": {},
   "outputs": [],
   "source": [
    "# To save a bit of memory we can set text_X, train_X, val_X, train_y and val_y to None.\n",
    "\n",
    "test_X = train_X = val_X = train_y = val_y = None"
   ]
  },
  {
   "cell_type": "markdown",
   "metadata": {},
   "source": [
    "### Uploading Training / Validation files to S3\n",
    "\n",
    "Amazon's S3 service allows us to store files that can be access by both the built-in training models such as the XGBoost model we will be using as well as custom models such as the one we will see a little later.\n",
    "\n",
    "For this, and most other tasks we will be doing using SageMaker, there are two methods we could use. The first is to use the low level functionality of SageMaker which requires knowing each of the objects involved in the SageMaker environment. The second is to use the high level functionality in which certain choices have been made on the user's behalf. The low level approach benefits from allowing the user a great deal of flexibility while the high level approach makes development much quicker. For our purposes we will opt to use the high level approach although using the low-level approach is certainly an option.\n",
    "\n",
    "Recall the method `upload_data()` which is a member of object representing our current SageMaker session. What this method does is upload the data to the default bucket (which is created if it does not exist) into the path described by the key_prefix variable. To see this for yourself, once you have uploaded the data files, go to the S3 console and look to see where the files have been uploaded.\n",
    "\n",
    "For additional resources, see the __[SageMaker API documentation](http://sagemaker.readthedocs.io/en/latest/)__ and in addition the __[SageMaker Developer Guide.](https://docs.aws.amazon.com/sagemaker/latest/dg/)__"
   ]
  },
  {
   "cell_type": "code",
   "execution_count": 19,
   "metadata": {},
   "outputs": [],
   "source": [
    "import sagemaker\n",
    "\n",
    "session = sagemaker.Session() # Store the current SageMaker session\n",
    "\n",
    "# S3 prefix (which folder will we use)\n",
    "prefix = 'sentiment-update'\n",
    "\n",
    "test_location = session.upload_data(os.path.join(data_dir, 'test.csv'), key_prefix=prefix)\n",
    "val_location = session.upload_data(os.path.join(data_dir, 'validation.csv'), key_prefix=prefix)\n",
    "train_location = session.upload_data(os.path.join(data_dir, 'train.csv'), key_prefix=prefix)"
   ]
  },
  {
   "cell_type": "markdown",
   "metadata": {},
   "source": [
    "### Creating the XGBoost model\n",
    "\n",
    "Now that the data has been uploaded it is time to create the XGBoost model. To begin with, we need to do some setup. At this point it is worth discussing what a model is in SageMaker. It is easiest to think of a model of comprising three different objects in the SageMaker ecosystem, which interact with one another.\n",
    "\n",
    "- Model Artifacts\n",
    "- Training Code (Container)\n",
    "- Inference Code (Container)\n",
    "\n",
    "The Model Artifacts are what you might think of as the actual model itself. For example, if you were building a neural network, the model artifacts would be the weights of the various layers. In our case, for an XGBoost model, the artifacts are the actual trees that are created during training.\n",
    "\n",
    "The other two objects, the training code and the inference code are then used the manipulate the training artifacts. More precisely, the training code uses the training data that is provided and creates the model artifacts, while the inference code uses the model artifacts to make predictions on new data.\n",
    "\n",
    "The way that SageMaker runs the training and inference code is by making use of Docker containers. For now, think of a container as being a way of packaging code up so that dependencies aren't an issue."
   ]
  },
  {
   "cell_type": "code",
   "execution_count": 20,
   "metadata": {},
   "outputs": [],
   "source": [
    "from sagemaker import get_execution_role\n",
    "\n",
    "# Our current execution role is require when creating the model as the training\n",
    "# and inference code will need to access the model artifacts.\n",
    "role = get_execution_role()"
   ]
  },
  {
   "cell_type": "code",
   "execution_count": 21,
   "metadata": {},
   "outputs": [
    {
     "name": "stderr",
     "output_type": "stream",
     "text": [
      "'get_image_uri' method will be deprecated in favor of 'ImageURIProvider' class in SageMaker Python SDK v2.\n",
      "There is a more up to date SageMaker XGBoost image. To use the newer image, please set 'repo_version'='1.0-1'. For example:\n",
      "\tget_image_uri(region, 'xgboost', '1.0-1').\n"
     ]
    }
   ],
   "source": [
    "# We need to retrieve the location of the container which is provided by Amazon for using XGBoost.\n",
    "# As a matter of convenience, the training and inference code both use the same container.\n",
    "from sagemaker.amazon.amazon_estimator import get_image_uri\n",
    "\n",
    "container = get_image_uri(session.boto_region_name, 'xgboost')"
   ]
  },
  {
   "cell_type": "code",
   "execution_count": 22,
   "metadata": {},
   "outputs": [
    {
     "name": "stderr",
     "output_type": "stream",
     "text": [
      "Parameter image_name will be renamed to image_uri in SageMaker Python SDK v2.\n"
     ]
    }
   ],
   "source": [
    "# First we create a SageMaker estimator object for our model.\n",
    "xgb = sagemaker.estimator.Estimator(container, # The location of the container we wish to use\n",
    "                                    role,                                    # What is our current IAM Role\n",
    "                                    train_instance_count=1,                  # How many compute instances\n",
    "                                    train_instance_type='ml.m4.xlarge',      # What kind of compute instances\n",
    "                                    output_path='s3://{}/{}/output'.format(session.default_bucket(), prefix),\n",
    "                                    sagemaker_session=session)\n",
    "\n",
    "# And then set the algorithm specific parameters.\n",
    "xgb.set_hyperparameters(max_depth=5,\n",
    "                        eta=0.2,\n",
    "                        gamma=4,\n",
    "                        min_child_weight=6,\n",
    "                        subsample=0.8,\n",
    "                        silent=0,\n",
    "                        objective='binary:logistic',\n",
    "                        early_stopping_rounds=10,\n",
    "                        num_round=500)"
   ]
  },
  {
   "cell_type": "markdown",
   "metadata": {},
   "source": [
    "### Fit the XGBoost model\n",
    "\n",
    "Now that our model has been set up we simply need to attach the training and validation datasets and then ask SageMaker to set up the computation."
   ]
  },
  {
   "cell_type": "code",
   "execution_count": 23,
   "metadata": {},
   "outputs": [
    {
     "name": "stderr",
     "output_type": "stream",
     "text": [
      "'s3_input' class will be renamed to 'TrainingInput' in SageMaker Python SDK v2.\n",
      "'s3_input' class will be renamed to 'TrainingInput' in SageMaker Python SDK v2.\n"
     ]
    }
   ],
   "source": [
    "s3_input_train = sagemaker.s3_input(s3_data=train_location, content_type='csv')\n",
    "s3_input_validation = sagemaker.s3_input(s3_data=val_location, content_type='csv')"
   ]
  },
  {
   "cell_type": "code",
   "execution_count": 24,
   "metadata": {},
   "outputs": [
    {
     "name": "stdout",
     "output_type": "stream",
     "text": [
      "2020-09-27 15:17:36 Starting - Starting the training job...\n",
      "2020-09-27 15:17:38 Starting - Launching requested ML instances......\n",
      "2020-09-27 15:18:42 Starting - Preparing the instances for training...\n",
      "2020-09-27 15:19:31 Downloading - Downloading input data...\n",
      "2020-09-27 15:19:52 Training - Downloading the training image..\u001b[34mArguments: train\u001b[0m\n",
      "\u001b[34m[2020-09-27:15:20:13:INFO] Running standalone xgboost training.\u001b[0m\n",
      "\u001b[34m[2020-09-27:15:20:13:INFO] File size need to be processed in the node: 238.47mb. Available memory size in the node: 8478.96mb\u001b[0m\n",
      "\u001b[34m[2020-09-27:15:20:13:INFO] Determined delimiter of CSV input is ','\u001b[0m\n",
      "\u001b[34m[15:20:13] S3DistributionType set as FullyReplicated\u001b[0m\n",
      "\u001b[34m[15:20:15] 15000x5000 matrix with 75000000 entries loaded from /opt/ml/input/data/train?format=csv&label_column=0&delimiter=,\u001b[0m\n",
      "\u001b[34m[2020-09-27:15:20:15:INFO] Determined delimiter of CSV input is ','\u001b[0m\n",
      "\u001b[34m[15:20:15] S3DistributionType set as FullyReplicated\u001b[0m\n",
      "\u001b[34m[15:20:16] 10000x5000 matrix with 50000000 entries loaded from /opt/ml/input/data/validation?format=csv&label_column=0&delimiter=,\u001b[0m\n",
      "\u001b[34m[15:20:20] src/tree/updater_prune.cc:74: tree pruning end, 1 roots, 42 extra nodes, 6 pruned nodes, max_depth=5\u001b[0m\n",
      "\u001b[34m[0]#011train-error:0.307733#011validation-error:0.3161\u001b[0m\n",
      "\u001b[34mMultiple eval metrics have been passed: 'validation-error' will be used for early stopping.\n",
      "\u001b[0m\n",
      "\u001b[34mWill train until validation-error hasn't improved in 10 rounds.\u001b[0m\n",
      "\u001b[34m[15:20:22] src/tree/updater_prune.cc:74: tree pruning end, 1 roots, 38 extra nodes, 8 pruned nodes, max_depth=5\u001b[0m\n",
      "\u001b[34m[1]#011train-error:0.279133#011validation-error:0.2871\u001b[0m\n",
      "\u001b[34m[15:20:23] src/tree/updater_prune.cc:74: tree pruning end, 1 roots, 42 extra nodes, 8 pruned nodes, max_depth=5\u001b[0m\n",
      "\u001b[34m[2]#011train-error:0.2642#011validation-error:0.2734\u001b[0m\n",
      "\u001b[34m[15:20:24] src/tree/updater_prune.cc:74: tree pruning end, 1 roots, 36 extra nodes, 0 pruned nodes, max_depth=5\u001b[0m\n",
      "\u001b[34m[3]#011train-error:0.261#011validation-error:0.2701\u001b[0m\n",
      "\n",
      "2020-09-27 15:20:12 Training - Training image download completed. Training in progress.\u001b[34m[15:20:25] src/tree/updater_prune.cc:74: tree pruning end, 1 roots, 40 extra nodes, 8 pruned nodes, max_depth=5\u001b[0m\n",
      "\u001b[34m[4]#011train-error:0.254467#011validation-error:0.2667\u001b[0m\n",
      "\u001b[34m[15:20:27] src/tree/updater_prune.cc:74: tree pruning end, 1 roots, 32 extra nodes, 12 pruned nodes, max_depth=5\u001b[0m\n",
      "\u001b[34m[5]#011train-error:0.247733#011validation-error:0.2618\u001b[0m\n",
      "\u001b[34m[15:20:28] src/tree/updater_prune.cc:74: tree pruning end, 1 roots, 30 extra nodes, 2 pruned nodes, max_depth=5\u001b[0m\n",
      "\u001b[34m[6]#011train-error:0.2446#011validation-error:0.2579\u001b[0m\n",
      "\u001b[34m[15:20:29] src/tree/updater_prune.cc:74: tree pruning end, 1 roots, 32 extra nodes, 2 pruned nodes, max_depth=5\u001b[0m\n",
      "\u001b[34m[7]#011train-error:0.2418#011validation-error:0.2556\u001b[0m\n",
      "\u001b[34m[15:20:31] src/tree/updater_prune.cc:74: tree pruning end, 1 roots, 22 extra nodes, 12 pruned nodes, max_depth=5\u001b[0m\n",
      "\u001b[34m[8]#011train-error:0.233667#011validation-error:0.2481\u001b[0m\n",
      "\u001b[34m[15:20:32] src/tree/updater_prune.cc:74: tree pruning end, 1 roots, 32 extra nodes, 2 pruned nodes, max_depth=5\u001b[0m\n",
      "\u001b[34m[9]#011train-error:0.2278#011validation-error:0.2411\u001b[0m\n",
      "\u001b[34m[15:20:33] src/tree/updater_prune.cc:74: tree pruning end, 1 roots, 42 extra nodes, 6 pruned nodes, max_depth=5\u001b[0m\n",
      "\u001b[34m[10]#011train-error:0.2208#011validation-error:0.2355\u001b[0m\n",
      "\u001b[34m[15:20:34] src/tree/updater_prune.cc:74: tree pruning end, 1 roots, 28 extra nodes, 4 pruned nodes, max_depth=5\u001b[0m\n",
      "\u001b[34m[11]#011train-error:0.217333#011validation-error:0.2319\u001b[0m\n",
      "\u001b[34m[15:20:36] src/tree/updater_prune.cc:74: tree pruning end, 1 roots, 30 extra nodes, 4 pruned nodes, max_depth=5\u001b[0m\n",
      "\u001b[34m[12]#011train-error:0.215#011validation-error:0.2302\u001b[0m\n",
      "\u001b[34m[15:20:37] src/tree/updater_prune.cc:74: tree pruning end, 1 roots, 34 extra nodes, 4 pruned nodes, max_depth=5\u001b[0m\n",
      "\u001b[34m[13]#011train-error:0.211467#011validation-error:0.2274\u001b[0m\n",
      "\u001b[34m[15:20:38] src/tree/updater_prune.cc:74: tree pruning end, 1 roots, 26 extra nodes, 10 pruned nodes, max_depth=5\u001b[0m\n",
      "\u001b[34m[14]#011train-error:0.207733#011validation-error:0.2231\u001b[0m\n",
      "\u001b[34m[15:20:39] src/tree/updater_prune.cc:74: tree pruning end, 1 roots, 26 extra nodes, 12 pruned nodes, max_depth=5\u001b[0m\n",
      "\u001b[34m[15]#011train-error:0.204067#011validation-error:0.2173\u001b[0m\n",
      "\u001b[34m[15:20:41] src/tree/updater_prune.cc:74: tree pruning end, 1 roots, 30 extra nodes, 4 pruned nodes, max_depth=5\u001b[0m\n",
      "\u001b[34m[16]#011train-error:0.202333#011validation-error:0.2159\u001b[0m\n",
      "\u001b[34m[15:20:42] src/tree/updater_prune.cc:74: tree pruning end, 1 roots, 34 extra nodes, 12 pruned nodes, max_depth=5\u001b[0m\n",
      "\u001b[34m[17]#011train-error:0.198267#011validation-error:0.2157\u001b[0m\n",
      "\u001b[34m[15:20:43] src/tree/updater_prune.cc:74: tree pruning end, 1 roots, 26 extra nodes, 12 pruned nodes, max_depth=5\u001b[0m\n",
      "\u001b[34m[18]#011train-error:0.1972#011validation-error:0.2132\u001b[0m\n",
      "\u001b[34m[15:20:45] src/tree/updater_prune.cc:74: tree pruning end, 1 roots, 32 extra nodes, 6 pruned nodes, max_depth=5\u001b[0m\n",
      "\u001b[34m[19]#011train-error:0.1928#011validation-error:0.2114\u001b[0m\n",
      "\u001b[34m[15:20:46] src/tree/updater_prune.cc:74: tree pruning end, 1 roots, 28 extra nodes, 8 pruned nodes, max_depth=5\u001b[0m\n",
      "\u001b[34m[20]#011train-error:0.191267#011validation-error:0.2076\u001b[0m\n",
      "\u001b[34m[15:20:47] src/tree/updater_prune.cc:74: tree pruning end, 1 roots, 34 extra nodes, 8 pruned nodes, max_depth=5\u001b[0m\n",
      "\u001b[34m[21]#011train-error:0.186933#011validation-error:0.2024\u001b[0m\n",
      "\u001b[34m[15:20:48] src/tree/updater_prune.cc:74: tree pruning end, 1 roots, 28 extra nodes, 2 pruned nodes, max_depth=5\u001b[0m\n",
      "\u001b[34m[22]#011train-error:0.1848#011validation-error:0.2013\u001b[0m\n",
      "\u001b[34m[15:20:50] src/tree/updater_prune.cc:74: tree pruning end, 1 roots, 28 extra nodes, 14 pruned nodes, max_depth=5\u001b[0m\n",
      "\u001b[34m[23]#011train-error:0.180467#011validation-error:0.2005\u001b[0m\n",
      "\u001b[34m[15:20:51] src/tree/updater_prune.cc:74: tree pruning end, 1 roots, 28 extra nodes, 12 pruned nodes, max_depth=5\u001b[0m\n",
      "\u001b[34m[24]#011train-error:0.1776#011validation-error:0.1983\u001b[0m\n",
      "\u001b[34m[15:20:52] src/tree/updater_prune.cc:74: tree pruning end, 1 roots, 20 extra nodes, 12 pruned nodes, max_depth=5\u001b[0m\n",
      "\u001b[34m[25]#011train-error:0.175667#011validation-error:0.1953\u001b[0m\n",
      "\u001b[34m[15:20:53] src/tree/updater_prune.cc:74: tree pruning end, 1 roots, 28 extra nodes, 10 pruned nodes, max_depth=5\u001b[0m\n",
      "\u001b[34m[26]#011train-error:0.174067#011validation-error:0.1943\u001b[0m\n",
      "\u001b[34m[15:20:55] src/tree/updater_prune.cc:74: tree pruning end, 1 roots, 32 extra nodes, 6 pruned nodes, max_depth=5\u001b[0m\n",
      "\u001b[34m[27]#011train-error:0.172267#011validation-error:0.1922\u001b[0m\n",
      "\u001b[34m[15:20:56] src/tree/updater_prune.cc:74: tree pruning end, 1 roots, 20 extra nodes, 8 pruned nodes, max_depth=5\u001b[0m\n",
      "\u001b[34m[28]#011train-error:0.1722#011validation-error:0.1922\u001b[0m\n",
      "\u001b[34m[15:20:57] src/tree/updater_prune.cc:74: tree pruning end, 1 roots, 24 extra nodes, 10 pruned nodes, max_depth=5\u001b[0m\n",
      "\u001b[34m[29]#011train-error:0.1708#011validation-error:0.1903\u001b[0m\n",
      "\u001b[34m[15:20:59] src/tree/updater_prune.cc:74: tree pruning end, 1 roots, 30 extra nodes, 6 pruned nodes, max_depth=5\u001b[0m\n",
      "\u001b[34m[30]#011train-error:0.167733#011validation-error:0.189\u001b[0m\n",
      "\u001b[34m[15:21:00] src/tree/updater_prune.cc:74: tree pruning end, 1 roots, 30 extra nodes, 8 pruned nodes, max_depth=5\u001b[0m\n",
      "\u001b[34m[31]#011train-error:0.166467#011validation-error:0.1873\u001b[0m\n",
      "\u001b[34m[15:21:01] src/tree/updater_prune.cc:74: tree pruning end, 1 roots, 16 extra nodes, 10 pruned nodes, max_depth=5\u001b[0m\n",
      "\u001b[34m[32]#011train-error:0.165667#011validation-error:0.1883\u001b[0m\n",
      "\u001b[34m[15:21:02] src/tree/updater_prune.cc:74: tree pruning end, 1 roots, 14 extra nodes, 8 pruned nodes, max_depth=5\u001b[0m\n",
      "\u001b[34m[33]#011train-error:0.163467#011validation-error:0.1859\u001b[0m\n",
      "\u001b[34m[15:21:04] src/tree/updater_prune.cc:74: tree pruning end, 1 roots, 26 extra nodes, 10 pruned nodes, max_depth=5\u001b[0m\n",
      "\u001b[34m[34]#011train-error:0.162867#011validation-error:0.1837\u001b[0m\n",
      "\u001b[34m[15:21:05] src/tree/updater_prune.cc:74: tree pruning end, 1 roots, 18 extra nodes, 10 pruned nodes, max_depth=5\u001b[0m\n",
      "\u001b[34m[35]#011train-error:0.161133#011validation-error:0.1821\u001b[0m\n",
      "\u001b[34m[15:21:06] src/tree/updater_prune.cc:74: tree pruning end, 1 roots, 34 extra nodes, 4 pruned nodes, max_depth=5\u001b[0m\n",
      "\u001b[34m[36]#011train-error:0.1598#011validation-error:0.1816\u001b[0m\n",
      "\u001b[34m[15:21:08] src/tree/updater_prune.cc:74: tree pruning end, 1 roots, 30 extra nodes, 8 pruned nodes, max_depth=5\u001b[0m\n",
      "\u001b[34m[37]#011train-error:0.157133#011validation-error:0.1799\u001b[0m\n",
      "\u001b[34m[15:21:09] src/tree/updater_prune.cc:74: tree pruning end, 1 roots, 28 extra nodes, 8 pruned nodes, max_depth=5\u001b[0m\n",
      "\u001b[34m[38]#011train-error:0.1542#011validation-error:0.1777\u001b[0m\n",
      "\u001b[34m[15:21:10] src/tree/updater_prune.cc:74: tree pruning end, 1 roots, 30 extra nodes, 8 pruned nodes, max_depth=5\u001b[0m\n",
      "\u001b[34m[39]#011train-error:0.1538#011validation-error:0.1779\u001b[0m\n",
      "\u001b[34m[15:21:11] src/tree/updater_prune.cc:74: tree pruning end, 1 roots, 18 extra nodes, 2 pruned nodes, max_depth=5\u001b[0m\n",
      "\u001b[34m[40]#011train-error:0.151733#011validation-error:0.1764\u001b[0m\n",
      "\u001b[34m[15:21:13] src/tree/updater_prune.cc:74: tree pruning end, 1 roots, 26 extra nodes, 14 pruned nodes, max_depth=5\u001b[0m\n",
      "\u001b[34m[41]#011train-error:0.1508#011validation-error:0.176\u001b[0m\n",
      "\u001b[34m[15:21:14] src/tree/updater_prune.cc:74: tree pruning end, 1 roots, 20 extra nodes, 10 pruned nodes, max_depth=5\u001b[0m\n",
      "\u001b[34m[42]#011train-error:0.1504#011validation-error:0.1766\u001b[0m\n",
      "\u001b[34m[15:21:15] src/tree/updater_prune.cc:74: tree pruning end, 1 roots, 30 extra nodes, 8 pruned nodes, max_depth=5\u001b[0m\n",
      "\u001b[34m[43]#011train-error:0.148733#011validation-error:0.1745\u001b[0m\n"
     ]
    },
    {
     "name": "stdout",
     "output_type": "stream",
     "text": [
      "\u001b[34m[15:21:16] src/tree/updater_prune.cc:74: tree pruning end, 1 roots, 20 extra nodes, 6 pruned nodes, max_depth=5\u001b[0m\n",
      "\u001b[34m[44]#011train-error:0.147#011validation-error:0.1753\u001b[0m\n",
      "\u001b[34m[15:21:18] src/tree/updater_prune.cc:74: tree pruning end, 1 roots, 26 extra nodes, 12 pruned nodes, max_depth=5\u001b[0m\n",
      "\u001b[34m[45]#011train-error:0.1464#011validation-error:0.1734\u001b[0m\n",
      "\u001b[34m[15:21:19] src/tree/updater_prune.cc:74: tree pruning end, 1 roots, 18 extra nodes, 8 pruned nodes, max_depth=5\u001b[0m\n",
      "\u001b[34m[46]#011train-error:0.144867#011validation-error:0.1732\u001b[0m\n",
      "\u001b[34m[15:21:20] src/tree/updater_prune.cc:74: tree pruning end, 1 roots, 14 extra nodes, 10 pruned nodes, max_depth=5\u001b[0m\n",
      "\u001b[34m[47]#011train-error:0.1444#011validation-error:0.1729\u001b[0m\n",
      "\u001b[34m[15:21:22] src/tree/updater_prune.cc:74: tree pruning end, 1 roots, 18 extra nodes, 12 pruned nodes, max_depth=5\u001b[0m\n",
      "\u001b[34m[48]#011train-error:0.1444#011validation-error:0.1715\u001b[0m\n",
      "\u001b[34m[15:21:23] src/tree/updater_prune.cc:74: tree pruning end, 1 roots, 18 extra nodes, 14 pruned nodes, max_depth=5\u001b[0m\n",
      "\u001b[34m[49]#011train-error:0.144133#011validation-error:0.1706\u001b[0m\n",
      "\u001b[34m[15:21:24] src/tree/updater_prune.cc:74: tree pruning end, 1 roots, 24 extra nodes, 6 pruned nodes, max_depth=5\u001b[0m\n",
      "\u001b[34m[50]#011train-error:0.142733#011validation-error:0.1687\u001b[0m\n",
      "\u001b[34m[15:21:25] src/tree/updater_prune.cc:74: tree pruning end, 1 roots, 24 extra nodes, 8 pruned nodes, max_depth=5\u001b[0m\n",
      "\u001b[34m[51]#011train-error:0.141067#011validation-error:0.1679\u001b[0m\n",
      "\u001b[34m[15:21:27] src/tree/updater_prune.cc:74: tree pruning end, 1 roots, 16 extra nodes, 8 pruned nodes, max_depth=5\u001b[0m\n",
      "\u001b[34m[52]#011train-error:0.1408#011validation-error:0.1672\u001b[0m\n",
      "\u001b[34m[15:21:28] src/tree/updater_prune.cc:74: tree pruning end, 1 roots, 26 extra nodes, 12 pruned nodes, max_depth=5\u001b[0m\n",
      "\u001b[34m[53]#011train-error:0.14#011validation-error:0.1663\u001b[0m\n",
      "\u001b[34m[15:21:29] src/tree/updater_prune.cc:74: tree pruning end, 1 roots, 34 extra nodes, 6 pruned nodes, max_depth=5\u001b[0m\n",
      "\u001b[34m[54]#011train-error:0.1384#011validation-error:0.1668\u001b[0m\n",
      "\u001b[34m[15:21:30] src/tree/updater_prune.cc:74: tree pruning end, 1 roots, 18 extra nodes, 18 pruned nodes, max_depth=5\u001b[0m\n",
      "\u001b[34m[55]#011train-error:0.137067#011validation-error:0.1646\u001b[0m\n",
      "\u001b[34m[15:21:32] src/tree/updater_prune.cc:74: tree pruning end, 1 roots, 24 extra nodes, 6 pruned nodes, max_depth=5\u001b[0m\n",
      "\u001b[34m[56]#011train-error:0.136467#011validation-error:0.1639\u001b[0m\n",
      "\u001b[34m[15:21:33] src/tree/updater_prune.cc:74: tree pruning end, 1 roots, 30 extra nodes, 12 pruned nodes, max_depth=5\u001b[0m\n",
      "\u001b[34m[57]#011train-error:0.134133#011validation-error:0.1639\u001b[0m\n",
      "\u001b[34m[15:21:34] src/tree/updater_prune.cc:74: tree pruning end, 1 roots, 10 extra nodes, 10 pruned nodes, max_depth=5\u001b[0m\n",
      "\u001b[34m[58]#011train-error:0.133667#011validation-error:0.1634\u001b[0m\n",
      "\u001b[34m[15:21:36] src/tree/updater_prune.cc:74: tree pruning end, 1 roots, 24 extra nodes, 8 pruned nodes, max_depth=5\u001b[0m\n",
      "\u001b[34m[59]#011train-error:0.132#011validation-error:0.1626\u001b[0m\n",
      "\u001b[34m[15:21:37] src/tree/updater_prune.cc:74: tree pruning end, 1 roots, 14 extra nodes, 4 pruned nodes, max_depth=5\u001b[0m\n",
      "\u001b[34m[60]#011train-error:0.1312#011validation-error:0.1616\u001b[0m\n",
      "\u001b[34m[15:21:38] src/tree/updater_prune.cc:74: tree pruning end, 1 roots, 18 extra nodes, 4 pruned nodes, max_depth=5\u001b[0m\n",
      "\u001b[34m[61]#011train-error:0.132067#011validation-error:0.1612\u001b[0m\n",
      "\u001b[34m[15:21:39] src/tree/updater_prune.cc:74: tree pruning end, 1 roots, 20 extra nodes, 12 pruned nodes, max_depth=5\u001b[0m\n",
      "\u001b[34m[62]#011train-error:0.131667#011validation-error:0.1597\u001b[0m\n",
      "\u001b[34m[15:21:41] src/tree/updater_prune.cc:74: tree pruning end, 1 roots, 18 extra nodes, 10 pruned nodes, max_depth=5\u001b[0m\n",
      "\u001b[34m[63]#011train-error:0.1306#011validation-error:0.1602\u001b[0m\n",
      "\u001b[34m[15:21:42] src/tree/updater_prune.cc:74: tree pruning end, 1 roots, 12 extra nodes, 12 pruned nodes, max_depth=5\u001b[0m\n",
      "\u001b[34m[64]#011train-error:0.1306#011validation-error:0.1595\u001b[0m\n",
      "\u001b[34m[15:21:43] src/tree/updater_prune.cc:74: tree pruning end, 1 roots, 14 extra nodes, 8 pruned nodes, max_depth=5\u001b[0m\n",
      "\u001b[34m[65]#011train-error:0.130267#011validation-error:0.1588\u001b[0m\n",
      "\u001b[34m[15:21:44] src/tree/updater_prune.cc:74: tree pruning end, 1 roots, 30 extra nodes, 10 pruned nodes, max_depth=5\u001b[0m\n",
      "\u001b[34m[66]#011train-error:0.129067#011validation-error:0.1594\u001b[0m\n",
      "\u001b[34m[15:21:46] src/tree/updater_prune.cc:74: tree pruning end, 1 roots, 16 extra nodes, 14 pruned nodes, max_depth=5\u001b[0m\n",
      "\u001b[34m[67]#011train-error:0.1276#011validation-error:0.1585\u001b[0m\n",
      "\u001b[34m[15:21:47] src/tree/updater_prune.cc:74: tree pruning end, 1 roots, 20 extra nodes, 2 pruned nodes, max_depth=5\u001b[0m\n",
      "\u001b[34m[68]#011train-error:0.126733#011validation-error:0.1579\u001b[0m\n",
      "\u001b[34m[15:21:48] src/tree/updater_prune.cc:74: tree pruning end, 1 roots, 12 extra nodes, 12 pruned nodes, max_depth=5\u001b[0m\n",
      "\u001b[34m[69]#011train-error:0.1268#011validation-error:0.1579\u001b[0m\n",
      "\u001b[34m[15:21:50] src/tree/updater_prune.cc:74: tree pruning end, 1 roots, 12 extra nodes, 12 pruned nodes, max_depth=5\u001b[0m\n",
      "\u001b[34m[70]#011train-error:0.126333#011validation-error:0.157\u001b[0m\n",
      "\u001b[34m[15:21:51] src/tree/updater_prune.cc:74: tree pruning end, 1 roots, 24 extra nodes, 10 pruned nodes, max_depth=5\u001b[0m\n",
      "\u001b[34m[71]#011train-error:0.125067#011validation-error:0.1572\u001b[0m\n",
      "\u001b[34m[15:21:52] src/tree/updater_prune.cc:74: tree pruning end, 1 roots, 22 extra nodes, 12 pruned nodes, max_depth=5\u001b[0m\n",
      "\u001b[34m[72]#011train-error:0.123667#011validation-error:0.1572\u001b[0m\n",
      "\u001b[34m[15:21:53] src/tree/updater_prune.cc:74: tree pruning end, 1 roots, 14 extra nodes, 8 pruned nodes, max_depth=5\u001b[0m\n",
      "\u001b[34m[73]#011train-error:0.1228#011validation-error:0.1571\u001b[0m\n",
      "\u001b[34m[15:21:55] src/tree/updater_prune.cc:74: tree pruning end, 1 roots, 12 extra nodes, 8 pruned nodes, max_depth=5\u001b[0m\n",
      "\u001b[34m[74]#011train-error:0.122133#011validation-error:0.157\u001b[0m\n",
      "\u001b[34m[15:21:56] src/tree/updater_prune.cc:74: tree pruning end, 1 roots, 32 extra nodes, 8 pruned nodes, max_depth=5\u001b[0m\n",
      "\u001b[34m[75]#011train-error:0.120867#011validation-error:0.1581\u001b[0m\n",
      "\u001b[34m[15:21:57] src/tree/updater_prune.cc:74: tree pruning end, 1 roots, 14 extra nodes, 12 pruned nodes, max_depth=5\u001b[0m\n",
      "\u001b[34m[76]#011train-error:0.120733#011validation-error:0.1574\u001b[0m\n",
      "\u001b[34m[15:21:58] src/tree/updater_prune.cc:74: tree pruning end, 1 roots, 22 extra nodes, 10 pruned nodes, max_depth=5\u001b[0m\n",
      "\u001b[34m[77]#011train-error:0.119867#011validation-error:0.1567\u001b[0m\n",
      "\u001b[34m[15:22:00] src/tree/updater_prune.cc:74: tree pruning end, 1 roots, 12 extra nodes, 4 pruned nodes, max_depth=5\u001b[0m\n",
      "\u001b[34m[78]#011train-error:0.1196#011validation-error:0.1562\u001b[0m\n",
      "\u001b[34m[15:22:01] src/tree/updater_prune.cc:74: tree pruning end, 1 roots, 10 extra nodes, 12 pruned nodes, max_depth=5\u001b[0m\n",
      "\u001b[34m[79]#011train-error:0.119467#011validation-error:0.1556\u001b[0m\n",
      "\u001b[34m[15:22:02] src/tree/updater_prune.cc:74: tree pruning end, 1 roots, 24 extra nodes, 4 pruned nodes, max_depth=5\u001b[0m\n",
      "\u001b[34m[80]#011train-error:0.118667#011validation-error:0.1562\u001b[0m\n",
      "\u001b[34m[15:22:04] src/tree/updater_prune.cc:74: tree pruning end, 1 roots, 16 extra nodes, 4 pruned nodes, max_depth=5\u001b[0m\n",
      "\u001b[34m[81]#011train-error:0.1188#011validation-error:0.1559\u001b[0m\n",
      "\u001b[34m[15:22:05] src/tree/updater_prune.cc:74: tree pruning end, 1 roots, 16 extra nodes, 20 pruned nodes, max_depth=5\u001b[0m\n",
      "\u001b[34m[82]#011train-error:0.118#011validation-error:0.156\u001b[0m\n",
      "\u001b[34m[15:22:06] src/tree/updater_prune.cc:74: tree pruning end, 1 roots, 16 extra nodes, 8 pruned nodes, max_depth=5\u001b[0m\n",
      "\u001b[34m[83]#011train-error:0.117333#011validation-error:0.1562\u001b[0m\n",
      "\u001b[34m[15:22:07] src/tree/updater_prune.cc:74: tree pruning end, 1 roots, 10 extra nodes, 6 pruned nodes, max_depth=5\u001b[0m\n",
      "\u001b[34m[84]#011train-error:0.117#011validation-error:0.1555\u001b[0m\n",
      "\u001b[34m[15:22:09] src/tree/updater_prune.cc:74: tree pruning end, 1 roots, 18 extra nodes, 6 pruned nodes, max_depth=5\u001b[0m\n",
      "\u001b[34m[85]#011train-error:0.1166#011validation-error:0.1555\u001b[0m\n",
      "\u001b[34m[15:22:10] src/tree/updater_prune.cc:74: tree pruning end, 1 roots, 12 extra nodes, 10 pruned nodes, max_depth=5\u001b[0m\n",
      "\u001b[34m[86]#011train-error:0.1166#011validation-error:0.1556\u001b[0m\n",
      "\u001b[34m[15:22:11] src/tree/updater_prune.cc:74: tree pruning end, 1 roots, 20 extra nodes, 16 pruned nodes, max_depth=5\u001b[0m\n",
      "\u001b[34m[87]#011train-error:0.1154#011validation-error:0.1548\u001b[0m\n",
      "\u001b[34m[15:22:13] src/tree/updater_prune.cc:74: tree pruning end, 1 roots, 14 extra nodes, 12 pruned nodes, max_depth=5\u001b[0m\n",
      "\u001b[34m[88]#011train-error:0.115#011validation-error:0.1551\u001b[0m\n",
      "\u001b[34m[15:22:14] src/tree/updater_prune.cc:74: tree pruning end, 1 roots, 26 extra nodes, 6 pruned nodes, max_depth=5\u001b[0m\n",
      "\u001b[34m[89]#011train-error:0.114467#011validation-error:0.1546\u001b[0m\n",
      "\u001b[34m[15:22:15] src/tree/updater_prune.cc:74: tree pruning end, 1 roots, 22 extra nodes, 8 pruned nodes, max_depth=5\u001b[0m\n",
      "\u001b[34m[90]#011train-error:0.113867#011validation-error:0.1541\u001b[0m\n",
      "\u001b[34m[15:22:16] src/tree/updater_prune.cc:74: tree pruning end, 1 roots, 10 extra nodes, 8 pruned nodes, max_depth=5\u001b[0m\n",
      "\u001b[34m[91]#011train-error:0.113667#011validation-error:0.1533\u001b[0m\n",
      "\u001b[34m[15:22:18] src/tree/updater_prune.cc:74: tree pruning end, 1 roots, 20 extra nodes, 6 pruned nodes, max_depth=5\u001b[0m\n",
      "\u001b[34m[92]#011train-error:0.112667#011validation-error:0.1523\u001b[0m\n",
      "\u001b[34m[15:22:19] src/tree/updater_prune.cc:74: tree pruning end, 1 roots, 14 extra nodes, 10 pruned nodes, max_depth=5\u001b[0m\n",
      "\u001b[34m[93]#011train-error:0.112333#011validation-error:0.1527\u001b[0m\n",
      "\u001b[34m[15:22:20] src/tree/updater_prune.cc:74: tree pruning end, 1 roots, 26 extra nodes, 12 pruned nodes, max_depth=5\u001b[0m\n",
      "\u001b[34m[94]#011train-error:0.1116#011validation-error:0.1527\u001b[0m\n",
      "\u001b[34m[15:22:21] src/tree/updater_prune.cc:74: tree pruning end, 1 roots, 12 extra nodes, 4 pruned nodes, max_depth=5\u001b[0m\n",
      "\u001b[34m[95]#011train-error:0.111267#011validation-error:0.1516\u001b[0m\n"
     ]
    },
    {
     "name": "stdout",
     "output_type": "stream",
     "text": [
      "\u001b[34m[15:22:23] src/tree/updater_prune.cc:74: tree pruning end, 1 roots, 14 extra nodes, 14 pruned nodes, max_depth=5\u001b[0m\n",
      "\u001b[34m[96]#011train-error:0.110933#011validation-error:0.1511\u001b[0m\n",
      "\u001b[34m[15:22:24] src/tree/updater_prune.cc:74: tree pruning end, 1 roots, 12 extra nodes, 4 pruned nodes, max_depth=5\u001b[0m\n",
      "\u001b[34m[97]#011train-error:0.109933#011validation-error:0.1509\u001b[0m\n",
      "\u001b[34m[15:22:25] src/tree/updater_prune.cc:74: tree pruning end, 1 roots, 12 extra nodes, 4 pruned nodes, max_depth=5\u001b[0m\n",
      "\u001b[34m[98]#011train-error:0.11#011validation-error:0.1508\u001b[0m\n",
      "\u001b[34m[15:22:27] src/tree/updater_prune.cc:74: tree pruning end, 1 roots, 20 extra nodes, 12 pruned nodes, max_depth=5\u001b[0m\n",
      "\u001b[34m[99]#011train-error:0.109467#011validation-error:0.1499\u001b[0m\n",
      "\u001b[34m[15:22:28] src/tree/updater_prune.cc:74: tree pruning end, 1 roots, 16 extra nodes, 6 pruned nodes, max_depth=5\u001b[0m\n",
      "\u001b[34m[100]#011train-error:0.109#011validation-error:0.1488\u001b[0m\n",
      "\u001b[34m[15:22:29] src/tree/updater_prune.cc:74: tree pruning end, 1 roots, 16 extra nodes, 12 pruned nodes, max_depth=5\u001b[0m\n",
      "\u001b[34m[101]#011train-error:0.1084#011validation-error:0.1493\u001b[0m\n",
      "\u001b[34m[15:22:30] src/tree/updater_prune.cc:74: tree pruning end, 1 roots, 12 extra nodes, 6 pruned nodes, max_depth=5\u001b[0m\n",
      "\u001b[34m[102]#011train-error:0.108267#011validation-error:0.1496\u001b[0m\n",
      "\u001b[34m[15:22:32] src/tree/updater_prune.cc:74: tree pruning end, 1 roots, 24 extra nodes, 14 pruned nodes, max_depth=5\u001b[0m\n",
      "\u001b[34m[103]#011train-error:0.1068#011validation-error:0.1492\u001b[0m\n",
      "\u001b[34m[15:22:33] src/tree/updater_prune.cc:74: tree pruning end, 1 roots, 10 extra nodes, 8 pruned nodes, max_depth=5\u001b[0m\n",
      "\u001b[34m[104]#011train-error:0.1078#011validation-error:0.1501\u001b[0m\n",
      "\u001b[34m[15:22:34] src/tree/updater_prune.cc:74: tree pruning end, 1 roots, 14 extra nodes, 18 pruned nodes, max_depth=5\u001b[0m\n",
      "\u001b[34m[105]#011train-error:0.1072#011validation-error:0.1495\u001b[0m\n",
      "\u001b[34m[15:22:36] src/tree/updater_prune.cc:74: tree pruning end, 1 roots, 18 extra nodes, 18 pruned nodes, max_depth=5\u001b[0m\n",
      "\u001b[34m[106]#011train-error:0.106933#011validation-error:0.1489\u001b[0m\n",
      "\u001b[34m[15:22:37] src/tree/updater_prune.cc:74: tree pruning end, 1 roots, 12 extra nodes, 4 pruned nodes, max_depth=5\u001b[0m\n",
      "\u001b[34m[107]#011train-error:0.106733#011validation-error:0.1489\u001b[0m\n",
      "\u001b[34m[15:22:38] src/tree/updater_prune.cc:74: tree pruning end, 1 roots, 16 extra nodes, 4 pruned nodes, max_depth=5\u001b[0m\n",
      "\u001b[34m[108]#011train-error:0.105267#011validation-error:0.1492\u001b[0m\n",
      "\u001b[34m[15:22:39] src/tree/updater_prune.cc:74: tree pruning end, 1 roots, 14 extra nodes, 2 pruned nodes, max_depth=5\u001b[0m\n",
      "\u001b[34m[109]#011train-error:0.1052#011validation-error:0.1481\u001b[0m\n",
      "\u001b[34m[15:22:41] src/tree/updater_prune.cc:74: tree pruning end, 1 roots, 32 extra nodes, 10 pruned nodes, max_depth=5\u001b[0m\n",
      "\u001b[34m[110]#011train-error:0.104#011validation-error:0.1477\u001b[0m\n",
      "\u001b[34m[15:22:42] src/tree/updater_prune.cc:74: tree pruning end, 1 roots, 18 extra nodes, 8 pruned nodes, max_depth=5\u001b[0m\n",
      "\u001b[34m[111]#011train-error:0.103867#011validation-error:0.1466\u001b[0m\n",
      "\u001b[34m[15:22:43] src/tree/updater_prune.cc:74: tree pruning end, 1 roots, 18 extra nodes, 10 pruned nodes, max_depth=5\u001b[0m\n",
      "\u001b[34m[112]#011train-error:0.103333#011validation-error:0.1461\u001b[0m\n",
      "\u001b[34m[15:22:44] src/tree/updater_prune.cc:74: tree pruning end, 1 roots, 16 extra nodes, 10 pruned nodes, max_depth=5\u001b[0m\n",
      "\u001b[34m[113]#011train-error:0.102933#011validation-error:0.1466\u001b[0m\n",
      "\u001b[34m[15:22:46] src/tree/updater_prune.cc:74: tree pruning end, 1 roots, 16 extra nodes, 8 pruned nodes, max_depth=5\u001b[0m\n",
      "\u001b[34m[114]#011train-error:0.102267#011validation-error:0.1459\u001b[0m\n",
      "\u001b[34m[15:22:47] src/tree/updater_prune.cc:74: tree pruning end, 1 roots, 16 extra nodes, 6 pruned nodes, max_depth=5\u001b[0m\n",
      "\u001b[34m[115]#011train-error:0.102#011validation-error:0.1465\u001b[0m\n",
      "\u001b[34m[15:22:48] src/tree/updater_prune.cc:74: tree pruning end, 1 roots, 22 extra nodes, 12 pruned nodes, max_depth=5\u001b[0m\n",
      "\u001b[34m[116]#011train-error:0.101333#011validation-error:0.1451\u001b[0m\n",
      "\u001b[34m[15:22:50] src/tree/updater_prune.cc:74: tree pruning end, 1 roots, 18 extra nodes, 12 pruned nodes, max_depth=5\u001b[0m\n",
      "\u001b[34m[117]#011train-error:0.101533#011validation-error:0.1448\u001b[0m\n",
      "\u001b[34m[15:22:51] src/tree/updater_prune.cc:74: tree pruning end, 1 roots, 12 extra nodes, 2 pruned nodes, max_depth=5\u001b[0m\n",
      "\u001b[34m[118]#011train-error:0.1018#011validation-error:0.1444\u001b[0m\n",
      "\u001b[34m[15:22:52] src/tree/updater_prune.cc:74: tree pruning end, 1 roots, 20 extra nodes, 6 pruned nodes, max_depth=5\u001b[0m\n",
      "\u001b[34m[119]#011train-error:0.101267#011validation-error:0.1447\u001b[0m\n",
      "\u001b[34m[15:22:53] src/tree/updater_prune.cc:74: tree pruning end, 1 roots, 20 extra nodes, 6 pruned nodes, max_depth=5\u001b[0m\n",
      "\u001b[34m[120]#011train-error:0.100533#011validation-error:0.1441\u001b[0m\n",
      "\u001b[34m[15:22:55] src/tree/updater_prune.cc:74: tree pruning end, 1 roots, 24 extra nodes, 16 pruned nodes, max_depth=5\u001b[0m\n",
      "\u001b[34m[121]#011train-error:0.1004#011validation-error:0.1441\u001b[0m\n",
      "\u001b[34m[15:22:56] src/tree/updater_prune.cc:74: tree pruning end, 1 roots, 16 extra nodes, 10 pruned nodes, max_depth=5\u001b[0m\n",
      "\u001b[34m[122]#011train-error:0.0998#011validation-error:0.144\u001b[0m\n",
      "\u001b[34m[15:22:57] src/tree/updater_prune.cc:74: tree pruning end, 1 roots, 16 extra nodes, 22 pruned nodes, max_depth=5\u001b[0m\n",
      "\u001b[34m[123]#011train-error:0.099067#011validation-error:0.1437\u001b[0m\n",
      "\u001b[34m[15:22:58] src/tree/updater_prune.cc:74: tree pruning end, 1 roots, 10 extra nodes, 8 pruned nodes, max_depth=5\u001b[0m\n",
      "\u001b[34m[124]#011train-error:0.099067#011validation-error:0.1435\u001b[0m\n",
      "\u001b[34m[15:23:00] src/tree/updater_prune.cc:74: tree pruning end, 1 roots, 14 extra nodes, 4 pruned nodes, max_depth=5\u001b[0m\n",
      "\u001b[34m[125]#011train-error:0.099067#011validation-error:0.1438\u001b[0m\n",
      "\u001b[34m[15:23:01] src/tree/updater_prune.cc:74: tree pruning end, 1 roots, 12 extra nodes, 8 pruned nodes, max_depth=5\u001b[0m\n",
      "\u001b[34m[126]#011train-error:0.098467#011validation-error:0.1436\u001b[0m\n",
      "\u001b[34m[15:23:02] src/tree/updater_prune.cc:74: tree pruning end, 1 roots, 22 extra nodes, 4 pruned nodes, max_depth=5\u001b[0m\n",
      "\u001b[34m[127]#011train-error:0.097533#011validation-error:0.1425\u001b[0m\n",
      "\u001b[34m[15:23:04] src/tree/updater_prune.cc:74: tree pruning end, 1 roots, 12 extra nodes, 8 pruned nodes, max_depth=5\u001b[0m\n",
      "\u001b[34m[128]#011train-error:0.097667#011validation-error:0.143\u001b[0m\n",
      "\u001b[34m[15:23:05] src/tree/updater_prune.cc:74: tree pruning end, 1 roots, 10 extra nodes, 16 pruned nodes, max_depth=5\u001b[0m\n",
      "\u001b[34m[129]#011train-error:0.0976#011validation-error:0.1435\u001b[0m\n",
      "\u001b[34m[15:23:06] src/tree/updater_prune.cc:74: tree pruning end, 1 roots, 14 extra nodes, 8 pruned nodes, max_depth=5\u001b[0m\n",
      "\u001b[34m[130]#011train-error:0.096667#011validation-error:0.1426\u001b[0m\n",
      "\u001b[34m[15:23:07] src/tree/updater_prune.cc:74: tree pruning end, 1 roots, 18 extra nodes, 16 pruned nodes, max_depth=5\u001b[0m\n",
      "\u001b[34m[131]#011train-error:0.096733#011validation-error:0.1424\u001b[0m\n",
      "\u001b[34m[15:23:09] src/tree/updater_prune.cc:74: tree pruning end, 1 roots, 14 extra nodes, 8 pruned nodes, max_depth=5\u001b[0m\n",
      "\u001b[34m[132]#011train-error:0.095933#011validation-error:0.1418\u001b[0m\n",
      "\u001b[34m[15:23:10] src/tree/updater_prune.cc:74: tree pruning end, 1 roots, 22 extra nodes, 12 pruned nodes, max_depth=5\u001b[0m\n",
      "\u001b[34m[133]#011train-error:0.096067#011validation-error:0.1427\u001b[0m\n",
      "\u001b[34m[15:23:11] src/tree/updater_prune.cc:74: tree pruning end, 1 roots, 22 extra nodes, 2 pruned nodes, max_depth=5\u001b[0m\n",
      "\u001b[34m[134]#011train-error:0.095333#011validation-error:0.1424\u001b[0m\n",
      "\u001b[34m[15:23:13] src/tree/updater_prune.cc:74: tree pruning end, 1 roots, 10 extra nodes, 8 pruned nodes, max_depth=5\u001b[0m\n",
      "\u001b[34m[135]#011train-error:0.094933#011validation-error:0.1425\u001b[0m\n",
      "\u001b[34m[15:23:14] src/tree/updater_prune.cc:74: tree pruning end, 1 roots, 10 extra nodes, 8 pruned nodes, max_depth=5\u001b[0m\n",
      "\u001b[34m[136]#011train-error:0.094533#011validation-error:0.1426\u001b[0m\n",
      "\u001b[34m[15:23:15] src/tree/updater_prune.cc:74: tree pruning end, 1 roots, 12 extra nodes, 10 pruned nodes, max_depth=5\u001b[0m\n",
      "\u001b[34m[137]#011train-error:0.094267#011validation-error:0.1421\u001b[0m\n",
      "\u001b[34m[15:23:16] src/tree/updater_prune.cc:74: tree pruning end, 1 roots, 16 extra nodes, 8 pruned nodes, max_depth=5\u001b[0m\n",
      "\u001b[34m[138]#011train-error:0.094267#011validation-error:0.1426\u001b[0m\n",
      "\u001b[34m[15:23:18] src/tree/updater_prune.cc:74: tree pruning end, 1 roots, 22 extra nodes, 8 pruned nodes, max_depth=5\u001b[0m\n",
      "\u001b[34m[139]#011train-error:0.0932#011validation-error:0.1425\u001b[0m\n",
      "\u001b[34m[15:23:19] src/tree/updater_prune.cc:74: tree pruning end, 1 roots, 14 extra nodes, 14 pruned nodes, max_depth=5\u001b[0m\n",
      "\u001b[34m[140]#011train-error:0.092867#011validation-error:0.1421\u001b[0m\n",
      "\u001b[34m[15:23:20] src/tree/updater_prune.cc:74: tree pruning end, 1 roots, 10 extra nodes, 10 pruned nodes, max_depth=5\u001b[0m\n",
      "\u001b[34m[141]#011train-error:0.093133#011validation-error:0.1416\u001b[0m\n",
      "\u001b[34m[15:23:21] src/tree/updater_prune.cc:74: tree pruning end, 1 roots, 16 extra nodes, 16 pruned nodes, max_depth=5\u001b[0m\n",
      "\u001b[34m[142]#011train-error:0.092933#011validation-error:0.1412\u001b[0m\n",
      "\u001b[34m[15:23:23] src/tree/updater_prune.cc:74: tree pruning end, 1 roots, 14 extra nodes, 4 pruned nodes, max_depth=5\u001b[0m\n",
      "\u001b[34m[143]#011train-error:0.0926#011validation-error:0.141\u001b[0m\n"
     ]
    },
    {
     "name": "stdout",
     "output_type": "stream",
     "text": [
      "\u001b[34m[15:23:24] src/tree/updater_prune.cc:74: tree pruning end, 1 roots, 12 extra nodes, 14 pruned nodes, max_depth=5\u001b[0m\n",
      "\u001b[34m[144]#011train-error:0.0924#011validation-error:0.1411\u001b[0m\n",
      "\u001b[34m[15:23:25] src/tree/updater_prune.cc:74: tree pruning end, 1 roots, 12 extra nodes, 4 pruned nodes, max_depth=5\u001b[0m\n",
      "\u001b[34m[145]#011train-error:0.092533#011validation-error:0.141\u001b[0m\n",
      "\u001b[34m[15:23:27] src/tree/updater_prune.cc:74: tree pruning end, 1 roots, 12 extra nodes, 8 pruned nodes, max_depth=5\u001b[0m\n",
      "\u001b[34m[146]#011train-error:0.092#011validation-error:0.1406\u001b[0m\n",
      "\u001b[34m[15:23:28] src/tree/updater_prune.cc:74: tree pruning end, 1 roots, 14 extra nodes, 6 pruned nodes, max_depth=5\u001b[0m\n",
      "\u001b[34m[147]#011train-error:0.091267#011validation-error:0.1404\u001b[0m\n",
      "\u001b[34m[15:23:29] src/tree/updater_prune.cc:74: tree pruning end, 1 roots, 14 extra nodes, 18 pruned nodes, max_depth=5\u001b[0m\n",
      "\u001b[34m[148]#011train-error:0.0918#011validation-error:0.1403\u001b[0m\n",
      "\u001b[34m[15:23:30] src/tree/updater_prune.cc:74: tree pruning end, 1 roots, 14 extra nodes, 10 pruned nodes, max_depth=5\u001b[0m\n",
      "\u001b[34m[149]#011train-error:0.0912#011validation-error:0.1404\u001b[0m\n",
      "\u001b[34m[15:23:32] src/tree/updater_prune.cc:74: tree pruning end, 1 roots, 12 extra nodes, 10 pruned nodes, max_depth=5\u001b[0m\n",
      "\u001b[34m[150]#011train-error:0.091133#011validation-error:0.1403\u001b[0m\n",
      "\u001b[34m[15:23:33] src/tree/updater_prune.cc:74: tree pruning end, 1 roots, 14 extra nodes, 10 pruned nodes, max_depth=5\u001b[0m\n",
      "\u001b[34m[151]#011train-error:0.091467#011validation-error:0.1402\u001b[0m\n",
      "\u001b[34m[15:23:34] src/tree/updater_prune.cc:74: tree pruning end, 1 roots, 22 extra nodes, 12 pruned nodes, max_depth=5\u001b[0m\n",
      "\u001b[34m[152]#011train-error:0.091067#011validation-error:0.1398\u001b[0m\n",
      "\u001b[34m[15:23:36] src/tree/updater_prune.cc:74: tree pruning end, 1 roots, 10 extra nodes, 2 pruned nodes, max_depth=5\u001b[0m\n",
      "\u001b[34m[153]#011train-error:0.090933#011validation-error:0.1402\u001b[0m\n",
      "\u001b[34m[15:23:37] src/tree/updater_prune.cc:74: tree pruning end, 1 roots, 14 extra nodes, 10 pruned nodes, max_depth=5\u001b[0m\n",
      "\u001b[34m[154]#011train-error:0.090667#011validation-error:0.1398\u001b[0m\n",
      "\u001b[34m[15:23:38] src/tree/updater_prune.cc:74: tree pruning end, 1 roots, 12 extra nodes, 8 pruned nodes, max_depth=5\u001b[0m\n",
      "\u001b[34m[155]#011train-error:0.0904#011validation-error:0.1393\u001b[0m\n",
      "\u001b[34m[15:23:39] src/tree/updater_prune.cc:74: tree pruning end, 1 roots, 16 extra nodes, 12 pruned nodes, max_depth=5\u001b[0m\n",
      "\u001b[34m[156]#011train-error:0.0906#011validation-error:0.1388\u001b[0m\n",
      "\u001b[34m[15:23:41] src/tree/updater_prune.cc:74: tree pruning end, 1 roots, 22 extra nodes, 4 pruned nodes, max_depth=5\u001b[0m\n",
      "\u001b[34m[157]#011train-error:0.0904#011validation-error:0.1386\u001b[0m\n",
      "\u001b[34m[15:23:42] src/tree/updater_prune.cc:74: tree pruning end, 1 roots, 12 extra nodes, 12 pruned nodes, max_depth=5\u001b[0m\n",
      "\u001b[34m[158]#011train-error:0.089733#011validation-error:0.1388\u001b[0m\n",
      "\u001b[34m[15:23:43] src/tree/updater_prune.cc:74: tree pruning end, 1 roots, 20 extra nodes, 6 pruned nodes, max_depth=5\u001b[0m\n",
      "\u001b[34m[159]#011train-error:0.089867#011validation-error:0.1386\u001b[0m\n",
      "\u001b[34m[15:23:44] src/tree/updater_prune.cc:74: tree pruning end, 1 roots, 10 extra nodes, 6 pruned nodes, max_depth=5\u001b[0m\n",
      "\u001b[34m[160]#011train-error:0.088933#011validation-error:0.1382\u001b[0m\n",
      "\u001b[34m[15:23:46] src/tree/updater_prune.cc:74: tree pruning end, 1 roots, 14 extra nodes, 10 pruned nodes, max_depth=5\u001b[0m\n",
      "\u001b[34m[161]#011train-error:0.088533#011validation-error:0.1381\u001b[0m\n",
      "\u001b[34m[15:23:47] src/tree/updater_prune.cc:74: tree pruning end, 1 roots, 12 extra nodes, 16 pruned nodes, max_depth=5\u001b[0m\n",
      "\u001b[34m[162]#011train-error:0.088067#011validation-error:0.1381\u001b[0m\n",
      "\u001b[34m[15:23:48] src/tree/updater_prune.cc:74: tree pruning end, 1 roots, 16 extra nodes, 18 pruned nodes, max_depth=5\u001b[0m\n",
      "\u001b[34m[163]#011train-error:0.088133#011validation-error:0.1389\u001b[0m\n",
      "\u001b[34m[15:23:50] src/tree/updater_prune.cc:74: tree pruning end, 1 roots, 10 extra nodes, 10 pruned nodes, max_depth=5\u001b[0m\n",
      "\u001b[34m[164]#011train-error:0.0878#011validation-error:0.1386\u001b[0m\n",
      "\u001b[34m[15:23:51] src/tree/updater_prune.cc:74: tree pruning end, 1 roots, 16 extra nodes, 16 pruned nodes, max_depth=5\u001b[0m\n",
      "\u001b[34m[165]#011train-error:0.087933#011validation-error:0.1394\u001b[0m\n",
      "\u001b[34m[15:23:52] src/tree/updater_prune.cc:74: tree pruning end, 1 roots, 10 extra nodes, 6 pruned nodes, max_depth=5\u001b[0m\n",
      "\u001b[34m[166]#011train-error:0.0882#011validation-error:0.1395\u001b[0m\n",
      "\u001b[34m[15:23:53] src/tree/updater_prune.cc:74: tree pruning end, 1 roots, 14 extra nodes, 8 pruned nodes, max_depth=5\u001b[0m\n",
      "\u001b[34m[167]#011train-error:0.0884#011validation-error:0.1387\u001b[0m\n",
      "\u001b[34m[15:23:55] src/tree/updater_prune.cc:74: tree pruning end, 1 roots, 14 extra nodes, 16 pruned nodes, max_depth=5\u001b[0m\n",
      "\u001b[34m[168]#011train-error:0.088#011validation-error:0.1376\u001b[0m\n",
      "\u001b[34m[15:23:56] src/tree/updater_prune.cc:74: tree pruning end, 1 roots, 12 extra nodes, 8 pruned nodes, max_depth=5\u001b[0m\n",
      "\u001b[34m[169]#011train-error:0.088133#011validation-error:0.1375\u001b[0m\n",
      "\u001b[34m[15:23:57] src/tree/updater_prune.cc:74: tree pruning end, 1 roots, 12 extra nodes, 6 pruned nodes, max_depth=5\u001b[0m\n",
      "\u001b[34m[170]#011train-error:0.087733#011validation-error:0.1377\u001b[0m\n",
      "\u001b[34m[15:23:59] src/tree/updater_prune.cc:74: tree pruning end, 1 roots, 14 extra nodes, 2 pruned nodes, max_depth=5\u001b[0m\n",
      "\u001b[34m[171]#011train-error:0.0876#011validation-error:0.1389\u001b[0m\n",
      "\u001b[34m[15:24:00] src/tree/updater_prune.cc:74: tree pruning end, 1 roots, 10 extra nodes, 2 pruned nodes, max_depth=5\u001b[0m\n",
      "\u001b[34m[172]#011train-error:0.087333#011validation-error:0.1392\u001b[0m\n",
      "\u001b[34m[15:24:01] src/tree/updater_prune.cc:74: tree pruning end, 1 roots, 12 extra nodes, 12 pruned nodes, max_depth=5\u001b[0m\n",
      "\u001b[34m[173]#011train-error:0.087867#011validation-error:0.139\u001b[0m\n",
      "\u001b[34m[15:24:02] src/tree/updater_prune.cc:74: tree pruning end, 1 roots, 18 extra nodes, 26 pruned nodes, max_depth=5\u001b[0m\n",
      "\u001b[34m[174]#011train-error:0.087533#011validation-error:0.1391\u001b[0m\n",
      "\u001b[34m[15:24:04] src/tree/updater_prune.cc:74: tree pruning end, 1 roots, 12 extra nodes, 6 pruned nodes, max_depth=5\u001b[0m\n",
      "\u001b[34m[175]#011train-error:0.0872#011validation-error:0.1392\u001b[0m\n",
      "\u001b[34m[15:24:05] src/tree/updater_prune.cc:74: tree pruning end, 1 roots, 10 extra nodes, 0 pruned nodes, max_depth=5\u001b[0m\n",
      "\u001b[34m[176]#011train-error:0.086933#011validation-error:0.1389\u001b[0m\n",
      "\u001b[34m[15:24:06] src/tree/updater_prune.cc:74: tree pruning end, 1 roots, 16 extra nodes, 2 pruned nodes, max_depth=5\u001b[0m\n",
      "\u001b[34m[177]#011train-error:0.086667#011validation-error:0.1382\u001b[0m\n",
      "\u001b[34m[15:24:07] src/tree/updater_prune.cc:74: tree pruning end, 1 roots, 12 extra nodes, 6 pruned nodes, max_depth=5\u001b[0m\n",
      "\u001b[34m[178]#011train-error:0.086#011validation-error:0.1377\u001b[0m\n",
      "\u001b[34m[15:24:09] src/tree/updater_prune.cc:74: tree pruning end, 1 roots, 24 extra nodes, 12 pruned nodes, max_depth=5\u001b[0m\n",
      "\u001b[34m[179]#011train-error:0.0852#011validation-error:0.1376\u001b[0m\n",
      "\u001b[34mStopping. Best iteration:\u001b[0m\n",
      "\u001b[34m[169]#011train-error:0.088133#011validation-error:0.1375\n",
      "\u001b[0m\n",
      "\n",
      "2020-09-27 15:24:18 Uploading - Uploading generated training model\n",
      "2020-09-27 15:24:18 Completed - Training job completed\n",
      "Training seconds: 287\n",
      "Billable seconds: 287\n"
     ]
    }
   ],
   "source": [
    "xgb.fit({'train': s3_input_train, 'validation': s3_input_validation})"
   ]
  },
  {
   "cell_type": "markdown",
   "metadata": {},
   "source": [
    "### Testing the model\n",
    "\n",
    "Now that we've fit our XGBoost model, it's time to see how well it performs. To do this we will use SageMakers Batch Transform functionality. Batch Transform is a convenient way to perform inference on a large dataset in a way that is not realtime. That is, we don't necessarily need to use our model's results immediately and instead we can peform inference on a large number of samples. An example of this in industry might be peforming an end of month report. This method of inference can also be useful to us as it means to can perform inference on our entire test set. \n",
    "\n",
    "To perform a Batch Transformation we need to first create a transformer objects from our trained estimator object."
   ]
  },
  {
   "cell_type": "code",
   "execution_count": 25,
   "metadata": {},
   "outputs": [
    {
     "name": "stderr",
     "output_type": "stream",
     "text": [
      "Parameter image will be renamed to image_uri in SageMaker Python SDK v2.\n"
     ]
    }
   ],
   "source": [
    "xgb_transformer = xgb.transformer(instance_count = 1, instance_type = 'ml.m4.xlarge')"
   ]
  },
  {
   "cell_type": "markdown",
   "metadata": {},
   "source": [
    "Next we actually perform the transform job. When doing so we need to make sure to specify the type of data we are sending so that it is serialized correctly in the background. In our case we are providing our model with csv data so we specify `text/csv`. Also, if the test data that we have provided is too large to process all at once then we need to specify how the data file should be split up. Since each line is a single entry in our data set we tell SageMaker that it can split the input on each line."
   ]
  },
  {
   "cell_type": "code",
   "execution_count": 26,
   "metadata": {},
   "outputs": [],
   "source": [
    "xgb_transformer.transform(test_location, content_type='text/csv', split_type='Line')"
   ]
  },
  {
   "cell_type": "markdown",
   "metadata": {},
   "source": [
    "Currently the transform job is running but it is doing so in the background. Since we wish to wait until the transform job is done and we would like a bit of feedback we can run the `wait()` method."
   ]
  },
  {
   "cell_type": "code",
   "execution_count": 27,
   "metadata": {},
   "outputs": [
    {
     "name": "stdout",
     "output_type": "stream",
     "text": [
      "............................\u001b[32m2020-09-27T15:29:15.656:[sagemaker logs]: MaxConcurrentTransforms=4, MaxPayloadInMB=6, BatchStrategy=MULTI_RECORD\u001b[0m\n",
      "\u001b[34mArguments: serve\u001b[0m\n",
      "\u001b[34m[2020-09-27 15:29:15 +0000] [1] [INFO] Starting gunicorn 19.7.1\u001b[0m\n",
      "\u001b[34m[2020-09-27 15:29:15 +0000] [1] [INFO] Listening at: http://0.0.0.0:8080 (1)\u001b[0m\n",
      "\u001b[34m[2020-09-27 15:29:15 +0000] [1] [INFO] Using worker: gevent\u001b[0m\n",
      "\u001b[34m[2020-09-27 15:29:15 +0000] [36] [INFO] Booting worker with pid: 36\u001b[0m\n",
      "\u001b[34m[2020-09-27 15:29:15 +0000] [37] [INFO] Booting worker with pid: 37\u001b[0m\n",
      "\u001b[34m[2020-09-27:15:29:15:INFO] Model loaded successfully for worker : 36\u001b[0m\n",
      "\u001b[34m[2020-09-27 15:29:15 +0000] [38] [INFO] Booting worker with pid: 38\u001b[0m\n",
      "\u001b[34m[2020-09-27 15:29:15 +0000] [39] [INFO] Booting worker with pid: 39\u001b[0m\n",
      "\u001b[34m[2020-09-27:15:29:15:INFO] Model loaded successfully for worker : 37\u001b[0m\n",
      "\u001b[34m[2020-09-27:15:29:15:INFO] Model loaded successfully for worker : 38\u001b[0m\n",
      "\u001b[34m[2020-09-27:15:29:15:INFO] Model loaded successfully for worker : 39\u001b[0m\n",
      "\u001b[34m[2020-09-27:15:29:15:INFO] Sniff delimiter as ','\u001b[0m\n",
      "\u001b[34m[2020-09-27:15:29:15:INFO] Determined delimiter of CSV input is ','\u001b[0m\n",
      "\u001b[34m[2020-09-27:15:29:16:INFO] Sniff delimiter as ','\u001b[0m\n",
      "\u001b[34m[2020-09-27:15:29:16:INFO] Determined delimiter of CSV input is ','\u001b[0m\n",
      "\u001b[34m[2020-09-27:15:29:16:INFO] Sniff delimiter as ','\u001b[0m\n",
      "\u001b[34m[2020-09-27:15:29:16:INFO] Determined delimiter of CSV input is ','\u001b[0m\n",
      "\u001b[35mArguments: serve\u001b[0m\n",
      "\u001b[35m[2020-09-27 15:29:15 +0000] [1] [INFO] Starting gunicorn 19.7.1\u001b[0m\n",
      "\u001b[35m[2020-09-27 15:29:15 +0000] [1] [INFO] Listening at: http://0.0.0.0:8080 (1)\u001b[0m\n",
      "\u001b[35m[2020-09-27 15:29:15 +0000] [1] [INFO] Using worker: gevent\u001b[0m\n",
      "\u001b[35m[2020-09-27 15:29:15 +0000] [36] [INFO] Booting worker with pid: 36\u001b[0m\n",
      "\u001b[35m[2020-09-27 15:29:15 +0000] [37] [INFO] Booting worker with pid: 37\u001b[0m\n",
      "\u001b[35m[2020-09-27:15:29:15:INFO] Model loaded successfully for worker : 36\u001b[0m\n",
      "\u001b[35m[2020-09-27 15:29:15 +0000] [38] [INFO] Booting worker with pid: 38\u001b[0m\n",
      "\u001b[35m[2020-09-27 15:29:15 +0000] [39] [INFO] Booting worker with pid: 39\u001b[0m\n",
      "\u001b[35m[2020-09-27:15:29:15:INFO] Model loaded successfully for worker : 37\u001b[0m\n",
      "\u001b[35m[2020-09-27:15:29:15:INFO] Model loaded successfully for worker : 38\u001b[0m\n",
      "\u001b[35m[2020-09-27:15:29:15:INFO] Model loaded successfully for worker : 39\u001b[0m\n",
      "\u001b[35m[2020-09-27:15:29:15:INFO] Sniff delimiter as ','\u001b[0m\n",
      "\u001b[35m[2020-09-27:15:29:15:INFO] Determined delimiter of CSV input is ','\u001b[0m\n",
      "\u001b[35m[2020-09-27:15:29:16:INFO] Sniff delimiter as ','\u001b[0m\n",
      "\u001b[35m[2020-09-27:15:29:16:INFO] Determined delimiter of CSV input is ','\u001b[0m\n",
      "\u001b[35m[2020-09-27:15:29:16:INFO] Sniff delimiter as ','\u001b[0m\n",
      "\u001b[35m[2020-09-27:15:29:16:INFO] Determined delimiter of CSV input is ','\u001b[0m\n",
      "\u001b[34m[2020-09-27:15:29:16:INFO] Sniff delimiter as ','\u001b[0m\n",
      "\u001b[34m[2020-09-27:15:29:16:INFO] Determined delimiter of CSV input is ','\u001b[0m\n",
      "\u001b[35m[2020-09-27:15:29:16:INFO] Sniff delimiter as ','\u001b[0m\n",
      "\u001b[35m[2020-09-27:15:29:16:INFO] Determined delimiter of CSV input is ','\u001b[0m\n",
      "\u001b[34m[2020-09-27:15:29:18:INFO] Sniff delimiter as ','\u001b[0m\n",
      "\u001b[34m[2020-09-27:15:29:18:INFO] Determined delimiter of CSV input is ','\u001b[0m\n",
      "\u001b[34m[2020-09-27:15:29:18:INFO] Sniff delimiter as ','\u001b[0m\n",
      "\u001b[34m[2020-09-27:15:29:18:INFO] Determined delimiter of CSV input is ','\u001b[0m\n",
      "\u001b[34m[2020-09-27:15:29:18:INFO] Sniff delimiter as ','\u001b[0m\n",
      "\u001b[34m[2020-09-27:15:29:18:INFO] Determined delimiter of CSV input is ','\u001b[0m\n",
      "\u001b[35m[2020-09-27:15:29:18:INFO] Sniff delimiter as ','\u001b[0m\n",
      "\u001b[35m[2020-09-27:15:29:18:INFO] Determined delimiter of CSV input is ','\u001b[0m\n",
      "\u001b[35m[2020-09-27:15:29:18:INFO] Sniff delimiter as ','\u001b[0m\n",
      "\u001b[35m[2020-09-27:15:29:18:INFO] Determined delimiter of CSV input is ','\u001b[0m\n",
      "\u001b[35m[2020-09-27:15:29:18:INFO] Sniff delimiter as ','\u001b[0m\n",
      "\u001b[35m[2020-09-27:15:29:18:INFO] Determined delimiter of CSV input is ','\u001b[0m\n",
      "\u001b[34m[2020-09-27:15:29:20:INFO] Sniff delimiter as ','\u001b[0m\n",
      "\u001b[34m[2020-09-27:15:29:20:INFO] Determined delimiter of CSV input is ','\u001b[0m\n",
      "\u001b[34m[2020-09-27:15:29:20:INFO] Sniff delimiter as ','\u001b[0m\n",
      "\u001b[34m[2020-09-27:15:29:20:INFO] Determined delimiter of CSV input is ','\u001b[0m\n",
      "\u001b[35m[2020-09-27:15:29:20:INFO] Sniff delimiter as ','\u001b[0m\n",
      "\u001b[35m[2020-09-27:15:29:20:INFO] Determined delimiter of CSV input is ','\u001b[0m\n",
      "\u001b[35m[2020-09-27:15:29:20:INFO] Sniff delimiter as ','\u001b[0m\n",
      "\u001b[35m[2020-09-27:15:29:20:INFO] Determined delimiter of CSV input is ','\u001b[0m\n",
      "\u001b[34m[2020-09-27:15:29:21:INFO] Sniff delimiter as ','\u001b[0m\n",
      "\u001b[34m[2020-09-27:15:29:21:INFO] Determined delimiter of CSV input is ','\u001b[0m\n",
      "\u001b[34m[2020-09-27:15:29:21:INFO] Sniff delimiter as ','\u001b[0m\n",
      "\u001b[34m[2020-09-27:15:29:21:INFO] Determined delimiter of CSV input is ','\u001b[0m\n",
      "\u001b[34m[2020-09-27:15:29:21:INFO] Sniff delimiter as ','\u001b[0m\n",
      "\u001b[34m[2020-09-27:15:29:21:INFO] Determined delimiter of CSV input is ','\u001b[0m\n",
      "\u001b[35m[2020-09-27:15:29:21:INFO] Sniff delimiter as ','\u001b[0m\n",
      "\u001b[35m[2020-09-27:15:29:21:INFO] Determined delimiter of CSV input is ','\u001b[0m\n",
      "\u001b[35m[2020-09-27:15:29:21:INFO] Sniff delimiter as ','\u001b[0m\n",
      "\u001b[35m[2020-09-27:15:29:21:INFO] Determined delimiter of CSV input is ','\u001b[0m\n",
      "\u001b[35m[2020-09-27:15:29:21:INFO] Sniff delimiter as ','\u001b[0m\n",
      "\u001b[35m[2020-09-27:15:29:21:INFO] Determined delimiter of CSV input is ','\u001b[0m\n",
      "\u001b[34m[2020-09-27:15:29:23:INFO] Sniff delimiter as ','\u001b[0m\n",
      "\u001b[35m[2020-09-27:15:29:23:INFO] Sniff delimiter as ','\u001b[0m\n",
      "\u001b[34m[2020-09-27:15:29:23:INFO] Determined delimiter of CSV input is ','\u001b[0m\n",
      "\u001b[35m[2020-09-27:15:29:23:INFO] Determined delimiter of CSV input is ','\u001b[0m\n",
      "\u001b[34m[2020-09-27:15:29:23:INFO] Sniff delimiter as ','\u001b[0m\n",
      "\u001b[34m[2020-09-27:15:29:23:INFO] Determined delimiter of CSV input is ','\u001b[0m\n",
      "\u001b[34m[2020-09-27:15:29:23:INFO] Sniff delimiter as ','\u001b[0m\n",
      "\u001b[34m[2020-09-27:15:29:23:INFO] Determined delimiter of CSV input is ','\u001b[0m\n",
      "\u001b[35m[2020-09-27:15:29:23:INFO] Sniff delimiter as ','\u001b[0m\n",
      "\u001b[35m[2020-09-27:15:29:23:INFO] Determined delimiter of CSV input is ','\u001b[0m\n",
      "\u001b[35m[2020-09-27:15:29:23:INFO] Sniff delimiter as ','\u001b[0m\n",
      "\u001b[35m[2020-09-27:15:29:23:INFO] Determined delimiter of CSV input is ','\u001b[0m\n",
      "\u001b[34m[2020-09-27:15:29:25:INFO] Sniff delimiter as ','\u001b[0m\n",
      "\u001b[34m[2020-09-27:15:29:25:INFO] Determined delimiter of CSV input is ','\u001b[0m\n",
      "\u001b[34m[2020-09-27:15:29:25:INFO] Sniff delimiter as ','\u001b[0m\n",
      "\u001b[34m[2020-09-27:15:29:25:INFO] Determined delimiter of CSV input is ','\u001b[0m\n",
      "\u001b[35m[2020-09-27:15:29:25:INFO] Sniff delimiter as ','\u001b[0m\n",
      "\u001b[35m[2020-09-27:15:29:25:INFO] Determined delimiter of CSV input is ','\u001b[0m\n",
      "\u001b[35m[2020-09-27:15:29:25:INFO] Sniff delimiter as ','\u001b[0m\n",
      "\u001b[35m[2020-09-27:15:29:25:INFO] Determined delimiter of CSV input is ','\u001b[0m\n",
      "\u001b[34m[2020-09-27:15:29:25:INFO] Sniff delimiter as ','\u001b[0m\n",
      "\u001b[34m[2020-09-27:15:29:25:INFO] Determined delimiter of CSV input is ','\u001b[0m\n",
      "\u001b[34m[2020-09-27:15:29:25:INFO] Sniff delimiter as ','\u001b[0m\n",
      "\u001b[34m[2020-09-27:15:29:25:INFO] Determined delimiter of CSV input is ','\u001b[0m\n",
      "\u001b[35m[2020-09-27:15:29:25:INFO] Sniff delimiter as ','\u001b[0m\n",
      "\u001b[35m[2020-09-27:15:29:25:INFO] Determined delimiter of CSV input is ','\u001b[0m\n",
      "\u001b[35m[2020-09-27:15:29:25:INFO] Sniff delimiter as ','\u001b[0m\n",
      "\u001b[35m[2020-09-27:15:29:25:INFO] Determined delimiter of CSV input is ','\u001b[0m\n",
      "\u001b[34m[2020-09-27:15:29:27:INFO] Sniff delimiter as ','\u001b[0m\n",
      "\u001b[34m[2020-09-27:15:29:27:INFO] Determined delimiter of CSV input is ','\u001b[0m\n",
      "\u001b[35m[2020-09-27:15:29:27:INFO] Sniff delimiter as ','\u001b[0m\n",
      "\u001b[35m[2020-09-27:15:29:27:INFO] Determined delimiter of CSV input is ','\u001b[0m\n",
      "\u001b[34m[2020-09-27:15:29:28:INFO] Sniff delimiter as ','\u001b[0m\n",
      "\u001b[34m[2020-09-27:15:29:28:INFO] Determined delimiter of CSV input is ','\u001b[0m\n",
      "\u001b[35m[2020-09-27:15:29:28:INFO] Sniff delimiter as ','\u001b[0m\n",
      "\u001b[35m[2020-09-27:15:29:28:INFO] Determined delimiter of CSV input is ','\u001b[0m\n",
      "\u001b[34m[2020-09-27:15:29:30:INFO] Sniff delimiter as ','\u001b[0m\n",
      "\u001b[34m[2020-09-27:15:29:30:INFO] Determined delimiter of CSV input is ','\u001b[0m\n",
      "\u001b[34m[2020-09-27:15:29:30:INFO] Sniff delimiter as ','\u001b[0m\n",
      "\u001b[35m[2020-09-27:15:29:30:INFO] Sniff delimiter as ','\u001b[0m\n",
      "\u001b[35m[2020-09-27:15:29:30:INFO] Determined delimiter of CSV input is ','\u001b[0m\n",
      "\u001b[35m[2020-09-27:15:29:30:INFO] Sniff delimiter as ','\u001b[0m\n",
      "\u001b[34m[2020-09-27:15:29:30:INFO] Determined delimiter of CSV input is ','\u001b[0m\n",
      "\u001b[34m[2020-09-27:15:29:30:INFO] Sniff delimiter as ','\u001b[0m\n",
      "\u001b[34m[2020-09-27:15:29:30:INFO] Determined delimiter of CSV input is ','\u001b[0m\n",
      "\u001b[35m[2020-09-27:15:29:30:INFO] Determined delimiter of CSV input is ','\u001b[0m\n",
      "\u001b[35m[2020-09-27:15:29:30:INFO] Sniff delimiter as ','\u001b[0m\n",
      "\u001b[35m[2020-09-27:15:29:30:INFO] Determined delimiter of CSV input is ','\u001b[0m\n",
      "\u001b[34m[2020-09-27:15:29:30:INFO] Sniff delimiter as ','\u001b[0m\n",
      "\u001b[34m[2020-09-27:15:29:30:INFO] Determined delimiter of CSV input is ','\u001b[0m\n",
      "\u001b[35m[2020-09-27:15:29:30:INFO] Sniff delimiter as ','\u001b[0m\n",
      "\u001b[35m[2020-09-27:15:29:30:INFO] Determined delimiter of CSV input is ','\u001b[0m\n",
      "\u001b[34m[2020-09-27:15:29:32:INFO] Sniff delimiter as ','\u001b[0m\n",
      "\u001b[34m[2020-09-27:15:29:32:INFO] Determined delimiter of CSV input is ','\u001b[0m\n",
      "\u001b[34m[2020-09-27:15:29:32:INFO] Sniff delimiter as ','\u001b[0m\n",
      "\u001b[34m[2020-09-27:15:29:32:INFO] Determined delimiter of CSV input is ','\u001b[0m\n",
      "\u001b[34m[2020-09-27:15:29:32:INFO] Sniff delimiter as ','\u001b[0m\n",
      "\u001b[34m[2020-09-27:15:29:32:INFO] Determined delimiter of CSV input is ','\u001b[0m\n",
      "\u001b[34m[2020-09-27:15:29:32:INFO] Sniff delimiter as ','\u001b[0m\n",
      "\u001b[34m[2020-09-27:15:29:32:INFO] Determined delimiter of CSV input is ','\u001b[0m\n",
      "\u001b[35m[2020-09-27:15:29:32:INFO] Sniff delimiter as ','\u001b[0m\n",
      "\u001b[35m[2020-09-27:15:29:32:INFO] Determined delimiter of CSV input is ','\u001b[0m\n",
      "\u001b[35m[2020-09-27:15:29:32:INFO] Sniff delimiter as ','\u001b[0m\n",
      "\u001b[35m[2020-09-27:15:29:32:INFO] Determined delimiter of CSV input is ','\u001b[0m\n",
      "\u001b[35m[2020-09-27:15:29:32:INFO] Sniff delimiter as ','\u001b[0m\n",
      "\u001b[35m[2020-09-27:15:29:32:INFO] Determined delimiter of CSV input is ','\u001b[0m\n",
      "\u001b[35m[2020-09-27:15:29:32:INFO] Sniff delimiter as ','\u001b[0m\n",
      "\u001b[35m[2020-09-27:15:29:32:INFO] Determined delimiter of CSV input is ','\u001b[0m\n",
      "\u001b[34m[2020-09-27:15:29:34:INFO] Sniff delimiter as ','\u001b[0m\n",
      "\u001b[34m[2020-09-27:15:29:34:INFO] Determined delimiter of CSV input is ','\u001b[0m\n",
      "\u001b[34m[2020-09-27:15:29:34:INFO] Sniff delimiter as ','\u001b[0m\n",
      "\u001b[34m[2020-09-27:15:29:34:INFO] Determined delimiter of CSV input is ','\u001b[0m\n",
      "\u001b[34m[2020-09-27:15:29:35:INFO] Sniff delimiter as ','\u001b[0m\n",
      "\u001b[34m[2020-09-27:15:29:35:INFO] Determined delimiter of CSV input is ','\u001b[0m\n",
      "\u001b[34m[2020-09-27:15:29:35:INFO] Sniff delimiter as ','\u001b[0m\n",
      "\u001b[34m[2020-09-27:15:29:35:INFO] Determined delimiter of CSV input is ','\u001b[0m\n",
      "\u001b[35m[2020-09-27:15:29:34:INFO] Sniff delimiter as ','\u001b[0m\n",
      "\u001b[35m[2020-09-27:15:29:34:INFO] Determined delimiter of CSV input is ','\u001b[0m\n",
      "\u001b[35m[2020-09-27:15:29:34:INFO] Sniff delimiter as ','\u001b[0m\n",
      "\u001b[35m[2020-09-27:15:29:34:INFO] Determined delimiter of CSV input is ','\u001b[0m\n",
      "\u001b[35m[2020-09-27:15:29:35:INFO] Sniff delimiter as ','\u001b[0m\n",
      "\u001b[35m[2020-09-27:15:29:35:INFO] Determined delimiter of CSV input is ','\u001b[0m\n",
      "\u001b[35m[2020-09-27:15:29:35:INFO] Sniff delimiter as ','\u001b[0m\n",
      "\u001b[35m[2020-09-27:15:29:35:INFO] Determined delimiter of CSV input is ','\u001b[0m\n",
      "\u001b[34m[2020-09-27:15:29:37:INFO] Sniff delimiter as ','\u001b[0m\n",
      "\u001b[34m[2020-09-27:15:29:37:INFO] Determined delimiter of CSV input is ','\u001b[0m\n",
      "\u001b[35m[2020-09-27:15:29:37:INFO] Sniff delimiter as ','\u001b[0m\n",
      "\u001b[35m[2020-09-27:15:29:37:INFO] Determined delimiter of CSV input is ','\u001b[0m\n"
     ]
    },
    {
     "name": "stdout",
     "output_type": "stream",
     "text": [
      "\n",
      "\u001b[34m[2020-09-27:15:29:37:INFO] Sniff delimiter as ','\u001b[0m\n",
      "\u001b[34m[2020-09-27:15:29:37:INFO] Determined delimiter of CSV input is ','\u001b[0m\n",
      "\u001b[34m[2020-09-27:15:29:37:INFO] Sniff delimiter as ','\u001b[0m\n",
      "\u001b[34m[2020-09-27:15:29:37:INFO] Determined delimiter of CSV input is ','\u001b[0m\n",
      "\u001b[35m[2020-09-27:15:29:37:INFO] Sniff delimiter as ','\u001b[0m\n",
      "\u001b[35m[2020-09-27:15:29:37:INFO] Determined delimiter of CSV input is ','\u001b[0m\n",
      "\u001b[35m[2020-09-27:15:29:37:INFO] Sniff delimiter as ','\u001b[0m\n",
      "\u001b[35m[2020-09-27:15:29:37:INFO] Determined delimiter of CSV input is ','\u001b[0m\n",
      "\u001b[34m[2020-09-27:15:29:39:INFO] Sniff delimiter as ','\u001b[0m\n",
      "\u001b[35m[2020-09-27:15:29:39:INFO] Sniff delimiter as ','\u001b[0m\n",
      "\u001b[34m[2020-09-27:15:29:39:INFO] Determined delimiter of CSV input is ','\u001b[0m\n",
      "\u001b[35m[2020-09-27:15:29:39:INFO] Determined delimiter of CSV input is ','\u001b[0m\n"
     ]
    }
   ],
   "source": [
    "xgb_transformer.wait()"
   ]
  },
  {
   "cell_type": "markdown",
   "metadata": {},
   "source": [
    "Now the transform job has executed and the result, the estimated sentiment of each review, has been saved on S3. Since we would rather work on this file locally we can perform a bit of notebook magic to copy the file to the `data_dir`."
   ]
  },
  {
   "cell_type": "code",
   "execution_count": 28,
   "metadata": {},
   "outputs": [
    {
     "name": "stdout",
     "output_type": "stream",
     "text": [
      "Completed 256.0 KiB/370.5 KiB (3.2 MiB/s) with 1 file(s) remaining\r",
      "Completed 370.5 KiB/370.5 KiB (4.4 MiB/s) with 1 file(s) remaining\r",
      "download: s3://sagemaker-us-east-2-693733391946/xgboost-2020-09-27-15-24-51-305/test.csv.out to ../data/sentiment_update/test.csv.out\r\n"
     ]
    }
   ],
   "source": [
    "!aws s3 cp --recursive $xgb_transformer.output_path $data_dir"
   ]
  },
  {
   "cell_type": "markdown",
   "metadata": {},
   "source": [
    "The last step is now to read in the output from our model, convert the output to something a little more usable, in this case we want the sentiment to be either `1` (positive) or `0` (negative), and then compare to the ground truth labels."
   ]
  },
  {
   "cell_type": "code",
   "execution_count": 29,
   "metadata": {},
   "outputs": [],
   "source": [
    "predictions = pd.read_csv(os.path.join(data_dir, 'test.csv.out'), header=None)\n",
    "predictions = [round(num) for num in predictions.squeeze().values]"
   ]
  },
  {
   "cell_type": "code",
   "execution_count": 30,
   "metadata": {},
   "outputs": [
    {
     "data": {
      "text/plain": [
       "0.86428"
      ]
     },
     "execution_count": 30,
     "metadata": {},
     "output_type": "execute_result"
    }
   ],
   "source": [
    "from sklearn.metrics import accuracy_score\n",
    "accuracy_score(test_y, predictions)"
   ]
  },
  {
   "cell_type": "markdown",
   "metadata": {},
   "source": [
    "## Step 5: Looking at New Data\n",
    "\n",
    "So now we have an XGBoost sentiment analysis model that we believe is working pretty well. As a result, we deployed it and we are using it in some sort of app.\n",
    "\n",
    "However, as we allow users to use our app we periodically record submitted movie reviews so that we can perform some quality control on our deployed model. Once we've accumulated enough reviews we go through them by hand and evaluate whether they are positive or negative (there are many ways you might do this in practice aside from by hand). The reason for doing this is so that we can check to see how well our model is doing."
   ]
  },
  {
   "cell_type": "code",
   "execution_count": 81,
   "metadata": {},
   "outputs": [],
   "source": [
    "import new_data\n",
    "\n",
    "new_X, new_Y = new_data.get_new_data()"
   ]
  },
  {
   "cell_type": "markdown",
   "metadata": {},
   "source": [
    "**NOTE:** Part of the fun in this notebook is trying to figure out what exactly is happening with the new data, so try not to cheat by looking in the `new_data` module. Also, the `new_data` module assumes that the cache created earlier in Step 3 is still stored in `../cache/sentiment_analysis`."
   ]
  },
  {
   "cell_type": "markdown",
   "metadata": {},
   "source": [
    "### (TODO) Testing the current model\n",
    "\n",
    "Now that we've loaded the new data, let's check to see how our current XGBoost model performs on it.\n",
    "\n",
    "First, note that the data that has been loaded has already been pre-processed so that each entry in `new_X` is a list of words that have been processed using `nltk`. However, we have not yet constructed the bag of words encoding, which we will do now.\n",
    "\n",
    "First, we use the vocabulary that we constructed earlier using the original training data to construct a `CountVectorizer` which we will use to transform our new data into its bag of words encoding.\n",
    "\n",
    "**TODO:** Create the CountVectorizer object using the vocabulary created earlier and use it to transform the new data."
   ]
  },
  {
   "cell_type": "code",
   "execution_count": 32,
   "metadata": {},
   "outputs": [],
   "source": [
    "# TODO: Create the CountVectorizer using the previously constructed vocabulary\n",
    "vectorizer = CountVectorizer(vocabulary=vocabulary,\n",
    "                preprocessor=lambda x: x, tokenizer=lambda x: x)\n",
    "\n",
    "# TODO: Transform our new data set and store the transformed data in the variable new_XV\n",
    "new_XV = vectorizer.fit_transform(new_X).toarray()"
   ]
  },
  {
   "cell_type": "markdown",
   "metadata": {},
   "source": [
    "As a quick sanity check, we make sure that the length of each of our bag of words encoded reviews is correct. In particular, it must be the same size as the vocabulary which in our case is `5000`."
   ]
  },
  {
   "cell_type": "code",
   "execution_count": 33,
   "metadata": {},
   "outputs": [
    {
     "data": {
      "text/plain": [
       "5000"
      ]
     },
     "execution_count": 33,
     "metadata": {},
     "output_type": "execute_result"
    }
   ],
   "source": [
    "len(new_XV[100])"
   ]
  },
  {
   "cell_type": "markdown",
   "metadata": {},
   "source": [
    "Now that we've performed the data processing that is required by our model we can save it locally and then upload it to S3 so that we can construct a batch transform job in order to see how well our model is working.\n",
    "\n",
    "First, we save the data locally.\n",
    "\n",
    "**TODO:** Save the new data (after it has been transformed using the original vocabulary) to the local notebook instance."
   ]
  },
  {
   "cell_type": "code",
   "execution_count": 34,
   "metadata": {},
   "outputs": [],
   "source": [
    "# TODO: Save the data contained in new_XV locally in the data_dir with the file name new_data.csv\n",
    "\n",
    "pd.DataFrame(new_XV).to_csv(os.path.join(data_dir,'new_data.csv'), header=False, index=False)"
   ]
  },
  {
   "cell_type": "markdown",
   "metadata": {},
   "source": [
    "Next, we upload the data to S3.\n",
    "\n",
    "**TODO:** Upload the csv file created above to S3."
   ]
  },
  {
   "cell_type": "code",
   "execution_count": 35,
   "metadata": {},
   "outputs": [],
   "source": [
    "# TODO: Upload the new_data.csv file contained in the data_dir folder to S3 and save the resulting\n",
    "#       URI as new_data_location\n",
    "\n",
    "new_data_location = session.upload_data(os.path.join(data_dir, 'new_data.csv'), key_prefix=prefix)\n"
   ]
  },
  {
   "cell_type": "markdown",
   "metadata": {},
   "source": [
    "Then, once the new data has been uploaded to S3, we create and run the batch transform job to get our model's predictions about the sentiment of the new movie reviews.\n",
    "\n",
    "**TODO:** Using the `xgb_transformer` object that was created earlier (at the end of Step 4 to test the XGBoost model), transform the data located at `new_data_location`."
   ]
  },
  {
   "cell_type": "code",
   "execution_count": 36,
   "metadata": {},
   "outputs": [],
   "source": [
    "# TODO: Using xgb_transformer, transform the new_data_location data. You may wish to **wait** until\n",
    "#       the batch transform job has finished.\n",
    "\n",
    "xgb_transformer.transform(new_data_location, content_type='text/csv', split_type='Line')"
   ]
  },
  {
   "cell_type": "code",
   "execution_count": 37,
   "metadata": {},
   "outputs": [
    {
     "name": "stdout",
     "output_type": "stream",
     "text": [
      "............................\u001b[32m2020-09-27T15:35:01.965:[sagemaker logs]: MaxConcurrentTransforms=4, MaxPayloadInMB=6, BatchStrategy=MULTI_RECORD\u001b[0m\n",
      "\u001b[34mArguments: serve\u001b[0m\n",
      "\u001b[34m[2020-09-27 15:35:01 +0000] [1] [INFO] Starting gunicorn 19.7.1\u001b[0m\n",
      "\u001b[34m[2020-09-27 15:35:01 +0000] [1] [INFO] Listening at: http://0.0.0.0:8080 (1)\u001b[0m\n",
      "\u001b[34m[2020-09-27 15:35:01 +0000] [1] [INFO] Using worker: gevent\u001b[0m\n",
      "\u001b[34m[2020-09-27 15:35:01 +0000] [36] [INFO] Booting worker with pid: 36\u001b[0m\n",
      "\u001b[34m[2020-09-27 15:35:01 +0000] [37] [INFO] Booting worker with pid: 37\u001b[0m\n",
      "\u001b[34m[2020-09-27:15:35:01:INFO] Model loaded successfully for worker : 36\u001b[0m\n",
      "\u001b[34m[2020-09-27 15:35:02 +0000] [38] [INFO] Booting worker with pid: 38\u001b[0m\n",
      "\u001b[35mArguments: serve\u001b[0m\n",
      "\u001b[35m[2020-09-27 15:35:01 +0000] [1] [INFO] Starting gunicorn 19.7.1\u001b[0m\n",
      "\u001b[35m[2020-09-27 15:35:01 +0000] [1] [INFO] Listening at: http://0.0.0.0:8080 (1)\u001b[0m\n",
      "\u001b[35m[2020-09-27 15:35:01 +0000] [1] [INFO] Using worker: gevent\u001b[0m\n",
      "\u001b[35m[2020-09-27 15:35:01 +0000] [36] [INFO] Booting worker with pid: 36\u001b[0m\n",
      "\u001b[35m[2020-09-27 15:35:01 +0000] [37] [INFO] Booting worker with pid: 37\u001b[0m\n",
      "\u001b[35m[2020-09-27:15:35:01:INFO] Model loaded successfully for worker : 36\u001b[0m\n",
      "\u001b[35m[2020-09-27 15:35:02 +0000] [38] [INFO] Booting worker with pid: 38\u001b[0m\n",
      "\u001b[34m[2020-09-27:15:35:02:INFO] Model loaded successfully for worker : 37\u001b[0m\n",
      "\u001b[34m[2020-09-27 15:35:02 +0000] [39] [INFO] Booting worker with pid: 39\u001b[0m\n",
      "\u001b[34m[2020-09-27:15:35:02:INFO] Model loaded successfully for worker : 38\u001b[0m\n",
      "\u001b[34m[2020-09-27:15:35:02:INFO] Model loaded successfully for worker : 39\u001b[0m\n",
      "\u001b[34m[2020-09-27:15:35:02:INFO] Sniff delimiter as ','\u001b[0m\n",
      "\u001b[34m[2020-09-27:15:35:02:INFO] Determined delimiter of CSV input is ','\u001b[0m\n",
      "\u001b[34m[2020-09-27:15:35:02:INFO] Sniff delimiter as ','\u001b[0m\n",
      "\u001b[34m[2020-09-27:15:35:02:INFO] Determined delimiter of CSV input is ','\u001b[0m\n",
      "\u001b[35m[2020-09-27:15:35:02:INFO] Model loaded successfully for worker : 37\u001b[0m\n",
      "\u001b[35m[2020-09-27 15:35:02 +0000] [39] [INFO] Booting worker with pid: 39\u001b[0m\n",
      "\u001b[35m[2020-09-27:15:35:02:INFO] Model loaded successfully for worker : 38\u001b[0m\n",
      "\u001b[35m[2020-09-27:15:35:02:INFO] Model loaded successfully for worker : 39\u001b[0m\n",
      "\u001b[35m[2020-09-27:15:35:02:INFO] Sniff delimiter as ','\u001b[0m\n",
      "\u001b[35m[2020-09-27:15:35:02:INFO] Determined delimiter of CSV input is ','\u001b[0m\n",
      "\u001b[35m[2020-09-27:15:35:02:INFO] Sniff delimiter as ','\u001b[0m\n",
      "\u001b[35m[2020-09-27:15:35:02:INFO] Determined delimiter of CSV input is ','\u001b[0m\n",
      "\u001b[34m[2020-09-27:15:35:02:INFO] Sniff delimiter as ','\u001b[0m\n",
      "\u001b[35m[2020-09-27:15:35:02:INFO] Sniff delimiter as ','\u001b[0m\n",
      "\u001b[34m[2020-09-27:15:35:02:INFO] Determined delimiter of CSV input is ','\u001b[0m\n",
      "\u001b[34m[2020-09-27:15:35:02:INFO] Sniff delimiter as ','\u001b[0m\n",
      "\u001b[34m[2020-09-27:15:35:02:INFO] Determined delimiter of CSV input is ','\u001b[0m\n",
      "\u001b[35m[2020-09-27:15:35:02:INFO] Determined delimiter of CSV input is ','\u001b[0m\n",
      "\u001b[35m[2020-09-27:15:35:02:INFO] Sniff delimiter as ','\u001b[0m\n",
      "\u001b[35m[2020-09-27:15:35:02:INFO] Determined delimiter of CSV input is ','\u001b[0m\n",
      "\u001b[34m[2020-09-27:15:35:04:INFO] Sniff delimiter as ','\u001b[0m\n",
      "\u001b[34m[2020-09-27:15:35:04:INFO] Determined delimiter of CSV input is ','\u001b[0m\n",
      "\u001b[34m[2020-09-27:15:35:05:INFO] Sniff delimiter as ','\u001b[0m\n",
      "\u001b[34m[2020-09-27:15:35:05:INFO] Determined delimiter of CSV input is ','\u001b[0m\n",
      "\u001b[35m[2020-09-27:15:35:04:INFO] Sniff delimiter as ','\u001b[0m\n",
      "\u001b[35m[2020-09-27:15:35:04:INFO] Determined delimiter of CSV input is ','\u001b[0m\n",
      "\u001b[35m[2020-09-27:15:35:05:INFO] Sniff delimiter as ','\u001b[0m\n",
      "\u001b[35m[2020-09-27:15:35:05:INFO] Determined delimiter of CSV input is ','\u001b[0m\n",
      "\u001b[34m[2020-09-27:15:35:05:INFO] Sniff delimiter as ','\u001b[0m\n",
      "\u001b[34m[2020-09-27:15:35:05:INFO] Determined delimiter of CSV input is ','\u001b[0m\n",
      "\u001b[35m[2020-09-27:15:35:05:INFO] Sniff delimiter as ','\u001b[0m\n",
      "\u001b[35m[2020-09-27:15:35:05:INFO] Determined delimiter of CSV input is ','\u001b[0m\n",
      "\u001b[34m[2020-09-27:15:35:05:INFO] Sniff delimiter as ','\u001b[0m\n",
      "\u001b[34m[2020-09-27:15:35:05:INFO] Determined delimiter of CSV input is ','\u001b[0m\n",
      "\u001b[35m[2020-09-27:15:35:05:INFO] Sniff delimiter as ','\u001b[0m\n",
      "\u001b[35m[2020-09-27:15:35:05:INFO] Determined delimiter of CSV input is ','\u001b[0m\n",
      "\u001b[34m[2020-09-27:15:35:07:INFO] Sniff delimiter as ','\u001b[0m\n",
      "\u001b[34m[2020-09-27:15:35:07:INFO] Determined delimiter of CSV input is ','\u001b[0m\n",
      "\u001b[35m[2020-09-27:15:35:07:INFO] Sniff delimiter as ','\u001b[0m\n",
      "\u001b[35m[2020-09-27:15:35:07:INFO] Determined delimiter of CSV input is ','\u001b[0m\n",
      "\u001b[34m[2020-09-27:15:35:07:INFO] Sniff delimiter as ','\u001b[0m\n",
      "\u001b[34m[2020-09-27:15:35:07:INFO] Determined delimiter of CSV input is ','\u001b[0m\n",
      "\u001b[34m[2020-09-27:15:35:07:INFO] Sniff delimiter as ','\u001b[0m\n",
      "\u001b[34m[2020-09-27:15:35:07:INFO] Determined delimiter of CSV input is ','\u001b[0m\n",
      "\u001b[34m[2020-09-27:15:35:08:INFO] Sniff delimiter as ','\u001b[0m\n",
      "\u001b[34m[2020-09-27:15:35:08:INFO] Determined delimiter of CSV input is ','\u001b[0m\n",
      "\u001b[35m[2020-09-27:15:35:07:INFO] Sniff delimiter as ','\u001b[0m\n",
      "\u001b[35m[2020-09-27:15:35:07:INFO] Determined delimiter of CSV input is ','\u001b[0m\n",
      "\u001b[35m[2020-09-27:15:35:07:INFO] Sniff delimiter as ','\u001b[0m\n",
      "\u001b[35m[2020-09-27:15:35:07:INFO] Determined delimiter of CSV input is ','\u001b[0m\n",
      "\u001b[35m[2020-09-27:15:35:08:INFO] Sniff delimiter as ','\u001b[0m\n",
      "\u001b[35m[2020-09-27:15:35:08:INFO] Determined delimiter of CSV input is ','\u001b[0m\n",
      "\u001b[34m[2020-09-27:15:35:09:INFO] Sniff delimiter as ','\u001b[0m\n",
      "\u001b[34m[2020-09-27:15:35:09:INFO] Determined delimiter of CSV input is ','\u001b[0m\n",
      "\u001b[34m[2020-09-27:15:35:10:INFO] Sniff delimiter as ','\u001b[0m\n",
      "\u001b[34m[2020-09-27:15:35:10:INFO] Determined delimiter of CSV input is ','\u001b[0m\n",
      "\u001b[34m[2020-09-27:15:35:10:INFO] Sniff delimiter as ','\u001b[0m\n",
      "\u001b[34m[2020-09-27:15:35:10:INFO] Determined delimiter of CSV input is ','\u001b[0m\n",
      "\u001b[35m[2020-09-27:15:35:09:INFO] Sniff delimiter as ','\u001b[0m\n",
      "\u001b[35m[2020-09-27:15:35:09:INFO] Determined delimiter of CSV input is ','\u001b[0m\n",
      "\u001b[35m[2020-09-27:15:35:10:INFO] Sniff delimiter as ','\u001b[0m\n",
      "\u001b[35m[2020-09-27:15:35:10:INFO] Determined delimiter of CSV input is ','\u001b[0m\n",
      "\u001b[35m[2020-09-27:15:35:10:INFO] Sniff delimiter as ','\u001b[0m\n",
      "\u001b[35m[2020-09-27:15:35:10:INFO] Determined delimiter of CSV input is ','\u001b[0m\n",
      "\u001b[34m[2020-09-27:15:35:10:INFO] Sniff delimiter as ','\u001b[0m\n",
      "\u001b[35m[2020-09-27:15:35:10:INFO] Sniff delimiter as ','\u001b[0m\n",
      "\u001b[34m[2020-09-27:15:35:10:INFO] Determined delimiter of CSV input is ','\u001b[0m\n",
      "\u001b[35m[2020-09-27:15:35:10:INFO] Determined delimiter of CSV input is ','\u001b[0m\n",
      "\u001b[34m[2020-09-27:15:35:12:INFO] Determined delimiter of CSV input is ','\u001b[0m\n",
      "\u001b[34m[2020-09-27:15:35:12:INFO] Sniff delimiter as ','\u001b[0m\n",
      "\u001b[34m[2020-09-27:15:35:12:INFO] Determined delimiter of CSV input is ','\u001b[0m\n",
      "\u001b[35m[2020-09-27:15:35:12:INFO] Determined delimiter of CSV input is ','\u001b[0m\n",
      "\u001b[35m[2020-09-27:15:35:12:INFO] Sniff delimiter as ','\u001b[0m\n",
      "\u001b[35m[2020-09-27:15:35:12:INFO] Determined delimiter of CSV input is ','\u001b[0m\n",
      "\u001b[34m[2020-09-27:15:35:12:INFO] Sniff delimiter as ','\u001b[0m\n",
      "\u001b[34m[2020-09-27:15:35:12:INFO] Determined delimiter of CSV input is ','\u001b[0m\n",
      "\u001b[34m[2020-09-27:15:35:13:INFO] Sniff delimiter as ','\u001b[0m\n",
      "\u001b[34m[2020-09-27:15:35:13:INFO] Determined delimiter of CSV input is ','\u001b[0m\n",
      "\u001b[35m[2020-09-27:15:35:12:INFO] Sniff delimiter as ','\u001b[0m\n",
      "\u001b[35m[2020-09-27:15:35:12:INFO] Determined delimiter of CSV input is ','\u001b[0m\n",
      "\u001b[35m[2020-09-27:15:35:13:INFO] Sniff delimiter as ','\u001b[0m\n",
      "\u001b[35m[2020-09-27:15:35:13:INFO] Determined delimiter of CSV input is ','\u001b[0m\n",
      "\u001b[34m[2020-09-27:15:35:14:INFO] Sniff delimiter as ','\u001b[0m\n",
      "\u001b[35m[2020-09-27:15:35:14:INFO] Sniff delimiter as ','\u001b[0m\n",
      "\u001b[34m[2020-09-27:15:35:14:INFO] Determined delimiter of CSV input is ','\u001b[0m\n",
      "\u001b[34m[2020-09-27:15:35:14:INFO] Sniff delimiter as ','\u001b[0m\n",
      "\u001b[34m[2020-09-27:15:35:14:INFO] Determined delimiter of CSV input is ','\u001b[0m\n",
      "\u001b[34m[2020-09-27:15:35:15:INFO] Sniff delimiter as ','\u001b[0m\n",
      "\u001b[34m[2020-09-27:15:35:15:INFO] Determined delimiter of CSV input is ','\u001b[0m\n",
      "\u001b[35m[2020-09-27:15:35:14:INFO] Determined delimiter of CSV input is ','\u001b[0m\n",
      "\u001b[35m[2020-09-27:15:35:14:INFO] Sniff delimiter as ','\u001b[0m\n",
      "\u001b[35m[2020-09-27:15:35:14:INFO] Determined delimiter of CSV input is ','\u001b[0m\n",
      "\u001b[35m[2020-09-27:15:35:15:INFO] Sniff delimiter as ','\u001b[0m\n",
      "\u001b[35m[2020-09-27:15:35:15:INFO] Determined delimiter of CSV input is ','\u001b[0m\n",
      "\u001b[34m[2020-09-27:15:35:15:INFO] Sniff delimiter as ','\u001b[0m\n",
      "\u001b[34m[2020-09-27:15:35:15:INFO] Determined delimiter of CSV input is ','\u001b[0m\n",
      "\u001b[35m[2020-09-27:15:35:15:INFO] Sniff delimiter as ','\u001b[0m\n",
      "\u001b[35m[2020-09-27:15:35:15:INFO] Determined delimiter of CSV input is ','\u001b[0m\n",
      "\u001b[34m[2020-09-27:15:35:17:INFO] Sniff delimiter as ','\u001b[0m\n",
      "\u001b[34m[2020-09-27:15:35:17:INFO] Determined delimiter of CSV input is ','\u001b[0m\n",
      "\u001b[34m[2020-09-27:15:35:17:INFO] Sniff delimiter as ','\u001b[0m\n",
      "\u001b[34m[2020-09-27:15:35:17:INFO] Determined delimiter of CSV input is ','\u001b[0m\n",
      "\u001b[35m[2020-09-27:15:35:17:INFO] Sniff delimiter as ','\u001b[0m\n",
      "\u001b[35m[2020-09-27:15:35:17:INFO] Determined delimiter of CSV input is ','\u001b[0m\n",
      "\u001b[35m[2020-09-27:15:35:17:INFO] Sniff delimiter as ','\u001b[0m\n",
      "\u001b[35m[2020-09-27:15:35:17:INFO] Determined delimiter of CSV input is ','\u001b[0m\n",
      "\u001b[34m[2020-09-27:15:35:17:INFO] Sniff delimiter as ','\u001b[0m\n",
      "\u001b[34m[2020-09-27:15:35:17:INFO] Determined delimiter of CSV input is ','\u001b[0m\n",
      "\u001b[34m[2020-09-27:15:35:18:INFO] Sniff delimiter as ','\u001b[0m\n",
      "\u001b[34m[2020-09-27:15:35:18:INFO] Determined delimiter of CSV input is ','\u001b[0m\n",
      "\u001b[35m[2020-09-27:15:35:17:INFO] Sniff delimiter as ','\u001b[0m\n",
      "\u001b[35m[2020-09-27:15:35:17:INFO] Determined delimiter of CSV input is ','\u001b[0m\n",
      "\u001b[35m[2020-09-27:15:35:18:INFO] Sniff delimiter as ','\u001b[0m\n",
      "\u001b[35m[2020-09-27:15:35:18:INFO] Determined delimiter of CSV input is ','\u001b[0m\n",
      "\u001b[34m[2020-09-27:15:35:19:INFO] Sniff delimiter as ','\u001b[0m\n",
      "\u001b[34m[2020-09-27:15:35:19:INFO] Determined delimiter of CSV input is ','\u001b[0m\n",
      "\u001b[34m[2020-09-27:15:35:19:INFO] Sniff delimiter as ','\u001b[0m\n",
      "\u001b[34m[2020-09-27:15:35:19:INFO] Determined delimiter of CSV input is ','\u001b[0m\n",
      "\u001b[34m[2020-09-27:15:35:20:INFO] Sniff delimiter as ','\u001b[0m\n",
      "\u001b[34m[2020-09-27:15:35:20:INFO] Determined delimiter of CSV input is ','\u001b[0m\n",
      "\u001b[34m[2020-09-27:15:35:20:INFO] Sniff delimiter as ','\u001b[0m\n",
      "\u001b[34m[2020-09-27:15:35:20:INFO] Determined delimiter of CSV input is ','\u001b[0m\n",
      "\u001b[35m[2020-09-27:15:35:19:INFO] Sniff delimiter as ','\u001b[0m\n",
      "\u001b[35m[2020-09-27:15:35:19:INFO] Determined delimiter of CSV input is ','\u001b[0m\n",
      "\u001b[35m[2020-09-27:15:35:19:INFO] Sniff delimiter as ','\u001b[0m\n",
      "\u001b[35m[2020-09-27:15:35:19:INFO] Determined delimiter of CSV input is ','\u001b[0m\n",
      "\u001b[35m[2020-09-27:15:35:20:INFO] Sniff delimiter as ','\u001b[0m\n",
      "\u001b[35m[2020-09-27:15:35:20:INFO] Determined delimiter of CSV input is ','\u001b[0m\n",
      "\u001b[35m[2020-09-27:15:35:20:INFO] Sniff delimiter as ','\u001b[0m\n",
      "\u001b[35m[2020-09-27:15:35:20:INFO] Determined delimiter of CSV input is ','\u001b[0m\n"
     ]
    },
    {
     "name": "stdout",
     "output_type": "stream",
     "text": [
      "\n",
      "\u001b[34m[2020-09-27:15:35:24:INFO] Sniff delimiter as ','\u001b[0m\n",
      "\u001b[34m[2020-09-27:15:35:24:INFO] Determined delimiter of CSV input is ','\u001b[0m\n",
      "\u001b[35m[2020-09-27:15:35:24:INFO] Sniff delimiter as ','\u001b[0m\n",
      "\u001b[35m[2020-09-27:15:35:24:INFO] Determined delimiter of CSV input is ','\u001b[0m\n",
      "\u001b[34m[2020-09-27:15:35:24:INFO] Sniff delimiter as ','\u001b[0m\n",
      "\u001b[34m[2020-09-27:15:35:24:INFO] Determined delimiter of CSV input is ','\u001b[0m\n",
      "\u001b[34m[2020-09-27:15:35:25:INFO] Sniff delimiter as ','\u001b[0m\n",
      "\u001b[34m[2020-09-27:15:35:25:INFO] Determined delimiter of CSV input is ','\u001b[0m\n",
      "\u001b[34m[2020-09-27:15:35:25:INFO] Sniff delimiter as ','\u001b[0m\n",
      "\u001b[34m[2020-09-27:15:35:25:INFO] Determined delimiter of CSV input is ','\u001b[0m\n",
      "\u001b[35m[2020-09-27:15:35:24:INFO] Sniff delimiter as ','\u001b[0m\n",
      "\u001b[35m[2020-09-27:15:35:24:INFO] Determined delimiter of CSV input is ','\u001b[0m\n",
      "\u001b[35m[2020-09-27:15:35:25:INFO] Sniff delimiter as ','\u001b[0m\n",
      "\u001b[35m[2020-09-27:15:35:25:INFO] Determined delimiter of CSV input is ','\u001b[0m\n",
      "\u001b[35m[2020-09-27:15:35:25:INFO] Sniff delimiter as ','\u001b[0m\n",
      "\u001b[35m[2020-09-27:15:35:25:INFO] Determined delimiter of CSV input is ','\u001b[0m\n"
     ]
    }
   ],
   "source": [
    "xgb_transformer.wait()"
   ]
  },
  {
   "cell_type": "markdown",
   "metadata": {},
   "source": [
    "As usual, we copy the results of the batch transform job to our local instance."
   ]
  },
  {
   "cell_type": "code",
   "execution_count": 38,
   "metadata": {},
   "outputs": [
    {
     "name": "stdout",
     "output_type": "stream",
     "text": [
      "Completed 256.0 KiB/370.7 KiB (4.2 MiB/s) with 1 file(s) remaining\r",
      "Completed 370.7 KiB/370.7 KiB (5.9 MiB/s) with 1 file(s) remaining\r",
      "download: s3://sagemaker-us-east-2-693733391946/xgboost-2020-09-27-15-30-32-805/new_data.csv.out to ../data/sentiment_update/new_data.csv.out\r\n"
     ]
    }
   ],
   "source": [
    "!aws s3 cp --recursive $xgb_transformer.output_path $data_dir"
   ]
  },
  {
   "cell_type": "markdown",
   "metadata": {},
   "source": [
    "Read in the results of the batch transform job."
   ]
  },
  {
   "cell_type": "code",
   "execution_count": 39,
   "metadata": {},
   "outputs": [],
   "source": [
    "predictions = pd.read_csv(os.path.join(data_dir, 'new_data.csv.out'), header=None)\n",
    "predictions = [round(num) for num in predictions.squeeze().values]"
   ]
  },
  {
   "cell_type": "markdown",
   "metadata": {},
   "source": [
    "And check the accuracy of our current model."
   ]
  },
  {
   "cell_type": "code",
   "execution_count": 40,
   "metadata": {},
   "outputs": [
    {
     "data": {
      "text/plain": [
       "0.7342"
      ]
     },
     "execution_count": 40,
     "metadata": {},
     "output_type": "execute_result"
    }
   ],
   "source": [
    "accuracy_score(new_Y, predictions)"
   ]
  },
  {
   "cell_type": "markdown",
   "metadata": {},
   "source": [
    "So it would appear that *something* has changed since our model is no longer (as) effective at determining the sentiment of a user provided review.\n",
    "\n",
    "In a real life scenario you would check a number of different things to see what exactly is going on. In our case, we are only going to check one and that is whether some aspect of the underlying distribution has changed. In other words, we want to see if the words that appear in our new collection of reviews matches the words that appear in the original training set. Of course, we want to narrow our scope a little bit so we will only look at the `5000` most frequently appearing words in each data set, or in other words, the vocabulary generated by each data set.\n",
    "\n",
    "Before doing that, however, let's take a look at some of the incorrectly classified reviews in the new data set.\n",
    "\n",
    "To start, we will deploy the original XGBoost model. We will then use the deployed model to infer the sentiment of some of the new reviews. This will also serve as a nice excuse to deploy our model so that we can mimic a real life scenario where we have a model that has been deployed and is being used in production.\n",
    "\n",
    "**TODO:** Deploy the XGBoost model."
   ]
  },
  {
   "cell_type": "code",
   "execution_count": 41,
   "metadata": {},
   "outputs": [
    {
     "name": "stderr",
     "output_type": "stream",
     "text": [
      "Parameter image will be renamed to image_uri in SageMaker Python SDK v2.\n",
      "Using already existing model: xgboost-2020-09-27-15-17-36-530\n"
     ]
    },
    {
     "name": "stdout",
     "output_type": "stream",
     "text": [
      "-------------!"
     ]
    }
   ],
   "source": [
    "# TODO: Deploy the model that was created earlier. Recall that the object name is 'xgb'.\n",
    "xgb_predictor = xgb.deploy(initial_instance_count = 1, instance_type = 'ml.m4.xlarge')"
   ]
  },
  {
   "cell_type": "markdown",
   "metadata": {},
   "source": [
    "### Diagnose the problem\n",
    "\n",
    "Now that we have our deployed \"production\" model, we can send some of our new data to it and filter out some of the incorrectly classified reviews."
   ]
  },
  {
   "cell_type": "code",
   "execution_count": 42,
   "metadata": {},
   "outputs": [],
   "source": [
    "from sagemaker.predictor import csv_serializer\n",
    "\n",
    "# We need to tell the endpoint what format the data we are sending is in so that SageMaker can perform the serialization.\n",
    "xgb_predictor.content_type = 'text/csv'\n",
    "xgb_predictor.serializer = csv_serializer"
   ]
  },
  {
   "cell_type": "markdown",
   "metadata": {},
   "source": [
    "It will be useful to look at a few different examples of incorrectly classified reviews so we will start by creating a *generator* which we will use to iterate through some of the new reviews and find ones that are incorrect.\n",
    "\n",
    "**NOTE:** Understanding what Python generators are isn't really required for this module. The reason we use them here is so that we don't have to iterate through all of the new reviews, searching for incorrectly classified samples."
   ]
  },
  {
   "cell_type": "code",
   "execution_count": 48,
   "metadata": {},
   "outputs": [],
   "source": [
    "def get_sample(in_X, in_XV, in_Y):\n",
    "    for idx, smp in enumerate(in_X):\n",
    "        res = round(float(xgb_predictor.predict(in_XV[idx])))\n",
    "        if res != in_Y[idx]:\n",
    "            yield smp, in_Y[idx]"
   ]
  },
  {
   "cell_type": "code",
   "execution_count": 49,
   "metadata": {},
   "outputs": [],
   "source": [
    "gn = get_sample(new_X, new_XV, new_Y)"
   ]
  },
  {
   "cell_type": "markdown",
   "metadata": {},
   "source": [
    "At this point, `gn` is the *generator* which generates samples from the new data set which are not classified correctly. To get the *next* sample we simply call the `next` method on our generator."
   ]
  },
  {
   "cell_type": "code",
   "execution_count": 50,
   "metadata": {},
   "outputs": [
    {
     "name": "stdout",
     "output_type": "stream",
     "text": [
      "(['dick', 'traci', 'one', 'famili', 'favorit', 'actor', 'great', 'art', 'direct', 'except', 'music', 'magic', 'suppos', 'kill', 'mockingbird', 'fun', 'experi', 'stephen', 'sondhemim', 'song', 'stellar', 'back', 'busi', 'energet', 'sooner', 'later', 'right', 'lose', 'haunt', 'even', 'tune', 'like', 'live', 'alon', 'like', 'add', 'storygot', 'love', 'giddili', 'top', 'perform', 'al', 'pacino', 'dustin', 'hoffman', 'glenn', 'headli', 'charli', 'korsmo', 'mandi', 'patinkin', 'jame', 'caan', 'dick', 'van', 'dyke', 'support', 'villain', 'list', 'far', 'long', 'ye', 'even', 'madonna', 'warren', 'beatti', 'awesom', 'written', 'smile', 'minut', 'mani', 'time', 'look', 'said', 'wait', 'minut', 'thought', 'gone', 'howev', 'one', 'tell', 'thing', 'film', 'everyon', 'involv', 'seem', 'good', 'time', 'add', 'enjoy', 'viewer', 'alreadi', 'give', 'dick', 'traci', 'chanc', 'accept', 'sunday', 'comic', 'strip', 'brought', 'life', 'wonder', 'way', 'banana'], 0)\n"
     ]
    }
   ],
   "source": [
    "print(next(gn))"
   ]
  },
  {
   "cell_type": "markdown",
   "metadata": {},
   "source": [
    "After looking at a few examples, maybe we decide to look at the most frequently appearing `5000` words in each data set, the original training data set and the new data set. The reason for looking at this might be that we expect the frequency of use of different words to have changed, maybe there is some new slang that has been introduced or some other artifact of popular culture that has changed the way that people write movie reviews.\n",
    "\n",
    "To do this, we start by fitting a `CountVectorizer` to the new data."
   ]
  },
  {
   "cell_type": "code",
   "execution_count": 82,
   "metadata": {},
   "outputs": [
    {
     "data": {
      "text/plain": [
       "CountVectorizer(max_features=5000,\n",
       "                preprocessor=<function <lambda> at 0x7f2ed99ea950>,\n",
       "                tokenizer=<function <lambda> at 0x7f2ed99ea0d0>)"
      ]
     },
     "execution_count": 82,
     "metadata": {},
     "output_type": "execute_result"
    }
   ],
   "source": [
    "new_vectorizer = CountVectorizer(max_features=5000,\n",
    "                preprocessor=lambda x: x, tokenizer=lambda x: x)\n",
    "new_vectorizer.fit(new_X)"
   ]
  },
  {
   "cell_type": "markdown",
   "metadata": {},
   "source": [
    "Now that we have this new `CountVectorizor` object, we can check to see if the corresponding vocabulary has changed between the two data sets."
   ]
  },
  {
   "cell_type": "code",
   "execution_count": 83,
   "metadata": {},
   "outputs": [],
   "source": [
    "original_vocabulary = set(vocabulary.keys())\n",
    "new_vocabulary = set(new_vectorizer.vocabulary_.keys())"
   ]
  },
  {
   "cell_type": "markdown",
   "metadata": {},
   "source": [
    "We can look at the words that were in the original vocabulary but not in the new vocabulary."
   ]
  },
  {
   "cell_type": "code",
   "execution_count": 53,
   "metadata": {},
   "outputs": [
    {
     "name": "stdout",
     "output_type": "stream",
     "text": [
      "{'scariest', 'orchestr', 'optimist', 'asset', 'assort', 'dubiou', 'casper'}\n"
     ]
    }
   ],
   "source": [
    "print(original_vocabulary - new_vocabulary)"
   ]
  },
  {
   "cell_type": "markdown",
   "metadata": {},
   "source": [
    "And similarly, we can look at the words that are in the new vocabulary but which were not in the original vocabulary."
   ]
  },
  {
   "cell_type": "code",
   "execution_count": 54,
   "metadata": {},
   "outputs": [
    {
     "name": "stdout",
     "output_type": "stream",
     "text": [
      "{'ingrid', 'banana', 'substanti', 'rapidli', 'omin', 'macabr', 'victorian'}\n"
     ]
    }
   ],
   "source": [
    "print(new_vocabulary - original_vocabulary)"
   ]
  },
  {
   "cell_type": "markdown",
   "metadata": {},
   "source": [
    "These words themselves don't tell us much, however if one of these words occured with a large frequency, that might tell us something. In particular, we wouldn't really expect any of the words above to appear with too much frequency.\n",
    "\n",
    "**Question** What exactly is going on here. Not only what (if any) words appear with a larger than expected frequency but also, what does this mean? What has changed about the world that our original model no longer takes into account?\n",
    "\n",
    "**NOTE:** This is meant to be a very open ended question. To investigate you may need more cells than the one provided below. Also, there isn't really a *correct* answer, this is meant to be an opportunity to explore the data."
   ]
  },
  {
   "cell_type": "code",
   "execution_count": null,
   "metadata": {},
   "outputs": [],
   "source": []
  },
  {
   "cell_type": "markdown",
   "metadata": {},
   "source": [
    "### (TODO) Build a new model\n",
    "\n",
    "Supposing that we believe something has changed about the underlying distribution of the words that our reviews are made up of, we need to create a new model. This way our new model will take into account whatever it is that has changed.\n",
    "\n",
    "To begin with, we will use the new vocabulary to create a bag of words encoding of the new data. We will then use this data to train a new XGBoost model.\n",
    "\n",
    "**NOTE:** Because we believe that the underlying distribution of words has changed it should follow that the original vocabulary that we used to construct a bag of words encoding of the reviews is no longer valid. This means that we need to be careful with our data. If we send an bag of words encoded review using the *original* vocabulary we should not expect any sort of meaningful results.\n",
    "\n",
    "In particular, this means that if we had deployed our XGBoost model like we did in the Web App notebook then we would need to implement this vocabulary change in the Lambda function as well."
   ]
  },
  {
   "cell_type": "code",
   "execution_count": 84,
   "metadata": {},
   "outputs": [],
   "source": [
    "new_XV = new_vectorizer.transform(new_X).toarray()"
   ]
  },
  {
   "cell_type": "markdown",
   "metadata": {},
   "source": [
    "And a quick check to make sure that the newly encoded reviews have the correct length, which should be the size of the new vocabulary which we created."
   ]
  },
  {
   "cell_type": "code",
   "execution_count": 45,
   "metadata": {},
   "outputs": [
    {
     "data": {
      "text/plain": [
       "5000"
      ]
     },
     "execution_count": 45,
     "metadata": {},
     "output_type": "execute_result"
    }
   ],
   "source": [
    "len(new_XV[0])"
   ]
  },
  {
   "cell_type": "markdown",
   "metadata": {},
   "source": [
    "Now that we have our newly encoded, newly collected data, we can split it up into a training and validation set so that we can train a new XGBoost model. As usual, we first split up the data, then save it locally and then upload it to S3."
   ]
  },
  {
   "cell_type": "code",
   "execution_count": 46,
   "metadata": {},
   "outputs": [],
   "source": [
    "import pandas as pd\n",
    "\n",
    "# Earlier we shuffled the training dataset so to make things simple we can just assign\n",
    "# the first 10 000 reviews to the validation set and use the remaining reviews for training.\n",
    "new_val_X = pd.DataFrame(new_XV[:10000])\n",
    "new_train_X = pd.DataFrame(new_XV[10000:])\n",
    "\n",
    "new_val_y = pd.DataFrame(new_Y[:10000])\n",
    "new_train_y = pd.DataFrame(new_Y[10000:])"
   ]
  },
  {
   "cell_type": "markdown",
   "metadata": {},
   "source": [
    "In order to save some memory we will effectively delete the `new_X` variable. Remember that this contained a list of reviews and each review was a list of words. Note that once this cell has been executed you will need to read the new data in again if you want to work with it."
   ]
  },
  {
   "cell_type": "code",
   "execution_count": 47,
   "metadata": {},
   "outputs": [],
   "source": [
    "new_X = None"
   ]
  },
  {
   "cell_type": "markdown",
   "metadata": {},
   "source": [
    "Next we save the new training and validation sets locally. Note that we overwrite the training and validation sets used earlier. This is mostly because the amount of space that we have available on our notebook instance is limited. Of course, you can increase this if you'd like but to do so may increase the cost of running the notebook instance."
   ]
  },
  {
   "cell_type": "code",
   "execution_count": 48,
   "metadata": {},
   "outputs": [],
   "source": [
    "pd.DataFrame(new_XV).to_csv(os.path.join(data_dir, 'new_data.csv'), header=False, index=False)\n",
    "\n",
    "pd.concat([new_val_y, new_val_X], axis=1).to_csv(os.path.join(data_dir, 'new_validation.csv'), header=False, index=False)\n",
    "pd.concat([new_train_y, new_train_X], axis=1).to_csv(os.path.join(data_dir, 'new_train.csv'), header=False, index=False)"
   ]
  },
  {
   "cell_type": "markdown",
   "metadata": {},
   "source": [
    "Now that we've saved our data to the local instance, we can safely delete the variables to save on memory."
   ]
  },
  {
   "cell_type": "code",
   "execution_count": 49,
   "metadata": {},
   "outputs": [],
   "source": [
    "new_val_y = new_val_X = new_train_y = new_train_X = new_XV = None"
   ]
  },
  {
   "cell_type": "markdown",
   "metadata": {},
   "source": [
    "Lastly, we make sure to upload the new training and validation sets to S3.\n",
    "\n",
    "**TODO:** Upload the new data as well as the new training and validation data sets to S3."
   ]
  },
  {
   "cell_type": "code",
   "execution_count": 51,
   "metadata": {},
   "outputs": [],
   "source": [
    "# TODO: Upload the new data and the new validation.csv and train.csv files in the data_dir directory to S3.\n",
    "new_data_location =  session.upload_data(os.path.join(data_dir, 'new_data.csv'),key_prefix=prefix)\n",
    "new_val_location = session.upload_data(os.path.join(data_dir, 'new_validation.csv'), key_prefix=prefix)\n",
    "new_train_location = session.upload_data(os.path.join(data_dir,'new_train.csv'), key_prefix=prefix)"
   ]
  },
  {
   "cell_type": "markdown",
   "metadata": {},
   "source": [
    "Once our new training data has been uploaded to S3, we can create a new XGBoost model that will take into account the changes that have occured in our data set.\n",
    "\n",
    "**TODO:** Create a new XGBoost estimator object."
   ]
  },
  {
   "cell_type": "code",
   "execution_count": 59,
   "metadata": {},
   "outputs": [
    {
     "name": "stderr",
     "output_type": "stream",
     "text": [
      "Parameter image_name will be renamed to image_uri in SageMaker Python SDK v2.\n"
     ]
    }
   ],
   "source": [
    "# TODO: First, create a SageMaker estimator object for our model.\n",
    "new_xgb = sagemaker.estimator.Estimator(container,\n",
    "                                        role,\n",
    "                                        train_instance_count=1,\n",
    "                                        train_instance_type='ml.m4.xlarge',\n",
    "                                        output_path='s3://{}/{}/output'.format(session.default_bucket(),prefix),\n",
    "                                        sagemaker_session=session)\n",
    "\n",
    "# TODO: Then set the algorithm specific parameters. You may wish to use the same parameters that were\n",
    "#       used when training the original model.\n",
    "\n",
    "new_xgb.set_hyperparameters(max_depth=5,\n",
    "                            eta=0.2,\n",
    "                            gamma=4,\n",
    "                            min_child_weight=6,\n",
    "                            subsample=0.8,\n",
    "                            silent=0,\n",
    "                            objective='binary:logistic',\n",
    "                            early_stopping_rounds=10,\n",
    "                            num_round=500)"
   ]
  },
  {
   "cell_type": "markdown",
   "metadata": {},
   "source": [
    "Once the model has been created, we can train it with our new data.\n",
    "\n",
    "**TODO:** Train the new XGBoost model."
   ]
  },
  {
   "cell_type": "code",
   "execution_count": 62,
   "metadata": {},
   "outputs": [
    {
     "name": "stderr",
     "output_type": "stream",
     "text": [
      "'s3_input' class will be renamed to 'TrainingInput' in SageMaker Python SDK v2.\n",
      "'s3_input' class will be renamed to 'TrainingInput' in SageMaker Python SDK v2.\n"
     ]
    }
   ],
   "source": [
    "# TODO: First, make sure that you create s3 input objects so that SageMaker knows where to\n",
    "#       find the training and validation data.\n",
    "s3_new_input_train = sagemaker.s3_input(s3_data=new_train_location, content_type='text/csv')\n",
    "s3_new_input_validation = sagemaker.s3_input(s3_data=new_val_location, content_type='text/csv')"
   ]
  },
  {
   "cell_type": "code",
   "execution_count": 64,
   "metadata": {},
   "outputs": [
    {
     "name": "stdout",
     "output_type": "stream",
     "text": [
      "2020-09-27 16:22:28 Starting - Starting the training job...\n",
      "2020-09-27 16:22:30 Starting - Launching requested ML instances......\n",
      "2020-09-27 16:23:36 Starting - Preparing the instances for training...\n",
      "2020-09-27 16:24:24 Downloading - Downloading input data......\n",
      "2020-09-27 16:25:20 Training - Training image download completed. Training in progress.\u001b[34mArguments: train\u001b[0m\n",
      "\u001b[34m[2020-09-27:16:25:20:INFO] Running standalone xgboost training.\u001b[0m\n",
      "\u001b[34m[2020-09-27:16:25:20:INFO] File size need to be processed in the node: 238.47mb. Available memory size in the node: 8474.54mb\u001b[0m\n",
      "\u001b[34m[2020-09-27:16:25:21:INFO] Determined delimiter of CSV input is ','\u001b[0m\n",
      "\u001b[34m[16:25:20] S3DistributionType set as FullyReplicated\u001b[0m\n",
      "\u001b[34m[16:25:22] 15000x5000 matrix with 75000000 entries loaded from /opt/ml/input/data/train?format=csv&label_column=0&delimiter=,\u001b[0m\n",
      "\u001b[34m[2020-09-27:16:25:22:INFO] Determined delimiter of CSV input is ','\u001b[0m\n",
      "\u001b[34m[16:25:22] S3DistributionType set as FullyReplicated\u001b[0m\n",
      "\u001b[34m[16:25:24] 10000x5000 matrix with 50000000 entries loaded from /opt/ml/input/data/validation?format=csv&label_column=0&delimiter=,\u001b[0m\n",
      "\u001b[34m[16:25:27] src/tree/updater_prune.cc:74: tree pruning end, 1 roots, 48 extra nodes, 4 pruned nodes, max_depth=5\u001b[0m\n",
      "\u001b[34m[0]#011train-error:0.381067#011validation-error:0.3948\u001b[0m\n",
      "\u001b[34mMultiple eval metrics have been passed: 'validation-error' will be used for early stopping.\n",
      "\u001b[0m\n",
      "\u001b[34mWill train until validation-error hasn't improved in 10 rounds.\u001b[0m\n",
      "\u001b[34m[16:25:28] src/tree/updater_prune.cc:74: tree pruning end, 1 roots, 48 extra nodes, 0 pruned nodes, max_depth=5\u001b[0m\n",
      "\u001b[34m[1]#011train-error:0.3656#011validation-error:0.3808\u001b[0m\n",
      "\u001b[34m[16:25:30] src/tree/updater_prune.cc:74: tree pruning end, 1 roots, 36 extra nodes, 4 pruned nodes, max_depth=5\u001b[0m\n",
      "\u001b[34m[2]#011train-error:0.364067#011validation-error:0.3789\u001b[0m\n",
      "\u001b[34m[16:25:31] src/tree/updater_prune.cc:74: tree pruning end, 1 roots, 42 extra nodes, 4 pruned nodes, max_depth=5\u001b[0m\n",
      "\u001b[34m[3]#011train-error:0.360267#011validation-error:0.3786\u001b[0m\n",
      "\u001b[34m[16:25:33] src/tree/updater_prune.cc:74: tree pruning end, 1 roots, 46 extra nodes, 8 pruned nodes, max_depth=5\u001b[0m\n",
      "\u001b[34m[4]#011train-error:0.349333#011validation-error:0.3684\u001b[0m\n",
      "\u001b[34m[16:25:34] src/tree/updater_prune.cc:74: tree pruning end, 1 roots, 34 extra nodes, 6 pruned nodes, max_depth=5\u001b[0m\n",
      "\u001b[34m[5]#011train-error:0.342467#011validation-error:0.366\u001b[0m\n",
      "\u001b[34m[16:25:35] src/tree/updater_prune.cc:74: tree pruning end, 1 roots, 38 extra nodes, 6 pruned nodes, max_depth=5\u001b[0m\n",
      "\u001b[34m[6]#011train-error:0.335267#011validation-error:0.3593\u001b[0m\n",
      "\u001b[34m[16:25:37] src/tree/updater_prune.cc:74: tree pruning end, 1 roots, 32 extra nodes, 2 pruned nodes, max_depth=5\u001b[0m\n",
      "\u001b[34m[7]#011train-error:0.332867#011validation-error:0.358\u001b[0m\n",
      "\u001b[34m[16:25:38] src/tree/updater_prune.cc:74: tree pruning end, 1 roots, 38 extra nodes, 2 pruned nodes, max_depth=5\u001b[0m\n",
      "\u001b[34m[8]#011train-error:0.327067#011validation-error:0.3545\u001b[0m\n",
      "\u001b[34m[16:25:39] src/tree/updater_prune.cc:74: tree pruning end, 1 roots, 28 extra nodes, 6 pruned nodes, max_depth=5\u001b[0m\n",
      "\u001b[34m[9]#011train-error:0.322933#011validation-error:0.3502\u001b[0m\n",
      "\u001b[34m[16:25:40] src/tree/updater_prune.cc:74: tree pruning end, 1 roots, 32 extra nodes, 6 pruned nodes, max_depth=5\u001b[0m\n",
      "\u001b[34m[10]#011train-error:0.3196#011validation-error:0.3453\u001b[0m\n",
      "\u001b[34m[16:25:42] src/tree/updater_prune.cc:74: tree pruning end, 1 roots, 26 extra nodes, 6 pruned nodes, max_depth=5\u001b[0m\n",
      "\u001b[34m[11]#011train-error:0.319333#011validation-error:0.3443\u001b[0m\n",
      "\u001b[34m[16:25:43] src/tree/updater_prune.cc:74: tree pruning end, 1 roots, 38 extra nodes, 2 pruned nodes, max_depth=5\u001b[0m\n",
      "\u001b[34m[12]#011train-error:0.314133#011validation-error:0.3433\u001b[0m\n",
      "\u001b[34m[16:25:44] src/tree/updater_prune.cc:74: tree pruning end, 1 roots, 30 extra nodes, 2 pruned nodes, max_depth=5\u001b[0m\n",
      "\u001b[34m[13]#011train-error:0.31#011validation-error:0.3432\u001b[0m\n",
      "\u001b[34m[16:25:45] src/tree/updater_prune.cc:74: tree pruning end, 1 roots, 30 extra nodes, 4 pruned nodes, max_depth=5\u001b[0m\n",
      "\u001b[34m[14]#011train-error:0.3086#011validation-error:0.3411\u001b[0m\n",
      "\u001b[34m[16:25:47] src/tree/updater_prune.cc:74: tree pruning end, 1 roots, 30 extra nodes, 2 pruned nodes, max_depth=5\u001b[0m\n",
      "\u001b[34m[15]#011train-error:0.3058#011validation-error:0.3386\u001b[0m\n",
      "\u001b[34m[16:25:48] src/tree/updater_prune.cc:74: tree pruning end, 1 roots, 38 extra nodes, 2 pruned nodes, max_depth=5\u001b[0m\n",
      "\u001b[34m[16]#011train-error:0.302533#011validation-error:0.3363\u001b[0m\n",
      "\u001b[34m[16:25:49] src/tree/updater_prune.cc:74: tree pruning end, 1 roots, 22 extra nodes, 10 pruned nodes, max_depth=5\u001b[0m\n",
      "\u001b[34m[17]#011train-error:0.300133#011validation-error:0.335\u001b[0m\n",
      "\u001b[34m[16:25:50] src/tree/updater_prune.cc:74: tree pruning end, 1 roots, 24 extra nodes, 8 pruned nodes, max_depth=5\u001b[0m\n",
      "\u001b[34m[18]#011train-error:0.299267#011validation-error:0.3342\u001b[0m\n",
      "\u001b[34m[16:25:52] src/tree/updater_prune.cc:74: tree pruning end, 1 roots, 38 extra nodes, 2 pruned nodes, max_depth=5\u001b[0m\n",
      "\u001b[34m[19]#011train-error:0.296333#011validation-error:0.3327\u001b[0m\n",
      "\u001b[34m[16:25:53] src/tree/updater_prune.cc:74: tree pruning end, 1 roots, 24 extra nodes, 4 pruned nodes, max_depth=5\u001b[0m\n",
      "\u001b[34m[20]#011train-error:0.2956#011validation-error:0.3333\u001b[0m\n",
      "\u001b[34m[16:25:54] src/tree/updater_prune.cc:74: tree pruning end, 1 roots, 20 extra nodes, 10 pruned nodes, max_depth=5\u001b[0m\n",
      "\u001b[34m[21]#011train-error:0.293#011validation-error:0.3326\u001b[0m\n",
      "\u001b[34m[16:25:56] src/tree/updater_prune.cc:74: tree pruning end, 1 roots, 18 extra nodes, 8 pruned nodes, max_depth=5\u001b[0m\n",
      "\u001b[34m[22]#011train-error:0.292267#011validation-error:0.3315\u001b[0m\n",
      "\u001b[34m[16:25:57] src/tree/updater_prune.cc:74: tree pruning end, 1 roots, 24 extra nodes, 4 pruned nodes, max_depth=5\u001b[0m\n",
      "\u001b[34m[23]#011train-error:0.290867#011validation-error:0.3309\u001b[0m\n",
      "\u001b[34m[16:25:58] src/tree/updater_prune.cc:74: tree pruning end, 1 roots, 30 extra nodes, 10 pruned nodes, max_depth=5\u001b[0m\n",
      "\u001b[34m[24]#011train-error:0.287067#011validation-error:0.329\u001b[0m\n",
      "\u001b[34m[16:25:59] src/tree/updater_prune.cc:74: tree pruning end, 1 roots, 32 extra nodes, 4 pruned nodes, max_depth=5\u001b[0m\n",
      "\u001b[34m[25]#011train-error:0.284533#011validation-error:0.3285\u001b[0m\n",
      "\u001b[34m[16:26:01] src/tree/updater_prune.cc:74: tree pruning end, 1 roots, 32 extra nodes, 2 pruned nodes, max_depth=5\u001b[0m\n",
      "\u001b[34m[26]#011train-error:0.284067#011validation-error:0.327\u001b[0m\n",
      "\u001b[34m[16:26:02] src/tree/updater_prune.cc:74: tree pruning end, 1 roots, 32 extra nodes, 4 pruned nodes, max_depth=5\u001b[0m\n",
      "\u001b[34m[27]#011train-error:0.281867#011validation-error:0.327\u001b[0m\n",
      "\u001b[34m[16:26:03] src/tree/updater_prune.cc:74: tree pruning end, 1 roots, 32 extra nodes, 6 pruned nodes, max_depth=5\u001b[0m\n",
      "\u001b[34m[28]#011train-error:0.280133#011validation-error:0.3268\u001b[0m\n",
      "\u001b[34m[16:26:04] src/tree/updater_prune.cc:74: tree pruning end, 1 roots, 18 extra nodes, 12 pruned nodes, max_depth=5\u001b[0m\n",
      "\u001b[34m[29]#011train-error:0.278267#011validation-error:0.3261\u001b[0m\n",
      "\u001b[34m[16:26:06] src/tree/updater_prune.cc:74: tree pruning end, 1 roots, 26 extra nodes, 4 pruned nodes, max_depth=5\u001b[0m\n",
      "\u001b[34m[30]#011train-error:0.276667#011validation-error:0.3256\u001b[0m\n",
      "\u001b[34m[16:26:07] src/tree/updater_prune.cc:74: tree pruning end, 1 roots, 32 extra nodes, 2 pruned nodes, max_depth=5\u001b[0m\n",
      "\u001b[34m[31]#011train-error:0.275933#011validation-error:0.3262\u001b[0m\n",
      "\u001b[34m[16:26:08] src/tree/updater_prune.cc:74: tree pruning end, 1 roots, 30 extra nodes, 6 pruned nodes, max_depth=5\u001b[0m\n",
      "\u001b[34m[32]#011train-error:0.2748#011validation-error:0.3255\u001b[0m\n",
      "\u001b[34m[16:26:10] src/tree/updater_prune.cc:74: tree pruning end, 1 roots, 30 extra nodes, 4 pruned nodes, max_depth=5\u001b[0m\n",
      "\u001b[34m[33]#011train-error:0.2716#011validation-error:0.3252\u001b[0m\n",
      "\u001b[34m[16:26:11] src/tree/updater_prune.cc:74: tree pruning end, 1 roots, 16 extra nodes, 8 pruned nodes, max_depth=5\u001b[0m\n",
      "\u001b[34m[34]#011train-error:0.271#011validation-error:0.3252\u001b[0m\n",
      "\u001b[34m[16:26:12] src/tree/updater_prune.cc:74: tree pruning end, 1 roots, 32 extra nodes, 4 pruned nodes, max_depth=5\u001b[0m\n",
      "\u001b[34m[35]#011train-error:0.269333#011validation-error:0.3256\u001b[0m\n",
      "\u001b[34m[16:26:13] src/tree/updater_prune.cc:74: tree pruning end, 1 roots, 24 extra nodes, 8 pruned nodes, max_depth=5\u001b[0m\n",
      "\u001b[34m[36]#011train-error:0.268#011validation-error:0.3242\u001b[0m\n",
      "\u001b[34m[16:26:15] src/tree/updater_prune.cc:74: tree pruning end, 1 roots, 36 extra nodes, 4 pruned nodes, max_depth=5\u001b[0m\n",
      "\u001b[34m[37]#011train-error:0.266667#011validation-error:0.321\u001b[0m\n",
      "\u001b[34m[16:26:16] src/tree/updater_prune.cc:74: tree pruning end, 1 roots, 28 extra nodes, 4 pruned nodes, max_depth=5\u001b[0m\n",
      "\u001b[34m[38]#011train-error:0.265467#011validation-error:0.3192\u001b[0m\n",
      "\u001b[34m[16:26:17] src/tree/updater_prune.cc:74: tree pruning end, 1 roots, 28 extra nodes, 10 pruned nodes, max_depth=5\u001b[0m\n",
      "\u001b[34m[39]#011train-error:0.262333#011validation-error:0.3195\u001b[0m\n"
     ]
    },
    {
     "name": "stdout",
     "output_type": "stream",
     "text": [
      "\u001b[34m[16:26:18] src/tree/updater_prune.cc:74: tree pruning end, 1 roots, 42 extra nodes, 4 pruned nodes, max_depth=5\u001b[0m\n",
      "\u001b[34m[40]#011train-error:0.262133#011validation-error:0.3183\u001b[0m\n",
      "\u001b[34m[16:26:20] src/tree/updater_prune.cc:74: tree pruning end, 1 roots, 26 extra nodes, 2 pruned nodes, max_depth=5\u001b[0m\n",
      "\u001b[34m[41]#011train-error:0.260133#011validation-error:0.3186\u001b[0m\n",
      "\u001b[34m[16:26:21] src/tree/updater_prune.cc:74: tree pruning end, 1 roots, 16 extra nodes, 2 pruned nodes, max_depth=5\u001b[0m\n",
      "\u001b[34m[42]#011train-error:0.258533#011validation-error:0.3182\u001b[0m\n",
      "\u001b[34m[16:26:22] src/tree/updater_prune.cc:74: tree pruning end, 1 roots, 18 extra nodes, 6 pruned nodes, max_depth=5\u001b[0m\n",
      "\u001b[34m[43]#011train-error:0.2582#011validation-error:0.3172\u001b[0m\n",
      "\u001b[34m[16:26:23] src/tree/updater_prune.cc:74: tree pruning end, 1 roots, 24 extra nodes, 10 pruned nodes, max_depth=5\u001b[0m\n",
      "\u001b[34m[44]#011train-error:0.257667#011validation-error:0.3183\u001b[0m\n",
      "\u001b[34m[16:26:25] src/tree/updater_prune.cc:74: tree pruning end, 1 roots, 24 extra nodes, 10 pruned nodes, max_depth=5\u001b[0m\n",
      "\u001b[34m[45]#011train-error:0.2564#011validation-error:0.3177\u001b[0m\n",
      "\u001b[34m[16:26:26] src/tree/updater_prune.cc:74: tree pruning end, 1 roots, 14 extra nodes, 12 pruned nodes, max_depth=5\u001b[0m\n",
      "\u001b[34m[46]#011train-error:0.255733#011validation-error:0.318\u001b[0m\n",
      "\u001b[34m[16:26:27] src/tree/updater_prune.cc:74: tree pruning end, 1 roots, 16 extra nodes, 10 pruned nodes, max_depth=5\u001b[0m\n",
      "\u001b[34m[47]#011train-error:0.255867#011validation-error:0.3184\u001b[0m\n",
      "\u001b[34m[16:26:28] src/tree/updater_prune.cc:74: tree pruning end, 1 roots, 26 extra nodes, 2 pruned nodes, max_depth=5\u001b[0m\n",
      "\u001b[34m[48]#011train-error:0.255667#011validation-error:0.3178\u001b[0m\n",
      "\u001b[34m[16:26:30] src/tree/updater_prune.cc:74: tree pruning end, 1 roots, 22 extra nodes, 0 pruned nodes, max_depth=5\u001b[0m\n",
      "\u001b[34m[49]#011train-error:0.254333#011validation-error:0.3176\u001b[0m\n",
      "\u001b[34m[16:26:31] src/tree/updater_prune.cc:74: tree pruning end, 1 roots, 12 extra nodes, 4 pruned nodes, max_depth=5\u001b[0m\n",
      "\u001b[34m[50]#011train-error:0.2534#011validation-error:0.3163\u001b[0m\n",
      "\u001b[34m[16:26:32] src/tree/updater_prune.cc:74: tree pruning end, 1 roots, 24 extra nodes, 4 pruned nodes, max_depth=5\u001b[0m\n",
      "\u001b[34m[51]#011train-error:0.252933#011validation-error:0.3155\u001b[0m\n",
      "\u001b[34m[16:26:34] src/tree/updater_prune.cc:74: tree pruning end, 1 roots, 20 extra nodes, 4 pruned nodes, max_depth=5\u001b[0m\n",
      "\u001b[34m[52]#011train-error:0.253133#011validation-error:0.3161\u001b[0m\n",
      "\u001b[34m[16:26:35] src/tree/updater_prune.cc:74: tree pruning end, 1 roots, 26 extra nodes, 12 pruned nodes, max_depth=5\u001b[0m\n",
      "\u001b[34m[53]#011train-error:0.252933#011validation-error:0.3155\u001b[0m\n",
      "\u001b[34m[16:26:36] src/tree/updater_prune.cc:74: tree pruning end, 1 roots, 22 extra nodes, 6 pruned nodes, max_depth=5\u001b[0m\n",
      "\u001b[34m[54]#011train-error:0.2512#011validation-error:0.3154\u001b[0m\n",
      "\u001b[34m[16:26:37] src/tree/updater_prune.cc:74: tree pruning end, 1 roots, 18 extra nodes, 6 pruned nodes, max_depth=5\u001b[0m\n",
      "\u001b[34m[55]#011train-error:0.250533#011validation-error:0.3149\u001b[0m\n",
      "\u001b[34m[16:26:39] src/tree/updater_prune.cc:74: tree pruning end, 1 roots, 26 extra nodes, 4 pruned nodes, max_depth=5\u001b[0m\n",
      "\u001b[34m[56]#011train-error:0.2502#011validation-error:0.3144\u001b[0m\n",
      "\u001b[34m[16:26:40] src/tree/updater_prune.cc:74: tree pruning end, 1 roots, 28 extra nodes, 6 pruned nodes, max_depth=5\u001b[0m\n",
      "\u001b[34m[57]#011train-error:0.2484#011validation-error:0.3135\u001b[0m\n",
      "\u001b[34m[16:26:41] src/tree/updater_prune.cc:74: tree pruning end, 1 roots, 20 extra nodes, 4 pruned nodes, max_depth=5\u001b[0m\n",
      "\u001b[34m[58]#011train-error:0.247333#011validation-error:0.3151\u001b[0m\n",
      "\u001b[34m[16:26:42] src/tree/updater_prune.cc:74: tree pruning end, 1 roots, 18 extra nodes, 8 pruned nodes, max_depth=5\u001b[0m\n",
      "\u001b[34m[59]#011train-error:0.245933#011validation-error:0.3141\u001b[0m\n",
      "\u001b[34m[16:26:44] src/tree/updater_prune.cc:74: tree pruning end, 1 roots, 20 extra nodes, 0 pruned nodes, max_depth=5\u001b[0m\n",
      "\u001b[34m[60]#011train-error:0.245333#011validation-error:0.3142\u001b[0m\n",
      "\u001b[34m[16:26:45] src/tree/updater_prune.cc:74: tree pruning end, 1 roots, 10 extra nodes, 6 pruned nodes, max_depth=5\u001b[0m\n",
      "\u001b[34m[61]#011train-error:0.244667#011validation-error:0.3141\u001b[0m\n",
      "\u001b[34m[16:26:46] src/tree/updater_prune.cc:74: tree pruning end, 1 roots, 14 extra nodes, 14 pruned nodes, max_depth=5\u001b[0m\n",
      "\u001b[34m[62]#011train-error:0.243#011validation-error:0.3139\u001b[0m\n",
      "\u001b[34m[16:26:47] src/tree/updater_prune.cc:74: tree pruning end, 1 roots, 16 extra nodes, 12 pruned nodes, max_depth=5\u001b[0m\n",
      "\u001b[34m[63]#011train-error:0.2426#011validation-error:0.3133\u001b[0m\n",
      "\u001b[34m[16:26:49] src/tree/updater_prune.cc:74: tree pruning end, 1 roots, 32 extra nodes, 2 pruned nodes, max_depth=5\u001b[0m\n",
      "\u001b[34m[64]#011train-error:0.2414#011validation-error:0.3118\u001b[0m\n",
      "\u001b[34m[16:26:50] src/tree/updater_prune.cc:74: tree pruning end, 1 roots, 16 extra nodes, 6 pruned nodes, max_depth=5\u001b[0m\n",
      "\u001b[34m[65]#011train-error:0.240533#011validation-error:0.312\u001b[0m\n",
      "\u001b[34m[16:26:51] src/tree/updater_prune.cc:74: tree pruning end, 1 roots, 12 extra nodes, 4 pruned nodes, max_depth=5\u001b[0m\n",
      "\u001b[34m[66]#011train-error:0.239933#011validation-error:0.3112\u001b[0m\n",
      "\u001b[34m[16:26:52] src/tree/updater_prune.cc:74: tree pruning end, 1 roots, 14 extra nodes, 6 pruned nodes, max_depth=5\u001b[0m\n",
      "\u001b[34m[67]#011train-error:0.239867#011validation-error:0.312\u001b[0m\n",
      "\u001b[34m[16:26:54] src/tree/updater_prune.cc:74: tree pruning end, 1 roots, 16 extra nodes, 12 pruned nodes, max_depth=5\u001b[0m\n",
      "\u001b[34m[68]#011train-error:0.238733#011validation-error:0.3122\u001b[0m\n",
      "\u001b[34m[16:26:55] src/tree/updater_prune.cc:74: tree pruning end, 1 roots, 14 extra nodes, 4 pruned nodes, max_depth=5\u001b[0m\n",
      "\u001b[34m[69]#011train-error:0.238133#011validation-error:0.3129\u001b[0m\n",
      "\u001b[34m[16:26:56] src/tree/updater_prune.cc:74: tree pruning end, 1 roots, 20 extra nodes, 6 pruned nodes, max_depth=5\u001b[0m\n",
      "\u001b[34m[70]#011train-error:0.238333#011validation-error:0.3113\u001b[0m\n",
      "\u001b[34m[16:26:57] src/tree/updater_prune.cc:74: tree pruning end, 1 roots, 24 extra nodes, 6 pruned nodes, max_depth=5\u001b[0m\n",
      "\u001b[34m[71]#011train-error:0.237733#011validation-error:0.3114\u001b[0m\n",
      "\u001b[34m[16:26:59] src/tree/updater_prune.cc:74: tree pruning end, 1 roots, 28 extra nodes, 6 pruned nodes, max_depth=5\u001b[0m\n",
      "\u001b[34m[72]#011train-error:0.237933#011validation-error:0.3109\u001b[0m\n",
      "\u001b[34m[16:27:00] src/tree/updater_prune.cc:74: tree pruning end, 1 roots, 20 extra nodes, 8 pruned nodes, max_depth=5\u001b[0m\n",
      "\u001b[34m[73]#011train-error:0.2372#011validation-error:0.3101\u001b[0m\n",
      "\u001b[34m[16:27:01] src/tree/updater_prune.cc:74: tree pruning end, 1 roots, 12 extra nodes, 8 pruned nodes, max_depth=5\u001b[0m\n",
      "\u001b[34m[74]#011train-error:0.236467#011validation-error:0.3104\u001b[0m\n",
      "\u001b[34m[16:27:03] src/tree/updater_prune.cc:74: tree pruning end, 1 roots, 18 extra nodes, 6 pruned nodes, max_depth=5\u001b[0m\n",
      "\u001b[34m[75]#011train-error:0.2366#011validation-error:0.3096\u001b[0m\n",
      "\u001b[34m[16:27:04] src/tree/updater_prune.cc:74: tree pruning end, 1 roots, 12 extra nodes, 0 pruned nodes, max_depth=5\u001b[0m\n",
      "\u001b[34m[76]#011train-error:0.2366#011validation-error:0.3098\u001b[0m\n",
      "\u001b[34m[16:27:05] src/tree/updater_prune.cc:74: tree pruning end, 1 roots, 10 extra nodes, 4 pruned nodes, max_depth=5\u001b[0m\n",
      "\u001b[34m[77]#011train-error:0.2372#011validation-error:0.31\u001b[0m\n",
      "\u001b[34m[16:27:06] src/tree/updater_prune.cc:74: tree pruning end, 1 roots, 16 extra nodes, 8 pruned nodes, max_depth=5\u001b[0m\n",
      "\u001b[34m[78]#011train-error:0.236667#011validation-error:0.3103\u001b[0m\n",
      "\u001b[34m[16:27:08] src/tree/updater_prune.cc:74: tree pruning end, 1 roots, 26 extra nodes, 8 pruned nodes, max_depth=5\u001b[0m\n",
      "\u001b[34m[79]#011train-error:0.236067#011validation-error:0.3093\u001b[0m\n",
      "\u001b[34m[16:27:09] src/tree/updater_prune.cc:74: tree pruning end, 1 roots, 12 extra nodes, 0 pruned nodes, max_depth=5\u001b[0m\n",
      "\u001b[34m[80]#011train-error:0.235467#011validation-error:0.3093\u001b[0m\n",
      "\u001b[34m[16:27:10] src/tree/updater_prune.cc:74: tree pruning end, 1 roots, 18 extra nodes, 8 pruned nodes, max_depth=5\u001b[0m\n",
      "\u001b[34m[81]#011train-error:0.234733#011validation-error:0.308\u001b[0m\n",
      "\u001b[34m[16:27:11] src/tree/updater_prune.cc:74: tree pruning end, 1 roots, 24 extra nodes, 8 pruned nodes, max_depth=5\u001b[0m\n",
      "\u001b[34m[82]#011train-error:0.2342#011validation-error:0.3091\u001b[0m\n",
      "\u001b[34m[16:27:13] src/tree/updater_prune.cc:74: tree pruning end, 1 roots, 10 extra nodes, 2 pruned nodes, max_depth=5\u001b[0m\n",
      "\u001b[34m[83]#011train-error:0.233467#011validation-error:0.3081\u001b[0m\n",
      "\u001b[34m[16:27:14] src/tree/updater_prune.cc:74: tree pruning end, 1 roots, 14 extra nodes, 8 pruned nodes, max_depth=5\u001b[0m\n",
      "\u001b[34m[84]#011train-error:0.2334#011validation-error:0.3088\u001b[0m\n",
      "\u001b[34m[16:27:15] src/tree/updater_prune.cc:74: tree pruning end, 1 roots, 18 extra nodes, 12 pruned nodes, max_depth=5\u001b[0m\n",
      "\u001b[34m[85]#011train-error:0.232333#011validation-error:0.3089\u001b[0m\n",
      "\u001b[34m[16:27:16] src/tree/updater_prune.cc:74: tree pruning end, 1 roots, 28 extra nodes, 4 pruned nodes, max_depth=5\u001b[0m\n",
      "\u001b[34m[86]#011train-error:0.230867#011validation-error:0.3086\u001b[0m\n",
      "\u001b[34m[16:27:18] src/tree/updater_prune.cc:74: tree pruning end, 1 roots, 12 extra nodes, 10 pruned nodes, max_depth=5\u001b[0m\n",
      "\u001b[34m[87]#011train-error:0.230733#011validation-error:0.3087\u001b[0m\n"
     ]
    },
    {
     "name": "stdout",
     "output_type": "stream",
     "text": [
      "\n",
      "2020-09-27 16:27:27 Uploading - Uploading generated training model\u001b[34m[16:27:19] src/tree/updater_prune.cc:74: tree pruning end, 1 roots, 16 extra nodes, 4 pruned nodes, max_depth=5\u001b[0m\n",
      "\u001b[34m[88]#011train-error:0.230067#011validation-error:0.3087\u001b[0m\n",
      "\u001b[34m[16:27:20] src/tree/updater_prune.cc:74: tree pruning end, 1 roots, 24 extra nodes, 6 pruned nodes, max_depth=5\u001b[0m\n",
      "\u001b[34m[89]#011train-error:0.2286#011validation-error:0.3094\u001b[0m\n",
      "\u001b[34m[16:27:21] src/tree/updater_prune.cc:74: tree pruning end, 1 roots, 14 extra nodes, 2 pruned nodes, max_depth=5\u001b[0m\n",
      "\u001b[34m[90]#011train-error:0.229#011validation-error:0.3084\u001b[0m\n",
      "\u001b[34m[16:27:23] src/tree/updater_prune.cc:74: tree pruning end, 1 roots, 10 extra nodes, 4 pruned nodes, max_depth=5\u001b[0m\n",
      "\u001b[34m[91]#011train-error:0.229067#011validation-error:0.3086\u001b[0m\n",
      "\u001b[34mStopping. Best iteration:\u001b[0m\n",
      "\u001b[34m[81]#011train-error:0.234733#011validation-error:0.308\n",
      "\u001b[0m\n",
      "\n",
      "2020-09-27 16:27:34 Completed - Training job completed\n",
      "Training seconds: 190\n",
      "Billable seconds: 190\n"
     ]
    }
   ],
   "source": [
    "# TODO: Using the new validation and training data, 'fit' your new model.\n",
    "new_xgb.fit({'train': s3_new_input_train, 'validation': s3_new_input_validation})"
   ]
  },
  {
   "cell_type": "markdown",
   "metadata": {},
   "source": [
    "### (TODO) Check the new model\n",
    "\n",
    "So now we have a new XGBoost model that we believe more accurately represents the state of the world at this time, at least in how it relates to the sentiment analysis problem that we are working on. The next step is to double check that our model is performing reasonably.\n",
    "\n",
    "To do this, we will first test our model on the new data.\n",
    "\n",
    "**Note:** In practice this is a pretty bad idea. We already trained our model on the new data, so testing it shouldn't really tell us much. In fact, this is sort of a textbook example of leakage. We are only doing it here so that we have a numerical baseline.\n",
    "\n",
    "**Question:** How might you address the leakage problem?"
   ]
  },
  {
   "cell_type": "markdown",
   "metadata": {},
   "source": [
    "First, we create a new transformer based on our new XGBoost model.\n",
    "\n",
    "**TODO:** Create a transformer object from the newly created XGBoost model."
   ]
  },
  {
   "cell_type": "code",
   "execution_count": 67,
   "metadata": {},
   "outputs": [
    {
     "name": "stderr",
     "output_type": "stream",
     "text": [
      "Parameter image will be renamed to image_uri in SageMaker Python SDK v2.\n"
     ]
    }
   ],
   "source": [
    "# TODO: Create a transformer object from the new_xgb model\n",
    "new_xgb_transformer = new_xgb.transformer(instance_count = 1, instance_type = 'ml.m4.xlarge')"
   ]
  },
  {
   "cell_type": "markdown",
   "metadata": {},
   "source": [
    "Next we test our model on the new data.\n",
    "\n",
    "**TODO:** Use the transformer object to transform the new data (stored in the `new_data_location` variable)"
   ]
  },
  {
   "cell_type": "code",
   "execution_count": 68,
   "metadata": {},
   "outputs": [
    {
     "name": "stdout",
     "output_type": "stream",
     "text": [
      "............................\u001b[34mArguments: serve\u001b[0m\n",
      "\u001b[34m[2020-09-27 16:33:21 +0000] [1] [INFO] Starting gunicorn 19.7.1\u001b[0m\n",
      "\u001b[34m[2020-09-27 16:33:21 +0000] [1] [INFO] Listening at: http://0.0.0.0:8080 (1)\u001b[0m\n",
      "\u001b[34m[2020-09-27 16:33:21 +0000] [1] [INFO] Using worker: gevent\u001b[0m\n",
      "\u001b[34m[2020-09-27 16:33:21 +0000] [36] [INFO] Booting worker with pid: 36\u001b[0m\n",
      "\u001b[34m[2020-09-27 16:33:21 +0000] [37] [INFO] Booting worker with pid: 37\u001b[0m\n",
      "\u001b[34m[2020-09-27:16:33:21:INFO] Model loaded successfully for worker : 36\u001b[0m\n",
      "\u001b[34m[2020-09-27 16:33:21 +0000] [38] [INFO] Booting worker with pid: 38\u001b[0m\n",
      "\u001b[34m[2020-09-27:16:33:21:INFO] Model loaded successfully for worker : 37\u001b[0m\n",
      "\u001b[34m[2020-09-27 16:33:21 +0000] [39] [INFO] Booting worker with pid: 39\u001b[0m\n",
      "\u001b[34m[2020-09-27:16:33:21:INFO] Model loaded successfully for worker : 38\u001b[0m\n",
      "\u001b[34m[2020-09-27:16:33:21:INFO] Model loaded successfully for worker : 39\u001b[0m\n",
      "\u001b[34m[2020-09-27:16:33:21:INFO] Sniff delimiter as ','\u001b[0m\n",
      "\u001b[34m[2020-09-27:16:33:21:INFO] Determined delimiter of CSV input is ','\u001b[0m\n",
      "\u001b[34m[2020-09-27:16:33:21:INFO] Sniff delimiter as ','\u001b[0m\n",
      "\u001b[34m[2020-09-27:16:33:21:INFO] Determined delimiter of CSV input is ','\u001b[0m\n",
      "\u001b[34m[2020-09-27:16:33:21:INFO] Sniff delimiter as ','\u001b[0m\n",
      "\u001b[34m[2020-09-27:16:33:21:INFO] Determined delimiter of CSV input is ','\u001b[0m\n",
      "\u001b[34m[2020-09-27:16:33:22:INFO] Sniff delimiter as ','\u001b[0m\n",
      "\u001b[34m[2020-09-27:16:33:22:INFO] Determined delimiter of CSV input is ','\u001b[0m\n",
      "\u001b[34m[2020-09-27:16:33:24:INFO] Sniff delimiter as ','\u001b[0m\n",
      "\u001b[34m[2020-09-27:16:33:24:INFO] Determined delimiter of CSV input is ','\u001b[0m\n",
      "\u001b[34m[2020-09-27:16:33:24:INFO] Sniff delimiter as ','\u001b[0m\n",
      "\u001b[34m[2020-09-27:16:33:24:INFO] Determined delimiter of CSV input is ','\u001b[0m\n",
      "\u001b[34m[2020-09-27:16:33:24:INFO] Sniff delimiter as ','\u001b[0m\n",
      "\u001b[34m[2020-09-27:16:33:24:INFO] Determined delimiter of CSV input is ','\u001b[0m\n",
      "\u001b[34m[2020-09-27:16:33:24:INFO] Sniff delimiter as ','\u001b[0m\n",
      "\u001b[34m[2020-09-27:16:33:24:INFO] Determined delimiter of CSV input is ','\u001b[0m\n",
      "\u001b[32m2020-09-27T16:33:21.354:[sagemaker logs]: MaxConcurrentTransforms=4, MaxPayloadInMB=6, BatchStrategy=MULTI_RECORD\u001b[0m\n",
      "\u001b[34m[2020-09-27:16:33:26:INFO] Sniff delimiter as ','\u001b[0m\n",
      "\u001b[34m[2020-09-27:16:33:26:INFO] Determined delimiter of CSV input is ','\u001b[0m\n",
      "\u001b[34m[2020-09-27:16:33:26:INFO] Sniff delimiter as ','\u001b[0m\n",
      "\u001b[34m[2020-09-27:16:33:26:INFO] Determined delimiter of CSV input is ','\u001b[0m\n",
      "\u001b[34m[2020-09-27:16:33:26:INFO] Sniff delimiter as ','\u001b[0m\n",
      "\u001b[34m[2020-09-27:16:33:26:INFO] Determined delimiter of CSV input is ','\u001b[0m\n",
      "\u001b[34m[2020-09-27:16:33:26:INFO] Sniff delimiter as ','\u001b[0m\n",
      "\u001b[34m[2020-09-27:16:33:26:INFO] Determined delimiter of CSV input is ','\u001b[0m\n",
      "\u001b[35m[2020-09-27:16:33:26:INFO] Sniff delimiter as ','\u001b[0m\n",
      "\u001b[35m[2020-09-27:16:33:26:INFO] Determined delimiter of CSV input is ','\u001b[0m\n",
      "\u001b[35m[2020-09-27:16:33:26:INFO] Sniff delimiter as ','\u001b[0m\n",
      "\u001b[35m[2020-09-27:16:33:26:INFO] Determined delimiter of CSV input is ','\u001b[0m\n",
      "\u001b[35m[2020-09-27:16:33:26:INFO] Sniff delimiter as ','\u001b[0m\n",
      "\u001b[35m[2020-09-27:16:33:26:INFO] Determined delimiter of CSV input is ','\u001b[0m\n",
      "\u001b[35m[2020-09-27:16:33:26:INFO] Sniff delimiter as ','\u001b[0m\n",
      "\u001b[35m[2020-09-27:16:33:26:INFO] Determined delimiter of CSV input is ','\u001b[0m\n",
      "\u001b[34m[2020-09-27:16:33:29:INFO] Sniff delimiter as ','\u001b[0m\n",
      "\u001b[34m[2020-09-27:16:33:29:INFO] Determined delimiter of CSV input is ','\u001b[0m\n",
      "\u001b[35m[2020-09-27:16:33:29:INFO] Sniff delimiter as ','\u001b[0m\n",
      "\u001b[35m[2020-09-27:16:33:29:INFO] Determined delimiter of CSV input is ','\u001b[0m\n",
      "\u001b[34m[2020-09-27:16:33:29:INFO] Sniff delimiter as ','\u001b[0m\n",
      "\u001b[34m[2020-09-27:16:33:29:INFO] Determined delimiter of CSV input is ','\u001b[0m\n",
      "\u001b[34m[2020-09-27:16:33:29:INFO] Sniff delimiter as ','\u001b[0m\n",
      "\u001b[34m[2020-09-27:16:33:29:INFO] Determined delimiter of CSV input is ','\u001b[0m\n",
      "\u001b[35m[2020-09-27:16:33:29:INFO] Sniff delimiter as ','\u001b[0m\n",
      "\u001b[35m[2020-09-27:16:33:29:INFO] Determined delimiter of CSV input is ','\u001b[0m\n",
      "\u001b[35m[2020-09-27:16:33:29:INFO] Sniff delimiter as ','\u001b[0m\n",
      "\u001b[35m[2020-09-27:16:33:29:INFO] Determined delimiter of CSV input is ','\u001b[0m\n",
      "\u001b[34m[2020-09-27:16:33:29:INFO] Sniff delimiter as ','\u001b[0m\n",
      "\u001b[34m[2020-09-27:16:33:29:INFO] Determined delimiter of CSV input is ','\u001b[0m\n",
      "\u001b[35m[2020-09-27:16:33:29:INFO] Sniff delimiter as ','\u001b[0m\n",
      "\u001b[35m[2020-09-27:16:33:29:INFO] Determined delimiter of CSV input is ','\u001b[0m\n",
      "\u001b[34m[2020-09-27:16:33:31:INFO] Sniff delimiter as ','\u001b[0m\n",
      "\u001b[34m[2020-09-27:16:33:31:INFO] Determined delimiter of CSV input is ','\u001b[0m\n",
      "\u001b[34m[2020-09-27:16:33:31:INFO] Sniff delimiter as ','\u001b[0m\n",
      "\u001b[34m[2020-09-27:16:33:31:INFO] Determined delimiter of CSV input is ','\u001b[0m\n",
      "\u001b[34m[2020-09-27:16:33:31:INFO] Sniff delimiter as ','\u001b[0m\n",
      "\u001b[35m[2020-09-27:16:33:31:INFO] Sniff delimiter as ','\u001b[0m\n",
      "\u001b[35m[2020-09-27:16:33:31:INFO] Determined delimiter of CSV input is ','\u001b[0m\n",
      "\u001b[35m[2020-09-27:16:33:31:INFO] Sniff delimiter as ','\u001b[0m\n",
      "\u001b[35m[2020-09-27:16:33:31:INFO] Determined delimiter of CSV input is ','\u001b[0m\n",
      "\u001b[35m[2020-09-27:16:33:31:INFO] Sniff delimiter as ','\u001b[0m\n",
      "\u001b[34m[2020-09-27:16:33:31:INFO] Determined delimiter of CSV input is ','\u001b[0m\n",
      "\u001b[34m[2020-09-27:16:33:31:INFO] Sniff delimiter as ','\u001b[0m\n",
      "\u001b[34m[2020-09-27:16:33:31:INFO] Determined delimiter of CSV input is ','\u001b[0m\n",
      "\u001b[35m[2020-09-27:16:33:31:INFO] Determined delimiter of CSV input is ','\u001b[0m\n",
      "\u001b[35m[2020-09-27:16:33:31:INFO] Sniff delimiter as ','\u001b[0m\n",
      "\u001b[35m[2020-09-27:16:33:31:INFO] Determined delimiter of CSV input is ','\u001b[0m\n",
      "\u001b[34m[2020-09-27:16:33:33:INFO] Sniff delimiter as ','\u001b[0m\n",
      "\u001b[34m[2020-09-27:16:33:33:INFO] Determined delimiter of CSV input is ','\u001b[0m\n",
      "\u001b[35m[2020-09-27:16:33:33:INFO] Sniff delimiter as ','\u001b[0m\n",
      "\u001b[35m[2020-09-27:16:33:33:INFO] Determined delimiter of CSV input is ','\u001b[0m\n",
      "\u001b[34m[2020-09-27:16:33:34:INFO] Sniff delimiter as ','\u001b[0m\n",
      "\u001b[34m[2020-09-27:16:33:34:INFO] Determined delimiter of CSV input is ','\u001b[0m\n",
      "\u001b[35m[2020-09-27:16:33:34:INFO] Sniff delimiter as ','\u001b[0m\n",
      "\u001b[35m[2020-09-27:16:33:34:INFO] Determined delimiter of CSV input is ','\u001b[0m\n",
      "\u001b[34m[2020-09-27:16:33:34:INFO] Sniff delimiter as ','\u001b[0m\n",
      "\u001b[34m[2020-09-27:16:33:34:INFO] Determined delimiter of CSV input is ','\u001b[0m\n",
      "\u001b[34m[2020-09-27:16:33:34:INFO] Sniff delimiter as ','\u001b[0m\n",
      "\u001b[34m[2020-09-27:16:33:34:INFO] Determined delimiter of CSV input is ','\u001b[0m\n",
      "\u001b[35m[2020-09-27:16:33:34:INFO] Sniff delimiter as ','\u001b[0m\n",
      "\u001b[35m[2020-09-27:16:33:34:INFO] Determined delimiter of CSV input is ','\u001b[0m\n",
      "\u001b[35m[2020-09-27:16:33:34:INFO] Sniff delimiter as ','\u001b[0m\n",
      "\u001b[35m[2020-09-27:16:33:34:INFO] Determined delimiter of CSV input is ','\u001b[0m\n",
      "\n",
      "\u001b[34m[2020-09-27:16:33:36:INFO] Sniff delimiter as ','\u001b[0m\n",
      "\u001b[34m[2020-09-27:16:33:36:INFO] Determined delimiter of CSV input is ','\u001b[0m\n",
      "\u001b[34m[2020-09-27:16:33:36:INFO] Sniff delimiter as ','\u001b[0m\n",
      "\u001b[34m[2020-09-27:16:33:36:INFO] Determined delimiter of CSV input is ','\u001b[0m\n",
      "\u001b[35m[2020-09-27:16:33:36:INFO] Sniff delimiter as ','\u001b[0m\n",
      "\u001b[35m[2020-09-27:16:33:36:INFO] Determined delimiter of CSV input is ','\u001b[0m\n",
      "\u001b[35m[2020-09-27:16:33:36:INFO] Sniff delimiter as ','\u001b[0m\n",
      "\u001b[35m[2020-09-27:16:33:36:INFO] Determined delimiter of CSV input is ','\u001b[0m\n",
      "\u001b[34m[2020-09-27:16:33:38:INFO] Sniff delimiter as ','\u001b[0m\n",
      "\u001b[34m[2020-09-27:16:33:38:INFO] Determined delimiter of CSV input is ','\u001b[0m\n",
      "\u001b[34m[2020-09-27:16:33:38:INFO] Sniff delimiter as ','\u001b[0m\n",
      "\u001b[34m[2020-09-27:16:33:38:INFO] Determined delimiter of CSV input is ','\u001b[0m\n",
      "\u001b[35m[2020-09-27:16:33:38:INFO] Sniff delimiter as ','\u001b[0m\n",
      "\u001b[35m[2020-09-27:16:33:38:INFO] Determined delimiter of CSV input is ','\u001b[0m\n",
      "\u001b[35m[2020-09-27:16:33:38:INFO] Sniff delimiter as ','\u001b[0m\n",
      "\u001b[35m[2020-09-27:16:33:38:INFO] Determined delimiter of CSV input is ','\u001b[0m\n",
      "\u001b[34m[2020-09-27:16:33:39:INFO] Sniff delimiter as ','\u001b[0m\n",
      "\u001b[34m[2020-09-27:16:33:39:INFO] Determined delimiter of CSV input is ','\u001b[0m\n",
      "\u001b[34m[2020-09-27:16:33:39:INFO] Sniff delimiter as ','\u001b[0m\n",
      "\u001b[34m[2020-09-27:16:33:39:INFO] Determined delimiter of CSV input is ','\u001b[0m\n",
      "\u001b[35m[2020-09-27:16:33:39:INFO] Sniff delimiter as ','\u001b[0m\n",
      "\u001b[35m[2020-09-27:16:33:39:INFO] Determined delimiter of CSV input is ','\u001b[0m\n",
      "\u001b[35m[2020-09-27:16:33:39:INFO] Sniff delimiter as ','\u001b[0m\n",
      "\u001b[35m[2020-09-27:16:33:39:INFO] Determined delimiter of CSV input is ','\u001b[0m\n",
      "\u001b[34m[2020-09-27:16:33:41:INFO] Sniff delimiter as ','\u001b[0m\n",
      "\u001b[34m[2020-09-27:16:33:41:INFO] Determined delimiter of CSV input is ','\u001b[0m\n",
      "\u001b[34m[2020-09-27:16:33:41:INFO] Sniff delimiter as ','\u001b[0m\n",
      "\u001b[34m[2020-09-27:16:33:41:INFO] Determined delimiter of CSV input is ','\u001b[0m\n",
      "\u001b[34m[2020-09-27:16:33:41:INFO] Sniff delimiter as ','\u001b[0m\n",
      "\u001b[34m[2020-09-27:16:33:41:INFO] Determined delimiter of CSV input is ','\u001b[0m\n",
      "\u001b[34m[2020-09-27:16:33:41:INFO] Sniff delimiter as ','\u001b[0m\n",
      "\u001b[34m[2020-09-27:16:33:41:INFO] Determined delimiter of CSV input is ','\u001b[0m\n",
      "\u001b[35m[2020-09-27:16:33:41:INFO] Sniff delimiter as ','\u001b[0m\n",
      "\u001b[35m[2020-09-27:16:33:41:INFO] Determined delimiter of CSV input is ','\u001b[0m\n",
      "\u001b[35m[2020-09-27:16:33:41:INFO] Sniff delimiter as ','\u001b[0m\n",
      "\u001b[35m[2020-09-27:16:33:41:INFO] Determined delimiter of CSV input is ','\u001b[0m\n",
      "\u001b[35m[2020-09-27:16:33:41:INFO] Sniff delimiter as ','\u001b[0m\n",
      "\u001b[35m[2020-09-27:16:33:41:INFO] Determined delimiter of CSV input is ','\u001b[0m\n",
      "\u001b[35m[2020-09-27:16:33:41:INFO] Sniff delimiter as ','\u001b[0m\n",
      "\u001b[35m[2020-09-27:16:33:41:INFO] Determined delimiter of CSV input is ','\u001b[0m\n",
      "\u001b[34m[2020-09-27:16:33:43:INFO] Sniff delimiter as ','\u001b[0m\n",
      "\u001b[34m[2020-09-27:16:33:43:INFO] Determined delimiter of CSV input is ','\u001b[0m\n",
      "\u001b[34m[2020-09-27:16:33:43:INFO] Sniff delimiter as ','\u001b[0m\n",
      "\u001b[34m[2020-09-27:16:33:43:INFO] Determined delimiter of CSV input is ','\u001b[0m\n",
      "\u001b[34m[2020-09-27:16:33:44:INFO] Sniff delimiter as ','\u001b[0m\n",
      "\u001b[34m[2020-09-27:16:33:44:INFO] Determined delimiter of CSV input is ','\u001b[0m\n",
      "\u001b[34m[2020-09-27:16:33:44:INFO] Sniff delimiter as ','\u001b[0m\n",
      "\u001b[35m[2020-09-27:16:33:43:INFO] Sniff delimiter as ','\u001b[0m\n",
      "\u001b[35m[2020-09-27:16:33:43:INFO] Determined delimiter of CSV input is ','\u001b[0m\n",
      "\u001b[35m[2020-09-27:16:33:43:INFO] Sniff delimiter as ','\u001b[0m\n",
      "\u001b[35m[2020-09-27:16:33:43:INFO] Determined delimiter of CSV input is ','\u001b[0m\n",
      "\u001b[35m[2020-09-27:16:33:44:INFO] Sniff delimiter as ','\u001b[0m\n",
      "\u001b[35m[2020-09-27:16:33:44:INFO] Determined delimiter of CSV input is ','\u001b[0m\n",
      "\u001b[35m[2020-09-27:16:33:44:INFO] Sniff delimiter as ','\u001b[0m\n",
      "\u001b[34m[2020-09-27:16:33:44:INFO] Determined delimiter of CSV input is ','\u001b[0m\n",
      "\u001b[35m[2020-09-27:16:33:44:INFO] Determined delimiter of CSV input is ','\u001b[0m\n"
     ]
    }
   ],
   "source": [
    "# TODO: Using new_xgb_transformer, transform the new_data_location data. You may wish to\n",
    "#       'wait' for the transform job to finish.\n",
    "\n",
    "new_xgb_transformer.transform(new_data_location, content_type='text/csv', split_type='Line')\n",
    "new_xgb_transformer.wait()"
   ]
  },
  {
   "cell_type": "markdown",
   "metadata": {},
   "source": [
    "Copy the results to our local instance."
   ]
  },
  {
   "cell_type": "code",
   "execution_count": 69,
   "metadata": {},
   "outputs": [
    {
     "name": "stdout",
     "output_type": "stream",
     "text": [
      "Completed 256.0 KiB/363.8 KiB (3.3 MiB/s) with 1 file(s) remaining\r",
      "Completed 363.8 KiB/363.8 KiB (4.5 MiB/s) with 1 file(s) remaining\r",
      "download: s3://sagemaker-us-east-2-693733391946/xgboost-2020-09-27-16-28-46-295/new_data.csv.out to ../data/sentiment_update/new_data.csv.out\r\n"
     ]
    }
   ],
   "source": [
    "!aws s3 cp --recursive $new_xgb_transformer.output_path $data_dir"
   ]
  },
  {
   "cell_type": "markdown",
   "metadata": {},
   "source": [
    "And see how well the model did."
   ]
  },
  {
   "cell_type": "code",
   "execution_count": 70,
   "metadata": {},
   "outputs": [],
   "source": [
    "predictions = pd.read_csv(os.path.join(data_dir, 'new_data.csv.out'), header=None)\n",
    "predictions = [round(num) for num in predictions.squeeze().values]"
   ]
  },
  {
   "cell_type": "code",
   "execution_count": 71,
   "metadata": {},
   "outputs": [
    {
     "data": {
      "text/plain": [
       "0.73596"
      ]
     },
     "execution_count": 71,
     "metadata": {},
     "output_type": "execute_result"
    }
   ],
   "source": [
    "accuracy_score(new_Y, predictions)"
   ]
  },
  {
   "cell_type": "markdown",
   "metadata": {},
   "source": [
    "As expected, since we trained the model on this data, our model performs pretty well. So, we have reason to believe that our new XGBoost model is a \"better\" model.\n",
    "\n",
    "However, before we start changing our deployed model, we should first make sure that our new model isn't too different. In other words, if our new model performed really poorly on the original test data then this might be an indication that something else has gone wrong.\n",
    "\n",
    "To start with, since we got rid of the variable that stored the original test reviews, we will read them in again from the cache that we created in Step 3. Note that we need to make sure that we read in the original test data after it has been pre-processed with `nltk` but before it has been bag of words encoded. This is because we need to use the new vocabulary instead of the original one."
   ]
  },
  {
   "cell_type": "code",
   "execution_count": 72,
   "metadata": {},
   "outputs": [
    {
     "name": "stdout",
     "output_type": "stream",
     "text": [
      "Read preprocessed data from cache file: preprocessed_data.pkl\n"
     ]
    }
   ],
   "source": [
    "cache_data = None\n",
    "with open(os.path.join(cache_dir, \"preprocessed_data.pkl\"), \"rb\") as f:\n",
    "            cache_data = pickle.load(f)\n",
    "            print(\"Read preprocessed data from cache file:\", \"preprocessed_data.pkl\")\n",
    "            \n",
    "test_X = cache_data['words_test']\n",
    "test_Y = cache_data['labels_test']\n",
    "\n",
    "# Here we set cache_data to None so that it doesn't occupy memory\n",
    "cache_data = None"
   ]
  },
  {
   "cell_type": "markdown",
   "metadata": {},
   "source": [
    "Once we've loaded the original test reviews, we need to create a bag of words encoding of them using the new vocabulary that we created, based on the new data.\n",
    "\n",
    "**TODO:** Transform the original test data using the new vocabulary."
   ]
  },
  {
   "cell_type": "code",
   "execution_count": 85,
   "metadata": {},
   "outputs": [],
   "source": [
    "# TODO: Use the new_vectorizer object that you created earlier to transform the test_X data.\n",
    "test_X = new_vectorizer.transform(test_X).toarray()"
   ]
  },
  {
   "cell_type": "markdown",
   "metadata": {},
   "source": [
    "Now that we have correctly encoded the original test data, we can write it to the local instance, upload it to S3 and test it."
   ]
  },
  {
   "cell_type": "code",
   "execution_count": 86,
   "metadata": {},
   "outputs": [],
   "source": [
    "pd.DataFrame(test_X).to_csv(os.path.join(data_dir, 'test.csv'), header=False, index=False)"
   ]
  },
  {
   "cell_type": "code",
   "execution_count": 87,
   "metadata": {},
   "outputs": [],
   "source": [
    "test_location = session.upload_data(os.path.join(data_dir, 'test.csv'), key_prefix=prefix)"
   ]
  },
  {
   "cell_type": "code",
   "execution_count": 88,
   "metadata": {},
   "outputs": [
    {
     "name": "stdout",
     "output_type": "stream",
     "text": [
      "............................\u001b[32m2020-09-27T17:06:06.850:[sagemaker logs]: MaxConcurrentTransforms=4, MaxPayloadInMB=6, BatchStrategy=MULTI_RECORD\u001b[0m\n",
      "\u001b[34mArguments: serve\u001b[0m\n",
      "\u001b[34m[2020-09-27 17:06:06 +0000] [1] [INFO] Starting gunicorn 19.7.1\u001b[0m\n",
      "\u001b[34m[2020-09-27 17:06:06 +0000] [1] [INFO] Listening at: http://0.0.0.0:8080 (1)\u001b[0m\n",
      "\u001b[34m[2020-09-27 17:06:06 +0000] [1] [INFO] Using worker: gevent\u001b[0m\n",
      "\u001b[34m[2020-09-27 17:06:06 +0000] [36] [INFO] Booting worker with pid: 36\u001b[0m\n",
      "\u001b[34m[2020-09-27 17:06:06 +0000] [37] [INFO] Booting worker with pid: 37\u001b[0m\n",
      "\u001b[34m[2020-09-27 17:06:06 +0000] [38] [INFO] Booting worker with pid: 38\u001b[0m\n",
      "\u001b[34m[2020-09-27 17:06:06 +0000] [39] [INFO] Booting worker with pid: 39\u001b[0m\n",
      "\u001b[34m[2020-09-27:17:06:06:INFO] Model loaded successfully for worker : 38\u001b[0m\n",
      "\u001b[34m[2020-09-27:17:06:06:INFO] Model loaded successfully for worker : 36\u001b[0m\n",
      "\u001b[34m[2020-09-27:17:06:06:INFO] Model loaded successfully for worker : 37\u001b[0m\n",
      "\u001b[35mArguments: serve\u001b[0m\n",
      "\u001b[35m[2020-09-27 17:06:06 +0000] [1] [INFO] Starting gunicorn 19.7.1\u001b[0m\n",
      "\u001b[35m[2020-09-27 17:06:06 +0000] [1] [INFO] Listening at: http://0.0.0.0:8080 (1)\u001b[0m\n",
      "\u001b[35m[2020-09-27 17:06:06 +0000] [1] [INFO] Using worker: gevent\u001b[0m\n",
      "\u001b[35m[2020-09-27 17:06:06 +0000] [36] [INFO] Booting worker with pid: 36\u001b[0m\n",
      "\u001b[35m[2020-09-27 17:06:06 +0000] [37] [INFO] Booting worker with pid: 37\u001b[0m\n",
      "\u001b[35m[2020-09-27 17:06:06 +0000] [38] [INFO] Booting worker with pid: 38\u001b[0m\n",
      "\u001b[35m[2020-09-27 17:06:06 +0000] [39] [INFO] Booting worker with pid: 39\u001b[0m\n",
      "\u001b[35m[2020-09-27:17:06:06:INFO] Model loaded successfully for worker : 38\u001b[0m\n",
      "\u001b[35m[2020-09-27:17:06:06:INFO] Model loaded successfully for worker : 36\u001b[0m\n",
      "\u001b[35m[2020-09-27:17:06:06:INFO] Model loaded successfully for worker : 37\u001b[0m\n",
      "\u001b[34m[2020-09-27:17:06:06:INFO] Model loaded successfully for worker : 39\u001b[0m\n",
      "\u001b[34m[2020-09-27:17:06:07:INFO] Sniff delimiter as ','\u001b[0m\n",
      "\u001b[34m[2020-09-27:17:06:07:INFO] Determined delimiter of CSV input is ','\u001b[0m\n",
      "\u001b[34m[2020-09-27:17:06:07:INFO] Sniff delimiter as ','\u001b[0m\n",
      "\u001b[34m[2020-09-27:17:06:07:INFO] Determined delimiter of CSV input is ','\u001b[0m\n",
      "\u001b[34m[2020-09-27:17:06:07:INFO] Sniff delimiter as ','\u001b[0m\n",
      "\u001b[34m[2020-09-27:17:06:07:INFO] Determined delimiter of CSV input is ','\u001b[0m\n",
      "\u001b[34m[2020-09-27:17:06:07:INFO] Sniff delimiter as ','\u001b[0m\n",
      "\u001b[34m[2020-09-27:17:06:07:INFO] Determined delimiter of CSV input is ','\u001b[0m\n",
      "\u001b[35m[2020-09-27:17:06:06:INFO] Model loaded successfully for worker : 39\u001b[0m\n",
      "\u001b[35m[2020-09-27:17:06:07:INFO] Sniff delimiter as ','\u001b[0m\n",
      "\u001b[35m[2020-09-27:17:06:07:INFO] Determined delimiter of CSV input is ','\u001b[0m\n",
      "\u001b[35m[2020-09-27:17:06:07:INFO] Sniff delimiter as ','\u001b[0m\n",
      "\u001b[35m[2020-09-27:17:06:07:INFO] Determined delimiter of CSV input is ','\u001b[0m\n",
      "\u001b[35m[2020-09-27:17:06:07:INFO] Sniff delimiter as ','\u001b[0m\n",
      "\u001b[35m[2020-09-27:17:06:07:INFO] Determined delimiter of CSV input is ','\u001b[0m\n",
      "\u001b[35m[2020-09-27:17:06:07:INFO] Sniff delimiter as ','\u001b[0m\n",
      "\u001b[35m[2020-09-27:17:06:07:INFO] Determined delimiter of CSV input is ','\u001b[0m\n",
      "\u001b[34m[2020-09-27:17:06:09:INFO] Sniff delimiter as ','\u001b[0m\n",
      "\u001b[34m[2020-09-27:17:06:09:INFO] Determined delimiter of CSV input is ','\u001b[0m\n",
      "\u001b[35m[2020-09-27:17:06:09:INFO] Sniff delimiter as ','\u001b[0m\n",
      "\u001b[35m[2020-09-27:17:06:09:INFO] Determined delimiter of CSV input is ','\u001b[0m\n",
      "\u001b[34m[2020-09-27:17:06:09:INFO] Sniff delimiter as ','\u001b[0m\n",
      "\u001b[34m[2020-09-27:17:06:09:INFO] Determined delimiter of CSV input is ','\u001b[0m\n",
      "\u001b[34m[2020-09-27:17:06:09:INFO] Sniff delimiter as ','\u001b[0m\n",
      "\u001b[34m[2020-09-27:17:06:09:INFO] Determined delimiter of CSV input is ','\u001b[0m\n",
      "\u001b[34m[2020-09-27:17:06:10:INFO] Sniff delimiter as ','\u001b[0m\n",
      "\u001b[34m[2020-09-27:17:06:10:INFO] Determined delimiter of CSV input is ','\u001b[0m\n",
      "\u001b[35m[2020-09-27:17:06:09:INFO] Sniff delimiter as ','\u001b[0m\n",
      "\u001b[35m[2020-09-27:17:06:09:INFO] Determined delimiter of CSV input is ','\u001b[0m\n",
      "\u001b[35m[2020-09-27:17:06:09:INFO] Sniff delimiter as ','\u001b[0m\n",
      "\u001b[35m[2020-09-27:17:06:09:INFO] Determined delimiter of CSV input is ','\u001b[0m\n",
      "\u001b[35m[2020-09-27:17:06:10:INFO] Sniff delimiter as ','\u001b[0m\n",
      "\u001b[35m[2020-09-27:17:06:10:INFO] Determined delimiter of CSV input is ','\u001b[0m\n",
      "\u001b[34m[2020-09-27:17:06:12:INFO] Sniff delimiter as ','\u001b[0m\n",
      "\u001b[34m[2020-09-27:17:06:12:INFO] Determined delimiter of CSV input is ','\u001b[0m\n",
      "\u001b[35m[2020-09-27:17:06:12:INFO] Sniff delimiter as ','\u001b[0m\n",
      "\u001b[35m[2020-09-27:17:06:12:INFO] Determined delimiter of CSV input is ','\u001b[0m\n",
      "\u001b[34m[2020-09-27:17:06:12:INFO] Sniff delimiter as ','\u001b[0m\n",
      "\u001b[34m[2020-09-27:17:06:12:INFO] Determined delimiter of CSV input is ','\u001b[0m\n",
      "\u001b[34m[2020-09-27:17:06:12:INFO] Sniff delimiter as ','\u001b[0m\n",
      "\u001b[34m[2020-09-27:17:06:12:INFO] Determined delimiter of CSV input is ','\u001b[0m\n",
      "\u001b[34m[2020-09-27:17:06:12:INFO] Sniff delimiter as ','\u001b[0m\n",
      "\u001b[34m[2020-09-27:17:06:12:INFO] Determined delimiter of CSV input is ','\u001b[0m\n",
      "\u001b[35m[2020-09-27:17:06:12:INFO] Sniff delimiter as ','\u001b[0m\n",
      "\u001b[35m[2020-09-27:17:06:12:INFO] Determined delimiter of CSV input is ','\u001b[0m\n",
      "\u001b[35m[2020-09-27:17:06:12:INFO] Sniff delimiter as ','\u001b[0m\n",
      "\u001b[35m[2020-09-27:17:06:12:INFO] Determined delimiter of CSV input is ','\u001b[0m\n",
      "\u001b[35m[2020-09-27:17:06:12:INFO] Sniff delimiter as ','\u001b[0m\n",
      "\u001b[35m[2020-09-27:17:06:12:INFO] Determined delimiter of CSV input is ','\u001b[0m\n",
      "\u001b[34m[2020-09-27:17:06:15:INFO] Sniff delimiter as ','\u001b[0m\n",
      "\u001b[34m[2020-09-27:17:06:15:INFO] Determined delimiter of CSV input is ','\u001b[0m\n",
      "\u001b[35m[2020-09-27:17:06:15:INFO] Sniff delimiter as ','\u001b[0m\n",
      "\u001b[35m[2020-09-27:17:06:15:INFO] Determined delimiter of CSV input is ','\u001b[0m\n",
      "\u001b[34m[2020-09-27:17:06:17:INFO] Sniff delimiter as ','\u001b[0m\n",
      "\u001b[34m[2020-09-27:17:06:17:INFO] Determined delimiter of CSV input is ','\u001b[0m\n",
      "\u001b[34m[2020-09-27:17:06:17:INFO] Sniff delimiter as ','\u001b[0m\n",
      "\u001b[34m[2020-09-27:17:06:17:INFO] Determined delimiter of CSV input is ','\u001b[0m\n",
      "\u001b[35m[2020-09-27:17:06:17:INFO] Sniff delimiter as ','\u001b[0m\n",
      "\u001b[35m[2020-09-27:17:06:17:INFO] Determined delimiter of CSV input is ','\u001b[0m\n",
      "\u001b[35m[2020-09-27:17:06:17:INFO] Sniff delimiter as ','\u001b[0m\n",
      "\u001b[35m[2020-09-27:17:06:17:INFO] Determined delimiter of CSV input is ','\u001b[0m\n",
      "\u001b[34m[2020-09-27:17:06:17:INFO] Sniff delimiter as ','\u001b[0m\n",
      "\u001b[35m[2020-09-27:17:06:17:INFO] Sniff delimiter as ','\u001b[0m\n",
      "\u001b[34m[2020-09-27:17:06:17:INFO] Determined delimiter of CSV input is ','\u001b[0m\n",
      "\u001b[34m[2020-09-27:17:06:17:INFO] Sniff delimiter as ','\u001b[0m\n",
      "\u001b[34m[2020-09-27:17:06:17:INFO] Determined delimiter of CSV input is ','\u001b[0m\n",
      "\u001b[35m[2020-09-27:17:06:17:INFO] Determined delimiter of CSV input is ','\u001b[0m\n",
      "\u001b[35m[2020-09-27:17:06:17:INFO] Sniff delimiter as ','\u001b[0m\n",
      "\u001b[35m[2020-09-27:17:06:17:INFO] Determined delimiter of CSV input is ','\u001b[0m\n",
      "\u001b[34m[2020-09-27:17:06:19:INFO] Sniff delimiter as ','\u001b[0m\n",
      "\u001b[34m[2020-09-27:17:06:19:INFO] Determined delimiter of CSV input is ','\u001b[0m\n",
      "\u001b[34m[2020-09-27:17:06:19:INFO] Sniff delimiter as ','\u001b[0m\n",
      "\u001b[34m[2020-09-27:17:06:19:INFO] Determined delimiter of CSV input is ','\u001b[0m\n",
      "\u001b[34m[2020-09-27:17:06:19:INFO] Sniff delimiter as ','\u001b[0m\n",
      "\u001b[34m[2020-09-27:17:06:19:INFO] Determined delimiter of CSV input is ','\u001b[0m\n",
      "\u001b[34m[2020-09-27:17:06:20:INFO] Sniff delimiter as ','\u001b[0m\n",
      "\u001b[34m[2020-09-27:17:06:20:INFO] Determined delimiter of CSV input is ','\u001b[0m\n",
      "\u001b[35m[2020-09-27:17:06:19:INFO] Sniff delimiter as ','\u001b[0m\n",
      "\u001b[35m[2020-09-27:17:06:19:INFO] Determined delimiter of CSV input is ','\u001b[0m\n",
      "\u001b[35m[2020-09-27:17:06:19:INFO] Sniff delimiter as ','\u001b[0m\n",
      "\u001b[35m[2020-09-27:17:06:19:INFO] Determined delimiter of CSV input is ','\u001b[0m\n",
      "\u001b[35m[2020-09-27:17:06:19:INFO] Sniff delimiter as ','\u001b[0m\n",
      "\u001b[35m[2020-09-27:17:06:19:INFO] Determined delimiter of CSV input is ','\u001b[0m\n",
      "\u001b[35m[2020-09-27:17:06:20:INFO] Sniff delimiter as ','\u001b[0m\n",
      "\u001b[35m[2020-09-27:17:06:20:INFO] Determined delimiter of CSV input is ','\u001b[0m\n",
      "\u001b[34m[2020-09-27:17:06:21:INFO] Sniff delimiter as ','\u001b[0m\n",
      "\u001b[34m[2020-09-27:17:06:21:INFO] Determined delimiter of CSV input is ','\u001b[0m\n",
      "\u001b[34m[2020-09-27:17:06:22:INFO] Sniff delimiter as ','\u001b[0m\n",
      "\u001b[34m[2020-09-27:17:06:22:INFO] Determined delimiter of CSV input is ','\u001b[0m\n",
      "\u001b[34m[2020-09-27:17:06:22:INFO] Sniff delimiter as ','\u001b[0m\n",
      "\u001b[34m[2020-09-27:17:06:22:INFO] Determined delimiter of CSV input is ','\u001b[0m\n",
      "\u001b[35m[2020-09-27:17:06:21:INFO] Sniff delimiter as ','\u001b[0m\n",
      "\u001b[35m[2020-09-27:17:06:21:INFO] Determined delimiter of CSV input is ','\u001b[0m\n",
      "\u001b[35m[2020-09-27:17:06:22:INFO] Sniff delimiter as ','\u001b[0m\n",
      "\u001b[35m[2020-09-27:17:06:22:INFO] Determined delimiter of CSV input is ','\u001b[0m\n",
      "\u001b[35m[2020-09-27:17:06:22:INFO] Sniff delimiter as ','\u001b[0m\n",
      "\u001b[35m[2020-09-27:17:06:22:INFO] Determined delimiter of CSV input is ','\u001b[0m\n",
      "\u001b[34m[2020-09-27:17:06:22:INFO] Sniff delimiter as ','\u001b[0m\n",
      "\u001b[34m[2020-09-27:17:06:22:INFO] Determined delimiter of CSV input is ','\u001b[0m\n",
      "\u001b[35m[2020-09-27:17:06:22:INFO] Sniff delimiter as ','\u001b[0m\n",
      "\u001b[35m[2020-09-27:17:06:22:INFO] Determined delimiter of CSV input is ','\u001b[0m\n"
     ]
    },
    {
     "name": "stdout",
     "output_type": "stream",
     "text": [
      "\n",
      "\u001b[34m[2020-09-27:17:06:24:INFO] Sniff delimiter as ','\u001b[0m\n",
      "\u001b[34m[2020-09-27:17:06:24:INFO] Determined delimiter of CSV input is ','\u001b[0m\n",
      "\u001b[34m[2020-09-27:17:06:24:INFO] Sniff delimiter as ','\u001b[0m\n",
      "\u001b[34m[2020-09-27:17:06:24:INFO] Determined delimiter of CSV input is ','\u001b[0m\n",
      "\u001b[35m[2020-09-27:17:06:24:INFO] Sniff delimiter as ','\u001b[0m\n",
      "\u001b[35m[2020-09-27:17:06:24:INFO] Determined delimiter of CSV input is ','\u001b[0m\n",
      "\u001b[35m[2020-09-27:17:06:24:INFO] Sniff delimiter as ','\u001b[0m\n",
      "\u001b[35m[2020-09-27:17:06:24:INFO] Determined delimiter of CSV input is ','\u001b[0m\n",
      "\u001b[34m[2020-09-27:17:06:24:INFO] Sniff delimiter as ','\u001b[0m\n",
      "\u001b[34m[2020-09-27:17:06:24:INFO] Determined delimiter of CSV input is ','\u001b[0m\n",
      "\u001b[35m[2020-09-27:17:06:24:INFO] Sniff delimiter as ','\u001b[0m\n",
      "\u001b[35m[2020-09-27:17:06:24:INFO] Determined delimiter of CSV input is ','\u001b[0m\n",
      "\u001b[34m[2020-09-27:17:06:26:INFO] Sniff delimiter as ','\u001b[0m\n",
      "\u001b[34m[2020-09-27:17:06:26:INFO] Determined delimiter of CSV input is ','\u001b[0m\n",
      "\u001b[34m[2020-09-27:17:06:26:INFO] Sniff delimiter as ','\u001b[0m\n",
      "\u001b[34m[2020-09-27:17:06:26:INFO] Determined delimiter of CSV input is ','\u001b[0m\n",
      "\u001b[34m[2020-09-27:17:06:27:INFO] Sniff delimiter as ','\u001b[0m\n",
      "\u001b[35m[2020-09-27:17:06:26:INFO] Sniff delimiter as ','\u001b[0m\n",
      "\u001b[35m[2020-09-27:17:06:26:INFO] Determined delimiter of CSV input is ','\u001b[0m\n",
      "\u001b[35m[2020-09-27:17:06:26:INFO] Sniff delimiter as ','\u001b[0m\n",
      "\u001b[35m[2020-09-27:17:06:26:INFO] Determined delimiter of CSV input is ','\u001b[0m\n",
      "\u001b[35m[2020-09-27:17:06:27:INFO] Sniff delimiter as ','\u001b[0m\n",
      "\u001b[34m[2020-09-27:17:06:27:INFO] Determined delimiter of CSV input is ','\u001b[0m\n",
      "\u001b[35m[2020-09-27:17:06:27:INFO] Determined delimiter of CSV input is ','\u001b[0m\n",
      "\u001b[34m[2020-09-27:17:06:27:INFO] Sniff delimiter as ','\u001b[0m\n",
      "\u001b[34m[2020-09-27:17:06:27:INFO] Determined delimiter of CSV input is ','\u001b[0m\n",
      "\u001b[35m[2020-09-27:17:06:27:INFO] Sniff delimiter as ','\u001b[0m\n",
      "\u001b[35m[2020-09-27:17:06:27:INFO] Determined delimiter of CSV input is ','\u001b[0m\n",
      "\u001b[34m[2020-09-27:17:06:29:INFO] Sniff delimiter as ','\u001b[0m\n",
      "\u001b[34m[2020-09-27:17:06:29:INFO] Determined delimiter of CSV input is ','\u001b[0m\n",
      "\u001b[35m[2020-09-27:17:06:29:INFO] Sniff delimiter as ','\u001b[0m\n",
      "\u001b[35m[2020-09-27:17:06:29:INFO] Determined delimiter of CSV input is ','\u001b[0m\n",
      "\u001b[34m[2020-09-27:17:06:29:INFO] Sniff delimiter as ','\u001b[0m\n",
      "\u001b[34m[2020-09-27:17:06:29:INFO] Determined delimiter of CSV input is ','\u001b[0m\n",
      "\u001b[34m[2020-09-27:17:06:29:INFO] Sniff delimiter as ','\u001b[0m\n",
      "\u001b[34m[2020-09-27:17:06:29:INFO] Determined delimiter of CSV input is ','\u001b[0m\n",
      "\u001b[34m[2020-09-27:17:06:29:INFO] Sniff delimiter as ','\u001b[0m\n",
      "\u001b[34m[2020-09-27:17:06:29:INFO] Determined delimiter of CSV input is ','\u001b[0m\n",
      "\u001b[35m[2020-09-27:17:06:29:INFO] Sniff delimiter as ','\u001b[0m\n",
      "\u001b[35m[2020-09-27:17:06:29:INFO] Determined delimiter of CSV input is ','\u001b[0m\n",
      "\u001b[35m[2020-09-27:17:06:29:INFO] Sniff delimiter as ','\u001b[0m\n",
      "\u001b[35m[2020-09-27:17:06:29:INFO] Determined delimiter of CSV input is ','\u001b[0m\n",
      "\u001b[35m[2020-09-27:17:06:29:INFO] Sniff delimiter as ','\u001b[0m\n",
      "\u001b[35m[2020-09-27:17:06:29:INFO] Determined delimiter of CSV input is ','\u001b[0m\n"
     ]
    }
   ],
   "source": [
    "new_xgb_transformer.transform(test_location, content_type='text/csv', split_type='Line')\n",
    "new_xgb_transformer.wait()"
   ]
  },
  {
   "cell_type": "code",
   "execution_count": 89,
   "metadata": {},
   "outputs": [
    {
     "ename": "OSError",
     "evalue": "[Errno 12] Cannot allocate memory",
     "output_type": "error",
     "traceback": [
      "\u001b[0;31m---------------------------------------------------------------------------\u001b[0m",
      "\u001b[0;31mOSError\u001b[0m                                   Traceback (most recent call last)",
      "\u001b[0;32m<ipython-input-89-1dab5f3b624f>\u001b[0m in \u001b[0;36m<module>\u001b[0;34m\u001b[0m\n\u001b[0;32m----> 1\u001b[0;31m \u001b[0mget_ipython\u001b[0m\u001b[0;34m(\u001b[0m\u001b[0;34m)\u001b[0m\u001b[0;34m.\u001b[0m\u001b[0msystem\u001b[0m\u001b[0;34m(\u001b[0m\u001b[0;34m'aws s3 cp --recursive $new_xgb_transformer.output_path $data_dir'\u001b[0m\u001b[0;34m)\u001b[0m\u001b[0;34m\u001b[0m\u001b[0;34m\u001b[0m\u001b[0m\n\u001b[0m",
      "\u001b[0;32m~/anaconda3/envs/pytorch_p36/lib/python3.6/site-packages/ipykernel/zmqshell.py\u001b[0m in \u001b[0;36msystem_piped\u001b[0;34m(self, cmd)\u001b[0m\n\u001b[1;32m    633\u001b[0m                 \u001b[0mself\u001b[0m\u001b[0;34m.\u001b[0m\u001b[0muser_ns\u001b[0m\u001b[0;34m[\u001b[0m\u001b[0;34m'_exit_code'\u001b[0m\u001b[0;34m]\u001b[0m \u001b[0;34m=\u001b[0m \u001b[0msystem\u001b[0m\u001b[0;34m(\u001b[0m\u001b[0mcmd\u001b[0m\u001b[0;34m)\u001b[0m\u001b[0;34m\u001b[0m\u001b[0;34m\u001b[0m\u001b[0m\n\u001b[1;32m    634\u001b[0m         \u001b[0;32melse\u001b[0m\u001b[0;34m:\u001b[0m\u001b[0;34m\u001b[0m\u001b[0;34m\u001b[0m\u001b[0m\n\u001b[0;32m--> 635\u001b[0;31m             \u001b[0mself\u001b[0m\u001b[0;34m.\u001b[0m\u001b[0muser_ns\u001b[0m\u001b[0;34m[\u001b[0m\u001b[0;34m'_exit_code'\u001b[0m\u001b[0;34m]\u001b[0m \u001b[0;34m=\u001b[0m \u001b[0msystem\u001b[0m\u001b[0;34m(\u001b[0m\u001b[0mself\u001b[0m\u001b[0;34m.\u001b[0m\u001b[0mvar_expand\u001b[0m\u001b[0;34m(\u001b[0m\u001b[0mcmd\u001b[0m\u001b[0;34m,\u001b[0m \u001b[0mdepth\u001b[0m\u001b[0;34m=\u001b[0m\u001b[0;36m1\u001b[0m\u001b[0;34m)\u001b[0m\u001b[0;34m)\u001b[0m\u001b[0;34m\u001b[0m\u001b[0;34m\u001b[0m\u001b[0m\n\u001b[0m\u001b[1;32m    636\u001b[0m \u001b[0;34m\u001b[0m\u001b[0m\n\u001b[1;32m    637\u001b[0m     \u001b[0;31m# Ensure new system_piped implementation is used\u001b[0m\u001b[0;34m\u001b[0m\u001b[0;34m\u001b[0m\u001b[0;34m\u001b[0m\u001b[0m\n",
      "\u001b[0;32m~/anaconda3/envs/pytorch_p36/lib/python3.6/site-packages/IPython/utils/_process_posix.py\u001b[0m in \u001b[0;36msystem\u001b[0;34m(self, cmd)\u001b[0m\n\u001b[1;32m    155\u001b[0m                 \u001b[0mchild\u001b[0m \u001b[0;34m=\u001b[0m \u001b[0mpexpect\u001b[0m\u001b[0;34m.\u001b[0m\u001b[0mspawnb\u001b[0m\u001b[0;34m(\u001b[0m\u001b[0mself\u001b[0m\u001b[0;34m.\u001b[0m\u001b[0msh\u001b[0m\u001b[0;34m,\u001b[0m \u001b[0margs\u001b[0m\u001b[0;34m=\u001b[0m\u001b[0;34m[\u001b[0m\u001b[0;34m'-c'\u001b[0m\u001b[0;34m,\u001b[0m \u001b[0mcmd\u001b[0m\u001b[0;34m]\u001b[0m\u001b[0;34m)\u001b[0m \u001b[0;31m# Pexpect-U\u001b[0m\u001b[0;34m\u001b[0m\u001b[0;34m\u001b[0m\u001b[0m\n\u001b[1;32m    156\u001b[0m             \u001b[0;32melse\u001b[0m\u001b[0;34m:\u001b[0m\u001b[0;34m\u001b[0m\u001b[0;34m\u001b[0m\u001b[0m\n\u001b[0;32m--> 157\u001b[0;31m                 \u001b[0mchild\u001b[0m \u001b[0;34m=\u001b[0m \u001b[0mpexpect\u001b[0m\u001b[0;34m.\u001b[0m\u001b[0mspawn\u001b[0m\u001b[0;34m(\u001b[0m\u001b[0mself\u001b[0m\u001b[0;34m.\u001b[0m\u001b[0msh\u001b[0m\u001b[0;34m,\u001b[0m \u001b[0margs\u001b[0m\u001b[0;34m=\u001b[0m\u001b[0;34m[\u001b[0m\u001b[0;34m'-c'\u001b[0m\u001b[0;34m,\u001b[0m \u001b[0mcmd\u001b[0m\u001b[0;34m]\u001b[0m\u001b[0;34m)\u001b[0m  \u001b[0;31m# Vanilla Pexpect\u001b[0m\u001b[0;34m\u001b[0m\u001b[0;34m\u001b[0m\u001b[0m\n\u001b[0m\u001b[1;32m    158\u001b[0m             \u001b[0mflush\u001b[0m \u001b[0;34m=\u001b[0m \u001b[0msys\u001b[0m\u001b[0;34m.\u001b[0m\u001b[0mstdout\u001b[0m\u001b[0;34m.\u001b[0m\u001b[0mflush\u001b[0m\u001b[0;34m\u001b[0m\u001b[0;34m\u001b[0m\u001b[0m\n\u001b[1;32m    159\u001b[0m             \u001b[0;32mwhile\u001b[0m \u001b[0;32mTrue\u001b[0m\u001b[0;34m:\u001b[0m\u001b[0;34m\u001b[0m\u001b[0;34m\u001b[0m\u001b[0m\n",
      "\u001b[0;32m~/anaconda3/envs/pytorch_p36/lib/python3.6/site-packages/pexpect/pty_spawn.py\u001b[0m in \u001b[0;36m__init__\u001b[0;34m(self, command, args, timeout, maxread, searchwindowsize, logfile, cwd, env, ignore_sighup, echo, preexec_fn, encoding, codec_errors, dimensions, use_poll)\u001b[0m\n\u001b[1;32m    203\u001b[0m             \u001b[0mself\u001b[0m\u001b[0;34m.\u001b[0m\u001b[0mname\u001b[0m \u001b[0;34m=\u001b[0m \u001b[0;34m'<pexpect factory incomplete>'\u001b[0m\u001b[0;34m\u001b[0m\u001b[0;34m\u001b[0m\u001b[0m\n\u001b[1;32m    204\u001b[0m         \u001b[0;32melse\u001b[0m\u001b[0;34m:\u001b[0m\u001b[0;34m\u001b[0m\u001b[0;34m\u001b[0m\u001b[0m\n\u001b[0;32m--> 205\u001b[0;31m             \u001b[0mself\u001b[0m\u001b[0;34m.\u001b[0m\u001b[0m_spawn\u001b[0m\u001b[0;34m(\u001b[0m\u001b[0mcommand\u001b[0m\u001b[0;34m,\u001b[0m \u001b[0margs\u001b[0m\u001b[0;34m,\u001b[0m \u001b[0mpreexec_fn\u001b[0m\u001b[0;34m,\u001b[0m \u001b[0mdimensions\u001b[0m\u001b[0;34m)\u001b[0m\u001b[0;34m\u001b[0m\u001b[0;34m\u001b[0m\u001b[0m\n\u001b[0m\u001b[1;32m    206\u001b[0m         \u001b[0mself\u001b[0m\u001b[0;34m.\u001b[0m\u001b[0muse_poll\u001b[0m \u001b[0;34m=\u001b[0m \u001b[0muse_poll\u001b[0m\u001b[0;34m\u001b[0m\u001b[0;34m\u001b[0m\u001b[0m\n\u001b[1;32m    207\u001b[0m \u001b[0;34m\u001b[0m\u001b[0m\n",
      "\u001b[0;32m~/anaconda3/envs/pytorch_p36/lib/python3.6/site-packages/pexpect/pty_spawn.py\u001b[0m in \u001b[0;36m_spawn\u001b[0;34m(self, command, args, preexec_fn, dimensions)\u001b[0m\n\u001b[1;32m    302\u001b[0m \u001b[0;34m\u001b[0m\u001b[0m\n\u001b[1;32m    303\u001b[0m         self.ptyproc = self._spawnpty(self.args, env=self.env,\n\u001b[0;32m--> 304\u001b[0;31m                                      cwd=self.cwd, **kwargs)\n\u001b[0m\u001b[1;32m    305\u001b[0m \u001b[0;34m\u001b[0m\u001b[0m\n\u001b[1;32m    306\u001b[0m         \u001b[0mself\u001b[0m\u001b[0;34m.\u001b[0m\u001b[0mpid\u001b[0m \u001b[0;34m=\u001b[0m \u001b[0mself\u001b[0m\u001b[0;34m.\u001b[0m\u001b[0mptyproc\u001b[0m\u001b[0;34m.\u001b[0m\u001b[0mpid\u001b[0m\u001b[0;34m\u001b[0m\u001b[0;34m\u001b[0m\u001b[0m\n",
      "\u001b[0;32m~/anaconda3/envs/pytorch_p36/lib/python3.6/site-packages/pexpect/pty_spawn.py\u001b[0m in \u001b[0;36m_spawnpty\u001b[0;34m(self, args, **kwargs)\u001b[0m\n\u001b[1;32m    313\u001b[0m     \u001b[0;32mdef\u001b[0m \u001b[0m_spawnpty\u001b[0m\u001b[0;34m(\u001b[0m\u001b[0mself\u001b[0m\u001b[0;34m,\u001b[0m \u001b[0margs\u001b[0m\u001b[0;34m,\u001b[0m \u001b[0;34m**\u001b[0m\u001b[0mkwargs\u001b[0m\u001b[0;34m)\u001b[0m\u001b[0;34m:\u001b[0m\u001b[0;34m\u001b[0m\u001b[0;34m\u001b[0m\u001b[0m\n\u001b[1;32m    314\u001b[0m         \u001b[0;34m'''Spawn a pty and return an instance of PtyProcess.'''\u001b[0m\u001b[0;34m\u001b[0m\u001b[0;34m\u001b[0m\u001b[0m\n\u001b[0;32m--> 315\u001b[0;31m         \u001b[0;32mreturn\u001b[0m \u001b[0mptyprocess\u001b[0m\u001b[0;34m.\u001b[0m\u001b[0mPtyProcess\u001b[0m\u001b[0;34m.\u001b[0m\u001b[0mspawn\u001b[0m\u001b[0;34m(\u001b[0m\u001b[0margs\u001b[0m\u001b[0;34m,\u001b[0m \u001b[0;34m**\u001b[0m\u001b[0mkwargs\u001b[0m\u001b[0;34m)\u001b[0m\u001b[0;34m\u001b[0m\u001b[0;34m\u001b[0m\u001b[0m\n\u001b[0m\u001b[1;32m    316\u001b[0m \u001b[0;34m\u001b[0m\u001b[0m\n\u001b[1;32m    317\u001b[0m     \u001b[0;32mdef\u001b[0m \u001b[0mclose\u001b[0m\u001b[0;34m(\u001b[0m\u001b[0mself\u001b[0m\u001b[0;34m,\u001b[0m \u001b[0mforce\u001b[0m\u001b[0;34m=\u001b[0m\u001b[0;32mTrue\u001b[0m\u001b[0;34m)\u001b[0m\u001b[0;34m:\u001b[0m\u001b[0;34m\u001b[0m\u001b[0;34m\u001b[0m\u001b[0m\n",
      "\u001b[0;32m~/anaconda3/envs/pytorch_p36/lib/python3.6/site-packages/ptyprocess/ptyprocess.py\u001b[0m in \u001b[0;36mspawn\u001b[0;34m(cls, argv, cwd, env, echo, preexec_fn, dimensions)\u001b[0m\n\u001b[1;32m    224\u001b[0m \u001b[0;34m\u001b[0m\u001b[0m\n\u001b[1;32m    225\u001b[0m         \u001b[0;32mif\u001b[0m \u001b[0muse_native_pty_fork\u001b[0m\u001b[0;34m:\u001b[0m\u001b[0;34m\u001b[0m\u001b[0;34m\u001b[0m\u001b[0m\n\u001b[0;32m--> 226\u001b[0;31m             \u001b[0mpid\u001b[0m\u001b[0;34m,\u001b[0m \u001b[0mfd\u001b[0m \u001b[0;34m=\u001b[0m \u001b[0mpty\u001b[0m\u001b[0;34m.\u001b[0m\u001b[0mfork\u001b[0m\u001b[0;34m(\u001b[0m\u001b[0;34m)\u001b[0m\u001b[0;34m\u001b[0m\u001b[0;34m\u001b[0m\u001b[0m\n\u001b[0m\u001b[1;32m    227\u001b[0m         \u001b[0;32melse\u001b[0m\u001b[0;34m:\u001b[0m\u001b[0;34m\u001b[0m\u001b[0;34m\u001b[0m\u001b[0m\n\u001b[1;32m    228\u001b[0m             \u001b[0;31m# Use internal fork_pty, for Solaris\u001b[0m\u001b[0;34m\u001b[0m\u001b[0;34m\u001b[0m\u001b[0;34m\u001b[0m\u001b[0m\n",
      "\u001b[0;32m~/anaconda3/envs/pytorch_p36/lib/python3.6/pty.py\u001b[0m in \u001b[0;36mfork\u001b[0;34m()\u001b[0m\n\u001b[1;32m     95\u001b[0m \u001b[0;34m\u001b[0m\u001b[0m\n\u001b[1;32m     96\u001b[0m     \u001b[0mmaster_fd\u001b[0m\u001b[0;34m,\u001b[0m \u001b[0mslave_fd\u001b[0m \u001b[0;34m=\u001b[0m \u001b[0mopenpty\u001b[0m\u001b[0;34m(\u001b[0m\u001b[0;34m)\u001b[0m\u001b[0;34m\u001b[0m\u001b[0;34m\u001b[0m\u001b[0m\n\u001b[0;32m---> 97\u001b[0;31m     \u001b[0mpid\u001b[0m \u001b[0;34m=\u001b[0m \u001b[0mos\u001b[0m\u001b[0;34m.\u001b[0m\u001b[0mfork\u001b[0m\u001b[0;34m(\u001b[0m\u001b[0;34m)\u001b[0m\u001b[0;34m\u001b[0m\u001b[0;34m\u001b[0m\u001b[0m\n\u001b[0m\u001b[1;32m     98\u001b[0m     \u001b[0;32mif\u001b[0m \u001b[0mpid\u001b[0m \u001b[0;34m==\u001b[0m \u001b[0mCHILD\u001b[0m\u001b[0;34m:\u001b[0m\u001b[0;34m\u001b[0m\u001b[0;34m\u001b[0m\u001b[0m\n\u001b[1;32m     99\u001b[0m         \u001b[0;31m# Establish a new session.\u001b[0m\u001b[0;34m\u001b[0m\u001b[0;34m\u001b[0m\u001b[0;34m\u001b[0m\u001b[0m\n",
      "\u001b[0;31mOSError\u001b[0m: [Errno 12] Cannot allocate memory"
     ]
    }
   ],
   "source": [
    "!aws s3 cp --recursive $new_xgb_transformer.output_path $data_dir"
   ]
  },
  {
   "cell_type": "code",
   "execution_count": null,
   "metadata": {},
   "outputs": [],
   "source": [
    "predictions = pd.read_csv(os.path.join(data_dir, 'test.csv.out'), header=None)\n",
    "predictions = [round(num) for num in predictions.squeeze().values]"
   ]
  },
  {
   "cell_type": "code",
   "execution_count": null,
   "metadata": {},
   "outputs": [],
   "source": [
    "accuracy_score(test_Y, predictions)"
   ]
  },
  {
   "cell_type": "markdown",
   "metadata": {},
   "source": [
    "It would appear that our new XGBoost model is performing quite well on the old test data. This gives us some indication that our new model should be put into production and replace our original model."
   ]
  },
  {
   "cell_type": "markdown",
   "metadata": {},
   "source": [
    "## Step 6: (TODO) Updating the Model\n",
    "\n",
    "So we have a new model that we'd like to use instead of one that is already deployed. Furthermore, we are assuming that the model that is already deployed is being used in some sort of application. As a result, what we want to do is update the existing endpoint so that it uses our new model.\n",
    "\n",
    "Of course, to do this we need to create an endpoint configuration for our newly created model.\n",
    "\n",
    "First, note that we can access the name of the model that we created above using the `model_name` property of the transformer. The reason for this is that in order for the transformer to create a batch transform job it needs to first create the model object inside of SageMaker. Since we've sort of already done this we should take advantage of it."
   ]
  },
  {
   "cell_type": "code",
   "execution_count": 92,
   "metadata": {},
   "outputs": [
    {
     "data": {
      "text/plain": [
       "'xgboost-2020-09-27-16-22-28-607'"
      ]
     },
     "execution_count": 92,
     "metadata": {},
     "output_type": "execute_result"
    }
   ],
   "source": [
    "new_xgb_transformer.model_name"
   ]
  },
  {
   "cell_type": "markdown",
   "metadata": {},
   "source": [
    "Next, we create an endpoint configuration using the low level approach of creating the dictionary object which describes the endpoint configuration we want.\n",
    "\n",
    "**TODO:** Using the low level approach, create a new endpoint configuration. Don't forget that it needs a name and that the name needs to be unique. If you get stuck, try looking at the Boston Housing Low Level Deployment tutorial notebook."
   ]
  },
  {
   "cell_type": "code",
   "execution_count": 94,
   "metadata": {},
   "outputs": [],
   "source": [
    "from time import gmtime, strftime\n",
    "\n",
    "\n",
    "# TODO: Give our endpoint configuration a name. Remember, it needs to be unique.\n",
    "new_xgb_endpoint_config_name = 'sentiment-update-xgb-boost' + strftime('%Y-%m-%d-%H-%M-%S',gmtime())\n",
    "\n",
    "# TODO: Using the SageMaker Client, construct the endpoint configuration.\n",
    "new_xgb_endpoint_config_info = session.sagemaker_client.create_endpoint_config(EndpointConfigName=new_xgb_endpoint_config_name,\n",
    "                                                                              ProductionVariants=[{\n",
    "                                                                                  \"InstanceType\":'ml.m4.xlarge',\n",
    "                                                                                  'InitialVariantWeight':1,\n",
    "                                                                                  'InitialInstanceCount':1,\n",
    "                                                                                  'ModelName':new_xgb_transformer.model_name,\n",
    "                                                                                  'VariantName':'XGB-Model'\n",
    "                                                                               }])"
   ]
  },
  {
   "cell_type": "markdown",
   "metadata": {},
   "source": [
    "Once the endpoint configuration has been constructed, it is a straightforward matter to ask SageMaker to update the existing endpoint so that it uses the new endpoint configuration.\n",
    "\n",
    "Of note here is that SageMaker does this in such a way that there is no downtime. Essentially, SageMaker deploys the new model and then updates the original endpoint so that it points to the newly deployed model. After that, the original model is shut down. This way, whatever app is using our endpoint won't notice that we've changed the model that is being used.\n",
    "\n",
    "**TODO:** Use the SageMaker Client to update the endpoint that you deployed earlier."
   ]
  },
  {
   "cell_type": "code",
   "execution_count": 95,
   "metadata": {},
   "outputs": [
    {
     "data": {
      "text/plain": [
       "{'EndpointArn': 'arn:aws:sagemaker:us-east-2:693733391946:endpoint/xgboost-2020-09-27-15-17-36-530',\n",
       " 'ResponseMetadata': {'RequestId': '556e44c1-6ced-4a79-9c14-a8b48360f2e8',\n",
       "  'HTTPStatusCode': 200,\n",
       "  'HTTPHeaders': {'x-amzn-requestid': '556e44c1-6ced-4a79-9c14-a8b48360f2e8',\n",
       "   'content-type': 'application/x-amz-json-1.1',\n",
       "   'content-length': '99',\n",
       "   'date': 'Sun, 27 Sep 2020 17:09:49 GMT'},\n",
       "  'RetryAttempts': 0}}"
      ]
     },
     "execution_count": 95,
     "metadata": {},
     "output_type": "execute_result"
    }
   ],
   "source": [
    "# TODO: Update the xgb_predictor.endpoint so that it uses new_xgb_endpoint_config_name.\n",
    "session.sagemaker_client.update_endpoint(EndpointName=xgb_predictor.endpoint, EndpointConfigName=new_xgb_endpoint_config_name)"
   ]
  },
  {
   "cell_type": "markdown",
   "metadata": {},
   "source": [
    "And, as is generally the case with SageMaker requests, this is being done in the background so if we want to wait for it to complete we need to call the appropriate method."
   ]
  },
  {
   "cell_type": "code",
   "execution_count": 96,
   "metadata": {},
   "outputs": [
    {
     "name": "stdout",
     "output_type": "stream",
     "text": [
      "-------------!"
     ]
    },
    {
     "data": {
      "text/plain": [
       "{'EndpointName': 'xgboost-2020-09-27-15-17-36-530',\n",
       " 'EndpointArn': 'arn:aws:sagemaker:us-east-2:693733391946:endpoint/xgboost-2020-09-27-15-17-36-530',\n",
       " 'EndpointConfigName': 'sentiment-update-xgb-boost2020-09-27-17-09-46',\n",
       " 'ProductionVariants': [{'VariantName': 'XGB-Model',\n",
       "   'DeployedImages': [{'SpecifiedImage': '825641698319.dkr.ecr.us-east-2.amazonaws.com/xgboost:1',\n",
       "     'ResolvedImage': '825641698319.dkr.ecr.us-east-2.amazonaws.com/xgboost@sha256:52e3bbc5f2a9462bed15983634d6f615439afd4e81e8778337d734c93083bd5e',\n",
       "     'ResolutionTime': datetime.datetime(2020, 9, 27, 17, 9, 53, 662000, tzinfo=tzlocal())}],\n",
       "   'CurrentWeight': 1.0,\n",
       "   'DesiredWeight': 1.0,\n",
       "   'CurrentInstanceCount': 1,\n",
       "   'DesiredInstanceCount': 1}],\n",
       " 'EndpointStatus': 'InService',\n",
       " 'CreationTime': datetime.datetime(2020, 9, 27, 15, 35, 48, 481000, tzinfo=tzlocal()),\n",
       " 'LastModifiedTime': datetime.datetime(2020, 9, 27, 17, 15, 59, 455000, tzinfo=tzlocal()),\n",
       " 'ResponseMetadata': {'RequestId': '338fa8e8-6f2e-4873-94c6-1d408f3c3fe9',\n",
       "  'HTTPStatusCode': 200,\n",
       "  'HTTPHeaders': {'x-amzn-requestid': '338fa8e8-6f2e-4873-94c6-1d408f3c3fe9',\n",
       "   'content-type': 'application/x-amz-json-1.1',\n",
       "   'content-length': '727',\n",
       "   'date': 'Sun, 27 Sep 2020 17:16:23 GMT'},\n",
       "  'RetryAttempts': 0}}"
      ]
     },
     "execution_count": 96,
     "metadata": {},
     "output_type": "execute_result"
    }
   ],
   "source": [
    "session.wait_for_endpoint(xgb_predictor.endpoint)"
   ]
  },
  {
   "cell_type": "markdown",
   "metadata": {},
   "source": [
    "## Step 7: Delete the Endpoint\n",
    "\n",
    "Of course, since we are done with the deployed endpoint we need to make sure to shut it down, otherwise we will continue to be charged for it."
   ]
  },
  {
   "cell_type": "code",
   "execution_count": 97,
   "metadata": {},
   "outputs": [],
   "source": [
    "xgb_predictor.delete_endpoint()"
   ]
  },
  {
   "cell_type": "markdown",
   "metadata": {},
   "source": [
    "## Some Additional Questions\n",
    "\n",
    "This notebook is a little different from the other notebooks in this module. In part, this is because it is meant to be a little bit closer to the type of problem you may face in a real world scenario. Of course, this problem is a very easy one with a prescribed solution, but there are many other interesting questions that we did not consider here and that you may wish to consider yourself.\n",
    "\n",
    "For example,\n",
    "- What other ways could the underlying distribution change?\n",
    "- Is it a good idea to re-train the model using only the new data?\n",
    "- What would change if the quantity of new data wasn't large. Say you only received 500 samples?\n"
   ]
  },
  {
   "cell_type": "markdown",
   "metadata": {},
   "source": [
    "## Optional: Clean up\n",
    "\n",
    "The default notebook instance on SageMaker doesn't have a lot of excess disk space available. As you continue to complete and execute notebooks you will eventually fill up this disk space, leading to errors which can be difficult to diagnose. Once you are completely finished using a notebook it is a good idea to remove the files that you created along the way. Of course, you can do this from the terminal or from the notebook hub if you would like. The cell below contains some commands to clean up the created files from within the notebook."
   ]
  },
  {
   "cell_type": "code",
   "execution_count": 98,
   "metadata": {},
   "outputs": [
    {
     "ename": "OSError",
     "evalue": "[Errno 12] Cannot allocate memory",
     "output_type": "error",
     "traceback": [
      "\u001b[0;31m---------------------------------------------------------------------------\u001b[0m",
      "\u001b[0;31mOSError\u001b[0m                                   Traceback (most recent call last)",
      "\u001b[0;32m<ipython-input-98-5047072eb3f9>\u001b[0m in \u001b[0;36m<module>\u001b[0;34m\u001b[0m\n\u001b[1;32m      1\u001b[0m \u001b[0;31m# First we will remove all of the files contained in the data_dir directory\u001b[0m\u001b[0;34m\u001b[0m\u001b[0;34m\u001b[0m\u001b[0;34m\u001b[0m\u001b[0m\n\u001b[0;32m----> 2\u001b[0;31m \u001b[0mget_ipython\u001b[0m\u001b[0;34m(\u001b[0m\u001b[0;34m)\u001b[0m\u001b[0;34m.\u001b[0m\u001b[0msystem\u001b[0m\u001b[0;34m(\u001b[0m\u001b[0;34m'rm $data_dir/*'\u001b[0m\u001b[0;34m)\u001b[0m\u001b[0;34m\u001b[0m\u001b[0;34m\u001b[0m\u001b[0m\n\u001b[0m\u001b[1;32m      3\u001b[0m \u001b[0;34m\u001b[0m\u001b[0m\n\u001b[1;32m      4\u001b[0m \u001b[0;31m# And then we delete the directory itself\u001b[0m\u001b[0;34m\u001b[0m\u001b[0;34m\u001b[0m\u001b[0;34m\u001b[0m\u001b[0m\n\u001b[1;32m      5\u001b[0m \u001b[0mget_ipython\u001b[0m\u001b[0;34m(\u001b[0m\u001b[0;34m)\u001b[0m\u001b[0;34m.\u001b[0m\u001b[0msystem\u001b[0m\u001b[0;34m(\u001b[0m\u001b[0;34m'rmdir $data_dir'\u001b[0m\u001b[0;34m)\u001b[0m\u001b[0;34m\u001b[0m\u001b[0;34m\u001b[0m\u001b[0m\n",
      "\u001b[0;32m~/anaconda3/envs/pytorch_p36/lib/python3.6/site-packages/ipykernel/zmqshell.py\u001b[0m in \u001b[0;36msystem_piped\u001b[0;34m(self, cmd)\u001b[0m\n\u001b[1;32m    633\u001b[0m                 \u001b[0mself\u001b[0m\u001b[0;34m.\u001b[0m\u001b[0muser_ns\u001b[0m\u001b[0;34m[\u001b[0m\u001b[0;34m'_exit_code'\u001b[0m\u001b[0;34m]\u001b[0m \u001b[0;34m=\u001b[0m \u001b[0msystem\u001b[0m\u001b[0;34m(\u001b[0m\u001b[0mcmd\u001b[0m\u001b[0;34m)\u001b[0m\u001b[0;34m\u001b[0m\u001b[0;34m\u001b[0m\u001b[0m\n\u001b[1;32m    634\u001b[0m         \u001b[0;32melse\u001b[0m\u001b[0;34m:\u001b[0m\u001b[0;34m\u001b[0m\u001b[0;34m\u001b[0m\u001b[0m\n\u001b[0;32m--> 635\u001b[0;31m             \u001b[0mself\u001b[0m\u001b[0;34m.\u001b[0m\u001b[0muser_ns\u001b[0m\u001b[0;34m[\u001b[0m\u001b[0;34m'_exit_code'\u001b[0m\u001b[0;34m]\u001b[0m \u001b[0;34m=\u001b[0m \u001b[0msystem\u001b[0m\u001b[0;34m(\u001b[0m\u001b[0mself\u001b[0m\u001b[0;34m.\u001b[0m\u001b[0mvar_expand\u001b[0m\u001b[0;34m(\u001b[0m\u001b[0mcmd\u001b[0m\u001b[0;34m,\u001b[0m \u001b[0mdepth\u001b[0m\u001b[0;34m=\u001b[0m\u001b[0;36m1\u001b[0m\u001b[0;34m)\u001b[0m\u001b[0;34m)\u001b[0m\u001b[0;34m\u001b[0m\u001b[0;34m\u001b[0m\u001b[0m\n\u001b[0m\u001b[1;32m    636\u001b[0m \u001b[0;34m\u001b[0m\u001b[0m\n\u001b[1;32m    637\u001b[0m     \u001b[0;31m# Ensure new system_piped implementation is used\u001b[0m\u001b[0;34m\u001b[0m\u001b[0;34m\u001b[0m\u001b[0;34m\u001b[0m\u001b[0m\n",
      "\u001b[0;32m~/anaconda3/envs/pytorch_p36/lib/python3.6/site-packages/IPython/utils/_process_posix.py\u001b[0m in \u001b[0;36msystem\u001b[0;34m(self, cmd)\u001b[0m\n\u001b[1;32m    155\u001b[0m                 \u001b[0mchild\u001b[0m \u001b[0;34m=\u001b[0m \u001b[0mpexpect\u001b[0m\u001b[0;34m.\u001b[0m\u001b[0mspawnb\u001b[0m\u001b[0;34m(\u001b[0m\u001b[0mself\u001b[0m\u001b[0;34m.\u001b[0m\u001b[0msh\u001b[0m\u001b[0;34m,\u001b[0m \u001b[0margs\u001b[0m\u001b[0;34m=\u001b[0m\u001b[0;34m[\u001b[0m\u001b[0;34m'-c'\u001b[0m\u001b[0;34m,\u001b[0m \u001b[0mcmd\u001b[0m\u001b[0;34m]\u001b[0m\u001b[0;34m)\u001b[0m \u001b[0;31m# Pexpect-U\u001b[0m\u001b[0;34m\u001b[0m\u001b[0;34m\u001b[0m\u001b[0m\n\u001b[1;32m    156\u001b[0m             \u001b[0;32melse\u001b[0m\u001b[0;34m:\u001b[0m\u001b[0;34m\u001b[0m\u001b[0;34m\u001b[0m\u001b[0m\n\u001b[0;32m--> 157\u001b[0;31m                 \u001b[0mchild\u001b[0m \u001b[0;34m=\u001b[0m \u001b[0mpexpect\u001b[0m\u001b[0;34m.\u001b[0m\u001b[0mspawn\u001b[0m\u001b[0;34m(\u001b[0m\u001b[0mself\u001b[0m\u001b[0;34m.\u001b[0m\u001b[0msh\u001b[0m\u001b[0;34m,\u001b[0m \u001b[0margs\u001b[0m\u001b[0;34m=\u001b[0m\u001b[0;34m[\u001b[0m\u001b[0;34m'-c'\u001b[0m\u001b[0;34m,\u001b[0m \u001b[0mcmd\u001b[0m\u001b[0;34m]\u001b[0m\u001b[0;34m)\u001b[0m  \u001b[0;31m# Vanilla Pexpect\u001b[0m\u001b[0;34m\u001b[0m\u001b[0;34m\u001b[0m\u001b[0m\n\u001b[0m\u001b[1;32m    158\u001b[0m             \u001b[0mflush\u001b[0m \u001b[0;34m=\u001b[0m \u001b[0msys\u001b[0m\u001b[0;34m.\u001b[0m\u001b[0mstdout\u001b[0m\u001b[0;34m.\u001b[0m\u001b[0mflush\u001b[0m\u001b[0;34m\u001b[0m\u001b[0;34m\u001b[0m\u001b[0m\n\u001b[1;32m    159\u001b[0m             \u001b[0;32mwhile\u001b[0m \u001b[0;32mTrue\u001b[0m\u001b[0;34m:\u001b[0m\u001b[0;34m\u001b[0m\u001b[0;34m\u001b[0m\u001b[0m\n",
      "\u001b[0;32m~/anaconda3/envs/pytorch_p36/lib/python3.6/site-packages/pexpect/pty_spawn.py\u001b[0m in \u001b[0;36m__init__\u001b[0;34m(self, command, args, timeout, maxread, searchwindowsize, logfile, cwd, env, ignore_sighup, echo, preexec_fn, encoding, codec_errors, dimensions, use_poll)\u001b[0m\n\u001b[1;32m    203\u001b[0m             \u001b[0mself\u001b[0m\u001b[0;34m.\u001b[0m\u001b[0mname\u001b[0m \u001b[0;34m=\u001b[0m \u001b[0;34m'<pexpect factory incomplete>'\u001b[0m\u001b[0;34m\u001b[0m\u001b[0;34m\u001b[0m\u001b[0m\n\u001b[1;32m    204\u001b[0m         \u001b[0;32melse\u001b[0m\u001b[0;34m:\u001b[0m\u001b[0;34m\u001b[0m\u001b[0;34m\u001b[0m\u001b[0m\n\u001b[0;32m--> 205\u001b[0;31m             \u001b[0mself\u001b[0m\u001b[0;34m.\u001b[0m\u001b[0m_spawn\u001b[0m\u001b[0;34m(\u001b[0m\u001b[0mcommand\u001b[0m\u001b[0;34m,\u001b[0m \u001b[0margs\u001b[0m\u001b[0;34m,\u001b[0m \u001b[0mpreexec_fn\u001b[0m\u001b[0;34m,\u001b[0m \u001b[0mdimensions\u001b[0m\u001b[0;34m)\u001b[0m\u001b[0;34m\u001b[0m\u001b[0;34m\u001b[0m\u001b[0m\n\u001b[0m\u001b[1;32m    206\u001b[0m         \u001b[0mself\u001b[0m\u001b[0;34m.\u001b[0m\u001b[0muse_poll\u001b[0m \u001b[0;34m=\u001b[0m \u001b[0muse_poll\u001b[0m\u001b[0;34m\u001b[0m\u001b[0;34m\u001b[0m\u001b[0m\n\u001b[1;32m    207\u001b[0m \u001b[0;34m\u001b[0m\u001b[0m\n",
      "\u001b[0;32m~/anaconda3/envs/pytorch_p36/lib/python3.6/site-packages/pexpect/pty_spawn.py\u001b[0m in \u001b[0;36m_spawn\u001b[0;34m(self, command, args, preexec_fn, dimensions)\u001b[0m\n\u001b[1;32m    302\u001b[0m \u001b[0;34m\u001b[0m\u001b[0m\n\u001b[1;32m    303\u001b[0m         self.ptyproc = self._spawnpty(self.args, env=self.env,\n\u001b[0;32m--> 304\u001b[0;31m                                      cwd=self.cwd, **kwargs)\n\u001b[0m\u001b[1;32m    305\u001b[0m \u001b[0;34m\u001b[0m\u001b[0m\n\u001b[1;32m    306\u001b[0m         \u001b[0mself\u001b[0m\u001b[0;34m.\u001b[0m\u001b[0mpid\u001b[0m \u001b[0;34m=\u001b[0m \u001b[0mself\u001b[0m\u001b[0;34m.\u001b[0m\u001b[0mptyproc\u001b[0m\u001b[0;34m.\u001b[0m\u001b[0mpid\u001b[0m\u001b[0;34m\u001b[0m\u001b[0;34m\u001b[0m\u001b[0m\n",
      "\u001b[0;32m~/anaconda3/envs/pytorch_p36/lib/python3.6/site-packages/pexpect/pty_spawn.py\u001b[0m in \u001b[0;36m_spawnpty\u001b[0;34m(self, args, **kwargs)\u001b[0m\n\u001b[1;32m    313\u001b[0m     \u001b[0;32mdef\u001b[0m \u001b[0m_spawnpty\u001b[0m\u001b[0;34m(\u001b[0m\u001b[0mself\u001b[0m\u001b[0;34m,\u001b[0m \u001b[0margs\u001b[0m\u001b[0;34m,\u001b[0m \u001b[0;34m**\u001b[0m\u001b[0mkwargs\u001b[0m\u001b[0;34m)\u001b[0m\u001b[0;34m:\u001b[0m\u001b[0;34m\u001b[0m\u001b[0;34m\u001b[0m\u001b[0m\n\u001b[1;32m    314\u001b[0m         \u001b[0;34m'''Spawn a pty and return an instance of PtyProcess.'''\u001b[0m\u001b[0;34m\u001b[0m\u001b[0;34m\u001b[0m\u001b[0m\n\u001b[0;32m--> 315\u001b[0;31m         \u001b[0;32mreturn\u001b[0m \u001b[0mptyprocess\u001b[0m\u001b[0;34m.\u001b[0m\u001b[0mPtyProcess\u001b[0m\u001b[0;34m.\u001b[0m\u001b[0mspawn\u001b[0m\u001b[0;34m(\u001b[0m\u001b[0margs\u001b[0m\u001b[0;34m,\u001b[0m \u001b[0;34m**\u001b[0m\u001b[0mkwargs\u001b[0m\u001b[0;34m)\u001b[0m\u001b[0;34m\u001b[0m\u001b[0;34m\u001b[0m\u001b[0m\n\u001b[0m\u001b[1;32m    316\u001b[0m \u001b[0;34m\u001b[0m\u001b[0m\n\u001b[1;32m    317\u001b[0m     \u001b[0;32mdef\u001b[0m \u001b[0mclose\u001b[0m\u001b[0;34m(\u001b[0m\u001b[0mself\u001b[0m\u001b[0;34m,\u001b[0m \u001b[0mforce\u001b[0m\u001b[0;34m=\u001b[0m\u001b[0;32mTrue\u001b[0m\u001b[0;34m)\u001b[0m\u001b[0;34m:\u001b[0m\u001b[0;34m\u001b[0m\u001b[0;34m\u001b[0m\u001b[0m\n",
      "\u001b[0;32m~/anaconda3/envs/pytorch_p36/lib/python3.6/site-packages/ptyprocess/ptyprocess.py\u001b[0m in \u001b[0;36mspawn\u001b[0;34m(cls, argv, cwd, env, echo, preexec_fn, dimensions)\u001b[0m\n\u001b[1;32m    224\u001b[0m \u001b[0;34m\u001b[0m\u001b[0m\n\u001b[1;32m    225\u001b[0m         \u001b[0;32mif\u001b[0m \u001b[0muse_native_pty_fork\u001b[0m\u001b[0;34m:\u001b[0m\u001b[0;34m\u001b[0m\u001b[0;34m\u001b[0m\u001b[0m\n\u001b[0;32m--> 226\u001b[0;31m             \u001b[0mpid\u001b[0m\u001b[0;34m,\u001b[0m \u001b[0mfd\u001b[0m \u001b[0;34m=\u001b[0m \u001b[0mpty\u001b[0m\u001b[0;34m.\u001b[0m\u001b[0mfork\u001b[0m\u001b[0;34m(\u001b[0m\u001b[0;34m)\u001b[0m\u001b[0;34m\u001b[0m\u001b[0;34m\u001b[0m\u001b[0m\n\u001b[0m\u001b[1;32m    227\u001b[0m         \u001b[0;32melse\u001b[0m\u001b[0;34m:\u001b[0m\u001b[0;34m\u001b[0m\u001b[0;34m\u001b[0m\u001b[0m\n\u001b[1;32m    228\u001b[0m             \u001b[0;31m# Use internal fork_pty, for Solaris\u001b[0m\u001b[0;34m\u001b[0m\u001b[0;34m\u001b[0m\u001b[0;34m\u001b[0m\u001b[0m\n",
      "\u001b[0;32m~/anaconda3/envs/pytorch_p36/lib/python3.6/pty.py\u001b[0m in \u001b[0;36mfork\u001b[0;34m()\u001b[0m\n\u001b[1;32m     95\u001b[0m \u001b[0;34m\u001b[0m\u001b[0m\n\u001b[1;32m     96\u001b[0m     \u001b[0mmaster_fd\u001b[0m\u001b[0;34m,\u001b[0m \u001b[0mslave_fd\u001b[0m \u001b[0;34m=\u001b[0m \u001b[0mopenpty\u001b[0m\u001b[0;34m(\u001b[0m\u001b[0;34m)\u001b[0m\u001b[0;34m\u001b[0m\u001b[0;34m\u001b[0m\u001b[0m\n\u001b[0;32m---> 97\u001b[0;31m     \u001b[0mpid\u001b[0m \u001b[0;34m=\u001b[0m \u001b[0mos\u001b[0m\u001b[0;34m.\u001b[0m\u001b[0mfork\u001b[0m\u001b[0;34m(\u001b[0m\u001b[0;34m)\u001b[0m\u001b[0;34m\u001b[0m\u001b[0;34m\u001b[0m\u001b[0m\n\u001b[0m\u001b[1;32m     98\u001b[0m     \u001b[0;32mif\u001b[0m \u001b[0mpid\u001b[0m \u001b[0;34m==\u001b[0m \u001b[0mCHILD\u001b[0m\u001b[0;34m:\u001b[0m\u001b[0;34m\u001b[0m\u001b[0;34m\u001b[0m\u001b[0m\n\u001b[1;32m     99\u001b[0m         \u001b[0;31m# Establish a new session.\u001b[0m\u001b[0;34m\u001b[0m\u001b[0;34m\u001b[0m\u001b[0;34m\u001b[0m\u001b[0m\n",
      "\u001b[0;31mOSError\u001b[0m: [Errno 12] Cannot allocate memory"
     ]
    }
   ],
   "source": [
    "# First we will remove all of the files contained in the data_dir directory\n",
    "!rm $data_dir/*\n",
    "\n",
    "# And then we delete the directory itself\n",
    "!rmdir $data_dir\n",
    "\n",
    "# Similarly we will remove the files in the cache_dir directory and the directory itself\n",
    "!rm $cache_dir/*\n",
    "!rmdir $cache_dir"
   ]
  },
  {
   "cell_type": "code",
   "execution_count": null,
   "metadata": {},
   "outputs": [],
   "source": []
  }
 ],
 "metadata": {
  "kernelspec": {
   "display_name": "conda_pytorch_p36",
   "language": "python",
   "name": "conda_pytorch_p36"
  },
  "language_info": {
   "codemirror_mode": {
    "name": "ipython",
    "version": 3
   },
   "file_extension": ".py",
   "mimetype": "text/x-python",
   "name": "python",
   "nbconvert_exporter": "python",
   "pygments_lexer": "ipython3",
   "version": "3.6.10"
  }
 },
 "nbformat": 4,
 "nbformat_minor": 2
}
